{
  "nbformat": 4,
  "nbformat_minor": 0,
  "metadata": {
    "colab": {
      "name": "IAF 603 Final Project Burns_Jayaram_Puerto_Reppert_Sturdivant.ipynb",
      "provenance": [],
      "collapsed_sections": [
        "QwPiR_eNJaKB",
        "MlUMNKarQs_v"
      ]
    },
    "kernelspec": {
      "name": "python3",
      "display_name": "Python 3"
    }
  },
  "cells": [
    {
      "cell_type": "markdown",
      "metadata": {
        "id": "F9CJhqycqXs3"
      },
      "source": [
        "# **IAF 603 What influences World Happiness?**\n",
        "\n",
        "\n",
        "---"
      ]
    },
    {
      "cell_type": "code",
      "metadata": {
        "id": "bqbr6H7I4xb4"
      },
      "source": [
        "# Load Libraries\n",
        "import pandas as pd # Reads Dataset\n",
        "import numpy as np\n",
        "from sklearn import preprocessing\n",
        "import matplotlib.pyplot as plt \n",
        "scaler = preprocessing.StandardScaler()\n",
        "import seaborn as sns #fancier graphics \n",
        "import sqlite3\n",
        "import plotly.express as px\n",
        "import plotly.graph_objects as go"
      ],
      "execution_count": 3,
      "outputs": []
    },
    {
      "cell_type": "code",
      "metadata": {
        "id": "q5C_J7xNGbeE",
        "colab": {
          "base_uri": "https://localhost:8080/"
        },
        "outputId": "fd15ee59-6d75-4cd6-d198-15bc667a012b"
      },
      "source": [
        "from google.colab import drive\n",
        "drive.mount('/content/drive')"
      ],
      "execution_count": 4,
      "outputs": [
        {
          "output_type": "stream",
          "text": [
            "Drive already mounted at /content/drive; to attempt to forcibly remount, call drive.mount(\"/content/drive\", force_remount=True).\n"
          ],
          "name": "stdout"
        }
      ]
    },
    {
      "cell_type": "markdown",
      "metadata": {
        "id": "QwPiR_eNJaKB"
      },
      "source": [
        "# ***1 Load All DataSets***\n",
        "\n",
        "---"
      ]
    },
    {
      "cell_type": "code",
      "metadata": {
        "id": "ZprFjLGoFzhP"
      },
      "source": [
        "worldhappy17 = pd.read_csv('/content/drive/Shared drives/IAF 603 Final Project/DataSets/CSV_Fmts/World Happiness 2017.csv')\n",
        "WorldEnvData = pd.read_csv('/content/drive/Shared drives/IAF 603 Final Project/DataSets/CSV_Fmts/World Environmental Data.csv')\n",
        "CtProfile = pd.read_csv('/content/drive/Shared drives/IAF 603 Final Project/DataSets/CSV_Fmts/country_profiles_modified.csv')\n",
        "IMF_Nat_Savings17 = pd.read_csv('/content/drive/Shared drives/IAF 603 Final Project/DataSets/CSV_Fmts/IMF_Gross_National_Savings_2017.csv')\n",
        "IMF_Gov_Exp17 = pd.read_csv('/content/drive/Shared drives/IAF 603 Final Project/DataSets/CSV_Fmts/IMF_General_Government_Total_Expenditure_2017.csv')\n",
        "CtRg = pd.read_csv('/content/drive/Shared drives/IAF 603 Final Project/DataSets/CSV_Fmts/Country_Region.csv')"
      ],
      "execution_count": 5,
      "outputs": []
    },
    {
      "cell_type": "markdown",
      "metadata": {
        "id": "QslufpK9jFkn"
      },
      "source": [
        "## 1.1  Exploring Datasets - head, tail, ndim, shape, and size\n"
      ]
    },
    {
      "cell_type": "markdown",
      "metadata": {
        "id": "zMTn7qOYfq2T"
      },
      "source": [
        "### **1.1.1 Countries and Regions - CtRg**"
      ]
    },
    {
      "cell_type": "code",
      "metadata": {
        "id": "zvqlB2uxYFQV",
        "colab": {
          "base_uri": "https://localhost:8080/",
          "height": 195
        },
        "outputId": "a90719eb-698f-43d2-96a3-4381e02be262"
      },
      "source": [
        "CtRg.head()"
      ],
      "execution_count": 6,
      "outputs": [
        {
          "output_type": "execute_result",
          "data": {
            "text/html": [
              "<div>\n",
              "<style scoped>\n",
              "    .dataframe tbody tr th:only-of-type {\n",
              "        vertical-align: middle;\n",
              "    }\n",
              "\n",
              "    .dataframe tbody tr th {\n",
              "        vertical-align: top;\n",
              "    }\n",
              "\n",
              "    .dataframe thead th {\n",
              "        text-align: right;\n",
              "    }\n",
              "</style>\n",
              "<table border=\"1\" class=\"dataframe\">\n",
              "  <thead>\n",
              "    <tr style=\"text-align: right;\">\n",
              "      <th></th>\n",
              "      <th>Country</th>\n",
              "      <th>Region</th>\n",
              "    </tr>\n",
              "  </thead>\n",
              "  <tbody>\n",
              "    <tr>\n",
              "      <th>0</th>\n",
              "      <td>Denmark</td>\n",
              "      <td>Western Europe</td>\n",
              "    </tr>\n",
              "    <tr>\n",
              "      <th>1</th>\n",
              "      <td>Switzerland</td>\n",
              "      <td>Western Europe</td>\n",
              "    </tr>\n",
              "    <tr>\n",
              "      <th>2</th>\n",
              "      <td>Iceland</td>\n",
              "      <td>Western Europe</td>\n",
              "    </tr>\n",
              "    <tr>\n",
              "      <th>3</th>\n",
              "      <td>Norway</td>\n",
              "      <td>Western Europe</td>\n",
              "    </tr>\n",
              "    <tr>\n",
              "      <th>4</th>\n",
              "      <td>Finland</td>\n",
              "      <td>Western Europe</td>\n",
              "    </tr>\n",
              "  </tbody>\n",
              "</table>\n",
              "</div>"
            ],
            "text/plain": [
              "       Country          Region\n",
              "0      Denmark  Western Europe\n",
              "1  Switzerland  Western Europe\n",
              "2      Iceland  Western Europe\n",
              "3       Norway  Western Europe\n",
              "4      Finland  Western Europe"
            ]
          },
          "metadata": {
            "tags": []
          },
          "execution_count": 6
        }
      ]
    },
    {
      "cell_type": "code",
      "metadata": {
        "id": "dFfrbzIyYFb1",
        "colab": {
          "base_uri": "https://localhost:8080/",
          "height": 195
        },
        "outputId": "bc74105e-e99c-4d4a-e396-a8cfe5869c97"
      },
      "source": [
        "CtRg.tail()"
      ],
      "execution_count": 7,
      "outputs": [
        {
          "output_type": "execute_result",
          "data": {
            "text/html": [
              "<div>\n",
              "<style scoped>\n",
              "    .dataframe tbody tr th:only-of-type {\n",
              "        vertical-align: middle;\n",
              "    }\n",
              "\n",
              "    .dataframe tbody tr th {\n",
              "        vertical-align: top;\n",
              "    }\n",
              "\n",
              "    .dataframe thead th {\n",
              "        text-align: right;\n",
              "    }\n",
              "</style>\n",
              "<table border=\"1\" class=\"dataframe\">\n",
              "  <thead>\n",
              "    <tr style=\"text-align: right;\">\n",
              "      <th></th>\n",
              "      <th>Country</th>\n",
              "      <th>Region</th>\n",
              "    </tr>\n",
              "  </thead>\n",
              "  <tbody>\n",
              "    <tr>\n",
              "      <th>152</th>\n",
              "      <td>Benin</td>\n",
              "      <td>Sub-Saharan Africa</td>\n",
              "    </tr>\n",
              "    <tr>\n",
              "      <th>153</th>\n",
              "      <td>Afghanistan</td>\n",
              "      <td>Southern Asia</td>\n",
              "    </tr>\n",
              "    <tr>\n",
              "      <th>154</th>\n",
              "      <td>Togo</td>\n",
              "      <td>Sub-Saharan Africa</td>\n",
              "    </tr>\n",
              "    <tr>\n",
              "      <th>155</th>\n",
              "      <td>Syria</td>\n",
              "      <td>Middle East and Northern Africa</td>\n",
              "    </tr>\n",
              "    <tr>\n",
              "      <th>156</th>\n",
              "      <td>Burundi</td>\n",
              "      <td>Sub-Saharan Africa</td>\n",
              "    </tr>\n",
              "  </tbody>\n",
              "</table>\n",
              "</div>"
            ],
            "text/plain": [
              "         Country                           Region\n",
              "152        Benin               Sub-Saharan Africa\n",
              "153  Afghanistan                    Southern Asia\n",
              "154         Togo               Sub-Saharan Africa\n",
              "155        Syria  Middle East and Northern Africa\n",
              "156      Burundi               Sub-Saharan Africa"
            ]
          },
          "metadata": {
            "tags": []
          },
          "execution_count": 7
        }
      ]
    },
    {
      "cell_type": "code",
      "metadata": {
        "id": "AFy3w_CJYV3J",
        "colab": {
          "base_uri": "https://localhost:8080/"
        },
        "outputId": "c1cb1550-898f-48d0-88bd-c07561ecbfd9"
      },
      "source": [
        "CtRg.ndim"
      ],
      "execution_count": 8,
      "outputs": [
        {
          "output_type": "execute_result",
          "data": {
            "text/plain": [
              "2"
            ]
          },
          "metadata": {
            "tags": []
          },
          "execution_count": 8
        }
      ]
    },
    {
      "cell_type": "code",
      "metadata": {
        "id": "gwCrGYGcYFne",
        "colab": {
          "base_uri": "https://localhost:8080/"
        },
        "outputId": "6a7450ad-e9eb-4853-db1c-ff2b16758241"
      },
      "source": [
        "CtRg.size\n"
      ],
      "execution_count": 9,
      "outputs": [
        {
          "output_type": "execute_result",
          "data": {
            "text/plain": [
              "314"
            ]
          },
          "metadata": {
            "tags": []
          },
          "execution_count": 9
        }
      ]
    },
    {
      "cell_type": "code",
      "metadata": {
        "id": "Kj_NIpfEYF0O",
        "colab": {
          "base_uri": "https://localhost:8080/"
        },
        "outputId": "2071b9e4-297e-4dae-e887-8b3bddce1e8f"
      },
      "source": [
        "CtRg.shape"
      ],
      "execution_count": 10,
      "outputs": [
        {
          "output_type": "execute_result",
          "data": {
            "text/plain": [
              "(157, 2)"
            ]
          },
          "metadata": {
            "tags": []
          },
          "execution_count": 10
        }
      ]
    },
    {
      "cell_type": "markdown",
      "metadata": {
        "id": "dJlMY94ShcWn"
      },
      "source": [
        "### **1.1.2 Country Profiles  - CtProfile**"
      ]
    },
    {
      "cell_type": "code",
      "metadata": {
        "id": "R8Lo-0wWehby",
        "colab": {
          "base_uri": "https://localhost:8080/",
          "height": 350
        },
        "outputId": "aa7e4b45-db7c-4440-c04b-841959c388a9"
      },
      "source": [
        "CtProfile.head()"
      ],
      "execution_count": 11,
      "outputs": [
        {
          "output_type": "execute_result",
          "data": {
            "text/html": [
              "<div>\n",
              "<style scoped>\n",
              "    .dataframe tbody tr th:only-of-type {\n",
              "        vertical-align: middle;\n",
              "    }\n",
              "\n",
              "    .dataframe tbody tr th {\n",
              "        vertical-align: top;\n",
              "    }\n",
              "\n",
              "    .dataframe thead th {\n",
              "        text-align: right;\n",
              "    }\n",
              "</style>\n",
              "<table border=\"1\" class=\"dataframe\">\n",
              "  <thead>\n",
              "    <tr style=\"text-align: right;\">\n",
              "      <th></th>\n",
              "      <th>country</th>\n",
              "      <th>Region</th>\n",
              "      <th>Surface area (km2)</th>\n",
              "      <th>Population in thousands (2017)</th>\n",
              "      <th>Population density (per km2, 2017)</th>\n",
              "      <th>Sex ratio (m per 100 f, 2017)</th>\n",
              "      <th>GDP: Gross domestic product (million current US$)</th>\n",
              "      <th>GDP growth rate (annual %, const. 2005 prices)</th>\n",
              "      <th>GDP per capita (current US$)</th>\n",
              "      <th>Economy: Agriculture (% of GVA)</th>\n",
              "      <th>Economy: Industry (% of GVA)</th>\n",
              "      <th>Economy: Services and other activity (% of GVA)</th>\n",
              "      <th>Employment: Agriculture (% of employed)</th>\n",
              "      <th>Employment: Industry (% of employed)</th>\n",
              "      <th>Employment: Services (% of employed)</th>\n",
              "      <th>Unemployment (% of labour force)</th>\n",
              "      <th>Labour force participation (female/male pop. %)</th>\n",
              "      <th>Agricultural production index (2004-2006=100)</th>\n",
              "      <th>Food production index (2004-2006=100)</th>\n",
              "      <th>International trade: Exports (million US$)</th>\n",
              "      <th>International trade: Imports (million US$)</th>\n",
              "      <th>International trade: Balance (million US$)</th>\n",
              "      <th>Balance of payments, current account (million US$)</th>\n",
              "      <th>Population growth rate (average annual %)</th>\n",
              "      <th>Urban population (% of total population)</th>\n",
              "      <th>Urban population growth rate (average annual %)</th>\n",
              "      <th>Fertility rate, total (live births per woman)</th>\n",
              "      <th>Life expectancy at birth (females/males, years)</th>\n",
              "      <th>Population age distribution (0-14 / 60+ years, %)</th>\n",
              "      <th>International migrant stock (000/% of total pop.)</th>\n",
              "      <th>Refugees and others of concern to UNHCR (in thousands)</th>\n",
              "      <th>Infant mortality rate (per 1000 live births</th>\n",
              "      <th>Health: Total expenditure (% of GDP)</th>\n",
              "      <th>Health: Physicians (per 1000 pop.)</th>\n",
              "      <th>Education: Government expenditure (% of GDP)</th>\n",
              "      <th>Education: Primary gross enrol. ratio (f/m per 100 pop.)</th>\n",
              "      <th>Education: Secondary gross enrol. ratio (f/m per 100 pop.)</th>\n",
              "      <th>Education: Tertiary gross enrol. ratio (f/m per 100 pop.)</th>\n",
              "      <th>Seats held by women in national parliaments %</th>\n",
              "      <th>Mobile-cellular subscriptions (per 100 inhabitants)</th>\n",
              "      <th>Individuals using the Internet (per 100 inhabitants)</th>\n",
              "      <th>Threatened species (number)</th>\n",
              "      <th>Forested area (% of land area)</th>\n",
              "      <th>CO2 emission estimates (million tons/tons per capita)</th>\n",
              "      <th>Energy production, primary (Petajoules)</th>\n",
              "      <th>Energy supply per capita (Gigajoules)</th>\n",
              "      <th>Pop. using improved drinking water (urban/rural, %)</th>\n",
              "      <th>Pop. using improved sanitation facilities (urban/rural, %)</th>\n",
              "      <th>Net Official Development Assist. received (% of GNI)</th>\n",
              "      <th>Unnamed: 49</th>\n",
              "    </tr>\n",
              "  </thead>\n",
              "  <tbody>\n",
              "    <tr>\n",
              "      <th>0</th>\n",
              "      <td>Afghanistan</td>\n",
              "      <td>SouthernAsia</td>\n",
              "      <td>652864</td>\n",
              "      <td>35530</td>\n",
              "      <td>54.4</td>\n",
              "      <td>106.3</td>\n",
              "      <td>20270</td>\n",
              "      <td>-2.4</td>\n",
              "      <td>623.2</td>\n",
              "      <td>23.3</td>\n",
              "      <td>23.3</td>\n",
              "      <td>53.3</td>\n",
              "      <td>61.6</td>\n",
              "      <td>10</td>\n",
              "      <td>28.5</td>\n",
              "      <td>8.6</td>\n",
              "      <td>19.3/83.6</td>\n",
              "      <td>125</td>\n",
              "      <td>125</td>\n",
              "      <td>1458</td>\n",
              "      <td>3568</td>\n",
              "      <td>-2110</td>\n",
              "      <td>-5121</td>\n",
              "      <td>3.2</td>\n",
              "      <td>26.7</td>\n",
              "      <td>4</td>\n",
              "      <td>5.3</td>\n",
              "      <td>63.5/61.0</td>\n",
              "      <td>43.2/4.1</td>\n",
              "      <td>382.4/1.2</td>\n",
              "      <td>1513.1</td>\n",
              "      <td>68.6</td>\n",
              "      <td>8.2</td>\n",
              "      <td>0.3</td>\n",
              "      <td>3.3</td>\n",
              "      <td>91.1/131.6</td>\n",
              "      <td>39.7/70.7</td>\n",
              "      <td>3.7/13.3</td>\n",
              "      <td>27.7</td>\n",
              "      <td>61.6</td>\n",
              "      <td>8.3</td>\n",
              "      <td>42</td>\n",
              "      <td>2.1</td>\n",
              "      <td>9.8/0.3</td>\n",
              "      <td>63</td>\n",
              "      <td>5</td>\n",
              "      <td>78.2/47.0</td>\n",
              "      <td>45.1/27.0</td>\n",
              "      <td>21.43</td>\n",
              "      <td>-99</td>\n",
              "    </tr>\n",
              "    <tr>\n",
              "      <th>1</th>\n",
              "      <td>Albania</td>\n",
              "      <td>SouthernEurope</td>\n",
              "      <td>28748</td>\n",
              "      <td>2930</td>\n",
              "      <td>106.9</td>\n",
              "      <td>101.9</td>\n",
              "      <td>11541</td>\n",
              "      <td>2.6</td>\n",
              "      <td>3984.2</td>\n",
              "      <td>22.4</td>\n",
              "      <td>26.0</td>\n",
              "      <td>51.7</td>\n",
              "      <td>41.4</td>\n",
              "      <td>18.3</td>\n",
              "      <td>40.3</td>\n",
              "      <td>15.8</td>\n",
              "      <td>40.2/61.0</td>\n",
              "      <td>134</td>\n",
              "      <td>134</td>\n",
              "      <td>1962</td>\n",
              "      <td>4669</td>\n",
              "      <td>-2707</td>\n",
              "      <td>-1222</td>\n",
              "      <td>-0.1</td>\n",
              "      <td>57.4</td>\n",
              "      <td>2.2</td>\n",
              "      <td>1.7</td>\n",
              "      <td>79.9/75.6</td>\n",
              "      <td>17.4/19.0</td>\n",
              "      <td>57.6/2.0</td>\n",
              "      <td>8.8</td>\n",
              "      <td>14.6</td>\n",
              "      <td>5.9</td>\n",
              "      <td>1.3</td>\n",
              "      <td>3.5</td>\n",
              "      <td>111.7/115.5</td>\n",
              "      <td>92.5/98.8</td>\n",
              "      <td>68.1/48.7</td>\n",
              "      <td>22.9</td>\n",
              "      <td>106.4</td>\n",
              "      <td>63.3</td>\n",
              "      <td>130</td>\n",
              "      <td>28.2</td>\n",
              "      <td>5.7/2.0</td>\n",
              "      <td>84</td>\n",
              "      <td>36</td>\n",
              "      <td>94.9/95.2</td>\n",
              "      <td>95.5/90.2</td>\n",
              "      <td>2.96</td>\n",
              "      <td>-99</td>\n",
              "    </tr>\n",
              "    <tr>\n",
              "      <th>2</th>\n",
              "      <td>Algeria</td>\n",
              "      <td>NorthernAfrica</td>\n",
              "      <td>2381741</td>\n",
              "      <td>41318</td>\n",
              "      <td>17.3</td>\n",
              "      <td>102.0</td>\n",
              "      <td>164779</td>\n",
              "      <td>3.8</td>\n",
              "      <td>4154.1</td>\n",
              "      <td>12.2</td>\n",
              "      <td>37.3</td>\n",
              "      <td>50.5</td>\n",
              "      <td>10.8</td>\n",
              "      <td>34.5</td>\n",
              "      <td>54.7</td>\n",
              "      <td>11.4</td>\n",
              "      <td>17.0/70.7</td>\n",
              "      <td>160</td>\n",
              "      <td>161</td>\n",
              "      <td>29992</td>\n",
              "      <td>47091</td>\n",
              "      <td>-17099</td>\n",
              "      <td>-27229</td>\n",
              "      <td>2</td>\n",
              "      <td>70.7</td>\n",
              "      <td>2.8</td>\n",
              "      <td>3</td>\n",
              "      <td>76.5/74.1</td>\n",
              "      <td>29.3/9.4</td>\n",
              "      <td>242.4/0.6</td>\n",
              "      <td>99.8</td>\n",
              "      <td>27.7</td>\n",
              "      <td>7.2</td>\n",
              "      <td>...</td>\n",
              "      <td>...</td>\n",
              "      <td>112.7/119.5</td>\n",
              "      <td>101.7/98.1</td>\n",
              "      <td>45.1/28.9</td>\n",
              "      <td>31.6</td>\n",
              "      <td>113</td>\n",
              "      <td>38.2</td>\n",
              "      <td>135</td>\n",
              "      <td>0.8</td>\n",
              "      <td>145.4/3.7</td>\n",
              "      <td>5900</td>\n",
              "      <td>55</td>\n",
              "      <td>84.3/81.8</td>\n",
              "      <td>89.8/82.2</td>\n",
              "      <td>0.05</td>\n",
              "      <td>-99</td>\n",
              "    </tr>\n",
              "    <tr>\n",
              "      <th>3</th>\n",
              "      <td>American Samoa</td>\n",
              "      <td>Polynesia</td>\n",
              "      <td>199</td>\n",
              "      <td>56</td>\n",
              "      <td>278.2</td>\n",
              "      <td>103.6</td>\n",
              "      <td>-99</td>\n",
              "      <td>-99</td>\n",
              "      <td>-99.0</td>\n",
              "      <td>-99</td>\n",
              "      <td>-99.0</td>\n",
              "      <td>-99.0</td>\n",
              "      <td>...</td>\n",
              "      <td>...</td>\n",
              "      <td>...</td>\n",
              "      <td>...</td>\n",
              "      <td>.../...</td>\n",
              "      <td>112</td>\n",
              "      <td>112</td>\n",
              "      <td>-99</td>\n",
              "      <td>-99</td>\n",
              "      <td>-99</td>\n",
              "      <td>-99</td>\n",
              "      <td>-~0.0</td>\n",
              "      <td>87.2</td>\n",
              "      <td>-0.1</td>\n",
              "      <td>2.6</td>\n",
              "      <td>77.8/71.1</td>\n",
              "      <td>33.3/9.0</td>\n",
              "      <td>23.2/41.8</td>\n",
              "      <td>-99</td>\n",
              "      <td>9.6</td>\n",
              "      <td>-99.0</td>\n",
              "      <td>-99</td>\n",
              "      <td>-99</td>\n",
              "      <td>-99</td>\n",
              "      <td>-99</td>\n",
              "      <td>-99</td>\n",
              "      <td>-99.0</td>\n",
              "      <td>...</td>\n",
              "      <td>-99</td>\n",
              "      <td>92</td>\n",
              "      <td>87.9</td>\n",
              "      <td>-99</td>\n",
              "      <td>-99</td>\n",
              "      <td>-99</td>\n",
              "      <td>100.0/100.0</td>\n",
              "      <td>62.5/62.5</td>\n",
              "      <td>-99</td>\n",
              "      <td>-99</td>\n",
              "    </tr>\n",
              "    <tr>\n",
              "      <th>4</th>\n",
              "      <td>Andorra</td>\n",
              "      <td>SouthernEurope</td>\n",
              "      <td>468</td>\n",
              "      <td>77</td>\n",
              "      <td>163.8</td>\n",
              "      <td>102.3</td>\n",
              "      <td>2812</td>\n",
              "      <td>0.8</td>\n",
              "      <td>39896.4</td>\n",
              "      <td>0.5</td>\n",
              "      <td>10.8</td>\n",
              "      <td>88.6</td>\n",
              "      <td>-99</td>\n",
              "      <td>-99</td>\n",
              "      <td>-99</td>\n",
              "      <td>-99</td>\n",
              "      <td>-99</td>\n",
              "      <td>-99</td>\n",
              "      <td>-99</td>\n",
              "      <td>100</td>\n",
              "      <td>1355</td>\n",
              "      <td>-1255</td>\n",
              "      <td>-99</td>\n",
              "      <td>-1.6</td>\n",
              "      <td>85.1</td>\n",
              "      <td>0.1</td>\n",
              "      <td>1.2</td>\n",
              "      <td>-99</td>\n",
              "      <td>14.4/19.0</td>\n",
              "      <td>42.1/59.7</td>\n",
              "      <td>-99</td>\n",
              "      <td>-99</td>\n",
              "      <td>8.1</td>\n",
              "      <td>3.7</td>\n",
              "      <td>3.3</td>\n",
              "      <td>-99</td>\n",
              "      <td>-99</td>\n",
              "      <td>-99</td>\n",
              "      <td>32.1</td>\n",
              "      <td>88.1</td>\n",
              "      <td>96.9</td>\n",
              "      <td>13</td>\n",
              "      <td>34</td>\n",
              "      <td>0.5/6.4</td>\n",
              "      <td>1</td>\n",
              "      <td>119</td>\n",
              "      <td>100.0/100.0</td>\n",
              "      <td>100.0/100.0</td>\n",
              "      <td>-99</td>\n",
              "      <td>-99</td>\n",
              "    </tr>\n",
              "  </tbody>\n",
              "</table>\n",
              "</div>"
            ],
            "text/plain": [
              "          country  ... Unnamed: 49\n",
              "0     Afghanistan  ...         -99\n",
              "1         Albania  ...         -99\n",
              "2         Algeria  ...         -99\n",
              "3  American Samoa  ...         -99\n",
              "4         Andorra  ...         -99\n",
              "\n",
              "[5 rows x 50 columns]"
            ]
          },
          "metadata": {
            "tags": []
          },
          "execution_count": 11
        }
      ]
    },
    {
      "cell_type": "code",
      "metadata": {
        "id": "xX4ifOFAYXLW",
        "colab": {
          "base_uri": "https://localhost:8080/",
          "height": 383
        },
        "outputId": "233842ca-6eaf-4db9-ac0d-17aa4ed9d2c8"
      },
      "source": [
        "CtProfile.tail()"
      ],
      "execution_count": 12,
      "outputs": [
        {
          "output_type": "execute_result",
          "data": {
            "text/html": [
              "<div>\n",
              "<style scoped>\n",
              "    .dataframe tbody tr th:only-of-type {\n",
              "        vertical-align: middle;\n",
              "    }\n",
              "\n",
              "    .dataframe tbody tr th {\n",
              "        vertical-align: top;\n",
              "    }\n",
              "\n",
              "    .dataframe thead th {\n",
              "        text-align: right;\n",
              "    }\n",
              "</style>\n",
              "<table border=\"1\" class=\"dataframe\">\n",
              "  <thead>\n",
              "    <tr style=\"text-align: right;\">\n",
              "      <th></th>\n",
              "      <th>country</th>\n",
              "      <th>Region</th>\n",
              "      <th>Surface area (km2)</th>\n",
              "      <th>Population in thousands (2017)</th>\n",
              "      <th>Population density (per km2, 2017)</th>\n",
              "      <th>Sex ratio (m per 100 f, 2017)</th>\n",
              "      <th>GDP: Gross domestic product (million current US$)</th>\n",
              "      <th>GDP growth rate (annual %, const. 2005 prices)</th>\n",
              "      <th>GDP per capita (current US$)</th>\n",
              "      <th>Economy: Agriculture (% of GVA)</th>\n",
              "      <th>Economy: Industry (% of GVA)</th>\n",
              "      <th>Economy: Services and other activity (% of GVA)</th>\n",
              "      <th>Employment: Agriculture (% of employed)</th>\n",
              "      <th>Employment: Industry (% of employed)</th>\n",
              "      <th>Employment: Services (% of employed)</th>\n",
              "      <th>Unemployment (% of labour force)</th>\n",
              "      <th>Labour force participation (female/male pop. %)</th>\n",
              "      <th>Agricultural production index (2004-2006=100)</th>\n",
              "      <th>Food production index (2004-2006=100)</th>\n",
              "      <th>International trade: Exports (million US$)</th>\n",
              "      <th>International trade: Imports (million US$)</th>\n",
              "      <th>International trade: Balance (million US$)</th>\n",
              "      <th>Balance of payments, current account (million US$)</th>\n",
              "      <th>Population growth rate (average annual %)</th>\n",
              "      <th>Urban population (% of total population)</th>\n",
              "      <th>Urban population growth rate (average annual %)</th>\n",
              "      <th>Fertility rate, total (live births per woman)</th>\n",
              "      <th>Life expectancy at birth (females/males, years)</th>\n",
              "      <th>Population age distribution (0-14 / 60+ years, %)</th>\n",
              "      <th>International migrant stock (000/% of total pop.)</th>\n",
              "      <th>Refugees and others of concern to UNHCR (in thousands)</th>\n",
              "      <th>Infant mortality rate (per 1000 live births</th>\n",
              "      <th>Health: Total expenditure (% of GDP)</th>\n",
              "      <th>Health: Physicians (per 1000 pop.)</th>\n",
              "      <th>Education: Government expenditure (% of GDP)</th>\n",
              "      <th>Education: Primary gross enrol. ratio (f/m per 100 pop.)</th>\n",
              "      <th>Education: Secondary gross enrol. ratio (f/m per 100 pop.)</th>\n",
              "      <th>Education: Tertiary gross enrol. ratio (f/m per 100 pop.)</th>\n",
              "      <th>Seats held by women in national parliaments %</th>\n",
              "      <th>Mobile-cellular subscriptions (per 100 inhabitants)</th>\n",
              "      <th>Individuals using the Internet (per 100 inhabitants)</th>\n",
              "      <th>Threatened species (number)</th>\n",
              "      <th>Forested area (% of land area)</th>\n",
              "      <th>CO2 emission estimates (million tons/tons per capita)</th>\n",
              "      <th>Energy production, primary (Petajoules)</th>\n",
              "      <th>Energy supply per capita (Gigajoules)</th>\n",
              "      <th>Pop. using improved drinking water (urban/rural, %)</th>\n",
              "      <th>Pop. using improved sanitation facilities (urban/rural, %)</th>\n",
              "      <th>Net Official Development Assist. received (% of GNI)</th>\n",
              "      <th>Unnamed: 49</th>\n",
              "    </tr>\n",
              "  </thead>\n",
              "  <tbody>\n",
              "    <tr>\n",
              "      <th>224</th>\n",
              "      <td>Wallis and Futuna Islands</td>\n",
              "      <td>Polynesia</td>\n",
              "      <td>142</td>\n",
              "      <td>12</td>\n",
              "      <td>84.1</td>\n",
              "      <td>93.4</td>\n",
              "      <td>-99</td>\n",
              "      <td>-99</td>\n",
              "      <td>-99.0</td>\n",
              "      <td>-99</td>\n",
              "      <td>-99.0</td>\n",
              "      <td>-99.0</td>\n",
              "      <td>-99</td>\n",
              "      <td>-99</td>\n",
              "      <td>-99</td>\n",
              "      <td>-99</td>\n",
              "      <td>-99</td>\n",
              "      <td>115</td>\n",
              "      <td>115</td>\n",
              "      <td>1</td>\n",
              "      <td>53</td>\n",
              "      <td>-51</td>\n",
              "      <td>-99</td>\n",
              "      <td>-2.1</td>\n",
              "      <td>0.0</td>\n",
              "      <td>0</td>\n",
              "      <td>2.1</td>\n",
              "      <td>78.7/72.8</td>\n",
              "      <td>25.5/15.4</td>\n",
              "      <td>2.8/21.7</td>\n",
              "      <td>-99</td>\n",
              "      <td>...</td>\n",
              "      <td>-99.0</td>\n",
              "      <td>-99</td>\n",
              "      <td>-99</td>\n",
              "      <td>-99</td>\n",
              "      <td>-99</td>\n",
              "      <td>-99</td>\n",
              "      <td>-99.0</td>\n",
              "      <td>-99</td>\n",
              "      <td>9</td>\n",
              "      <td>89</td>\n",
              "      <td>41.6</td>\n",
              "      <td>~0.0/1.6</td>\n",
              "      <td>-99</td>\n",
              "      <td>26</td>\n",
              "      <td>-99</td>\n",
              "      <td>-99</td>\n",
              "      <td>-99</td>\n",
              "      <td>-99</td>\n",
              "    </tr>\n",
              "    <tr>\n",
              "      <th>225</th>\n",
              "      <td>Western Sahara</td>\n",
              "      <td>NorthernAfrica</td>\n",
              "      <td>266000</td>\n",
              "      <td>553</td>\n",
              "      <td>2.1</td>\n",
              "      <td>110.1</td>\n",
              "      <td>-99</td>\n",
              "      <td>-99</td>\n",
              "      <td>-99.0</td>\n",
              "      <td>-99</td>\n",
              "      <td>-99.0</td>\n",
              "      <td>-99.0</td>\n",
              "      <td>37.4</td>\n",
              "      <td>27.9</td>\n",
              "      <td>34.7</td>\n",
              "      <td>6.8</td>\n",
              "      <td>28.6/83.3</td>\n",
              "      <td>100</td>\n",
              "      <td>100</td>\n",
              "      <td>-99</td>\n",
              "      <td>-99</td>\n",
              "      <td>-99</td>\n",
              "      <td>-99</td>\n",
              "      <td>1.8</td>\n",
              "      <td>80.9</td>\n",
              "      <td>3.3</td>\n",
              "      <td>2.6</td>\n",
              "      <td>70.3/66.9</td>\n",
              "      <td>28.1/5.4</td>\n",
              "      <td>5.2/0.9</td>\n",
              "      <td>-99</td>\n",
              "      <td>34.1</td>\n",
              "      <td>-99.0</td>\n",
              "      <td>-99</td>\n",
              "      <td>-99</td>\n",
              "      <td>-99</td>\n",
              "      <td>-99</td>\n",
              "      <td>-99</td>\n",
              "      <td>-99.0</td>\n",
              "      <td>-99</td>\n",
              "      <td>-99</td>\n",
              "      <td>49</td>\n",
              "      <td>2.7</td>\n",
              "      <td>-99</td>\n",
              "      <td>-99</td>\n",
              "      <td>-99</td>\n",
              "      <td>-99</td>\n",
              "      <td>-99</td>\n",
              "      <td>-99</td>\n",
              "      <td>-99</td>\n",
              "    </tr>\n",
              "    <tr>\n",
              "      <th>226</th>\n",
              "      <td>Yemen</td>\n",
              "      <td>WesternAsia</td>\n",
              "      <td>527968</td>\n",
              "      <td>28250</td>\n",
              "      <td>53.5</td>\n",
              "      <td>102.1</td>\n",
              "      <td>29688</td>\n",
              "      <td>-28.1</td>\n",
              "      <td>1106.4</td>\n",
              "      <td>14.7</td>\n",
              "      <td>36.9</td>\n",
              "      <td>48.4</td>\n",
              "      <td>32.9</td>\n",
              "      <td>17.9</td>\n",
              "      <td>49.2</td>\n",
              "      <td>16.1</td>\n",
              "      <td>26.2/73.7</td>\n",
              "      <td>136</td>\n",
              "      <td>137</td>\n",
              "      <td>570</td>\n",
              "      <td>6861</td>\n",
              "      <td>-6291</td>\n",
              "      <td>-3026</td>\n",
              "      <td>2.6</td>\n",
              "      <td>34.6</td>\n",
              "      <td>4</td>\n",
              "      <td>4.4</td>\n",
              "      <td>65.6/62.8</td>\n",
              "      <td>39.9/4.6</td>\n",
              "      <td>344.1/1.3</td>\n",
              "      <td>3371.4</td>\n",
              "      <td>47.2</td>\n",
              "      <td>5.6</td>\n",
              "      <td>0.3</td>\n",
              "      <td>...</td>\n",
              "      <td>88.9/105.7</td>\n",
              "      <td>39.5/57.4</td>\n",
              "      <td>6.1/13.7</td>\n",
              "      <td>0.0</td>\n",
              "      <td>68</td>\n",
              "      <td>25.1</td>\n",
              "      <td>298</td>\n",
              "      <td>1</td>\n",
              "      <td>22.7/0.9</td>\n",
              "      <td>668</td>\n",
              "      <td>12</td>\n",
              "      <td>72.0/46.5</td>\n",
              "      <td>92.5/34.1</td>\n",
              "      <td>2.99</td>\n",
              "      <td>-99</td>\n",
              "    </tr>\n",
              "    <tr>\n",
              "      <th>227</th>\n",
              "      <td>Zambia</td>\n",
              "      <td>EasternAfrica</td>\n",
              "      <td>752612</td>\n",
              "      <td>17094</td>\n",
              "      <td>23.0</td>\n",
              "      <td>98.5</td>\n",
              "      <td>21255</td>\n",
              "      <td>2.9</td>\n",
              "      <td>1311.1</td>\n",
              "      <td>8.2</td>\n",
              "      <td>32.3</td>\n",
              "      <td>59.5</td>\n",
              "      <td>54.8</td>\n",
              "      <td>9.9</td>\n",
              "      <td>35.3</td>\n",
              "      <td>7.4</td>\n",
              "      <td>69.9/80.9</td>\n",
              "      <td>179</td>\n",
              "      <td>180</td>\n",
              "      <td>6505</td>\n",
              "      <td>7442</td>\n",
              "      <td>-937</td>\n",
              "      <td>-768</td>\n",
              "      <td>3</td>\n",
              "      <td>40.9</td>\n",
              "      <td>4.3</td>\n",
              "      <td>5.2</td>\n",
              "      <td>61.9/57.5</td>\n",
              "      <td>44.8/3.7</td>\n",
              "      <td>127.9/0.8</td>\n",
              "      <td>55.3</td>\n",
              "      <td>53.8</td>\n",
              "      <td>5.0</td>\n",
              "      <td>0.2</td>\n",
              "      <td>...</td>\n",
              "      <td>104.0/103.3</td>\n",
              "      <td>-99</td>\n",
              "      <td>3.4/4.5</td>\n",
              "      <td>18.0</td>\n",
              "      <td>74.5</td>\n",
              "      <td>21</td>\n",
              "      <td>88</td>\n",
              "      <td>65.6</td>\n",
              "      <td>4.5/0.3</td>\n",
              "      <td>374</td>\n",
              "      <td>26</td>\n",
              "      <td>85.6/51.3</td>\n",
              "      <td>55.6/35.7</td>\n",
              "      <td>3.96</td>\n",
              "      <td>-99</td>\n",
              "    </tr>\n",
              "    <tr>\n",
              "      <th>228</th>\n",
              "      <td>Zimbabwe</td>\n",
              "      <td>EasternAfrica</td>\n",
              "      <td>390757</td>\n",
              "      <td>16530</td>\n",
              "      <td>42.7</td>\n",
              "      <td>95.0</td>\n",
              "      <td>13893</td>\n",
              "      <td>1.1</td>\n",
              "      <td>890.4</td>\n",
              "      <td>13</td>\n",
              "      <td>30.5</td>\n",
              "      <td>56.5</td>\n",
              "      <td>67.5</td>\n",
              "      <td>7.3</td>\n",
              "      <td>25.2</td>\n",
              "      <td>5</td>\n",
              "      <td>78.0/87.5</td>\n",
              "      <td>99</td>\n",
              "      <td>98</td>\n",
              "      <td>2832</td>\n",
              "      <td>5212</td>\n",
              "      <td>-2379</td>\n",
              "      <td>-1521</td>\n",
              "      <td>2.3</td>\n",
              "      <td>32.4</td>\n",
              "      <td>2.3</td>\n",
              "      <td>4</td>\n",
              "      <td>59.0/56.1</td>\n",
              "      <td>41.2/4.2</td>\n",
              "      <td>398.9/2.6</td>\n",
              "      <td>308.6</td>\n",
              "      <td>46.5</td>\n",
              "      <td>6.0</td>\n",
              "      <td>0.1</td>\n",
              "      <td>8.4</td>\n",
              "      <td>99.1/100.8</td>\n",
              "      <td>47.1/48.1</td>\n",
              "      <td>8.0/8.9</td>\n",
              "      <td>32.6</td>\n",
              "      <td>84.8</td>\n",
              "      <td>16.4</td>\n",
              "      <td>89</td>\n",
              "      <td>37.2</td>\n",
              "      <td>12.0/0.8</td>\n",
              "      <td>482</td>\n",
              "      <td>30</td>\n",
              "      <td>97.0/67.3</td>\n",
              "      <td>49.3/30.8</td>\n",
              "      <td>6</td>\n",
              "      <td>-99</td>\n",
              "    </tr>\n",
              "  </tbody>\n",
              "</table>\n",
              "</div>"
            ],
            "text/plain": [
              "                       country  ... Unnamed: 49\n",
              "224  Wallis and Futuna Islands  ...         -99\n",
              "225             Western Sahara  ...         -99\n",
              "226                      Yemen  ...         -99\n",
              "227                     Zambia  ...         -99\n",
              "228                   Zimbabwe  ...         -99\n",
              "\n",
              "[5 rows x 50 columns]"
            ]
          },
          "metadata": {
            "tags": []
          },
          "execution_count": 12
        }
      ]
    },
    {
      "cell_type": "code",
      "metadata": {
        "id": "XoQb8ftBXxP3",
        "colab": {
          "base_uri": "https://localhost:8080/"
        },
        "outputId": "017a2ce0-4c45-4ac0-b98d-f9c85b2a5719"
      },
      "source": [
        "CtProfile.size"
      ],
      "execution_count": 13,
      "outputs": [
        {
          "output_type": "execute_result",
          "data": {
            "text/plain": [
              "11450"
            ]
          },
          "metadata": {
            "tags": []
          },
          "execution_count": 13
        }
      ]
    },
    {
      "cell_type": "code",
      "metadata": {
        "id": "T0kESjYMXxdH",
        "colab": {
          "base_uri": "https://localhost:8080/"
        },
        "outputId": "8f44e935-b0fd-4a75-8761-6c0a0b43ca05"
      },
      "source": [
        "CtProfile.ndim"
      ],
      "execution_count": 14,
      "outputs": [
        {
          "output_type": "execute_result",
          "data": {
            "text/plain": [
              "2"
            ]
          },
          "metadata": {
            "tags": []
          },
          "execution_count": 14
        }
      ]
    },
    {
      "cell_type": "code",
      "metadata": {
        "id": "ANAw9FDgXxrF",
        "colab": {
          "base_uri": "https://localhost:8080/"
        },
        "outputId": "d6fa73b5-d409-4c00-b0fb-07d276f0f095"
      },
      "source": [
        "CtProfile.shape"
      ],
      "execution_count": 15,
      "outputs": [
        {
          "output_type": "execute_result",
          "data": {
            "text/plain": [
              "(229, 50)"
            ]
          },
          "metadata": {
            "tags": []
          },
          "execution_count": 15
        }
      ]
    },
    {
      "cell_type": "markdown",
      "metadata": {
        "id": "ZN1bpmRQh1eZ"
      },
      "source": [
        "### **1.1.3 World Happiness 2017 Data - worldhappy17**"
      ]
    },
    {
      "cell_type": "code",
      "metadata": {
        "id": "clp-PudpImDS",
        "colab": {
          "base_uri": "https://localhost:8080/",
          "height": 215
        },
        "outputId": "018e474a-50c6-4a62-8b7c-6e36c0f381b7"
      },
      "source": [
        "worldhappy17.head()"
      ],
      "execution_count": 16,
      "outputs": [
        {
          "output_type": "execute_result",
          "data": {
            "text/html": [
              "<div>\n",
              "<style scoped>\n",
              "    .dataframe tbody tr th:only-of-type {\n",
              "        vertical-align: middle;\n",
              "    }\n",
              "\n",
              "    .dataframe tbody tr th {\n",
              "        vertical-align: top;\n",
              "    }\n",
              "\n",
              "    .dataframe thead th {\n",
              "        text-align: right;\n",
              "    }\n",
              "</style>\n",
              "<table border=\"1\" class=\"dataframe\">\n",
              "  <thead>\n",
              "    <tr style=\"text-align: right;\">\n",
              "      <th></th>\n",
              "      <th>Country</th>\n",
              "      <th>Happiness_Rank</th>\n",
              "      <th>Happiness_Score</th>\n",
              "      <th>Whisker_high</th>\n",
              "      <th>Whisker_low</th>\n",
              "      <th>Economy_GDP_per_Capita</th>\n",
              "      <th>Family</th>\n",
              "      <th>Health_Life_Expectancy</th>\n",
              "      <th>Freedom</th>\n",
              "      <th>Generosity</th>\n",
              "      <th>Trust_Government_Corruption</th>\n",
              "      <th>Dystopia_Residual</th>\n",
              "    </tr>\n",
              "  </thead>\n",
              "  <tbody>\n",
              "    <tr>\n",
              "      <th>0</th>\n",
              "      <td>Norway</td>\n",
              "      <td>1</td>\n",
              "      <td>7.537</td>\n",
              "      <td>7.594445</td>\n",
              "      <td>7.479556</td>\n",
              "      <td>1.616463</td>\n",
              "      <td>1.533524</td>\n",
              "      <td>0.796667</td>\n",
              "      <td>0.635423</td>\n",
              "      <td>0.362012</td>\n",
              "      <td>0.315964</td>\n",
              "      <td>2.277027</td>\n",
              "    </tr>\n",
              "    <tr>\n",
              "      <th>1</th>\n",
              "      <td>Denmark</td>\n",
              "      <td>2</td>\n",
              "      <td>7.522</td>\n",
              "      <td>7.581728</td>\n",
              "      <td>7.462272</td>\n",
              "      <td>1.482383</td>\n",
              "      <td>1.551122</td>\n",
              "      <td>0.792566</td>\n",
              "      <td>0.626007</td>\n",
              "      <td>0.355280</td>\n",
              "      <td>0.400770</td>\n",
              "      <td>2.313707</td>\n",
              "    </tr>\n",
              "    <tr>\n",
              "      <th>2</th>\n",
              "      <td>Iceland</td>\n",
              "      <td>3</td>\n",
              "      <td>7.504</td>\n",
              "      <td>7.622030</td>\n",
              "      <td>7.385970</td>\n",
              "      <td>1.480633</td>\n",
              "      <td>1.610574</td>\n",
              "      <td>0.833552</td>\n",
              "      <td>0.627163</td>\n",
              "      <td>0.475540</td>\n",
              "      <td>0.153527</td>\n",
              "      <td>2.322715</td>\n",
              "    </tr>\n",
              "    <tr>\n",
              "      <th>3</th>\n",
              "      <td>Switzerland</td>\n",
              "      <td>4</td>\n",
              "      <td>7.494</td>\n",
              "      <td>7.561772</td>\n",
              "      <td>7.426227</td>\n",
              "      <td>1.564980</td>\n",
              "      <td>1.516912</td>\n",
              "      <td>0.858131</td>\n",
              "      <td>0.620071</td>\n",
              "      <td>0.290549</td>\n",
              "      <td>0.367007</td>\n",
              "      <td>2.276716</td>\n",
              "    </tr>\n",
              "    <tr>\n",
              "      <th>4</th>\n",
              "      <td>Finland</td>\n",
              "      <td>5</td>\n",
              "      <td>7.469</td>\n",
              "      <td>7.527542</td>\n",
              "      <td>7.410458</td>\n",
              "      <td>1.443572</td>\n",
              "      <td>1.540247</td>\n",
              "      <td>0.809158</td>\n",
              "      <td>0.617951</td>\n",
              "      <td>0.245483</td>\n",
              "      <td>0.382612</td>\n",
              "      <td>2.430182</td>\n",
              "    </tr>\n",
              "  </tbody>\n",
              "</table>\n",
              "</div>"
            ],
            "text/plain": [
              "       Country  Happiness_Rank  ...  Trust_Government_Corruption  Dystopia_Residual\n",
              "0       Norway               1  ...                     0.315964           2.277027\n",
              "1      Denmark               2  ...                     0.400770           2.313707\n",
              "2      Iceland               3  ...                     0.153527           2.322715\n",
              "3  Switzerland               4  ...                     0.367007           2.276716\n",
              "4      Finland               5  ...                     0.382612           2.430182\n",
              "\n",
              "[5 rows x 12 columns]"
            ]
          },
          "metadata": {
            "tags": []
          },
          "execution_count": 16
        }
      ]
    },
    {
      "cell_type": "code",
      "metadata": {
        "id": "Oy8SsVHEYiqI",
        "colab": {
          "base_uri": "https://localhost:8080/",
          "height": 249
        },
        "outputId": "ea8d36b5-5e4f-4152-fa2a-690ed4b625ff"
      },
      "source": [
        "worldhappy17.tail()"
      ],
      "execution_count": 17,
      "outputs": [
        {
          "output_type": "execute_result",
          "data": {
            "text/html": [
              "<div>\n",
              "<style scoped>\n",
              "    .dataframe tbody tr th:only-of-type {\n",
              "        vertical-align: middle;\n",
              "    }\n",
              "\n",
              "    .dataframe tbody tr th {\n",
              "        vertical-align: top;\n",
              "    }\n",
              "\n",
              "    .dataframe thead th {\n",
              "        text-align: right;\n",
              "    }\n",
              "</style>\n",
              "<table border=\"1\" class=\"dataframe\">\n",
              "  <thead>\n",
              "    <tr style=\"text-align: right;\">\n",
              "      <th></th>\n",
              "      <th>Country</th>\n",
              "      <th>Happiness_Rank</th>\n",
              "      <th>Happiness_Score</th>\n",
              "      <th>Whisker_high</th>\n",
              "      <th>Whisker_low</th>\n",
              "      <th>Economy_GDP_per_Capita</th>\n",
              "      <th>Family</th>\n",
              "      <th>Health_Life_Expectancy</th>\n",
              "      <th>Freedom</th>\n",
              "      <th>Generosity</th>\n",
              "      <th>Trust_Government_Corruption</th>\n",
              "      <th>Dystopia_Residual</th>\n",
              "    </tr>\n",
              "  </thead>\n",
              "  <tbody>\n",
              "    <tr>\n",
              "      <th>150</th>\n",
              "      <td>Rwanda</td>\n",
              "      <td>151</td>\n",
              "      <td>3.471</td>\n",
              "      <td>3.543030</td>\n",
              "      <td>3.398970</td>\n",
              "      <td>0.368746</td>\n",
              "      <td>0.945707</td>\n",
              "      <td>0.326425</td>\n",
              "      <td>0.581844</td>\n",
              "      <td>0.252756</td>\n",
              "      <td>0.455220</td>\n",
              "      <td>0.540061</td>\n",
              "    </tr>\n",
              "    <tr>\n",
              "      <th>151</th>\n",
              "      <td>Syria</td>\n",
              "      <td>152</td>\n",
              "      <td>3.462</td>\n",
              "      <td>3.663669</td>\n",
              "      <td>3.260331</td>\n",
              "      <td>0.777153</td>\n",
              "      <td>0.396103</td>\n",
              "      <td>0.500533</td>\n",
              "      <td>0.081539</td>\n",
              "      <td>0.493664</td>\n",
              "      <td>0.151347</td>\n",
              "      <td>1.061574</td>\n",
              "    </tr>\n",
              "    <tr>\n",
              "      <th>152</th>\n",
              "      <td>Tanzania</td>\n",
              "      <td>153</td>\n",
              "      <td>3.349</td>\n",
              "      <td>3.461430</td>\n",
              "      <td>3.236570</td>\n",
              "      <td>0.511136</td>\n",
              "      <td>1.041990</td>\n",
              "      <td>0.364509</td>\n",
              "      <td>0.390018</td>\n",
              "      <td>0.354256</td>\n",
              "      <td>0.066035</td>\n",
              "      <td>0.621130</td>\n",
              "    </tr>\n",
              "    <tr>\n",
              "      <th>153</th>\n",
              "      <td>Burundi</td>\n",
              "      <td>154</td>\n",
              "      <td>2.905</td>\n",
              "      <td>3.074690</td>\n",
              "      <td>2.735310</td>\n",
              "      <td>0.091623</td>\n",
              "      <td>0.629794</td>\n",
              "      <td>0.151611</td>\n",
              "      <td>0.059901</td>\n",
              "      <td>0.204435</td>\n",
              "      <td>0.084148</td>\n",
              "      <td>1.683024</td>\n",
              "    </tr>\n",
              "    <tr>\n",
              "      <th>154</th>\n",
              "      <td>Central African Republic</td>\n",
              "      <td>155</td>\n",
              "      <td>2.693</td>\n",
              "      <td>2.864884</td>\n",
              "      <td>2.521116</td>\n",
              "      <td>0.000000</td>\n",
              "      <td>0.000000</td>\n",
              "      <td>0.018773</td>\n",
              "      <td>0.270842</td>\n",
              "      <td>0.280876</td>\n",
              "      <td>0.056565</td>\n",
              "      <td>2.066005</td>\n",
              "    </tr>\n",
              "  </tbody>\n",
              "</table>\n",
              "</div>"
            ],
            "text/plain": [
              "                      Country  ...  Dystopia_Residual\n",
              "150                    Rwanda  ...           0.540061\n",
              "151                     Syria  ...           1.061574\n",
              "152                  Tanzania  ...           0.621130\n",
              "153                   Burundi  ...           1.683024\n",
              "154  Central African Republic  ...           2.066005\n",
              "\n",
              "[5 rows x 12 columns]"
            ]
          },
          "metadata": {
            "tags": []
          },
          "execution_count": 17
        }
      ]
    },
    {
      "cell_type": "code",
      "metadata": {
        "id": "ys77_9NxKtOp",
        "colab": {
          "base_uri": "https://localhost:8080/"
        },
        "outputId": "c4bc1163-d56c-403a-f34c-45e5ed322e96"
      },
      "source": [
        "worldhappy17.size"
      ],
      "execution_count": 18,
      "outputs": [
        {
          "output_type": "execute_result",
          "data": {
            "text/plain": [
              "1860"
            ]
          },
          "metadata": {
            "tags": []
          },
          "execution_count": 18
        }
      ]
    },
    {
      "cell_type": "code",
      "metadata": {
        "id": "paRDAGPCMC4P",
        "colab": {
          "base_uri": "https://localhost:8080/"
        },
        "outputId": "68a7dea5-a50d-420f-e9fa-63b104e57233"
      },
      "source": [
        "worldhappy17.shape"
      ],
      "execution_count": 19,
      "outputs": [
        {
          "output_type": "execute_result",
          "data": {
            "text/plain": [
              "(155, 12)"
            ]
          },
          "metadata": {
            "tags": []
          },
          "execution_count": 19
        }
      ]
    },
    {
      "cell_type": "code",
      "metadata": {
        "id": "95cyRtFHMGqG",
        "colab": {
          "base_uri": "https://localhost:8080/"
        },
        "outputId": "787a313d-140e-4171-fc8a-680f18c54c92"
      },
      "source": [
        "worldhappy17.ndim"
      ],
      "execution_count": 20,
      "outputs": [
        {
          "output_type": "execute_result",
          "data": {
            "text/plain": [
              "2"
            ]
          },
          "metadata": {
            "tags": []
          },
          "execution_count": 20
        }
      ]
    },
    {
      "cell_type": "markdown",
      "metadata": {
        "id": "xyxeyRryiDac"
      },
      "source": [
        "### **1.1.4 World Environmental Data - WorldEnvDat**"
      ]
    },
    {
      "cell_type": "code",
      "metadata": {
        "id": "7HmSvLy0WulL",
        "colab": {
          "base_uri": "https://localhost:8080/",
          "height": 249
        },
        "outputId": "68757110-2fb4-4a3d-aa82-75c00ed231d8"
      },
      "source": [
        "WorldEnvData.head()\n"
      ],
      "execution_count": 21,
      "outputs": [
        {
          "output_type": "execute_result",
          "data": {
            "text/html": [
              "<div>\n",
              "<style scoped>\n",
              "    .dataframe tbody tr th:only-of-type {\n",
              "        vertical-align: middle;\n",
              "    }\n",
              "\n",
              "    .dataframe tbody tr th {\n",
              "        vertical-align: top;\n",
              "    }\n",
              "\n",
              "    .dataframe thead th {\n",
              "        text-align: right;\n",
              "    }\n",
              "</style>\n",
              "<table border=\"1\" class=\"dataframe\">\n",
              "  <thead>\n",
              "    <tr style=\"text-align: right;\">\n",
              "      <th></th>\n",
              "      <th>Country</th>\n",
              "      <th>accessibility_to_cities</th>\n",
              "      <th>elevation</th>\n",
              "      <th>aspect</th>\n",
              "      <th>slope</th>\n",
              "      <th>cropland_cover</th>\n",
              "      <th>tree_canopy_cover</th>\n",
              "      <th>isothermality</th>\n",
              "      <th>rain_coldestQuart</th>\n",
              "      <th>rain_driestMonth</th>\n",
              "      <th>rain_driestQuart</th>\n",
              "      <th>rain_mean_annual</th>\n",
              "      <th>rain_seasonailty</th>\n",
              "      <th>rain_warmestQuart</th>\n",
              "      <th>rain_wettestMonth</th>\n",
              "      <th>rain_wettestQuart</th>\n",
              "      <th>temp_annual_range</th>\n",
              "      <th>temp_coldestQuart</th>\n",
              "      <th>temp_diurnal_range</th>\n",
              "      <th>temp_driestQuart</th>\n",
              "      <th>temp_max_warmestMonth</th>\n",
              "      <th>temp_mean_annual</th>\n",
              "      <th>temp_min_coldestMonth</th>\n",
              "      <th>temp_seasonality</th>\n",
              "      <th>temp_warmestQuart</th>\n",
              "      <th>temp_wettestQuart</th>\n",
              "      <th>wind</th>\n",
              "      <th>cloudiness</th>\n",
              "    </tr>\n",
              "  </thead>\n",
              "  <tbody>\n",
              "    <tr>\n",
              "      <th>0</th>\n",
              "      <td>Russia</td>\n",
              "      <td>2143.587912</td>\n",
              "      <td>448.533542</td>\n",
              "      <td>178.456969</td>\n",
              "      <td>0.486310</td>\n",
              "      <td>7.381210</td>\n",
              "      <td>20.356473</td>\n",
              "      <td>19.351714</td>\n",
              "      <td>63.279186</td>\n",
              "      <td>15.345187</td>\n",
              "      <td>52.450745</td>\n",
              "      <td>434.729235</td>\n",
              "      <td>49.685742</td>\n",
              "      <td>181.575443</td>\n",
              "      <td>69.307804</td>\n",
              "      <td>184.997820</td>\n",
              "      <td>50.631191</td>\n",
              "      <td>-24.743686</td>\n",
              "      <td>9.922328</td>\n",
              "      <td>-19.847401</td>\n",
              "      <td>19.952679</td>\n",
              "      <td>-6.261876</td>\n",
              "      <td>-30.678512</td>\n",
              "      <td>145.221422</td>\n",
              "      <td>12.206959</td>\n",
              "      <td>11.549561</td>\n",
              "      <td>3.013606</td>\n",
              "      <td>210.990816</td>\n",
              "    </tr>\n",
              "    <tr>\n",
              "      <th>1</th>\n",
              "      <td>United States of America</td>\n",
              "      <td>638.757539</td>\n",
              "      <td>759.251226</td>\n",
              "      <td>166.560382</td>\n",
              "      <td>0.529687</td>\n",
              "      <td>19.743870</td>\n",
              "      <td>16.728462</td>\n",
              "      <td>32.952882</td>\n",
              "      <td>141.820680</td>\n",
              "      <td>28.787362</td>\n",
              "      <td>100.500560</td>\n",
              "      <td>671.911733</td>\n",
              "      <td>43.415171</td>\n",
              "      <td>198.817687</td>\n",
              "      <td>93.486073</td>\n",
              "      <td>249.429018</td>\n",
              "      <td>39.053796</td>\n",
              "      <td>-5.388305</td>\n",
              "      <td>12.751939</td>\n",
              "      <td>1.420303</td>\n",
              "      <td>26.776731</td>\n",
              "      <td>6.602248</td>\n",
              "      <td>-12.277065</td>\n",
              "      <td>93.460602</td>\n",
              "      <td>18.518984</td>\n",
              "      <td>13.579272</td>\n",
              "      <td>3.586282</td>\n",
              "      <td>180.274639</td>\n",
              "    </tr>\n",
              "    <tr>\n",
              "      <th>2</th>\n",
              "      <td>Canada</td>\n",
              "      <td>3220.715175</td>\n",
              "      <td>508.284763</td>\n",
              "      <td>169.290792</td>\n",
              "      <td>0.397220</td>\n",
              "      <td>3.796340</td>\n",
              "      <td>20.587476</td>\n",
              "      <td>19.862863</td>\n",
              "      <td>80.937465</td>\n",
              "      <td>19.612252</td>\n",
              "      <td>66.220983</td>\n",
              "      <td>453.318423</td>\n",
              "      <td>46.837965</td>\n",
              "      <td>161.861002</td>\n",
              "      <td>64.995707</td>\n",
              "      <td>177.361250</td>\n",
              "      <td>45.963724</td>\n",
              "      <td>-23.193780</td>\n",
              "      <td>9.232454</td>\n",
              "      <td>-19.120410</td>\n",
              "      <td>16.428661</td>\n",
              "      <td>-6.831690</td>\n",
              "      <td>-29.535063</td>\n",
              "      <td>128.934783</td>\n",
              "      <td>9.503740</td>\n",
              "      <td>7.649331</td>\n",
              "      <td>3.378886</td>\n",
              "      <td>231.498702</td>\n",
              "    </tr>\n",
              "    <tr>\n",
              "      <th>3</th>\n",
              "      <td>Antarctica</td>\n",
              "      <td>NaN</td>\n",
              "      <td>NaN</td>\n",
              "      <td>NaN</td>\n",
              "      <td>NaN</td>\n",
              "      <td>0.000000</td>\n",
              "      <td>NaN</td>\n",
              "      <td>NaN</td>\n",
              "      <td>NaN</td>\n",
              "      <td>NaN</td>\n",
              "      <td>NaN</td>\n",
              "      <td>NaN</td>\n",
              "      <td>NaN</td>\n",
              "      <td>NaN</td>\n",
              "      <td>NaN</td>\n",
              "      <td>NaN</td>\n",
              "      <td>NaN</td>\n",
              "      <td>NaN</td>\n",
              "      <td>NaN</td>\n",
              "      <td>NaN</td>\n",
              "      <td>NaN</td>\n",
              "      <td>NaN</td>\n",
              "      <td>NaN</td>\n",
              "      <td>NaN</td>\n",
              "      <td>NaN</td>\n",
              "      <td>NaN</td>\n",
              "      <td>NaN</td>\n",
              "      <td>302.807829</td>\n",
              "    </tr>\n",
              "    <tr>\n",
              "      <th>4</th>\n",
              "      <td>Indonesia</td>\n",
              "      <td>504.884807</td>\n",
              "      <td>342.053688</td>\n",
              "      <td>168.270799</td>\n",
              "      <td>0.909755</td>\n",
              "      <td>13.240866</td>\n",
              "      <td>55.478882</td>\n",
              "      <td>84.942402</td>\n",
              "      <td>673.078720</td>\n",
              "      <td>136.174030</td>\n",
              "      <td>449.847542</td>\n",
              "      <td>2728.355157</td>\n",
              "      <td>29.436566</td>\n",
              "      <td>677.470571</td>\n",
              "      <td>326.216210</td>\n",
              "      <td>904.111711</td>\n",
              "      <td>10.004346</td>\n",
              "      <td>24.396248</td>\n",
              "      <td>8.508100</td>\n",
              "      <td>24.827528</td>\n",
              "      <td>30.133801</td>\n",
              "      <td>24.993327</td>\n",
              "      <td>20.129455</td>\n",
              "      <td>4.163968</td>\n",
              "      <td>25.392019</td>\n",
              "      <td>24.934237</td>\n",
              "      <td>1.366648</td>\n",
              "      <td>293.095107</td>\n",
              "    </tr>\n",
              "  </tbody>\n",
              "</table>\n",
              "</div>"
            ],
            "text/plain": [
              "                    Country  accessibility_to_cities  ...      wind  cloudiness\n",
              "0                    Russia              2143.587912  ...  3.013606  210.990816\n",
              "1  United States of America               638.757539  ...  3.586282  180.274639\n",
              "2                    Canada              3220.715175  ...  3.378886  231.498702\n",
              "3                Antarctica                      NaN  ...       NaN  302.807829\n",
              "4                 Indonesia               504.884807  ...  1.366648  293.095107\n",
              "\n",
              "[5 rows x 28 columns]"
            ]
          },
          "metadata": {
            "tags": []
          },
          "execution_count": 21
        }
      ]
    },
    {
      "cell_type": "code",
      "metadata": {
        "id": "D_RfNrRpYq47",
        "colab": {
          "base_uri": "https://localhost:8080/",
          "height": 299
        },
        "outputId": "fc2918ab-108d-4896-e71e-f83d225107a4"
      },
      "source": [
        "WorldEnvData.tail()"
      ],
      "execution_count": 22,
      "outputs": [
        {
          "output_type": "execute_result",
          "data": {
            "text/html": [
              "<div>\n",
              "<style scoped>\n",
              "    .dataframe tbody tr th:only-of-type {\n",
              "        vertical-align: middle;\n",
              "    }\n",
              "\n",
              "    .dataframe tbody tr th {\n",
              "        vertical-align: top;\n",
              "    }\n",
              "\n",
              "    .dataframe thead th {\n",
              "        text-align: right;\n",
              "    }\n",
              "</style>\n",
              "<table border=\"1\" class=\"dataframe\">\n",
              "  <thead>\n",
              "    <tr style=\"text-align: right;\">\n",
              "      <th></th>\n",
              "      <th>Country</th>\n",
              "      <th>accessibility_to_cities</th>\n",
              "      <th>elevation</th>\n",
              "      <th>aspect</th>\n",
              "      <th>slope</th>\n",
              "      <th>cropland_cover</th>\n",
              "      <th>tree_canopy_cover</th>\n",
              "      <th>isothermality</th>\n",
              "      <th>rain_coldestQuart</th>\n",
              "      <th>rain_driestMonth</th>\n",
              "      <th>rain_driestQuart</th>\n",
              "      <th>rain_mean_annual</th>\n",
              "      <th>rain_seasonailty</th>\n",
              "      <th>rain_warmestQuart</th>\n",
              "      <th>rain_wettestMonth</th>\n",
              "      <th>rain_wettestQuart</th>\n",
              "      <th>temp_annual_range</th>\n",
              "      <th>temp_coldestQuart</th>\n",
              "      <th>temp_diurnal_range</th>\n",
              "      <th>temp_driestQuart</th>\n",
              "      <th>temp_max_warmestMonth</th>\n",
              "      <th>temp_mean_annual</th>\n",
              "      <th>temp_min_coldestMonth</th>\n",
              "      <th>temp_seasonality</th>\n",
              "      <th>temp_warmestQuart</th>\n",
              "      <th>temp_wettestQuart</th>\n",
              "      <th>wind</th>\n",
              "      <th>cloudiness</th>\n",
              "    </tr>\n",
              "  </thead>\n",
              "  <tbody>\n",
              "    <tr>\n",
              "      <th>238</th>\n",
              "      <td>Saint Barthelemy</td>\n",
              "      <td>645.80000</td>\n",
              "      <td>7.117647</td>\n",
              "      <td>63.529412</td>\n",
              "      <td>0.0</td>\n",
              "      <td>0.0</td>\n",
              "      <td>13.0</td>\n",
              "      <td>64.472688</td>\n",
              "      <td>164.512988</td>\n",
              "      <td>46.243420</td>\n",
              "      <td>163.718646</td>\n",
              "      <td>1038.967122</td>\n",
              "      <td>32.924704</td>\n",
              "      <td>315.440320</td>\n",
              "      <td>128.127437</td>\n",
              "      <td>374.080719</td>\n",
              "      <td>8.918813</td>\n",
              "      <td>25.228696</td>\n",
              "      <td>5.777396</td>\n",
              "      <td>25.470409</td>\n",
              "      <td>31.062595</td>\n",
              "      <td>26.770146</td>\n",
              "      <td>22.143781</td>\n",
              "      <td>11.262728</td>\n",
              "      <td>27.970133</td>\n",
              "      <td>27.481434</td>\n",
              "      <td>NaN</td>\n",
              "      <td>186.622794</td>\n",
              "    </tr>\n",
              "    <tr>\n",
              "      <th>239</th>\n",
              "      <td>Pitcairn Islands</td>\n",
              "      <td>15531.33333</td>\n",
              "      <td>1.456311</td>\n",
              "      <td>63.349515</td>\n",
              "      <td>0.0</td>\n",
              "      <td>0.0</td>\n",
              "      <td>NaN</td>\n",
              "      <td>NaN</td>\n",
              "      <td>NaN</td>\n",
              "      <td>102.444357</td>\n",
              "      <td>324.555630</td>\n",
              "      <td>1418.125000</td>\n",
              "      <td>10.680641</td>\n",
              "      <td>NaN</td>\n",
              "      <td>142.250000</td>\n",
              "      <td>375.750000</td>\n",
              "      <td>NaN</td>\n",
              "      <td>NaN</td>\n",
              "      <td>NaN</td>\n",
              "      <td>NaN</td>\n",
              "      <td>NaN</td>\n",
              "      <td>NaN</td>\n",
              "      <td>NaN</td>\n",
              "      <td>NaN</td>\n",
              "      <td>NaN</td>\n",
              "      <td>NaN</td>\n",
              "      <td>NaN</td>\n",
              "      <td>212.012500</td>\n",
              "    </tr>\n",
              "    <tr>\n",
              "      <th>240</th>\n",
              "      <td>Ashmore and Cartier Islands</td>\n",
              "      <td>NaN</td>\n",
              "      <td>0.000000</td>\n",
              "      <td>0.000000</td>\n",
              "      <td>0.0</td>\n",
              "      <td>0.0</td>\n",
              "      <td>NaN</td>\n",
              "      <td>NaN</td>\n",
              "      <td>NaN</td>\n",
              "      <td>NaN</td>\n",
              "      <td>NaN</td>\n",
              "      <td>NaN</td>\n",
              "      <td>NaN</td>\n",
              "      <td>NaN</td>\n",
              "      <td>NaN</td>\n",
              "      <td>NaN</td>\n",
              "      <td>NaN</td>\n",
              "      <td>NaN</td>\n",
              "      <td>NaN</td>\n",
              "      <td>NaN</td>\n",
              "      <td>NaN</td>\n",
              "      <td>NaN</td>\n",
              "      <td>NaN</td>\n",
              "      <td>NaN</td>\n",
              "      <td>NaN</td>\n",
              "      <td>NaN</td>\n",
              "      <td>NaN</td>\n",
              "      <td>162.287500</td>\n",
              "    </tr>\n",
              "    <tr>\n",
              "      <th>241</th>\n",
              "      <td>Macau S.A.R</td>\n",
              "      <td>2.00000</td>\n",
              "      <td>49.000000</td>\n",
              "      <td>22.000000</td>\n",
              "      <td>0.0</td>\n",
              "      <td>0.0</td>\n",
              "      <td>6.0</td>\n",
              "      <td>31.689777</td>\n",
              "      <td>99.827560</td>\n",
              "      <td>25.724205</td>\n",
              "      <td>94.258568</td>\n",
              "      <td>1785.830688</td>\n",
              "      <td>72.465477</td>\n",
              "      <td>859.451538</td>\n",
              "      <td>324.292847</td>\n",
              "      <td>866.931885</td>\n",
              "      <td>20.482774</td>\n",
              "      <td>15.693074</td>\n",
              "      <td>6.556904</td>\n",
              "      <td>17.475818</td>\n",
              "      <td>32.058582</td>\n",
              "      <td>22.648241</td>\n",
              "      <td>11.575807</td>\n",
              "      <td>50.406709</td>\n",
              "      <td>28.306848</td>\n",
              "      <td>27.631000</td>\n",
              "      <td>3.757483</td>\n",
              "      <td>272.150000</td>\n",
              "    </tr>\n",
              "    <tr>\n",
              "      <th>242</th>\n",
              "      <td>Vatican</td>\n",
              "      <td>NaN</td>\n",
              "      <td>NaN</td>\n",
              "      <td>NaN</td>\n",
              "      <td>NaN</td>\n",
              "      <td>0.0</td>\n",
              "      <td>NaN</td>\n",
              "      <td>NaN</td>\n",
              "      <td>NaN</td>\n",
              "      <td>NaN</td>\n",
              "      <td>NaN</td>\n",
              "      <td>NaN</td>\n",
              "      <td>NaN</td>\n",
              "      <td>NaN</td>\n",
              "      <td>NaN</td>\n",
              "      <td>NaN</td>\n",
              "      <td>NaN</td>\n",
              "      <td>NaN</td>\n",
              "      <td>NaN</td>\n",
              "      <td>NaN</td>\n",
              "      <td>NaN</td>\n",
              "      <td>NaN</td>\n",
              "      <td>NaN</td>\n",
              "      <td>NaN</td>\n",
              "      <td>NaN</td>\n",
              "      <td>NaN</td>\n",
              "      <td>NaN</td>\n",
              "      <td>NaN</td>\n",
              "    </tr>\n",
              "  </tbody>\n",
              "</table>\n",
              "</div>"
            ],
            "text/plain": [
              "                         Country  accessibility_to_cities  ...      wind  cloudiness\n",
              "238             Saint Barthelemy                645.80000  ...       NaN  186.622794\n",
              "239             Pitcairn Islands              15531.33333  ...       NaN  212.012500\n",
              "240  Ashmore and Cartier Islands                      NaN  ...       NaN  162.287500\n",
              "241                  Macau S.A.R                  2.00000  ...  3.757483  272.150000\n",
              "242                      Vatican                      NaN  ...       NaN         NaN\n",
              "\n",
              "[5 rows x 28 columns]"
            ]
          },
          "metadata": {
            "tags": []
          },
          "execution_count": 22
        }
      ]
    },
    {
      "cell_type": "code",
      "metadata": {
        "id": "hAh-uuOEWu0U",
        "colab": {
          "base_uri": "https://localhost:8080/"
        },
        "outputId": "1ff35469-4ced-4c17-cbea-a5cc7db3463c"
      },
      "source": [
        "WorldEnvData.size\n"
      ],
      "execution_count": 23,
      "outputs": [
        {
          "output_type": "execute_result",
          "data": {
            "text/plain": [
              "6804"
            ]
          },
          "metadata": {
            "tags": []
          },
          "execution_count": 23
        }
      ]
    },
    {
      "cell_type": "code",
      "metadata": {
        "id": "xWCyi0xSWvPl",
        "colab": {
          "base_uri": "https://localhost:8080/"
        },
        "outputId": "c343b3e0-ec2e-443a-cd29-af7f16d51951"
      },
      "source": [
        "WorldEnvData.shape"
      ],
      "execution_count": 24,
      "outputs": [
        {
          "output_type": "execute_result",
          "data": {
            "text/plain": [
              "(243, 28)"
            ]
          },
          "metadata": {
            "tags": []
          },
          "execution_count": 24
        }
      ]
    },
    {
      "cell_type": "code",
      "metadata": {
        "id": "84n3j29QXkss",
        "colab": {
          "base_uri": "https://localhost:8080/"
        },
        "outputId": "c99bd3c7-ed7d-4647-f532-73f14af71b0c"
      },
      "source": [
        "WorldEnvData.ndim"
      ],
      "execution_count": 25,
      "outputs": [
        {
          "output_type": "execute_result",
          "data": {
            "text/plain": [
              "2"
            ]
          },
          "metadata": {
            "tags": []
          },
          "execution_count": 25
        }
      ]
    },
    {
      "cell_type": "markdown",
      "metadata": {
        "id": "EaNLY_GqiTKN"
      },
      "source": [
        "### **1.1.5 IMF National Savings Rate 2017 - IMF_Nat_Savings17**"
      ]
    },
    {
      "cell_type": "code",
      "metadata": {
        "id": "H4a-knxZXkzM",
        "colab": {
          "base_uri": "https://localhost:8080/",
          "height": 195
        },
        "outputId": "727cc991-b81a-44bb-c4c8-3186d96049dc"
      },
      "source": [
        "IMF_Nat_Savings17.head()"
      ],
      "execution_count": 26,
      "outputs": [
        {
          "output_type": "execute_result",
          "data": {
            "text/html": [
              "<div>\n",
              "<style scoped>\n",
              "    .dataframe tbody tr th:only-of-type {\n",
              "        vertical-align: middle;\n",
              "    }\n",
              "\n",
              "    .dataframe tbody tr th {\n",
              "        vertical-align: top;\n",
              "    }\n",
              "\n",
              "    .dataframe thead th {\n",
              "        text-align: right;\n",
              "    }\n",
              "</style>\n",
              "<table border=\"1\" class=\"dataframe\">\n",
              "  <thead>\n",
              "    <tr style=\"text-align: right;\">\n",
              "      <th></th>\n",
              "      <th>Country</th>\n",
              "      <th>Units</th>\n",
              "      <th>Scale</th>\n",
              "      <th>Savings</th>\n",
              "    </tr>\n",
              "  </thead>\n",
              "  <tbody>\n",
              "    <tr>\n",
              "      <th>0</th>\n",
              "      <td>Afghanistan</td>\n",
              "      <td>Percent of GDP</td>\n",
              "      <td>NaN</td>\n",
              "      <td>22.348</td>\n",
              "    </tr>\n",
              "    <tr>\n",
              "      <th>1</th>\n",
              "      <td>Albania</td>\n",
              "      <td>Percent of GDP</td>\n",
              "      <td>NaN</td>\n",
              "      <td>17.031</td>\n",
              "    </tr>\n",
              "    <tr>\n",
              "      <th>2</th>\n",
              "      <td>Algeria</td>\n",
              "      <td>Percent of GDP</td>\n",
              "      <td>NaN</td>\n",
              "      <td>37.708</td>\n",
              "    </tr>\n",
              "    <tr>\n",
              "      <th>3</th>\n",
              "      <td>Angola</td>\n",
              "      <td>Percent of GDP</td>\n",
              "      <td>NaN</td>\n",
              "      <td>23.351</td>\n",
              "    </tr>\n",
              "    <tr>\n",
              "      <th>4</th>\n",
              "      <td>Antigua and Barbuda</td>\n",
              "      <td>Percent of GDP</td>\n",
              "      <td>NaN</td>\n",
              "      <td>16.102</td>\n",
              "    </tr>\n",
              "  </tbody>\n",
              "</table>\n",
              "</div>"
            ],
            "text/plain": [
              "               Country           Units  Scale  Savings\n",
              "0          Afghanistan  Percent of GDP    NaN   22.348\n",
              "1              Albania  Percent of GDP    NaN   17.031\n",
              "2              Algeria  Percent of GDP    NaN   37.708\n",
              "3               Angola  Percent of GDP    NaN   23.351\n",
              "4  Antigua and Barbuda  Percent of GDP    NaN   16.102"
            ]
          },
          "metadata": {
            "tags": []
          },
          "execution_count": 26
        }
      ]
    },
    {
      "cell_type": "code",
      "metadata": {
        "id": "LnetUG1_ZlQG",
        "colab": {
          "base_uri": "https://localhost:8080/",
          "height": 195
        },
        "outputId": "57d65898-7be8-435c-eda6-d618e892f9b6"
      },
      "source": [
        "IMF_Nat_Savings17.tail()"
      ],
      "execution_count": 27,
      "outputs": [
        {
          "output_type": "execute_result",
          "data": {
            "text/html": [
              "<div>\n",
              "<style scoped>\n",
              "    .dataframe tbody tr th:only-of-type {\n",
              "        vertical-align: middle;\n",
              "    }\n",
              "\n",
              "    .dataframe tbody tr th {\n",
              "        vertical-align: top;\n",
              "    }\n",
              "\n",
              "    .dataframe thead th {\n",
              "        text-align: right;\n",
              "    }\n",
              "</style>\n",
              "<table border=\"1\" class=\"dataframe\">\n",
              "  <thead>\n",
              "    <tr style=\"text-align: right;\">\n",
              "      <th></th>\n",
              "      <th>Country</th>\n",
              "      <th>Units</th>\n",
              "      <th>Scale</th>\n",
              "      <th>Savings</th>\n",
              "    </tr>\n",
              "  </thead>\n",
              "  <tbody>\n",
              "    <tr>\n",
              "      <th>166</th>\n",
              "      <td>Uzbekistan</td>\n",
              "      <td>Percent of GDP</td>\n",
              "      <td>NaN</td>\n",
              "      <td>26.930</td>\n",
              "    </tr>\n",
              "    <tr>\n",
              "      <th>167</th>\n",
              "      <td>Venezuela</td>\n",
              "      <td>Percent of GDP</td>\n",
              "      <td>NaN</td>\n",
              "      <td>-9.864</td>\n",
              "    </tr>\n",
              "    <tr>\n",
              "      <th>168</th>\n",
              "      <td>Vietnam</td>\n",
              "      <td>Percent of GDP</td>\n",
              "      <td>NaN</td>\n",
              "      <td>28.704</td>\n",
              "    </tr>\n",
              "    <tr>\n",
              "      <th>169</th>\n",
              "      <td>Yemen</td>\n",
              "      <td>Percent of GDP</td>\n",
              "      <td>NaN</td>\n",
              "      <td>1.919</td>\n",
              "    </tr>\n",
              "    <tr>\n",
              "      <th>170</th>\n",
              "      <td>Zambia</td>\n",
              "      <td>Percent of GDP</td>\n",
              "      <td>NaN</td>\n",
              "      <td>39.321</td>\n",
              "    </tr>\n",
              "  </tbody>\n",
              "</table>\n",
              "</div>"
            ],
            "text/plain": [
              "        Country           Units  Scale  Savings\n",
              "166  Uzbekistan  Percent of GDP    NaN   26.930\n",
              "167   Venezuela  Percent of GDP    NaN   -9.864\n",
              "168     Vietnam  Percent of GDP    NaN   28.704\n",
              "169       Yemen  Percent of GDP    NaN    1.919\n",
              "170      Zambia  Percent of GDP    NaN   39.321"
            ]
          },
          "metadata": {
            "tags": []
          },
          "execution_count": 27
        }
      ]
    },
    {
      "cell_type": "code",
      "metadata": {
        "id": "Y9kIt6fdZlbl",
        "colab": {
          "base_uri": "https://localhost:8080/"
        },
        "outputId": "bc60262c-a1d8-4eaa-88b1-8809f67f9b2e"
      },
      "source": [
        "IMF_Nat_Savings17.size"
      ],
      "execution_count": 28,
      "outputs": [
        {
          "output_type": "execute_result",
          "data": {
            "text/plain": [
              "684"
            ]
          },
          "metadata": {
            "tags": []
          },
          "execution_count": 28
        }
      ]
    },
    {
      "cell_type": "code",
      "metadata": {
        "id": "hM7azdfPZlpF",
        "colab": {
          "base_uri": "https://localhost:8080/"
        },
        "outputId": "91db05ac-cc4d-4ea6-e831-4e97ef71952b"
      },
      "source": [
        "IMF_Nat_Savings17.shape"
      ],
      "execution_count": 29,
      "outputs": [
        {
          "output_type": "execute_result",
          "data": {
            "text/plain": [
              "(171, 4)"
            ]
          },
          "metadata": {
            "tags": []
          },
          "execution_count": 29
        }
      ]
    },
    {
      "cell_type": "code",
      "metadata": {
        "id": "8Smns_SOZl92",
        "colab": {
          "base_uri": "https://localhost:8080/"
        },
        "outputId": "2a37dd9d-1bc2-4141-dd76-af01722fc798"
      },
      "source": [
        "IMF_Nat_Savings17.ndim"
      ],
      "execution_count": 30,
      "outputs": [
        {
          "output_type": "execute_result",
          "data": {
            "text/plain": [
              "2"
            ]
          },
          "metadata": {
            "tags": []
          },
          "execution_count": 30
        }
      ]
    },
    {
      "cell_type": "markdown",
      "metadata": {
        "id": "cmKmN30wifHL"
      },
      "source": [
        "### **1.1.6 IMF Government Expenditures 2017 - IMF_Gov_Exp17**"
      ]
    },
    {
      "cell_type": "code",
      "metadata": {
        "id": "jHGR7464Xkv2",
        "colab": {
          "base_uri": "https://localhost:8080/",
          "height": 195
        },
        "outputId": "743bf71d-17f6-43b4-a979-9d13c6bb294f"
      },
      "source": [
        "IMF_Gov_Exp17.head()"
      ],
      "execution_count": 31,
      "outputs": [
        {
          "output_type": "execute_result",
          "data": {
            "text/html": [
              "<div>\n",
              "<style scoped>\n",
              "    .dataframe tbody tr th:only-of-type {\n",
              "        vertical-align: middle;\n",
              "    }\n",
              "\n",
              "    .dataframe tbody tr th {\n",
              "        vertical-align: top;\n",
              "    }\n",
              "\n",
              "    .dataframe thead th {\n",
              "        text-align: right;\n",
              "    }\n",
              "</style>\n",
              "<table border=\"1\" class=\"dataframe\">\n",
              "  <thead>\n",
              "    <tr style=\"text-align: right;\">\n",
              "      <th></th>\n",
              "      <th>Country</th>\n",
              "      <th>Subject Descriptor</th>\n",
              "      <th>Units</th>\n",
              "      <th>Scale</th>\n",
              "      <th>Expense</th>\n",
              "    </tr>\n",
              "  </thead>\n",
              "  <tbody>\n",
              "    <tr>\n",
              "      <th>0</th>\n",
              "      <td>Afghanistan</td>\n",
              "      <td>General government total expenditure</td>\n",
              "      <td>Percent of GDP</td>\n",
              "      <td>NaN</td>\n",
              "      <td>25.878</td>\n",
              "    </tr>\n",
              "    <tr>\n",
              "      <th>1</th>\n",
              "      <td>Albania</td>\n",
              "      <td>General government total expenditure</td>\n",
              "      <td>Percent of GDP</td>\n",
              "      <td>NaN</td>\n",
              "      <td>29.137</td>\n",
              "    </tr>\n",
              "    <tr>\n",
              "      <th>2</th>\n",
              "      <td>Algeria</td>\n",
              "      <td>General government total expenditure</td>\n",
              "      <td>Percent of GDP</td>\n",
              "      <td>NaN</td>\n",
              "      <td>39.205</td>\n",
              "    </tr>\n",
              "    <tr>\n",
              "      <th>3</th>\n",
              "      <td>Angola</td>\n",
              "      <td>General government total expenditure</td>\n",
              "      <td>Percent of GDP</td>\n",
              "      <td>NaN</td>\n",
              "      <td>23.806</td>\n",
              "    </tr>\n",
              "    <tr>\n",
              "      <th>4</th>\n",
              "      <td>Antigua and Barbuda</td>\n",
              "      <td>General government total expenditure</td>\n",
              "      <td>Percent of GDP</td>\n",
              "      <td>NaN</td>\n",
              "      <td>23.243</td>\n",
              "    </tr>\n",
              "  </tbody>\n",
              "</table>\n",
              "</div>"
            ],
            "text/plain": [
              "               Country                    Subject Descriptor  ... Scale  Expense\n",
              "0          Afghanistan  General government total expenditure  ...   NaN   25.878\n",
              "1              Albania  General government total expenditure  ...   NaN   29.137\n",
              "2              Algeria  General government total expenditure  ...   NaN   39.205\n",
              "3               Angola  General government total expenditure  ...   NaN   23.806\n",
              "4  Antigua and Barbuda  General government total expenditure  ...   NaN   23.243\n",
              "\n",
              "[5 rows x 5 columns]"
            ]
          },
          "metadata": {
            "tags": []
          },
          "execution_count": 31
        }
      ]
    },
    {
      "cell_type": "code",
      "metadata": {
        "id": "Z9znXSr5Zm0b",
        "colab": {
          "base_uri": "https://localhost:8080/",
          "height": 195
        },
        "outputId": "d8201b16-2737-423f-d450-0aedcbb03d16"
      },
      "source": [
        "IMF_Gov_Exp17.tail()"
      ],
      "execution_count": 32,
      "outputs": [
        {
          "output_type": "execute_result",
          "data": {
            "text/html": [
              "<div>\n",
              "<style scoped>\n",
              "    .dataframe tbody tr th:only-of-type {\n",
              "        vertical-align: middle;\n",
              "    }\n",
              "\n",
              "    .dataframe tbody tr th {\n",
              "        vertical-align: top;\n",
              "    }\n",
              "\n",
              "    .dataframe thead th {\n",
              "        text-align: right;\n",
              "    }\n",
              "</style>\n",
              "<table border=\"1\" class=\"dataframe\">\n",
              "  <thead>\n",
              "    <tr style=\"text-align: right;\">\n",
              "      <th></th>\n",
              "      <th>Country</th>\n",
              "      <th>Subject Descriptor</th>\n",
              "      <th>Units</th>\n",
              "      <th>Scale</th>\n",
              "      <th>Expense</th>\n",
              "    </tr>\n",
              "  </thead>\n",
              "  <tbody>\n",
              "    <tr>\n",
              "      <th>189</th>\n",
              "      <td>Venezuela</td>\n",
              "      <td>General government total expenditure</td>\n",
              "      <td>Percent of GDP</td>\n",
              "      <td>NaN</td>\n",
              "      <td>36.569</td>\n",
              "    </tr>\n",
              "    <tr>\n",
              "      <th>190</th>\n",
              "      <td>Vietnam</td>\n",
              "      <td>General government total expenditure</td>\n",
              "      <td>Percent of GDP</td>\n",
              "      <td>NaN</td>\n",
              "      <td>29.224</td>\n",
              "    </tr>\n",
              "    <tr>\n",
              "      <th>191</th>\n",
              "      <td>Yemen</td>\n",
              "      <td>General government total expenditure</td>\n",
              "      <td>Percent of GDP</td>\n",
              "      <td>NaN</td>\n",
              "      <td>9.136</td>\n",
              "    </tr>\n",
              "    <tr>\n",
              "      <th>192</th>\n",
              "      <td>Zambia</td>\n",
              "      <td>General government total expenditure</td>\n",
              "      <td>Percent of GDP</td>\n",
              "      <td>NaN</td>\n",
              "      <td>25.188</td>\n",
              "    </tr>\n",
              "    <tr>\n",
              "      <th>193</th>\n",
              "      <td>Zimbabwe</td>\n",
              "      <td>General government total expenditure</td>\n",
              "      <td>Percent of GDP</td>\n",
              "      <td>NaN</td>\n",
              "      <td>22.484</td>\n",
              "    </tr>\n",
              "  </tbody>\n",
              "</table>\n",
              "</div>"
            ],
            "text/plain": [
              "       Country                    Subject Descriptor  ... Scale  Expense\n",
              "189  Venezuela  General government total expenditure  ...   NaN   36.569\n",
              "190    Vietnam  General government total expenditure  ...   NaN   29.224\n",
              "191      Yemen  General government total expenditure  ...   NaN    9.136\n",
              "192     Zambia  General government total expenditure  ...   NaN   25.188\n",
              "193   Zimbabwe  General government total expenditure  ...   NaN   22.484\n",
              "\n",
              "[5 rows x 5 columns]"
            ]
          },
          "metadata": {
            "tags": []
          },
          "execution_count": 32
        }
      ]
    },
    {
      "cell_type": "code",
      "metadata": {
        "id": "a4EPmG6gZnBF",
        "colab": {
          "base_uri": "https://localhost:8080/"
        },
        "outputId": "8e1c8b1f-5b81-4edb-e94d-770b40fe2dce"
      },
      "source": [
        "IMF_Gov_Exp17.ndim"
      ],
      "execution_count": 33,
      "outputs": [
        {
          "output_type": "execute_result",
          "data": {
            "text/plain": [
              "2"
            ]
          },
          "metadata": {
            "tags": []
          },
          "execution_count": 33
        }
      ]
    },
    {
      "cell_type": "code",
      "metadata": {
        "id": "UCXOH-wWZnNk",
        "colab": {
          "base_uri": "https://localhost:8080/"
        },
        "outputId": "63bd3f62-13ea-4640-9c01-1b203e30c160"
      },
      "source": [
        "IMF_Gov_Exp17.shape"
      ],
      "execution_count": 34,
      "outputs": [
        {
          "output_type": "execute_result",
          "data": {
            "text/plain": [
              "(194, 5)"
            ]
          },
          "metadata": {
            "tags": []
          },
          "execution_count": 34
        }
      ]
    },
    {
      "cell_type": "code",
      "metadata": {
        "id": "xLs639bqZnaB",
        "colab": {
          "base_uri": "https://localhost:8080/"
        },
        "outputId": "eab3445f-f6cf-4ed4-9189-3b20e699a14f"
      },
      "source": [
        "IMF_Gov_Exp17.size"
      ],
      "execution_count": 35,
      "outputs": [
        {
          "output_type": "execute_result",
          "data": {
            "text/plain": [
              "970"
            ]
          },
          "metadata": {
            "tags": []
          },
          "execution_count": 35
        }
      ]
    },
    {
      "cell_type": "code",
      "metadata": {
        "id": "YRqxsIPSfizt"
      },
      "source": [
        ""
      ],
      "execution_count": 35,
      "outputs": []
    },
    {
      "cell_type": "markdown",
      "metadata": {
        "id": "qo-JeCStN-Py"
      },
      "source": [
        "# ***2 Data Cleanup***\n",
        "\n",
        "---"
      ]
    },
    {
      "cell_type": "markdown",
      "metadata": {
        "id": "wlcX2W9OpQpF"
      },
      "source": [
        "## 2.1 Cleaning World Happiness Dataset"
      ]
    },
    {
      "cell_type": "code",
      "metadata": {
        "id": "cbKSWpqhAEPm",
        "colab": {
          "base_uri": "https://localhost:8080/",
          "height": 215
        },
        "outputId": "6822d4e1-da8e-4e84-cde4-47aa2bd27865"
      },
      "source": [
        "# This block of code can be used in order to clean up unwanted punctuation\n",
        "list(worldhappy17.columns)\n",
        "worldhappy17.replace(' ',np.nan,inplace=True)\n",
        "worldhappy17.replace('NDA',np.nan,inplace=True)\n",
        "worldhappy17.replace('%',np.nan,inplace=True)\n",
        "worldhappy17.head()"
      ],
      "execution_count": 36,
      "outputs": [
        {
          "output_type": "execute_result",
          "data": {
            "text/html": [
              "<div>\n",
              "<style scoped>\n",
              "    .dataframe tbody tr th:only-of-type {\n",
              "        vertical-align: middle;\n",
              "    }\n",
              "\n",
              "    .dataframe tbody tr th {\n",
              "        vertical-align: top;\n",
              "    }\n",
              "\n",
              "    .dataframe thead th {\n",
              "        text-align: right;\n",
              "    }\n",
              "</style>\n",
              "<table border=\"1\" class=\"dataframe\">\n",
              "  <thead>\n",
              "    <tr style=\"text-align: right;\">\n",
              "      <th></th>\n",
              "      <th>Country</th>\n",
              "      <th>Happiness_Rank</th>\n",
              "      <th>Happiness_Score</th>\n",
              "      <th>Whisker_high</th>\n",
              "      <th>Whisker_low</th>\n",
              "      <th>Economy_GDP_per_Capita</th>\n",
              "      <th>Family</th>\n",
              "      <th>Health_Life_Expectancy</th>\n",
              "      <th>Freedom</th>\n",
              "      <th>Generosity</th>\n",
              "      <th>Trust_Government_Corruption</th>\n",
              "      <th>Dystopia_Residual</th>\n",
              "    </tr>\n",
              "  </thead>\n",
              "  <tbody>\n",
              "    <tr>\n",
              "      <th>0</th>\n",
              "      <td>Norway</td>\n",
              "      <td>1</td>\n",
              "      <td>7.537</td>\n",
              "      <td>7.594445</td>\n",
              "      <td>7.479556</td>\n",
              "      <td>1.616463</td>\n",
              "      <td>1.533524</td>\n",
              "      <td>0.796667</td>\n",
              "      <td>0.635423</td>\n",
              "      <td>0.362012</td>\n",
              "      <td>0.315964</td>\n",
              "      <td>2.277027</td>\n",
              "    </tr>\n",
              "    <tr>\n",
              "      <th>1</th>\n",
              "      <td>Denmark</td>\n",
              "      <td>2</td>\n",
              "      <td>7.522</td>\n",
              "      <td>7.581728</td>\n",
              "      <td>7.462272</td>\n",
              "      <td>1.482383</td>\n",
              "      <td>1.551122</td>\n",
              "      <td>0.792566</td>\n",
              "      <td>0.626007</td>\n",
              "      <td>0.355280</td>\n",
              "      <td>0.400770</td>\n",
              "      <td>2.313707</td>\n",
              "    </tr>\n",
              "    <tr>\n",
              "      <th>2</th>\n",
              "      <td>Iceland</td>\n",
              "      <td>3</td>\n",
              "      <td>7.504</td>\n",
              "      <td>7.622030</td>\n",
              "      <td>7.385970</td>\n",
              "      <td>1.480633</td>\n",
              "      <td>1.610574</td>\n",
              "      <td>0.833552</td>\n",
              "      <td>0.627163</td>\n",
              "      <td>0.475540</td>\n",
              "      <td>0.153527</td>\n",
              "      <td>2.322715</td>\n",
              "    </tr>\n",
              "    <tr>\n",
              "      <th>3</th>\n",
              "      <td>Switzerland</td>\n",
              "      <td>4</td>\n",
              "      <td>7.494</td>\n",
              "      <td>7.561772</td>\n",
              "      <td>7.426227</td>\n",
              "      <td>1.564980</td>\n",
              "      <td>1.516912</td>\n",
              "      <td>0.858131</td>\n",
              "      <td>0.620071</td>\n",
              "      <td>0.290549</td>\n",
              "      <td>0.367007</td>\n",
              "      <td>2.276716</td>\n",
              "    </tr>\n",
              "    <tr>\n",
              "      <th>4</th>\n",
              "      <td>Finland</td>\n",
              "      <td>5</td>\n",
              "      <td>7.469</td>\n",
              "      <td>7.527542</td>\n",
              "      <td>7.410458</td>\n",
              "      <td>1.443572</td>\n",
              "      <td>1.540247</td>\n",
              "      <td>0.809158</td>\n",
              "      <td>0.617951</td>\n",
              "      <td>0.245483</td>\n",
              "      <td>0.382612</td>\n",
              "      <td>2.430182</td>\n",
              "    </tr>\n",
              "  </tbody>\n",
              "</table>\n",
              "</div>"
            ],
            "text/plain": [
              "       Country  Happiness_Rank  ...  Trust_Government_Corruption  Dystopia_Residual\n",
              "0       Norway               1  ...                     0.315964           2.277027\n",
              "1      Denmark               2  ...                     0.400770           2.313707\n",
              "2      Iceland               3  ...                     0.153527           2.322715\n",
              "3  Switzerland               4  ...                     0.367007           2.276716\n",
              "4      Finland               5  ...                     0.382612           2.430182\n",
              "\n",
              "[5 rows x 12 columns]"
            ]
          },
          "metadata": {
            "tags": []
          },
          "execution_count": 36
        }
      ]
    },
    {
      "cell_type": "code",
      "metadata": {
        "id": "SKd0mLgeqb8J"
      },
      "source": [
        "#need to drop all columns except Country, Happiness_Rank and Happiness_Score"
      ],
      "execution_count": 37,
      "outputs": []
    },
    {
      "cell_type": "markdown",
      "metadata": {
        "id": "BDRWBddcAiXp"
      },
      "source": [
        "## 2.2 Cleaning WorldEnvData\n",
        "\n",
        "\n"
      ]
    },
    {
      "cell_type": "code",
      "metadata": {
        "id": "3Oibibh39Bko"
      },
      "source": [
        "pd.set_option('display.max_rows', None)"
      ],
      "execution_count": 38,
      "outputs": []
    },
    {
      "cell_type": "code",
      "metadata": {
        "id": "gRlAPLjV9Dse",
        "colab": {
          "base_uri": "https://localhost:8080/"
        },
        "outputId": "7d7fad9d-a0a5-47a4-fd02-865090bba2d9"
      },
      "source": [
        "list(WorldEnvData.columns)"
      ],
      "execution_count": 39,
      "outputs": [
        {
          "output_type": "execute_result",
          "data": {
            "text/plain": [
              "['Country',\n",
              " 'accessibility_to_cities',\n",
              " 'elevation',\n",
              " 'aspect',\n",
              " 'slope',\n",
              " 'cropland_cover',\n",
              " 'tree_canopy_cover',\n",
              " 'isothermality',\n",
              " 'rain_coldestQuart',\n",
              " 'rain_driestMonth',\n",
              " 'rain_driestQuart',\n",
              " 'rain_mean_annual',\n",
              " 'rain_seasonailty',\n",
              " 'rain_warmestQuart',\n",
              " 'rain_wettestMonth',\n",
              " 'rain_wettestQuart',\n",
              " 'temp_annual_range',\n",
              " 'temp_coldestQuart',\n",
              " 'temp_diurnal_range',\n",
              " 'temp_driestQuart',\n",
              " 'temp_max_warmestMonth',\n",
              " 'temp_mean_annual',\n",
              " 'temp_min_coldestMonth',\n",
              " 'temp_seasonality',\n",
              " 'temp_warmestQuart',\n",
              " 'temp_wettestQuart',\n",
              " 'wind',\n",
              " 'cloudiness']"
            ]
          },
          "metadata": {
            "tags": []
          },
          "execution_count": 39
        }
      ]
    },
    {
      "cell_type": "markdown",
      "metadata": {
        "id": "EQaxbZmitun0"
      },
      "source": [
        "### 2.2.1 Drop Columns"
      ]
    },
    {
      "cell_type": "code",
      "metadata": {
        "id": "ozWgfCmy1zep"
      },
      "source": [
        "# Dropping columns from WorldEnvData.\n",
        "WorldEnvData.drop(labels=[\n",
        " 'aspect',\n",
        " 'slope',\n",
        " 'elevation',\n",
        " 'isothermality',\n",
        " 'rain_coldestQuart',\n",
        " 'rain_driestMonth',\n",
        " 'rain_driestQuart',\n",
        " 'rain_seasonailty',\n",
        " 'rain_warmestQuart',\n",
        " 'rain_wettestMonth',\n",
        " 'rain_wettestQuart',\n",
        " 'temp_coldestQuart',\n",
        " 'temp_diurnal_range',\n",
        " 'temp_driestQuart',\n",
        " 'temp_seasonality',\n",
        " 'temp_warmestQuart',\n",
        " 'temp_wettestQuart',\n",
        " 'cropland_cover',\n",
        " 'temp_annual_range',\n",
        " 'temp_max_warmestMonth',\n",
        " 'temp_min_coldestMonth',\n",
        " 'wind'], inplace=True, axis=1)"
      ],
      "execution_count": 40,
      "outputs": []
    },
    {
      "cell_type": "code",
      "metadata": {
        "id": "O7Eram1VXJIS",
        "colab": {
          "base_uri": "https://localhost:8080/"
        },
        "outputId": "44bb0497-f0bd-4cee-e399-9a5cccc4f0f1"
      },
      "source": [
        "list(WorldEnvData.columns)"
      ],
      "execution_count": 41,
      "outputs": [
        {
          "output_type": "execute_result",
          "data": {
            "text/plain": [
              "['Country',\n",
              " 'accessibility_to_cities',\n",
              " 'tree_canopy_cover',\n",
              " 'rain_mean_annual',\n",
              " 'temp_mean_annual',\n",
              " 'cloudiness']"
            ]
          },
          "metadata": {
            "tags": []
          },
          "execution_count": 41
        }
      ]
    },
    {
      "cell_type": "markdown",
      "metadata": {
        "id": "R7jDHX82juIT"
      },
      "source": [
        "## 2.3 Cleaning Country Profile"
      ]
    },
    {
      "cell_type": "code",
      "metadata": {
        "id": "LbpfcJWQyiaf",
        "colab": {
          "base_uri": "https://localhost:8080/"
        },
        "outputId": "dd96a8ff-37eb-40c8-c221-945b8a1d08a9"
      },
      "source": [
        "list(CtProfile.columns)"
      ],
      "execution_count": 42,
      "outputs": [
        {
          "output_type": "execute_result",
          "data": {
            "text/plain": [
              "['country',\n",
              " 'Region',\n",
              " 'Surface area (km2)',\n",
              " 'Population in thousands (2017)',\n",
              " 'Population density (per km2, 2017)',\n",
              " 'Sex ratio (m per 100 f, 2017)',\n",
              " 'GDP: Gross domestic product (million current US$)',\n",
              " 'GDP growth rate (annual %, const. 2005 prices)',\n",
              " 'GDP per capita (current US$)',\n",
              " 'Economy: Agriculture (% of GVA)',\n",
              " 'Economy: Industry (% of GVA)',\n",
              " 'Economy: Services and other activity (% of GVA)',\n",
              " 'Employment: Agriculture (% of employed)',\n",
              " 'Employment: Industry (% of employed)',\n",
              " 'Employment: Services (% of employed)',\n",
              " 'Unemployment (% of labour force)',\n",
              " 'Labour force participation (female/male pop. %)',\n",
              " 'Agricultural production index (2004-2006=100)',\n",
              " 'Food production index (2004-2006=100)',\n",
              " 'International trade: Exports (million US$)',\n",
              " 'International trade: Imports (million US$)',\n",
              " 'International trade: Balance (million US$)',\n",
              " 'Balance of payments, current account (million US$)',\n",
              " 'Population growth rate (average annual %)',\n",
              " 'Urban population (% of total population)',\n",
              " 'Urban population growth rate (average annual %)',\n",
              " 'Fertility rate, total (live births per woman)',\n",
              " 'Life expectancy at birth (females/males, years)',\n",
              " 'Population age distribution (0-14 / 60+ years, %)',\n",
              " 'International migrant stock (000/% of total pop.)',\n",
              " 'Refugees and others of concern to UNHCR (in thousands)',\n",
              " 'Infant mortality rate (per 1000 live births',\n",
              " 'Health: Total expenditure (% of GDP)',\n",
              " 'Health: Physicians (per 1000 pop.)',\n",
              " 'Education: Government expenditure (% of GDP)',\n",
              " 'Education: Primary gross enrol. ratio (f/m per 100 pop.)',\n",
              " 'Education: Secondary gross enrol. ratio (f/m per 100 pop.)',\n",
              " 'Education: Tertiary gross enrol. ratio (f/m per 100 pop.)',\n",
              " 'Seats held by women in national parliaments %',\n",
              " 'Mobile-cellular subscriptions (per 100 inhabitants)',\n",
              " 'Individuals using the Internet (per 100 inhabitants)',\n",
              " 'Threatened species (number)',\n",
              " 'Forested area (% of land area)',\n",
              " 'CO2 emission estimates (million tons/tons per capita)',\n",
              " 'Energy production, primary (Petajoules)',\n",
              " 'Energy supply per capita (Gigajoules)',\n",
              " 'Pop. using improved drinking water (urban/rural, %)',\n",
              " 'Pop. using improved sanitation facilities (urban/rural, %)',\n",
              " 'Net Official Development Assist. received (% of GNI)',\n",
              " 'Unnamed: 49']"
            ]
          },
          "metadata": {
            "tags": []
          },
          "execution_count": 42
        }
      ]
    },
    {
      "cell_type": "markdown",
      "metadata": {
        "id": "UW97yVY5wWMY"
      },
      "source": [
        "### **2.3.1 Split Out Merged Values within Single Columns**"
      ]
    },
    {
      "cell_type": "code",
      "metadata": {
        "id": "kU0UBKOqUR2Q"
      },
      "source": [
        "split = CtProfile[\"International migrant stock (000/% of total pop.)\"].str.split(\"/\", n = 1, expand = True) \n",
        "CtProfile[\"000\"]= split[0]\n",
        "CtProfile[\"International migrant stock % Total Population\"]= split[1]"
      ],
      "execution_count": 43,
      "outputs": []
    },
    {
      "cell_type": "code",
      "metadata": {
        "id": "nJudOXGEUUUW"
      },
      "source": [
        "split2 = CtProfile[\"Pop. using improved sanitation facilities (urban/rural, %)\"].str.split(\"/\", n = 1, expand = True) \n",
        "CtProfile[\"Urban Population using improved sanitation facilities %\"]= split2[0]\n",
        "CtProfile[\"Rural Population using improved sanitation facilities %\"]= split2[1]"
      ],
      "execution_count": 44,
      "outputs": []
    },
    {
      "cell_type": "code",
      "metadata": {
        "id": "u968SHakwk0z"
      },
      "source": [
        "split3 = CtProfile[\"Life expectancy at birth (females/males, years)\"].str.split(\"/\", n = 1, expand = True) \n",
        "CtProfile[\"Life Expectancy At Birth Females Years\"]= split3[0]\n",
        "CtProfile[\"Life Expectancy At Birth Males Years\"]= split3[1]"
      ],
      "execution_count": 45,
      "outputs": []
    },
    {
      "cell_type": "code",
      "metadata": {
        "id": "T_4f0qcPP_AP"
      },
      "source": [
        "split4 = CtProfile[\"Education: Tertiary gross enrol. ratio (f/m per 100 pop.)\"].str.split(\"/\", n = 1, expand = True) \n",
        "CtProfile[\"Tertiary gross enrol female\"]= split4[0]\n",
        "CtProfile[\"Tertiary gross enrol male\"]= split4[1]"
      ],
      "execution_count": 46,
      "outputs": []
    },
    {
      "cell_type": "code",
      "metadata": {
        "id": "AYxqucYaQgRk"
      },
      "source": [
        "split5 = CtProfile[\"CO2 emission estimates (million tons/tons per capita)\"].str.split(\"/\", n = 1, expand = True) \n",
        "CtProfile[\"CO2 emissions (tons per capita)\"]= split5[1]"
      ],
      "execution_count": 47,
      "outputs": []
    },
    {
      "cell_type": "code",
      "metadata": {
        "id": "2xFcjcEZ-HJP",
        "colab": {
          "base_uri": "https://localhost:8080/"
        },
        "outputId": "cf6d1e78-7420-43bc-ff2e-9c0222fb6f47"
      },
      "source": [
        "list(CtProfile.columns)"
      ],
      "execution_count": 48,
      "outputs": [
        {
          "output_type": "execute_result",
          "data": {
            "text/plain": [
              "['country',\n",
              " 'Region',\n",
              " 'Surface area (km2)',\n",
              " 'Population in thousands (2017)',\n",
              " 'Population density (per km2, 2017)',\n",
              " 'Sex ratio (m per 100 f, 2017)',\n",
              " 'GDP: Gross domestic product (million current US$)',\n",
              " 'GDP growth rate (annual %, const. 2005 prices)',\n",
              " 'GDP per capita (current US$)',\n",
              " 'Economy: Agriculture (% of GVA)',\n",
              " 'Economy: Industry (% of GVA)',\n",
              " 'Economy: Services and other activity (% of GVA)',\n",
              " 'Employment: Agriculture (% of employed)',\n",
              " 'Employment: Industry (% of employed)',\n",
              " 'Employment: Services (% of employed)',\n",
              " 'Unemployment (% of labour force)',\n",
              " 'Labour force participation (female/male pop. %)',\n",
              " 'Agricultural production index (2004-2006=100)',\n",
              " 'Food production index (2004-2006=100)',\n",
              " 'International trade: Exports (million US$)',\n",
              " 'International trade: Imports (million US$)',\n",
              " 'International trade: Balance (million US$)',\n",
              " 'Balance of payments, current account (million US$)',\n",
              " 'Population growth rate (average annual %)',\n",
              " 'Urban population (% of total population)',\n",
              " 'Urban population growth rate (average annual %)',\n",
              " 'Fertility rate, total (live births per woman)',\n",
              " 'Life expectancy at birth (females/males, years)',\n",
              " 'Population age distribution (0-14 / 60+ years, %)',\n",
              " 'International migrant stock (000/% of total pop.)',\n",
              " 'Refugees and others of concern to UNHCR (in thousands)',\n",
              " 'Infant mortality rate (per 1000 live births',\n",
              " 'Health: Total expenditure (% of GDP)',\n",
              " 'Health: Physicians (per 1000 pop.)',\n",
              " 'Education: Government expenditure (% of GDP)',\n",
              " 'Education: Primary gross enrol. ratio (f/m per 100 pop.)',\n",
              " 'Education: Secondary gross enrol. ratio (f/m per 100 pop.)',\n",
              " 'Education: Tertiary gross enrol. ratio (f/m per 100 pop.)',\n",
              " 'Seats held by women in national parliaments %',\n",
              " 'Mobile-cellular subscriptions (per 100 inhabitants)',\n",
              " 'Individuals using the Internet (per 100 inhabitants)',\n",
              " 'Threatened species (number)',\n",
              " 'Forested area (% of land area)',\n",
              " 'CO2 emission estimates (million tons/tons per capita)',\n",
              " 'Energy production, primary (Petajoules)',\n",
              " 'Energy supply per capita (Gigajoules)',\n",
              " 'Pop. using improved drinking water (urban/rural, %)',\n",
              " 'Pop. using improved sanitation facilities (urban/rural, %)',\n",
              " 'Net Official Development Assist. received (% of GNI)',\n",
              " 'Unnamed: 49',\n",
              " '000',\n",
              " 'International migrant stock % Total Population',\n",
              " 'Urban Population using improved sanitation facilities %',\n",
              " 'Rural Population using improved sanitation facilities %',\n",
              " 'Life Expectancy At Birth Females Years',\n",
              " 'Life Expectancy At Birth Males Years',\n",
              " 'Tertiary gross enrol female',\n",
              " 'Tertiary gross enrol male',\n",
              " 'CO2 emissions (tons per capita)']"
            ]
          },
          "metadata": {
            "tags": []
          },
          "execution_count": 48
        }
      ]
    },
    {
      "cell_type": "markdown",
      "metadata": {
        "id": "gg3UqLAyuEay"
      },
      "source": [
        "### 2.3.2 Drop Columns"
      ]
    },
    {
      "cell_type": "code",
      "metadata": {
        "id": "ti-7ngmF-Hec"
      },
      "source": [
        "# Dropping columns from CtProfile\n",
        "CtProfile.drop(labels=[\n",
        " 'Region',\n",
        " 'Surface area (km2)',\n",
        " 'Population growth rate (average annual %)',\n",
        " 'Population density (per km2, 2017)',\n",
        " 'Sex ratio (m per 100 f, 2017)',\n",
        " 'GDP: Gross domestic product (million current US$)',\n",
        " 'GDP growth rate (annual %, const. 2005 prices)',\n",
        " 'Balance of payments, current account (million US$)',\n",
        " 'Economy: Agriculture (% of GVA)',\n",
        " 'Economy: Industry (% of GVA)',\n",
        " 'Economy: Services and other activity (% of GVA)',\n",
        " 'Employment: Agriculture (% of employed)',\n",
        " 'Employment: Industry (% of employed)',\n",
        " 'Employment: Services (% of employed)',\n",
        " 'Agricultural production index (2004-2006=100)',\n",
        " 'Food production index (2004-2006=100)',\n",
        " 'International trade: Exports (million US$)',\n",
        " 'International trade: Imports (million US$)',\n",
        " 'International trade: Balance (million US$)',\n",
        " 'Urban population growth rate (average annual %)',\n",
        " 'Fertility rate, total (live births per woman)',\n",
        " 'Health: Physicians (per 1000 pop.)',\n",
        " 'Education: Primary gross enrol. ratio (f/m per 100 pop.)',\n",
        " 'Education: Secondary gross enrol. ratio (f/m per 100 pop.)',\n",
        " 'Seats held by women in national parliaments %',\n",
        " 'Threatened species (number)',\n",
        " 'Forested area (% of land area)',\n",
        " 'Energy production, primary (Petajoules)',\n",
        " 'Energy supply per capita (Gigajoules)',\n",
        " 'Pop. using improved drinking water (urban/rural, %)',\n",
        " 'Net Official Development Assist. received (% of GNI)',\n",
        " '000',\n",
        " 'Unnamed: 49',\n",
        " 'Labour force participation (female/male pop. %)',\n",
        " 'Population age distribution (0-14 / 60+ years, %)',\n",
        " 'Life expectancy at birth (females/males, years)',\n",
        " 'Pop. using improved sanitation facilities (urban/rural, %)',\n",
        " 'International migrant stock (000/% of total pop.)',\n",
        " \"Education: Tertiary gross enrol. ratio (f/m per 100 pop.)\",\n",
        " \"CO2 emission estimates (million tons/tons per capita)\"\n",
        "], inplace=True, axis=1)"
      ],
      "execution_count": 49,
      "outputs": []
    },
    {
      "cell_type": "code",
      "metadata": {
        "id": "Q4uyqheBTz5d",
        "colab": {
          "base_uri": "https://localhost:8080/"
        },
        "outputId": "43db93a5-37a4-4eca-84fd-fbac92120d0b"
      },
      "source": [
        "CtProfile.dtypes"
      ],
      "execution_count": 50,
      "outputs": [
        {
          "output_type": "execute_result",
          "data": {
            "text/plain": [
              "country                                                     object\n",
              "Population in thousands (2017)                               int64\n",
              "GDP per capita (current US$)                               float64\n",
              "Unemployment (% of labour force)                            object\n",
              "Urban population (% of total population)                   float64\n",
              "Refugees and others of concern to UNHCR (in thousands)      object\n",
              "Infant mortality rate (per 1000 live births                 object\n",
              "Health: Total expenditure (% of GDP)                       float64\n",
              "Education: Government expenditure (% of GDP)                object\n",
              "Mobile-cellular subscriptions (per 100 inhabitants)         object\n",
              "Individuals using the Internet (per 100 inhabitants)        object\n",
              "International migrant stock % Total Population              object\n",
              "Urban Population using improved sanitation facilities %     object\n",
              "Rural Population using improved sanitation facilities %     object\n",
              "Life Expectancy At Birth Females Years                      object\n",
              "Life Expectancy At Birth Males Years                        object\n",
              "Tertiary gross enrol female                                 object\n",
              "Tertiary gross enrol male                                   object\n",
              "CO2 emissions (tons per capita)                             object\n",
              "dtype: object"
            ]
          },
          "metadata": {
            "tags": []
          },
          "execution_count": 50
        }
      ]
    },
    {
      "cell_type": "markdown",
      "metadata": {
        "id": "KU7mpo86Kt8N"
      },
      "source": [
        "At an initial glance of the data, there are periods in the column titles of the data. We will remove all forms of punctuation in order to clean the data first. "
      ]
    },
    {
      "cell_type": "code",
      "metadata": {
        "id": "UfAs7yHLAUFM",
        "colab": {
          "base_uri": "https://localhost:8080/",
          "height": 333
        },
        "outputId": "c13cd7b5-d5e1-43b8-c058-33459a73ebf8"
      },
      "source": [
        "CtProfile.replace(-99,np.nan,inplace=True)\n",
        "CtProfile.replace('-99',np.nan,inplace=True)\n",
        "CtProfile.replace('~0.0',np.nan,inplace=True)\n",
        "CtProfile.replace('...',np.nan,inplace=True)\n",
        "CtProfile.replace('_',np.nan,inplace=True)\n",
        "CtProfile.replace('~0',np.nan,inplace=True)\n",
        "CtProfile.head()"
      ],
      "execution_count": 51,
      "outputs": [
        {
          "output_type": "execute_result",
          "data": {
            "text/html": [
              "<div>\n",
              "<style scoped>\n",
              "    .dataframe tbody tr th:only-of-type {\n",
              "        vertical-align: middle;\n",
              "    }\n",
              "\n",
              "    .dataframe tbody tr th {\n",
              "        vertical-align: top;\n",
              "    }\n",
              "\n",
              "    .dataframe thead th {\n",
              "        text-align: right;\n",
              "    }\n",
              "</style>\n",
              "<table border=\"1\" class=\"dataframe\">\n",
              "  <thead>\n",
              "    <tr style=\"text-align: right;\">\n",
              "      <th></th>\n",
              "      <th>country</th>\n",
              "      <th>Population in thousands (2017)</th>\n",
              "      <th>GDP per capita (current US$)</th>\n",
              "      <th>Unemployment (% of labour force)</th>\n",
              "      <th>Urban population (% of total population)</th>\n",
              "      <th>Refugees and others of concern to UNHCR (in thousands)</th>\n",
              "      <th>Infant mortality rate (per 1000 live births</th>\n",
              "      <th>Health: Total expenditure (% of GDP)</th>\n",
              "      <th>Education: Government expenditure (% of GDP)</th>\n",
              "      <th>Mobile-cellular subscriptions (per 100 inhabitants)</th>\n",
              "      <th>Individuals using the Internet (per 100 inhabitants)</th>\n",
              "      <th>International migrant stock % Total Population</th>\n",
              "      <th>Urban Population using improved sanitation facilities %</th>\n",
              "      <th>Rural Population using improved sanitation facilities %</th>\n",
              "      <th>Life Expectancy At Birth Females Years</th>\n",
              "      <th>Life Expectancy At Birth Males Years</th>\n",
              "      <th>Tertiary gross enrol female</th>\n",
              "      <th>Tertiary gross enrol male</th>\n",
              "      <th>CO2 emissions (tons per capita)</th>\n",
              "    </tr>\n",
              "  </thead>\n",
              "  <tbody>\n",
              "    <tr>\n",
              "      <th>0</th>\n",
              "      <td>Afghanistan</td>\n",
              "      <td>35530</td>\n",
              "      <td>623.2</td>\n",
              "      <td>8.6</td>\n",
              "      <td>26.7</td>\n",
              "      <td>1513.1</td>\n",
              "      <td>68.6</td>\n",
              "      <td>8.2</td>\n",
              "      <td>3.3</td>\n",
              "      <td>61.6</td>\n",
              "      <td>8.3</td>\n",
              "      <td>1.2</td>\n",
              "      <td>45.1</td>\n",
              "      <td>27.0</td>\n",
              "      <td>63.5</td>\n",
              "      <td>61.0</td>\n",
              "      <td>3.7</td>\n",
              "      <td>13.3</td>\n",
              "      <td>0.3</td>\n",
              "    </tr>\n",
              "    <tr>\n",
              "      <th>1</th>\n",
              "      <td>Albania</td>\n",
              "      <td>2930</td>\n",
              "      <td>3984.2</td>\n",
              "      <td>15.8</td>\n",
              "      <td>57.4</td>\n",
              "      <td>8.8</td>\n",
              "      <td>14.6</td>\n",
              "      <td>5.9</td>\n",
              "      <td>3.5</td>\n",
              "      <td>106.4</td>\n",
              "      <td>63.3</td>\n",
              "      <td>2.0</td>\n",
              "      <td>95.5</td>\n",
              "      <td>90.2</td>\n",
              "      <td>79.9</td>\n",
              "      <td>75.6</td>\n",
              "      <td>68.1</td>\n",
              "      <td>48.7</td>\n",
              "      <td>2.0</td>\n",
              "    </tr>\n",
              "    <tr>\n",
              "      <th>2</th>\n",
              "      <td>Algeria</td>\n",
              "      <td>41318</td>\n",
              "      <td>4154.1</td>\n",
              "      <td>11.4</td>\n",
              "      <td>70.7</td>\n",
              "      <td>99.8</td>\n",
              "      <td>27.7</td>\n",
              "      <td>7.2</td>\n",
              "      <td>NaN</td>\n",
              "      <td>113</td>\n",
              "      <td>38.2</td>\n",
              "      <td>0.6</td>\n",
              "      <td>89.8</td>\n",
              "      <td>82.2</td>\n",
              "      <td>76.5</td>\n",
              "      <td>74.1</td>\n",
              "      <td>45.1</td>\n",
              "      <td>28.9</td>\n",
              "      <td>3.7</td>\n",
              "    </tr>\n",
              "    <tr>\n",
              "      <th>3</th>\n",
              "      <td>American Samoa</td>\n",
              "      <td>56</td>\n",
              "      <td>NaN</td>\n",
              "      <td>NaN</td>\n",
              "      <td>87.2</td>\n",
              "      <td>NaN</td>\n",
              "      <td>9.6</td>\n",
              "      <td>NaN</td>\n",
              "      <td>NaN</td>\n",
              "      <td>NaN</td>\n",
              "      <td>NaN</td>\n",
              "      <td>41.8</td>\n",
              "      <td>62.5</td>\n",
              "      <td>62.5</td>\n",
              "      <td>77.8</td>\n",
              "      <td>71.1</td>\n",
              "      <td>NaN</td>\n",
              "      <td>None</td>\n",
              "      <td>None</td>\n",
              "    </tr>\n",
              "    <tr>\n",
              "      <th>4</th>\n",
              "      <td>Andorra</td>\n",
              "      <td>77</td>\n",
              "      <td>39896.4</td>\n",
              "      <td>NaN</td>\n",
              "      <td>85.1</td>\n",
              "      <td>NaN</td>\n",
              "      <td>NaN</td>\n",
              "      <td>8.1</td>\n",
              "      <td>3.3</td>\n",
              "      <td>88.1</td>\n",
              "      <td>96.9</td>\n",
              "      <td>59.7</td>\n",
              "      <td>100.0</td>\n",
              "      <td>100.0</td>\n",
              "      <td>NaN</td>\n",
              "      <td>None</td>\n",
              "      <td>NaN</td>\n",
              "      <td>None</td>\n",
              "      <td>6.4</td>\n",
              "    </tr>\n",
              "  </tbody>\n",
              "</table>\n",
              "</div>"
            ],
            "text/plain": [
              "          country  ...  CO2 emissions (tons per capita)\n",
              "0     Afghanistan  ...                              0.3\n",
              "1         Albania  ...                              2.0\n",
              "2         Algeria  ...                              3.7\n",
              "3  American Samoa  ...                             None\n",
              "4         Andorra  ...                              6.4\n",
              "\n",
              "[5 rows x 19 columns]"
            ]
          },
          "metadata": {
            "tags": []
          },
          "execution_count": 51
        }
      ]
    },
    {
      "cell_type": "markdown",
      "metadata": {
        "id": "Sev-pLZlK-DP"
      },
      "source": [
        "In the data, there are also some missing values that need to be considered, so we will ensure that all invalid entries that are relevant to the missing values are addressed as null values. "
      ]
    },
    {
      "cell_type": "markdown",
      "metadata": {
        "id": "uXiELZ8CkLOO"
      },
      "source": [
        "## 2.4 Merging the IMF datasets\n",
        "### *We're going to join the sets on all matching countries.*\n",
        "\n",
        "\n"
      ]
    },
    {
      "cell_type": "code",
      "metadata": {
        "id": "fl-q9E4RkQQY",
        "colab": {
          "base_uri": "https://localhost:8080/",
          "height": 1000
        },
        "outputId": "54ca43b7-5df3-4cd3-a54a-5a4bd272674e"
      },
      "source": [
        "# We're merging these \n",
        "#\n",
        "# - IMF_Nat_Savings17\n",
        "# - IMF_Gov_Exp17\n",
        "\n",
        "IMF_Gov_Exp17.drop(columns=[\"Subject Descriptor\",\"Units\",\"Scale\"], inplace= True)\n",
        "\n",
        "IMF_Merge = IMF_Gov_Exp17.join(IMF_Nat_Savings17.set_index('Country'),on = 'Country', how = 'inner')\n",
        "\n",
        "IMF_Merge.drop(columns= \"Scale\")\n",
        "IMF_Merge = IMF_Merge[[\"Country\", \"Expense\",\"Savings\",\"Units\"]]\n",
        "IMF_Merge"
      ],
      "execution_count": 52,
      "outputs": [
        {
          "output_type": "execute_result",
          "data": {
            "text/html": [
              "<div>\n",
              "<style scoped>\n",
              "    .dataframe tbody tr th:only-of-type {\n",
              "        vertical-align: middle;\n",
              "    }\n",
              "\n",
              "    .dataframe tbody tr th {\n",
              "        vertical-align: top;\n",
              "    }\n",
              "\n",
              "    .dataframe thead th {\n",
              "        text-align: right;\n",
              "    }\n",
              "</style>\n",
              "<table border=\"1\" class=\"dataframe\">\n",
              "  <thead>\n",
              "    <tr style=\"text-align: right;\">\n",
              "      <th></th>\n",
              "      <th>Country</th>\n",
              "      <th>Expense</th>\n",
              "      <th>Savings</th>\n",
              "      <th>Units</th>\n",
              "    </tr>\n",
              "  </thead>\n",
              "  <tbody>\n",
              "    <tr>\n",
              "      <th>0</th>\n",
              "      <td>Afghanistan</td>\n",
              "      <td>25.878</td>\n",
              "      <td>22.348</td>\n",
              "      <td>Percent of GDP</td>\n",
              "    </tr>\n",
              "    <tr>\n",
              "      <th>1</th>\n",
              "      <td>Albania</td>\n",
              "      <td>29.137</td>\n",
              "      <td>17.031</td>\n",
              "      <td>Percent of GDP</td>\n",
              "    </tr>\n",
              "    <tr>\n",
              "      <th>2</th>\n",
              "      <td>Algeria</td>\n",
              "      <td>39.205</td>\n",
              "      <td>37.708</td>\n",
              "      <td>Percent of GDP</td>\n",
              "    </tr>\n",
              "    <tr>\n",
              "      <th>3</th>\n",
              "      <td>Angola</td>\n",
              "      <td>23.806</td>\n",
              "      <td>23.351</td>\n",
              "      <td>Percent of GDP</td>\n",
              "    </tr>\n",
              "    <tr>\n",
              "      <th>4</th>\n",
              "      <td>Antigua and Barbuda</td>\n",
              "      <td>23.243</td>\n",
              "      <td>16.102</td>\n",
              "      <td>Percent of GDP</td>\n",
              "    </tr>\n",
              "    <tr>\n",
              "      <th>5</th>\n",
              "      <td>Argentina</td>\n",
              "      <td>41.181</td>\n",
              "      <td>13.843</td>\n",
              "      <td>Percent of GDP</td>\n",
              "    </tr>\n",
              "    <tr>\n",
              "      <th>6</th>\n",
              "      <td>Armenia</td>\n",
              "      <td>26.027</td>\n",
              "      <td>16.302</td>\n",
              "      <td>Percent of GDP</td>\n",
              "    </tr>\n",
              "    <tr>\n",
              "      <th>7</th>\n",
              "      <td>Aruba</td>\n",
              "      <td>28.353</td>\n",
              "      <td>17.183</td>\n",
              "      <td>Percent of GDP</td>\n",
              "    </tr>\n",
              "    <tr>\n",
              "      <th>8</th>\n",
              "      <td>Australia</td>\n",
              "      <td>36.706</td>\n",
              "      <td>22.025</td>\n",
              "      <td>Percent of GDP</td>\n",
              "    </tr>\n",
              "    <tr>\n",
              "      <th>9</th>\n",
              "      <td>Austria</td>\n",
              "      <td>48.984</td>\n",
              "      <td>27.089</td>\n",
              "      <td>Percent of GDP</td>\n",
              "    </tr>\n",
              "    <tr>\n",
              "      <th>10</th>\n",
              "      <td>Azerbaijan</td>\n",
              "      <td>35.593</td>\n",
              "      <td>27.059</td>\n",
              "      <td>Percent of GDP</td>\n",
              "    </tr>\n",
              "    <tr>\n",
              "      <th>11</th>\n",
              "      <td>The Bahamas</td>\n",
              "      <td>22.671</td>\n",
              "      <td>13.939</td>\n",
              "      <td>Percent of GDP</td>\n",
              "    </tr>\n",
              "    <tr>\n",
              "      <th>12</th>\n",
              "      <td>Bahrain</td>\n",
              "      <td>32.413</td>\n",
              "      <td>28.800</td>\n",
              "      <td>Percent of GDP</td>\n",
              "    </tr>\n",
              "    <tr>\n",
              "      <th>13</th>\n",
              "      <td>Bangladesh</td>\n",
              "      <td>13.560</td>\n",
              "      <td>28.552</td>\n",
              "      <td>Percent of GDP</td>\n",
              "    </tr>\n",
              "    <tr>\n",
              "      <th>14</th>\n",
              "      <td>Barbados</td>\n",
              "      <td>32.898</td>\n",
              "      <td>11.843</td>\n",
              "      <td>Percent of GDP</td>\n",
              "    </tr>\n",
              "    <tr>\n",
              "      <th>15</th>\n",
              "      <td>Belarus</td>\n",
              "      <td>39.042</td>\n",
              "      <td>26.303</td>\n",
              "      <td>Percent of GDP</td>\n",
              "    </tr>\n",
              "    <tr>\n",
              "      <th>16</th>\n",
              "      <td>Belgium</td>\n",
              "      <td>52.131</td>\n",
              "      <td>25.376</td>\n",
              "      <td>Percent of GDP</td>\n",
              "    </tr>\n",
              "    <tr>\n",
              "      <th>17</th>\n",
              "      <td>Belize</td>\n",
              "      <td>34.890</td>\n",
              "      <td>10.621</td>\n",
              "      <td>Percent of GDP</td>\n",
              "    </tr>\n",
              "    <tr>\n",
              "      <th>18</th>\n",
              "      <td>Benin</td>\n",
              "      <td>17.785</td>\n",
              "      <td>16.648</td>\n",
              "      <td>Percent of GDP</td>\n",
              "    </tr>\n",
              "    <tr>\n",
              "      <th>19</th>\n",
              "      <td>Bhutan</td>\n",
              "      <td>30.606</td>\n",
              "      <td>40.365</td>\n",
              "      <td>Percent of GDP</td>\n",
              "    </tr>\n",
              "    <tr>\n",
              "      <th>20</th>\n",
              "      <td>Bolivia</td>\n",
              "      <td>38.598</td>\n",
              "      <td>16.182</td>\n",
              "      <td>Percent of GDP</td>\n",
              "    </tr>\n",
              "    <tr>\n",
              "      <th>21</th>\n",
              "      <td>Bosnia and Herzegovina</td>\n",
              "      <td>40.681</td>\n",
              "      <td>15.726</td>\n",
              "      <td>Percent of GDP</td>\n",
              "    </tr>\n",
              "    <tr>\n",
              "      <th>22</th>\n",
              "      <td>Botswana</td>\n",
              "      <td>31.988</td>\n",
              "      <td>36.505</td>\n",
              "      <td>Percent of GDP</td>\n",
              "    </tr>\n",
              "    <tr>\n",
              "      <th>23</th>\n",
              "      <td>Brazil</td>\n",
              "      <td>38.477</td>\n",
              "      <td>14.652</td>\n",
              "      <td>Percent of GDP</td>\n",
              "    </tr>\n",
              "    <tr>\n",
              "      <th>25</th>\n",
              "      <td>Bulgaria</td>\n",
              "      <td>32.548</td>\n",
              "      <td>23.141</td>\n",
              "      <td>Percent of GDP</td>\n",
              "    </tr>\n",
              "    <tr>\n",
              "      <th>26</th>\n",
              "      <td>Burkina Faso</td>\n",
              "      <td>29.955</td>\n",
              "      <td>11.796</td>\n",
              "      <td>Percent of GDP</td>\n",
              "    </tr>\n",
              "    <tr>\n",
              "      <th>27</th>\n",
              "      <td>Burundi</td>\n",
              "      <td>21.803</td>\n",
              "      <td>-5.320</td>\n",
              "      <td>Percent of GDP</td>\n",
              "    </tr>\n",
              "    <tr>\n",
              "      <th>28</th>\n",
              "      <td>Cabo Verde</td>\n",
              "      <td>31.572</td>\n",
              "      <td>31.527</td>\n",
              "      <td>Percent of GDP</td>\n",
              "    </tr>\n",
              "    <tr>\n",
              "      <th>29</th>\n",
              "      <td>Cambodia</td>\n",
              "      <td>22.375</td>\n",
              "      <td>15.146</td>\n",
              "      <td>Percent of GDP</td>\n",
              "    </tr>\n",
              "    <tr>\n",
              "      <th>30</th>\n",
              "      <td>Cameroon</td>\n",
              "      <td>19.827</td>\n",
              "      <td>25.464</td>\n",
              "      <td>Percent of GDP</td>\n",
              "    </tr>\n",
              "    <tr>\n",
              "      <th>31</th>\n",
              "      <td>Canada</td>\n",
              "      <td>40.250</td>\n",
              "      <td>20.738</td>\n",
              "      <td>Percent of GDP</td>\n",
              "    </tr>\n",
              "    <tr>\n",
              "      <th>32</th>\n",
              "      <td>Central African Republic</td>\n",
              "      <td>13.862</td>\n",
              "      <td>5.698</td>\n",
              "      <td>Percent of GDP</td>\n",
              "    </tr>\n",
              "    <tr>\n",
              "      <th>33</th>\n",
              "      <td>Chad</td>\n",
              "      <td>14.880</td>\n",
              "      <td>14.147</td>\n",
              "      <td>Percent of GDP</td>\n",
              "    </tr>\n",
              "    <tr>\n",
              "      <th>34</th>\n",
              "      <td>Chile</td>\n",
              "      <td>25.371</td>\n",
              "      <td>19.439</td>\n",
              "      <td>Percent of GDP</td>\n",
              "    </tr>\n",
              "    <tr>\n",
              "      <th>35</th>\n",
              "      <td>China</td>\n",
              "      <td>32.179</td>\n",
              "      <td>46.260</td>\n",
              "      <td>Percent of GDP</td>\n",
              "    </tr>\n",
              "    <tr>\n",
              "      <th>36</th>\n",
              "      <td>Colombia</td>\n",
              "      <td>28.109</td>\n",
              "      <td>18.354</td>\n",
              "      <td>Percent of GDP</td>\n",
              "    </tr>\n",
              "    <tr>\n",
              "      <th>37</th>\n",
              "      <td>Comoros</td>\n",
              "      <td>16.838</td>\n",
              "      <td>10.425</td>\n",
              "      <td>Percent of GDP</td>\n",
              "    </tr>\n",
              "    <tr>\n",
              "      <th>38</th>\n",
              "      <td>Democratic Republic of the Congo</td>\n",
              "      <td>10.388</td>\n",
              "      <td>8.867</td>\n",
              "      <td>Percent of GDP</td>\n",
              "    </tr>\n",
              "    <tr>\n",
              "      <th>39</th>\n",
              "      <td>Republic of Congo</td>\n",
              "      <td>35.239</td>\n",
              "      <td>23.851</td>\n",
              "      <td>Percent of GDP</td>\n",
              "    </tr>\n",
              "    <tr>\n",
              "      <th>40</th>\n",
              "      <td>Costa Rica</td>\n",
              "      <td>20.022</td>\n",
              "      <td>15.902</td>\n",
              "      <td>Percent of GDP</td>\n",
              "    </tr>\n",
              "    <tr>\n",
              "      <th>41</th>\n",
              "      <td>Côte d'Ivoire</td>\n",
              "      <td>24.872</td>\n",
              "      <td>16.750</td>\n",
              "      <td>Percent of GDP</td>\n",
              "    </tr>\n",
              "    <tr>\n",
              "      <th>42</th>\n",
              "      <td>Croatia</td>\n",
              "      <td>45.321</td>\n",
              "      <td>24.422</td>\n",
              "      <td>Percent of GDP</td>\n",
              "    </tr>\n",
              "    <tr>\n",
              "      <th>43</th>\n",
              "      <td>Cyprus</td>\n",
              "      <td>37.123</td>\n",
              "      <td>12.194</td>\n",
              "      <td>Percent of GDP</td>\n",
              "    </tr>\n",
              "    <tr>\n",
              "      <th>44</th>\n",
              "      <td>Czech Republic</td>\n",
              "      <td>38.944</td>\n",
              "      <td>27.527</td>\n",
              "      <td>Percent of GDP</td>\n",
              "    </tr>\n",
              "    <tr>\n",
              "      <th>45</th>\n",
              "      <td>Denmark</td>\n",
              "      <td>51.158</td>\n",
              "      <td>29.566</td>\n",
              "      <td>Percent of GDP</td>\n",
              "    </tr>\n",
              "    <tr>\n",
              "      <th>46</th>\n",
              "      <td>Djibouti</td>\n",
              "      <td>28.123</td>\n",
              "      <td>21.042</td>\n",
              "      <td>Percent of GDP</td>\n",
              "    </tr>\n",
              "    <tr>\n",
              "      <th>47</th>\n",
              "      <td>Dominica</td>\n",
              "      <td>54.637</td>\n",
              "      <td>14.653</td>\n",
              "      <td>Percent of GDP</td>\n",
              "    </tr>\n",
              "    <tr>\n",
              "      <th>48</th>\n",
              "      <td>Dominican Republic</td>\n",
              "      <td>17.238</td>\n",
              "      <td>22.306</td>\n",
              "      <td>Percent of GDP</td>\n",
              "    </tr>\n",
              "    <tr>\n",
              "      <th>49</th>\n",
              "      <td>Ecuador</td>\n",
              "      <td>36.511</td>\n",
              "      <td>25.810</td>\n",
              "      <td>Percent of GDP</td>\n",
              "    </tr>\n",
              "    <tr>\n",
              "      <th>50</th>\n",
              "      <td>Egypt</td>\n",
              "      <td>32.190</td>\n",
              "      <td>9.188</td>\n",
              "      <td>Percent of GDP</td>\n",
              "    </tr>\n",
              "    <tr>\n",
              "      <th>51</th>\n",
              "      <td>El Salvador</td>\n",
              "      <td>23.939</td>\n",
              "      <td>14.753</td>\n",
              "      <td>Percent of GDP</td>\n",
              "    </tr>\n",
              "    <tr>\n",
              "      <th>52</th>\n",
              "      <td>Equatorial Guinea</td>\n",
              "      <td>19.880</td>\n",
              "      <td>6.848</td>\n",
              "      <td>Percent of GDP</td>\n",
              "    </tr>\n",
              "    <tr>\n",
              "      <th>53</th>\n",
              "      <td>Eritrea</td>\n",
              "      <td>33.576</td>\n",
              "      <td>32.362</td>\n",
              "      <td>Percent of GDP</td>\n",
              "    </tr>\n",
              "    <tr>\n",
              "      <th>54</th>\n",
              "      <td>Estonia</td>\n",
              "      <td>39.007</td>\n",
              "      <td>29.731</td>\n",
              "      <td>Percent of GDP</td>\n",
              "    </tr>\n",
              "    <tr>\n",
              "      <th>55</th>\n",
              "      <td>Eswatini</td>\n",
              "      <td>36.642</td>\n",
              "      <td>19.652</td>\n",
              "      <td>Percent of GDP</td>\n",
              "    </tr>\n",
              "    <tr>\n",
              "      <th>56</th>\n",
              "      <td>Ethiopia</td>\n",
              "      <td>18.247</td>\n",
              "      <td>29.197</td>\n",
              "      <td>Percent of GDP</td>\n",
              "    </tr>\n",
              "    <tr>\n",
              "      <th>58</th>\n",
              "      <td>Finland</td>\n",
              "      <td>54.182</td>\n",
              "      <td>22.239</td>\n",
              "      <td>Percent of GDP</td>\n",
              "    </tr>\n",
              "    <tr>\n",
              "      <th>59</th>\n",
              "      <td>France</td>\n",
              "      <td>56.380</td>\n",
              "      <td>22.644</td>\n",
              "      <td>Percent of GDP</td>\n",
              "    </tr>\n",
              "    <tr>\n",
              "      <th>60</th>\n",
              "      <td>Gabon</td>\n",
              "      <td>18.114</td>\n",
              "      <td>26.105</td>\n",
              "      <td>Percent of GDP</td>\n",
              "    </tr>\n",
              "    <tr>\n",
              "      <th>61</th>\n",
              "      <td>The Gambia</td>\n",
              "      <td>24.248</td>\n",
              "      <td>13.499</td>\n",
              "      <td>Percent of GDP</td>\n",
              "    </tr>\n",
              "    <tr>\n",
              "      <th>62</th>\n",
              "      <td>Georgia</td>\n",
              "      <td>29.721</td>\n",
              "      <td>23.571</td>\n",
              "      <td>Percent of GDP</td>\n",
              "    </tr>\n",
              "    <tr>\n",
              "      <th>63</th>\n",
              "      <td>Germany</td>\n",
              "      <td>44.420</td>\n",
              "      <td>28.818</td>\n",
              "      <td>Percent of GDP</td>\n",
              "    </tr>\n",
              "    <tr>\n",
              "      <th>64</th>\n",
              "      <td>Ghana</td>\n",
              "      <td>18.002</td>\n",
              "      <td>20.673</td>\n",
              "      <td>Percent of GDP</td>\n",
              "    </tr>\n",
              "    <tr>\n",
              "      <th>65</th>\n",
              "      <td>Greece</td>\n",
              "      <td>47.294</td>\n",
              "      <td>10.119</td>\n",
              "      <td>Percent of GDP</td>\n",
              "    </tr>\n",
              "    <tr>\n",
              "      <th>66</th>\n",
              "      <td>Grenada</td>\n",
              "      <td>22.589</td>\n",
              "      <td>8.964</td>\n",
              "      <td>Percent of GDP</td>\n",
              "    </tr>\n",
              "    <tr>\n",
              "      <th>67</th>\n",
              "      <td>Guatemala</td>\n",
              "      <td>12.107</td>\n",
              "      <td>13.636</td>\n",
              "      <td>Percent of GDP</td>\n",
              "    </tr>\n",
              "    <tr>\n",
              "      <th>68</th>\n",
              "      <td>Guinea</td>\n",
              "      <td>17.377</td>\n",
              "      <td>4.880</td>\n",
              "      <td>Percent of GDP</td>\n",
              "    </tr>\n",
              "    <tr>\n",
              "      <th>69</th>\n",
              "      <td>Guinea-Bissau</td>\n",
              "      <td>19.714</td>\n",
              "      <td>9.515</td>\n",
              "      <td>Percent of GDP</td>\n",
              "    </tr>\n",
              "    <tr>\n",
              "      <th>70</th>\n",
              "      <td>Guyana</td>\n",
              "      <td>34.830</td>\n",
              "      <td>10.408</td>\n",
              "      <td>Percent of GDP</td>\n",
              "    </tr>\n",
              "    <tr>\n",
              "      <th>71</th>\n",
              "      <td>Haiti</td>\n",
              "      <td>17.503</td>\n",
              "      <td>27.935</td>\n",
              "      <td>Percent of GDP</td>\n",
              "    </tr>\n",
              "    <tr>\n",
              "      <th>72</th>\n",
              "      <td>Honduras</td>\n",
              "      <td>26.899</td>\n",
              "      <td>22.391</td>\n",
              "      <td>Percent of GDP</td>\n",
              "    </tr>\n",
              "    <tr>\n",
              "      <th>73</th>\n",
              "      <td>Hong Kong SAR</td>\n",
              "      <td>17.327</td>\n",
              "      <td>26.696</td>\n",
              "      <td>Percent of GDP</td>\n",
              "    </tr>\n",
              "    <tr>\n",
              "      <th>74</th>\n",
              "      <td>Hungary</td>\n",
              "      <td>46.930</td>\n",
              "      <td>24.984</td>\n",
              "      <td>Percent of GDP</td>\n",
              "    </tr>\n",
              "    <tr>\n",
              "      <th>75</th>\n",
              "      <td>Iceland</td>\n",
              "      <td>43.346</td>\n",
              "      <td>25.713</td>\n",
              "      <td>Percent of GDP</td>\n",
              "    </tr>\n",
              "    <tr>\n",
              "      <th>76</th>\n",
              "      <td>India</td>\n",
              "      <td>26.832</td>\n",
              "      <td>29.106</td>\n",
              "      <td>Percent of GDP</td>\n",
              "    </tr>\n",
              "    <tr>\n",
              "      <th>77</th>\n",
              "      <td>Indonesia</td>\n",
              "      <td>16.565</td>\n",
              "      <td>32.122</td>\n",
              "      <td>Percent of GDP</td>\n",
              "    </tr>\n",
              "    <tr>\n",
              "      <th>78</th>\n",
              "      <td>Islamic Republic of Iran</td>\n",
              "      <td>19.349</td>\n",
              "      <td>39.524</td>\n",
              "      <td>Percent of GDP</td>\n",
              "    </tr>\n",
              "    <tr>\n",
              "      <th>79</th>\n",
              "      <td>Iraq</td>\n",
              "      <td>34.649</td>\n",
              "      <td>18.547</td>\n",
              "      <td>Percent of GDP</td>\n",
              "    </tr>\n",
              "    <tr>\n",
              "      <th>80</th>\n",
              "      <td>Ireland</td>\n",
              "      <td>26.063</td>\n",
              "      <td>33.881</td>\n",
              "      <td>Percent of GDP</td>\n",
              "    </tr>\n",
              "    <tr>\n",
              "      <th>81</th>\n",
              "      <td>Israel</td>\n",
              "      <td>38.761</td>\n",
              "      <td>24.184</td>\n",
              "      <td>Percent of GDP</td>\n",
              "    </tr>\n",
              "    <tr>\n",
              "      <th>82</th>\n",
              "      <td>Italy</td>\n",
              "      <td>48.912</td>\n",
              "      <td>20.217</td>\n",
              "      <td>Percent of GDP</td>\n",
              "    </tr>\n",
              "    <tr>\n",
              "      <th>83</th>\n",
              "      <td>Jamaica</td>\n",
              "      <td>28.597</td>\n",
              "      <td>17.936</td>\n",
              "      <td>Percent of GDP</td>\n",
              "    </tr>\n",
              "    <tr>\n",
              "      <th>84</th>\n",
              "      <td>Japan</td>\n",
              "      <td>37.417</td>\n",
              "      <td>28.060</td>\n",
              "      <td>Percent of GDP</td>\n",
              "    </tr>\n",
              "    <tr>\n",
              "      <th>85</th>\n",
              "      <td>Jordan</td>\n",
              "      <td>29.353</td>\n",
              "      <td>8.737</td>\n",
              "      <td>Percent of GDP</td>\n",
              "    </tr>\n",
              "    <tr>\n",
              "      <th>86</th>\n",
              "      <td>Kazakhstan</td>\n",
              "      <td>24.667</td>\n",
              "      <td>23.431</td>\n",
              "      <td>Percent of GDP</td>\n",
              "    </tr>\n",
              "    <tr>\n",
              "      <th>87</th>\n",
              "      <td>Kenya</td>\n",
              "      <td>26.133</td>\n",
              "      <td>11.283</td>\n",
              "      <td>Percent of GDP</td>\n",
              "    </tr>\n",
              "    <tr>\n",
              "      <th>89</th>\n",
              "      <td>Korea</td>\n",
              "      <td>19.638</td>\n",
              "      <td>36.921</td>\n",
              "      <td>Percent of GDP</td>\n",
              "    </tr>\n",
              "    <tr>\n",
              "      <th>90</th>\n",
              "      <td>Kosovo</td>\n",
              "      <td>27.578</td>\n",
              "      <td>17.424</td>\n",
              "      <td>Percent of GDP</td>\n",
              "    </tr>\n",
              "    <tr>\n",
              "      <th>91</th>\n",
              "      <td>Kuwait</td>\n",
              "      <td>51.880</td>\n",
              "      <td>39.404</td>\n",
              "      <td>Percent of GDP</td>\n",
              "    </tr>\n",
              "    <tr>\n",
              "      <th>92</th>\n",
              "      <td>Kyrgyz Republic</td>\n",
              "      <td>38.310</td>\n",
              "      <td>24.521</td>\n",
              "      <td>Percent of GDP</td>\n",
              "    </tr>\n",
              "    <tr>\n",
              "      <th>94</th>\n",
              "      <td>Latvia</td>\n",
              "      <td>36.423</td>\n",
              "      <td>22.915</td>\n",
              "      <td>Percent of GDP</td>\n",
              "    </tr>\n",
              "    <tr>\n",
              "      <th>95</th>\n",
              "      <td>Lebanon</td>\n",
              "      <td>30.362</td>\n",
              "      <td>-6.240</td>\n",
              "      <td>Percent of GDP</td>\n",
              "    </tr>\n",
              "    <tr>\n",
              "      <th>96</th>\n",
              "      <td>Lesotho</td>\n",
              "      <td>46.306</td>\n",
              "      <td>21.388</td>\n",
              "      <td>Percent of GDP</td>\n",
              "    </tr>\n",
              "    <tr>\n",
              "      <th>99</th>\n",
              "      <td>Lithuania</td>\n",
              "      <td>32.304</td>\n",
              "      <td>18.736</td>\n",
              "      <td>Percent of GDP</td>\n",
              "    </tr>\n",
              "    <tr>\n",
              "      <th>100</th>\n",
              "      <td>Luxembourg</td>\n",
              "      <td>42.974</td>\n",
              "      <td>23.978</td>\n",
              "      <td>Percent of GDP</td>\n",
              "    </tr>\n",
              "    <tr>\n",
              "      <th>102</th>\n",
              "      <td>Madagascar</td>\n",
              "      <td>17.175</td>\n",
              "      <td>19.627</td>\n",
              "      <td>Percent of GDP</td>\n",
              "    </tr>\n",
              "    <tr>\n",
              "      <th>103</th>\n",
              "      <td>Malawi</td>\n",
              "      <td>32.567</td>\n",
              "      <td>-12.230</td>\n",
              "      <td>Percent of GDP</td>\n",
              "    </tr>\n",
              "    <tr>\n",
              "      <th>104</th>\n",
              "      <td>Malaysia</td>\n",
              "      <td>21.578</td>\n",
              "      <td>28.351</td>\n",
              "      <td>Percent of GDP</td>\n",
              "    </tr>\n",
              "    <tr>\n",
              "      <th>105</th>\n",
              "      <td>Maldives</td>\n",
              "      <td>30.094</td>\n",
              "      <td>-1.892</td>\n",
              "      <td>Percent of GDP</td>\n",
              "    </tr>\n",
              "    <tr>\n",
              "      <th>106</th>\n",
              "      <td>Mali</td>\n",
              "      <td>22.906</td>\n",
              "      <td>12.833</td>\n",
              "      <td>Percent of GDP</td>\n",
              "    </tr>\n",
              "    <tr>\n",
              "      <th>107</th>\n",
              "      <td>Malta</td>\n",
              "      <td>35.763</td>\n",
              "      <td>29.750</td>\n",
              "      <td>Percent of GDP</td>\n",
              "    </tr>\n",
              "    <tr>\n",
              "      <th>109</th>\n",
              "      <td>Mauritania</td>\n",
              "      <td>28.132</td>\n",
              "      <td>24.832</td>\n",
              "      <td>Percent of GDP</td>\n",
              "    </tr>\n",
              "    <tr>\n",
              "      <th>110</th>\n",
              "      <td>Mauritius</td>\n",
              "      <td>23.931</td>\n",
              "      <td>18.759</td>\n",
              "      <td>Percent of GDP</td>\n",
              "    </tr>\n",
              "    <tr>\n",
              "      <th>111</th>\n",
              "      <td>Mexico</td>\n",
              "      <td>25.749</td>\n",
              "      <td>21.219</td>\n",
              "      <td>Percent of GDP</td>\n",
              "    </tr>\n",
              "    <tr>\n",
              "      <th>113</th>\n",
              "      <td>Moldova</td>\n",
              "      <td>30.648</td>\n",
              "      <td>16.965</td>\n",
              "      <td>Percent of GDP</td>\n",
              "    </tr>\n",
              "    <tr>\n",
              "      <th>114</th>\n",
              "      <td>Mongolia</td>\n",
              "      <td>32.332</td>\n",
              "      <td>21.256</td>\n",
              "      <td>Percent of GDP</td>\n",
              "    </tr>\n",
              "    <tr>\n",
              "      <th>115</th>\n",
              "      <td>Montenegro</td>\n",
              "      <td>47.196</td>\n",
              "      <td>14.146</td>\n",
              "      <td>Percent of GDP</td>\n",
              "    </tr>\n",
              "    <tr>\n",
              "      <th>116</th>\n",
              "      <td>Morocco</td>\n",
              "      <td>30.050</td>\n",
              "      <td>28.859</td>\n",
              "      <td>Percent of GDP</td>\n",
              "    </tr>\n",
              "    <tr>\n",
              "      <th>117</th>\n",
              "      <td>Mozambique</td>\n",
              "      <td>31.379</td>\n",
              "      <td>19.276</td>\n",
              "      <td>Percent of GDP</td>\n",
              "    </tr>\n",
              "    <tr>\n",
              "      <th>118</th>\n",
              "      <td>Myanmar</td>\n",
              "      <td>20.887</td>\n",
              "      <td>28.839</td>\n",
              "      <td>Percent of GDP</td>\n",
              "    </tr>\n",
              "    <tr>\n",
              "      <th>119</th>\n",
              "      <td>Namibia</td>\n",
              "      <td>35.619</td>\n",
              "      <td>11.199</td>\n",
              "      <td>Percent of GDP</td>\n",
              "    </tr>\n",
              "    <tr>\n",
              "      <th>121</th>\n",
              "      <td>Nepal</td>\n",
              "      <td>27.193</td>\n",
              "      <td>44.821</td>\n",
              "      <td>Percent of GDP</td>\n",
              "    </tr>\n",
              "    <tr>\n",
              "      <th>122</th>\n",
              "      <td>Netherlands</td>\n",
              "      <td>42.445</td>\n",
              "      <td>31.412</td>\n",
              "      <td>Percent of GDP</td>\n",
              "    </tr>\n",
              "    <tr>\n",
              "      <th>123</th>\n",
              "      <td>New Zealand</td>\n",
              "      <td>36.172</td>\n",
              "      <td>20.421</td>\n",
              "      <td>Percent of GDP</td>\n",
              "    </tr>\n",
              "    <tr>\n",
              "      <th>124</th>\n",
              "      <td>Nicaragua</td>\n",
              "      <td>26.934</td>\n",
              "      <td>23.154</td>\n",
              "      <td>Percent of GDP</td>\n",
              "    </tr>\n",
              "    <tr>\n",
              "      <th>125</th>\n",
              "      <td>Niger</td>\n",
              "      <td>26.808</td>\n",
              "      <td>23.368</td>\n",
              "      <td>Percent of GDP</td>\n",
              "    </tr>\n",
              "    <tr>\n",
              "      <th>126</th>\n",
              "      <td>Nigeria</td>\n",
              "      <td>12.008</td>\n",
              "      <td>18.237</td>\n",
              "      <td>Percent of GDP</td>\n",
              "    </tr>\n",
              "    <tr>\n",
              "      <th>127</th>\n",
              "      <td>North Macedonia</td>\n",
              "      <td>31.841</td>\n",
              "      <td>31.644</td>\n",
              "      <td>Percent of GDP</td>\n",
              "    </tr>\n",
              "    <tr>\n",
              "      <th>128</th>\n",
              "      <td>Norway</td>\n",
              "      <td>49.408</td>\n",
              "      <td>33.485</td>\n",
              "      <td>Percent of GDP</td>\n",
              "    </tr>\n",
              "    <tr>\n",
              "      <th>129</th>\n",
              "      <td>Oman</td>\n",
              "      <td>45.773</td>\n",
              "      <td>11.951</td>\n",
              "      <td>Percent of GDP</td>\n",
              "    </tr>\n",
              "    <tr>\n",
              "      <th>130</th>\n",
              "      <td>Pakistan</td>\n",
              "      <td>21.303</td>\n",
              "      <td>12.007</td>\n",
              "      <td>Percent of GDP</td>\n",
              "    </tr>\n",
              "    <tr>\n",
              "      <th>132</th>\n",
              "      <td>Panama</td>\n",
              "      <td>21.839</td>\n",
              "      <td>33.775</td>\n",
              "      <td>Percent of GDP</td>\n",
              "    </tr>\n",
              "    <tr>\n",
              "      <th>134</th>\n",
              "      <td>Paraguay</td>\n",
              "      <td>19.465</td>\n",
              "      <td>24.286</td>\n",
              "      <td>Percent of GDP</td>\n",
              "    </tr>\n",
              "    <tr>\n",
              "      <th>135</th>\n",
              "      <td>Peru</td>\n",
              "      <td>21.236</td>\n",
              "      <td>19.266</td>\n",
              "      <td>Percent of GDP</td>\n",
              "    </tr>\n",
              "    <tr>\n",
              "      <th>136</th>\n",
              "      <td>Philippines</td>\n",
              "      <td>19.965</td>\n",
              "      <td>24.453</td>\n",
              "      <td>Percent of GDP</td>\n",
              "    </tr>\n",
              "    <tr>\n",
              "      <th>137</th>\n",
              "      <td>Poland</td>\n",
              "      <td>41.230</td>\n",
              "      <td>19.933</td>\n",
              "      <td>Percent of GDP</td>\n",
              "    </tr>\n",
              "    <tr>\n",
              "      <th>138</th>\n",
              "      <td>Portugal</td>\n",
              "      <td>45.357</td>\n",
              "      <td>17.647</td>\n",
              "      <td>Percent of GDP</td>\n",
              "    </tr>\n",
              "    <tr>\n",
              "      <th>140</th>\n",
              "      <td>Qatar</td>\n",
              "      <td>33.453</td>\n",
              "      <td>48.452</td>\n",
              "      <td>Percent of GDP</td>\n",
              "    </tr>\n",
              "    <tr>\n",
              "      <th>141</th>\n",
              "      <td>Romania</td>\n",
              "      <td>30.834</td>\n",
              "      <td>20.198</td>\n",
              "      <td>Percent of GDP</td>\n",
              "    </tr>\n",
              "    <tr>\n",
              "      <th>142</th>\n",
              "      <td>Russia</td>\n",
              "      <td>34.733</td>\n",
              "      <td>26.146</td>\n",
              "      <td>Percent of GDP</td>\n",
              "    </tr>\n",
              "    <tr>\n",
              "      <th>143</th>\n",
              "      <td>Rwanda</td>\n",
              "      <td>25.402</td>\n",
              "      <td>11.957</td>\n",
              "      <td>Percent of GDP</td>\n",
              "    </tr>\n",
              "    <tr>\n",
              "      <th>146</th>\n",
              "      <td>São Tomé and Príncipe</td>\n",
              "      <td>27.632</td>\n",
              "      <td>14.490</td>\n",
              "      <td>Percent of GDP</td>\n",
              "    </tr>\n",
              "    <tr>\n",
              "      <th>147</th>\n",
              "      <td>Saudi Arabia</td>\n",
              "      <td>33.305</td>\n",
              "      <td>30.382</td>\n",
              "      <td>Percent of GDP</td>\n",
              "    </tr>\n",
              "    <tr>\n",
              "      <th>148</th>\n",
              "      <td>Senegal</td>\n",
              "      <td>22.036</td>\n",
              "      <td>22.431</td>\n",
              "      <td>Percent of GDP</td>\n",
              "    </tr>\n",
              "    <tr>\n",
              "      <th>149</th>\n",
              "      <td>Serbia</td>\n",
              "      <td>40.135</td>\n",
              "      <td>14.355</td>\n",
              "      <td>Percent of GDP</td>\n",
              "    </tr>\n",
              "    <tr>\n",
              "      <th>150</th>\n",
              "      <td>Seychelles</td>\n",
              "      <td>35.944</td>\n",
              "      <td>8.560</td>\n",
              "      <td>Percent of GDP</td>\n",
              "    </tr>\n",
              "    <tr>\n",
              "      <th>151</th>\n",
              "      <td>Sierra Leone</td>\n",
              "      <td>23.429</td>\n",
              "      <td>6.553</td>\n",
              "      <td>Percent of GDP</td>\n",
              "    </tr>\n",
              "    <tr>\n",
              "      <th>152</th>\n",
              "      <td>Singapore</td>\n",
              "      <td>13.795</td>\n",
              "      <td>44.535</td>\n",
              "      <td>Percent of GDP</td>\n",
              "    </tr>\n",
              "    <tr>\n",
              "      <th>153</th>\n",
              "      <td>Slovak Republic</td>\n",
              "      <td>40.196</td>\n",
              "      <td>20.557</td>\n",
              "      <td>Percent of GDP</td>\n",
              "    </tr>\n",
              "    <tr>\n",
              "      <th>154</th>\n",
              "      <td>Slovenia</td>\n",
              "      <td>39.784</td>\n",
              "      <td>26.180</td>\n",
              "      <td>Percent of GDP</td>\n",
              "    </tr>\n",
              "    <tr>\n",
              "      <th>155</th>\n",
              "      <td>Solomon Islands</td>\n",
              "      <td>47.540</td>\n",
              "      <td>16.303</td>\n",
              "      <td>Percent of GDP</td>\n",
              "    </tr>\n",
              "    <tr>\n",
              "      <th>157</th>\n",
              "      <td>South Africa</td>\n",
              "      <td>32.633</td>\n",
              "      <td>16.266</td>\n",
              "      <td>Percent of GDP</td>\n",
              "    </tr>\n",
              "    <tr>\n",
              "      <th>158</th>\n",
              "      <td>South Sudan</td>\n",
              "      <td>33.566</td>\n",
              "      <td>4.305</td>\n",
              "      <td>Percent of GDP</td>\n",
              "    </tr>\n",
              "    <tr>\n",
              "      <th>159</th>\n",
              "      <td>Spain</td>\n",
              "      <td>40.994</td>\n",
              "      <td>22.948</td>\n",
              "      <td>Percent of GDP</td>\n",
              "    </tr>\n",
              "    <tr>\n",
              "      <th>160</th>\n",
              "      <td>Sri Lanka</td>\n",
              "      <td>19.176</td>\n",
              "      <td>26.203</td>\n",
              "      <td>Percent of GDP</td>\n",
              "    </tr>\n",
              "    <tr>\n",
              "      <th>161</th>\n",
              "      <td>St. Kitts and Nevis</td>\n",
              "      <td>30.321</td>\n",
              "      <td>18.350</td>\n",
              "      <td>Percent of GDP</td>\n",
              "    </tr>\n",
              "    <tr>\n",
              "      <th>162</th>\n",
              "      <td>St. Lucia</td>\n",
              "      <td>25.162</td>\n",
              "      <td>23.083</td>\n",
              "      <td>Percent of GDP</td>\n",
              "    </tr>\n",
              "    <tr>\n",
              "      <th>163</th>\n",
              "      <td>St. Vincent and the Grenadines</td>\n",
              "      <td>30.238</td>\n",
              "      <td>14.510</td>\n",
              "      <td>Percent of GDP</td>\n",
              "    </tr>\n",
              "    <tr>\n",
              "      <th>164</th>\n",
              "      <td>Sudan</td>\n",
              "      <td>13.706</td>\n",
              "      <td>3.528</td>\n",
              "      <td>Percent of GDP</td>\n",
              "    </tr>\n",
              "    <tr>\n",
              "      <th>165</th>\n",
              "      <td>Suriname</td>\n",
              "      <td>32.276</td>\n",
              "      <td>44.394</td>\n",
              "      <td>Percent of GDP</td>\n",
              "    </tr>\n",
              "    <tr>\n",
              "      <th>166</th>\n",
              "      <td>Sweden</td>\n",
              "      <td>47.951</td>\n",
              "      <td>28.563</td>\n",
              "      <td>Percent of GDP</td>\n",
              "    </tr>\n",
              "    <tr>\n",
              "      <th>167</th>\n",
              "      <td>Switzerland</td>\n",
              "      <td>32.930</td>\n",
              "      <td>30.186</td>\n",
              "      <td>Percent of GDP</td>\n",
              "    </tr>\n",
              "    <tr>\n",
              "      <th>169</th>\n",
              "      <td>Taiwan Province of China</td>\n",
              "      <td>17.756</td>\n",
              "      <td>34.933</td>\n",
              "      <td>Percent of GDP</td>\n",
              "    </tr>\n",
              "    <tr>\n",
              "      <th>170</th>\n",
              "      <td>Tajikistan</td>\n",
              "      <td>35.632</td>\n",
              "      <td>26.876</td>\n",
              "      <td>Percent of GDP</td>\n",
              "    </tr>\n",
              "    <tr>\n",
              "      <th>171</th>\n",
              "      <td>Tanzania</td>\n",
              "      <td>16.573</td>\n",
              "      <td>30.298</td>\n",
              "      <td>Percent of GDP</td>\n",
              "    </tr>\n",
              "    <tr>\n",
              "      <th>172</th>\n",
              "      <td>Thailand</td>\n",
              "      <td>21.995</td>\n",
              "      <td>32.515</td>\n",
              "      <td>Percent of GDP</td>\n",
              "    </tr>\n",
              "    <tr>\n",
              "      <th>174</th>\n",
              "      <td>Togo</td>\n",
              "      <td>21.642</td>\n",
              "      <td>25.640</td>\n",
              "      <td>Percent of GDP</td>\n",
              "    </tr>\n",
              "    <tr>\n",
              "      <th>176</th>\n",
              "      <td>Trinidad and Tobago</td>\n",
              "      <td>33.142</td>\n",
              "      <td>21.510</td>\n",
              "      <td>Percent of GDP</td>\n",
              "    </tr>\n",
              "    <tr>\n",
              "      <th>177</th>\n",
              "      <td>Tunisia</td>\n",
              "      <td>30.421</td>\n",
              "      <td>9.064</td>\n",
              "      <td>Percent of GDP</td>\n",
              "    </tr>\n",
              "    <tr>\n",
              "      <th>178</th>\n",
              "      <td>Turkey</td>\n",
              "      <td>33.617</td>\n",
              "      <td>25.506</td>\n",
              "      <td>Percent of GDP</td>\n",
              "    </tr>\n",
              "    <tr>\n",
              "      <th>181</th>\n",
              "      <td>Uganda</td>\n",
              "      <td>18.911</td>\n",
              "      <td>20.150</td>\n",
              "      <td>Percent of GDP</td>\n",
              "    </tr>\n",
              "    <tr>\n",
              "      <th>182</th>\n",
              "      <td>Ukraine</td>\n",
              "      <td>41.482</td>\n",
              "      <td>18.567</td>\n",
              "      <td>Percent of GDP</td>\n",
              "    </tr>\n",
              "    <tr>\n",
              "      <th>183</th>\n",
              "      <td>United Arab Emirates</td>\n",
              "      <td>30.572</td>\n",
              "      <td>38.891</td>\n",
              "      <td>Percent of GDP</td>\n",
              "    </tr>\n",
              "    <tr>\n",
              "      <th>184</th>\n",
              "      <td>United Kingdom</td>\n",
              "      <td>38.407</td>\n",
              "      <td>13.882</td>\n",
              "      <td>Percent of GDP</td>\n",
              "    </tr>\n",
              "    <tr>\n",
              "      <th>185</th>\n",
              "      <td>United States</td>\n",
              "      <td>35.248</td>\n",
              "      <td>18.579</td>\n",
              "      <td>Percent of GDP</td>\n",
              "    </tr>\n",
              "    <tr>\n",
              "      <th>186</th>\n",
              "      <td>Uruguay</td>\n",
              "      <td>32.398</td>\n",
              "      <td>15.967</td>\n",
              "      <td>Percent of GDP</td>\n",
              "    </tr>\n",
              "    <tr>\n",
              "      <th>187</th>\n",
              "      <td>Uzbekistan</td>\n",
              "      <td>22.932</td>\n",
              "      <td>26.930</td>\n",
              "      <td>Percent of GDP</td>\n",
              "    </tr>\n",
              "    <tr>\n",
              "      <th>189</th>\n",
              "      <td>Venezuela</td>\n",
              "      <td>36.569</td>\n",
              "      <td>-9.864</td>\n",
              "      <td>Percent of GDP</td>\n",
              "    </tr>\n",
              "    <tr>\n",
              "      <th>190</th>\n",
              "      <td>Vietnam</td>\n",
              "      <td>29.224</td>\n",
              "      <td>28.704</td>\n",
              "      <td>Percent of GDP</td>\n",
              "    </tr>\n",
              "    <tr>\n",
              "      <th>191</th>\n",
              "      <td>Yemen</td>\n",
              "      <td>9.136</td>\n",
              "      <td>1.919</td>\n",
              "      <td>Percent of GDP</td>\n",
              "    </tr>\n",
              "    <tr>\n",
              "      <th>192</th>\n",
              "      <td>Zambia</td>\n",
              "      <td>25.188</td>\n",
              "      <td>39.321</td>\n",
              "      <td>Percent of GDP</td>\n",
              "    </tr>\n",
              "  </tbody>\n",
              "</table>\n",
              "</div>"
            ],
            "text/plain": [
              "                              Country  Expense  Savings           Units\n",
              "0                         Afghanistan   25.878   22.348  Percent of GDP\n",
              "1                             Albania   29.137   17.031  Percent of GDP\n",
              "2                             Algeria   39.205   37.708  Percent of GDP\n",
              "3                              Angola   23.806   23.351  Percent of GDP\n",
              "4                 Antigua and Barbuda   23.243   16.102  Percent of GDP\n",
              "5                           Argentina   41.181   13.843  Percent of GDP\n",
              "6                             Armenia   26.027   16.302  Percent of GDP\n",
              "7                               Aruba   28.353   17.183  Percent of GDP\n",
              "8                           Australia   36.706   22.025  Percent of GDP\n",
              "9                             Austria   48.984   27.089  Percent of GDP\n",
              "10                         Azerbaijan   35.593   27.059  Percent of GDP\n",
              "11                        The Bahamas   22.671   13.939  Percent of GDP\n",
              "12                            Bahrain   32.413   28.800  Percent of GDP\n",
              "13                         Bangladesh   13.560   28.552  Percent of GDP\n",
              "14                           Barbados   32.898   11.843  Percent of GDP\n",
              "15                            Belarus   39.042   26.303  Percent of GDP\n",
              "16                            Belgium   52.131   25.376  Percent of GDP\n",
              "17                             Belize   34.890   10.621  Percent of GDP\n",
              "18                              Benin   17.785   16.648  Percent of GDP\n",
              "19                             Bhutan   30.606   40.365  Percent of GDP\n",
              "20                            Bolivia   38.598   16.182  Percent of GDP\n",
              "21             Bosnia and Herzegovina   40.681   15.726  Percent of GDP\n",
              "22                           Botswana   31.988   36.505  Percent of GDP\n",
              "23                             Brazil   38.477   14.652  Percent of GDP\n",
              "25                           Bulgaria   32.548   23.141  Percent of GDP\n",
              "26                       Burkina Faso   29.955   11.796  Percent of GDP\n",
              "27                            Burundi   21.803   -5.320  Percent of GDP\n",
              "28                         Cabo Verde   31.572   31.527  Percent of GDP\n",
              "29                           Cambodia   22.375   15.146  Percent of GDP\n",
              "30                           Cameroon   19.827   25.464  Percent of GDP\n",
              "31                             Canada   40.250   20.738  Percent of GDP\n",
              "32           Central African Republic   13.862    5.698  Percent of GDP\n",
              "33                               Chad   14.880   14.147  Percent of GDP\n",
              "34                              Chile   25.371   19.439  Percent of GDP\n",
              "35                              China   32.179   46.260  Percent of GDP\n",
              "36                           Colombia   28.109   18.354  Percent of GDP\n",
              "37                            Comoros   16.838   10.425  Percent of GDP\n",
              "38   Democratic Republic of the Congo   10.388    8.867  Percent of GDP\n",
              "39                  Republic of Congo   35.239   23.851  Percent of GDP\n",
              "40                         Costa Rica   20.022   15.902  Percent of GDP\n",
              "41                      Côte d'Ivoire   24.872   16.750  Percent of GDP\n",
              "42                            Croatia   45.321   24.422  Percent of GDP\n",
              "43                             Cyprus   37.123   12.194  Percent of GDP\n",
              "44                     Czech Republic   38.944   27.527  Percent of GDP\n",
              "45                            Denmark   51.158   29.566  Percent of GDP\n",
              "46                           Djibouti   28.123   21.042  Percent of GDP\n",
              "47                           Dominica   54.637   14.653  Percent of GDP\n",
              "48                 Dominican Republic   17.238   22.306  Percent of GDP\n",
              "49                            Ecuador   36.511   25.810  Percent of GDP\n",
              "50                              Egypt   32.190    9.188  Percent of GDP\n",
              "51                        El Salvador   23.939   14.753  Percent of GDP\n",
              "52                  Equatorial Guinea   19.880    6.848  Percent of GDP\n",
              "53                            Eritrea   33.576   32.362  Percent of GDP\n",
              "54                            Estonia   39.007   29.731  Percent of GDP\n",
              "55                           Eswatini   36.642   19.652  Percent of GDP\n",
              "56                           Ethiopia   18.247   29.197  Percent of GDP\n",
              "58                            Finland   54.182   22.239  Percent of GDP\n",
              "59                             France   56.380   22.644  Percent of GDP\n",
              "60                              Gabon   18.114   26.105  Percent of GDP\n",
              "61                         The Gambia   24.248   13.499  Percent of GDP\n",
              "62                            Georgia   29.721   23.571  Percent of GDP\n",
              "63                            Germany   44.420   28.818  Percent of GDP\n",
              "64                              Ghana   18.002   20.673  Percent of GDP\n",
              "65                             Greece   47.294   10.119  Percent of GDP\n",
              "66                            Grenada   22.589    8.964  Percent of GDP\n",
              "67                          Guatemala   12.107   13.636  Percent of GDP\n",
              "68                             Guinea   17.377    4.880  Percent of GDP\n",
              "69                      Guinea-Bissau   19.714    9.515  Percent of GDP\n",
              "70                             Guyana   34.830   10.408  Percent of GDP\n",
              "71                              Haiti   17.503   27.935  Percent of GDP\n",
              "72                           Honduras   26.899   22.391  Percent of GDP\n",
              "73                      Hong Kong SAR   17.327   26.696  Percent of GDP\n",
              "74                            Hungary   46.930   24.984  Percent of GDP\n",
              "75                            Iceland   43.346   25.713  Percent of GDP\n",
              "76                              India   26.832   29.106  Percent of GDP\n",
              "77                          Indonesia   16.565   32.122  Percent of GDP\n",
              "78           Islamic Republic of Iran   19.349   39.524  Percent of GDP\n",
              "79                               Iraq   34.649   18.547  Percent of GDP\n",
              "80                            Ireland   26.063   33.881  Percent of GDP\n",
              "81                             Israel   38.761   24.184  Percent of GDP\n",
              "82                              Italy   48.912   20.217  Percent of GDP\n",
              "83                            Jamaica   28.597   17.936  Percent of GDP\n",
              "84                              Japan   37.417   28.060  Percent of GDP\n",
              "85                             Jordan   29.353    8.737  Percent of GDP\n",
              "86                         Kazakhstan   24.667   23.431  Percent of GDP\n",
              "87                              Kenya   26.133   11.283  Percent of GDP\n",
              "89                              Korea   19.638   36.921  Percent of GDP\n",
              "90                             Kosovo   27.578   17.424  Percent of GDP\n",
              "91                             Kuwait   51.880   39.404  Percent of GDP\n",
              "92                    Kyrgyz Republic   38.310   24.521  Percent of GDP\n",
              "94                             Latvia   36.423   22.915  Percent of GDP\n",
              "95                            Lebanon   30.362   -6.240  Percent of GDP\n",
              "96                            Lesotho   46.306   21.388  Percent of GDP\n",
              "99                          Lithuania   32.304   18.736  Percent of GDP\n",
              "100                        Luxembourg   42.974   23.978  Percent of GDP\n",
              "102                        Madagascar   17.175   19.627  Percent of GDP\n",
              "103                            Malawi   32.567  -12.230  Percent of GDP\n",
              "104                          Malaysia   21.578   28.351  Percent of GDP\n",
              "105                          Maldives   30.094   -1.892  Percent of GDP\n",
              "106                              Mali   22.906   12.833  Percent of GDP\n",
              "107                             Malta   35.763   29.750  Percent of GDP\n",
              "109                        Mauritania   28.132   24.832  Percent of GDP\n",
              "110                         Mauritius   23.931   18.759  Percent of GDP\n",
              "111                            Mexico   25.749   21.219  Percent of GDP\n",
              "113                           Moldova   30.648   16.965  Percent of GDP\n",
              "114                          Mongolia   32.332   21.256  Percent of GDP\n",
              "115                        Montenegro   47.196   14.146  Percent of GDP\n",
              "116                           Morocco   30.050   28.859  Percent of GDP\n",
              "117                        Mozambique   31.379   19.276  Percent of GDP\n",
              "118                           Myanmar   20.887   28.839  Percent of GDP\n",
              "119                           Namibia   35.619   11.199  Percent of GDP\n",
              "121                             Nepal   27.193   44.821  Percent of GDP\n",
              "122                       Netherlands   42.445   31.412  Percent of GDP\n",
              "123                       New Zealand   36.172   20.421  Percent of GDP\n",
              "124                         Nicaragua   26.934   23.154  Percent of GDP\n",
              "125                             Niger   26.808   23.368  Percent of GDP\n",
              "126                           Nigeria   12.008   18.237  Percent of GDP\n",
              "127                   North Macedonia   31.841   31.644  Percent of GDP\n",
              "128                            Norway   49.408   33.485  Percent of GDP\n",
              "129                              Oman   45.773   11.951  Percent of GDP\n",
              "130                          Pakistan   21.303   12.007  Percent of GDP\n",
              "132                            Panama   21.839   33.775  Percent of GDP\n",
              "134                          Paraguay   19.465   24.286  Percent of GDP\n",
              "135                              Peru   21.236   19.266  Percent of GDP\n",
              "136                       Philippines   19.965   24.453  Percent of GDP\n",
              "137                            Poland   41.230   19.933  Percent of GDP\n",
              "138                          Portugal   45.357   17.647  Percent of GDP\n",
              "140                             Qatar   33.453   48.452  Percent of GDP\n",
              "141                           Romania   30.834   20.198  Percent of GDP\n",
              "142                            Russia   34.733   26.146  Percent of GDP\n",
              "143                            Rwanda   25.402   11.957  Percent of GDP\n",
              "146             São Tomé and Príncipe   27.632   14.490  Percent of GDP\n",
              "147                      Saudi Arabia   33.305   30.382  Percent of GDP\n",
              "148                           Senegal   22.036   22.431  Percent of GDP\n",
              "149                            Serbia   40.135   14.355  Percent of GDP\n",
              "150                        Seychelles   35.944    8.560  Percent of GDP\n",
              "151                      Sierra Leone   23.429    6.553  Percent of GDP\n",
              "152                         Singapore   13.795   44.535  Percent of GDP\n",
              "153                   Slovak Republic   40.196   20.557  Percent of GDP\n",
              "154                          Slovenia   39.784   26.180  Percent of GDP\n",
              "155                   Solomon Islands   47.540   16.303  Percent of GDP\n",
              "157                      South Africa   32.633   16.266  Percent of GDP\n",
              "158                       South Sudan   33.566    4.305  Percent of GDP\n",
              "159                             Spain   40.994   22.948  Percent of GDP\n",
              "160                         Sri Lanka   19.176   26.203  Percent of GDP\n",
              "161               St. Kitts and Nevis   30.321   18.350  Percent of GDP\n",
              "162                         St. Lucia   25.162   23.083  Percent of GDP\n",
              "163    St. Vincent and the Grenadines   30.238   14.510  Percent of GDP\n",
              "164                             Sudan   13.706    3.528  Percent of GDP\n",
              "165                          Suriname   32.276   44.394  Percent of GDP\n",
              "166                            Sweden   47.951   28.563  Percent of GDP\n",
              "167                       Switzerland   32.930   30.186  Percent of GDP\n",
              "169          Taiwan Province of China   17.756   34.933  Percent of GDP\n",
              "170                        Tajikistan   35.632   26.876  Percent of GDP\n",
              "171                          Tanzania   16.573   30.298  Percent of GDP\n",
              "172                          Thailand   21.995   32.515  Percent of GDP\n",
              "174                              Togo   21.642   25.640  Percent of GDP\n",
              "176               Trinidad and Tobago   33.142   21.510  Percent of GDP\n",
              "177                           Tunisia   30.421    9.064  Percent of GDP\n",
              "178                            Turkey   33.617   25.506  Percent of GDP\n",
              "181                            Uganda   18.911   20.150  Percent of GDP\n",
              "182                           Ukraine   41.482   18.567  Percent of GDP\n",
              "183              United Arab Emirates   30.572   38.891  Percent of GDP\n",
              "184                    United Kingdom   38.407   13.882  Percent of GDP\n",
              "185                     United States   35.248   18.579  Percent of GDP\n",
              "186                           Uruguay   32.398   15.967  Percent of GDP\n",
              "187                        Uzbekistan   22.932   26.930  Percent of GDP\n",
              "189                         Venezuela   36.569   -9.864  Percent of GDP\n",
              "190                           Vietnam   29.224   28.704  Percent of GDP\n",
              "191                             Yemen    9.136    1.919  Percent of GDP\n",
              "192                            Zambia   25.188   39.321  Percent of GDP"
            ]
          },
          "metadata": {
            "tags": []
          },
          "execution_count": 52
        }
      ]
    },
    {
      "cell_type": "markdown",
      "metadata": {
        "id": "dVio5dhNp57C"
      },
      "source": [
        "## 2.5 Cleaning all Country names\n"
      ]
    },
    {
      "cell_type": "markdown",
      "metadata": {
        "id": "xMcq_mW7p57G"
      },
      "source": [
        "### 2.5.1 List of mismatches"
      ]
    },
    {
      "cell_type": "code",
      "metadata": {
        "id": "3lZK7a46p57H"
      },
      "source": [
        "worldhappy_notin_env =  worldhappy17[worldhappy17['Country'].isin(WorldEnvData.Country)==False]\n"
      ],
      "execution_count": 53,
      "outputs": []
    },
    {
      "cell_type": "code",
      "metadata": {
        "id": "S1zXhIS0p57K"
      },
      "source": [
        "Envdata_change = WorldEnvData[WorldEnvData['Country'].isin(worldhappy17.Country)== False]"
      ],
      "execution_count": 54,
      "outputs": []
    },
    {
      "cell_type": "code",
      "metadata": {
        "id": "O0Gca-tTp57N",
        "colab": {
          "base_uri": "https://localhost:8080/"
        },
        "outputId": "1998b354-6190-4f79-a195-10bdf33c16f7"
      },
      "source": [
        "worldhappy_notin_env.Country"
      ],
      "execution_count": 55,
      "outputs": [
        {
          "output_type": "execute_result",
          "data": {
            "text/plain": [
              "13                United States\n",
              "32     Taiwan Province of China\n",
              "60                 North Cyprus\n",
              "70      Hong Kong S.A.R., China\n",
              "72                       Serbia\n",
              "102     Palestinian Territories\n",
              "123         Congo (Brazzaville)\n",
              "125            Congo (Kinshasa)\n",
              "152                    Tanzania\n",
              "Name: Country, dtype: object"
            ]
          },
          "metadata": {
            "tags": []
          },
          "execution_count": 55
        }
      ]
    },
    {
      "cell_type": "code",
      "metadata": {
        "id": "67PKp4hHp57R",
        "colab": {
          "base_uri": "https://localhost:8080/"
        },
        "outputId": "336cf5fb-7273-4c33-f130-30f19025d70d"
      },
      "source": [
        "Envdata_change.Country"
      ],
      "execution_count": 56,
      "outputs": [
        {
          "output_type": "execute_result",
          "data": {
            "text/plain": [
              "1                      United States of America\n",
              "3                                    Antarctica\n",
              "9                                      Kiribati\n",
              "22             Democratic Republic of the Congo\n",
              "39                                    Greenland\n",
              "41               Federated States of Micronesia\n",
              "42                             French Polynesia\n",
              "45                                 Saint Helena\n",
              "49                               Western Sahara\n",
              "62                                      Eritrea\n",
              "65                  United Republic of Tanzania\n",
              "68                        Republic of the Congo\n",
              "72                     Indian Ocean Territories\n",
              "74                                         Laos\n",
              "75                                        Palau\n",
              "80                                         Oman\n",
              "90                                  North Korea\n",
              "91                             Papua New Guinea\n",
              "94                                       Guyana\n",
              "95                                         Cuba\n",
              "98     South Georgia and South Sandwich Islands\n",
              "109                                      Taiwan\n",
              "121                          Republic of Serbia\n",
              "129                            Marshall Islands\n",
              "130                    Northern Mariana Islands\n",
              "131                                        Fiji\n",
              "132                             Solomon Islands\n",
              "133                                      Tuvalu\n",
              "134                           Wallis and Futuna\n",
              "135                               French Guiana\n",
              "136                                    Suriname\n",
              "143                                  Cape Verde\n",
              "144                               Guinea Bissau\n",
              "145                                      Gambia\n",
              "151                             Northern Cyprus\n",
              "154                                    Djibouti\n",
              "155                                     Comoros\n",
              "159                                   Swaziland\n",
              "160                                  East Timor\n",
              "172                               New Caledonia\n",
              "173                                     Vanuatu\n",
              "174                                       Tonga\n",
              "175                                 The Bahamas\n",
              "182                            Falkland Islands\n",
              "183                       Sao Tome and Principe\n",
              "184                           Equatorial Guinea\n",
              "185                                   West Bank\n",
              "186                                      Brunei\n",
              "187                             Siachen Glacier\n",
              "188                                    Maldives\n",
              "190                               Faroe Islands\n",
              "191                                       Samoa\n",
              "192                United States Virgin Islands\n",
              "193                                 Puerto Rico\n",
              "195                              Cayman Islands\n",
              "196         French Southern and Antarctic Lands\n",
              "197                                        Gaza\n",
              "199                            Hong Kong S.A.R.\n",
              "201                                       Aland\n",
              "203                    Turks and Caicos Islands\n",
              "204                         Antigua and Barbuda\n",
              "205            Saint Vincent and the Grenadines\n",
              "206           Heard Island and McDonald Islands\n",
              "207                                     Andorra\n",
              "209                                  Seychelles\n",
              "210              British Indian Ocean Territory\n",
              "212                                      Jersey\n",
              "213                                 Isle of Man\n",
              "214                   Saint Pierre and Miquelon\n",
              "215                                        Guam\n",
              "216                              American Samoa\n",
              "217                      British Virgin Islands\n",
              "218                       Saint Kitts and Nevis\n",
              "219                                     Grenada\n",
              "220                                 Saint Lucia\n",
              "221                                    Barbados\n",
              "222                                    Dominica\n",
              "223                                     Curacao\n",
              "224                                  San Marino\n",
              "225                               Liechtenstein\n",
              "226                                    Guernsey\n",
              "227                                        Niue\n",
              "228                                     Bermuda\n",
              "229                                    Anguilla\n",
              "230                                Saint Martin\n",
              "231                                Sint Maarten\n",
              "232                                  Montserrat\n",
              "233                                       Aruba\n",
              "234                                      Monaco\n",
              "235                              Norfolk Island\n",
              "236                                       Nauru\n",
              "237                                Cook Islands\n",
              "238                            Saint Barthelemy\n",
              "239                            Pitcairn Islands\n",
              "240                 Ashmore and Cartier Islands\n",
              "241                                 Macau S.A.R\n",
              "242                                     Vatican\n",
              "Name: Country, dtype: object"
            ]
          },
          "metadata": {
            "tags": []
          },
          "execution_count": 56
        }
      ]
    },
    {
      "cell_type": "code",
      "metadata": {
        "id": "HKCOmJWUp57T"
      },
      "source": [
        "worldhappy_notin =  worldhappy17[worldhappy17['Country'].isin(CtProfile.country)==False]"
      ],
      "execution_count": 57,
      "outputs": []
    },
    {
      "cell_type": "code",
      "metadata": {
        "id": "b9PwMkUbp57X"
      },
      "source": [
        "CtProfile_change = CtProfile[CtProfile['country'].isin(worldhappy17.Country)== False]"
      ],
      "execution_count": 58,
      "outputs": []
    },
    {
      "cell_type": "code",
      "metadata": {
        "id": "CPKoUQCIp57Z"
      },
      "source": [
        "worldhappy_notin_IMF_Merge =  worldhappy17[worldhappy17['Country'].isin(IMF_Merge.Country)==False]"
      ],
      "execution_count": 59,
      "outputs": []
    },
    {
      "cell_type": "code",
      "metadata": {
        "id": "BlzRwC41p57c"
      },
      "source": [
        "IMFSavings_change = IMF_Merge[IMF_Merge['Country'].isin(worldhappy17.Country)== False]"
      ],
      "execution_count": 60,
      "outputs": []
    },
    {
      "cell_type": "code",
      "metadata": {
        "id": "7MfOBYOIp57e",
        "colab": {
          "base_uri": "https://localhost:8080/"
        },
        "outputId": "373d164a-fb43-4b0c-e3ab-b8d8cc239646"
      },
      "source": [
        "worldhappy_notin_IMF_Merge.Country.tolist()"
      ],
      "execution_count": 61,
      "outputs": [
        {
          "output_type": "execute_result",
          "data": {
            "text/plain": [
              "['Slovakia',\n",
              " 'South Korea',\n",
              " 'Turkmenistan',\n",
              " 'North Cyprus',\n",
              " 'Libya',\n",
              " 'Hong Kong S.A.R., China',\n",
              " 'Macedonia',\n",
              " 'Somalia',\n",
              " 'Kyrgyzstan',\n",
              " 'Palestinian Territories',\n",
              " 'Iran',\n",
              " 'Congo (Brazzaville)',\n",
              " 'Congo (Kinshasa)',\n",
              " 'Ivory Coast',\n",
              " 'Zimbabwe',\n",
              " 'Liberia',\n",
              " 'Syria']"
            ]
          },
          "metadata": {
            "tags": []
          },
          "execution_count": 61
        }
      ]
    },
    {
      "cell_type": "code",
      "metadata": {
        "id": "gxBi9X9Op57g",
        "colab": {
          "base_uri": "https://localhost:8080/"
        },
        "outputId": "95e9d64b-502e-406f-9c47-e79eb826e6cb"
      },
      "source": [
        "IMFSavings_change.Country.tolist()"
      ],
      "execution_count": 62,
      "outputs": [
        {
          "output_type": "execute_result",
          "data": {
            "text/plain": [
              "['Antigua and Barbuda',\n",
              " 'Aruba',\n",
              " 'The Bahamas',\n",
              " 'Barbados',\n",
              " 'Cabo Verde',\n",
              " 'Comoros',\n",
              " 'Democratic Republic of the Congo',\n",
              " 'Republic of Congo',\n",
              " \"Côte d'Ivoire\",\n",
              " 'Djibouti',\n",
              " 'Dominica',\n",
              " 'Equatorial Guinea',\n",
              " 'Eritrea',\n",
              " 'Eswatini',\n",
              " 'The Gambia',\n",
              " 'Grenada',\n",
              " 'Guinea-Bissau',\n",
              " 'Guyana',\n",
              " 'Hong Kong SAR',\n",
              " 'Islamic Republic of Iran',\n",
              " 'Korea',\n",
              " 'Kyrgyz Republic',\n",
              " 'Maldives',\n",
              " 'North Macedonia',\n",
              " 'Oman',\n",
              " 'São Tomé and Príncipe',\n",
              " 'Seychelles',\n",
              " 'Slovak Republic',\n",
              " 'Solomon Islands',\n",
              " 'St. Kitts and Nevis',\n",
              " 'St. Lucia',\n",
              " 'St. Vincent and the Grenadines',\n",
              " 'Suriname']"
            ]
          },
          "metadata": {
            "tags": []
          },
          "execution_count": 62
        }
      ]
    },
    {
      "cell_type": "code",
      "metadata": {
        "id": "rXuCJAfgp57i"
      },
      "source": [
        "CtProfile_change.country;"
      ],
      "execution_count": 63,
      "outputs": []
    },
    {
      "cell_type": "markdown",
      "metadata": {
        "id": "bbYRowjXp57k"
      },
      "source": [
        "### 2.5.2 Changing the names\n",
        "\n",
        "#### - WorldEnvData <br> - CtProfile <br> - IMF_Merge"
      ]
    },
    {
      "cell_type": "code",
      "metadata": {
        "id": "bCcKE-48p57l"
      },
      "source": [
        "Correct1 = [\"United States\",\n",
        "            \"Taiwan Province Of China\",\n",
        "            \"North Cyprus\",\n",
        "            \"Hong Kong S.A.R., China\",\n",
        "            \"Serbia\",\n",
        "            \"Congo (Brazzaville)\",\n",
        "            \"Congo (Kinishasa)\",\n",
        "            \"Tanzania\"]\n",
        "\n",
        "Correct2= [\"United States\",\n",
        "           \"Czech Republic\",\n",
        "           \"Russia\",\n",
        "           'South Korea',\n",
        "           'Moldova',\n",
        "           'Bolivia',\n",
        "           'Hong Kong S.A.R, China',\n",
        "           'Venezuela',\n",
        "           'Macedonia',\n",
        "           \"Vietnam\",\n",
        "           \"Palestinian Territories\",\n",
        "           \"Iran\",\n",
        "           \"Congo (Brazzaville)\",\n",
        "           \"Congo (Kinshasa)\",\n",
        "           \"Syria\",\n",
        "           \"Tanzania\",\n",
        "           \"Kyrgyzstan\",\n",
        "           \"Slovakia\"]\n",
        "Wrong2= [\"United States of America\",\n",
        "         \"Czechia\",\n",
        "         'Russian Federation',\n",
        "         'Korea',\n",
        "         'Republic of Moldova',\n",
        "         'Bolivia (Plurinational State of)',\n",
        "         'Hong Kong SAR',\n",
        "         'Venezuela (Bolivarian Republic of)',\n",
        "         'North Macedonia',\n",
        "         'Viet Nam',\n",
        "         'State of Palestine',\n",
        "         'Islamic Republic of Iran',\n",
        "         'Congo',\n",
        "         \"Democratic Republic of the Congo\",\n",
        "         'Syrian Arab Republic',\n",
        "         \"United Republic of Tanzania\",\n",
        "         \"Kyrgyz Republic\",\n",
        "         \"Slovak Republic\"]\n",
        "Wrong3 = [\"Hong Kong S.A.R, China\",\"Congo (Kinishasa)\"]\n",
        "Correct3 = [\"Hong Kong S.A.R., China\",\"Congo (Kinshasa)\"]\n",
        "\n",
        "WorldEnvData[\"Country\"].replace([\"United States of America\",\n",
        "                              \"Taiwan\",\n",
        "                              \"Northern Cyprus\",\n",
        "                              \"Hong Kong S.A.R,\",\n",
        "                              \"Republic of Serbia\",\n",
        "                              \"Republic of the Congo\",\n",
        "                              \"Democratic Republic of the Congo\",\n",
        "                              \"United Republic of Tanzania\"], Correct1, inplace = True)\n",
        "WorldEnvData[\"Country\"].replace(Wrong2,Correct2, inplace = True)\n",
        "WorldEnvData[\"Country\"].replace(Wrong3,Correct3, inplace = True)\n",
        "\n",
        "IMF_Merge[\"Country\"].replace([\"United States of America\",\n",
        "                              \"Taiwan\",\n",
        "                              \"Northern Cyprus\",\n",
        "                              \"Hong Kong S.A.R.\",\n",
        "                              \"Republic of Serbia\",\n",
        "                              \"Republic of Congo\",\n",
        "                              \"Democratic Republic of the Congo\",\n",
        "                              \"United Republic of Tanzania\"], Correct1, inplace = True)\n",
        "CtProfile[\"country\"].replace(Wrong2,Correct2,inplace = True)\n",
        "IMF_Merge[\"Country\"].replace(Wrong2,Correct2, inplace = True)\n",
        "IMF_Merge[\"Country\"].replace(Wrong3,Correct3, inplace = True)\n",
        "#WorldEnvData.Country\n",
        "#IMF_Merge\n",
        "#CtProfile.country"
      ],
      "execution_count": 64,
      "outputs": []
    },
    {
      "cell_type": "markdown",
      "metadata": {
        "id": "MzGrVXzHzxk5"
      },
      "source": [
        "## 2.6 Changing Data Types "
      ]
    },
    {
      "cell_type": "code",
      "metadata": {
        "id": "iSEa9ZQIB9Id",
        "colab": {
          "base_uri": "https://localhost:8080/"
        },
        "outputId": "f2615a04-a009-4797-b53b-4d69ca46910b"
      },
      "source": [
        "WorldEnvData.dtypes"
      ],
      "execution_count": 65,
      "outputs": [
        {
          "output_type": "execute_result",
          "data": {
            "text/plain": [
              "Country                     object\n",
              "accessibility_to_cities    float64\n",
              "tree_canopy_cover          float64\n",
              "rain_mean_annual           float64\n",
              "temp_mean_annual           float64\n",
              "cloudiness                 float64\n",
              "dtype: object"
            ]
          },
          "metadata": {
            "tags": []
          },
          "execution_count": 65
        }
      ]
    },
    {
      "cell_type": "code",
      "metadata": {
        "id": "rw_lJnAG0vL9",
        "colab": {
          "base_uri": "https://localhost:8080/"
        },
        "outputId": "64d08566-53b8-4f00-8d17-cb42e0e523d2"
      },
      "source": [
        "CtProfile.dtypes"
      ],
      "execution_count": 66,
      "outputs": [
        {
          "output_type": "execute_result",
          "data": {
            "text/plain": [
              "country                                                     object\n",
              "Population in thousands (2017)                               int64\n",
              "GDP per capita (current US$)                               float64\n",
              "Unemployment (% of labour force)                            object\n",
              "Urban population (% of total population)                   float64\n",
              "Refugees and others of concern to UNHCR (in thousands)      object\n",
              "Infant mortality rate (per 1000 live births                 object\n",
              "Health: Total expenditure (% of GDP)                       float64\n",
              "Education: Government expenditure (% of GDP)                object\n",
              "Mobile-cellular subscriptions (per 100 inhabitants)         object\n",
              "Individuals using the Internet (per 100 inhabitants)        object\n",
              "International migrant stock % Total Population              object\n",
              "Urban Population using improved sanitation facilities %     object\n",
              "Rural Population using improved sanitation facilities %     object\n",
              "Life Expectancy At Birth Females Years                      object\n",
              "Life Expectancy At Birth Males Years                        object\n",
              "Tertiary gross enrol female                                 object\n",
              "Tertiary gross enrol male                                   object\n",
              "CO2 emissions (tons per capita)                             object\n",
              "dtype: object"
            ]
          },
          "metadata": {
            "tags": []
          },
          "execution_count": 66
        }
      ]
    },
    {
      "cell_type": "code",
      "metadata": {
        "id": "XBeYJOLdIHkB"
      },
      "source": [
        "CtProfile['Unemployment (% of labour force)'] = CtProfile['Unemployment (% of labour force)'].astype(float)\n",
        "CtProfile['Refugees and others of concern to UNHCR (in thousands)'] = CtProfile['Refugees and others of concern to UNHCR (in thousands)'].astype(float)\n",
        "CtProfile['Infant mortality rate (per 1000 live births'] = CtProfile['Infant mortality rate (per 1000 live births'].astype(float)\n",
        "CtProfile['Education: Government expenditure (% of GDP)'] = CtProfile['Education: Government expenditure (% of GDP)'].astype(float)\n",
        "CtProfile['Mobile-cellular subscriptions (per 100 inhabitants)'] = CtProfile['Mobile-cellular subscriptions (per 100 inhabitants)'].astype(float)\n",
        "CtProfile['Individuals using the Internet (per 100 inhabitants)'] = CtProfile['Individuals using the Internet (per 100 inhabitants)'].astype(float)\n",
        "CtProfile['International migrant stock % Total Population'] = CtProfile['International migrant stock % Total Population'].astype(float)\n",
        "CtProfile['Urban Population using improved sanitation facilities %'] = CtProfile['Urban Population using improved sanitation facilities %'].astype(float)\n",
        "CtProfile['Rural Population using improved sanitation facilities %'] = CtProfile['Rural Population using improved sanitation facilities %'].astype(float)\n",
        "CtProfile['Life Expectancy At Birth Females Years'] = CtProfile['Life Expectancy At Birth Females Years'].astype(float)\n",
        "CtProfile['Life Expectancy At Birth Males Years'] = CtProfile['Life Expectancy At Birth Males Years'].astype(float)\n",
        "CtProfile['Tertiary gross enrol female']  = CtProfile['Tertiary gross enrol female'].astype(float)\n",
        "CtProfile['Tertiary gross enrol male']  = CtProfile['Tertiary gross enrol male'].astype(float)\n",
        "CtProfile['CO2 emissions (tons per capita)'] = CtProfile['CO2 emissions (tons per capita)'] .astype(float)"
      ],
      "execution_count": 67,
      "outputs": []
    },
    {
      "cell_type": "markdown",
      "metadata": {
        "id": "z6COXmTilkH3"
      },
      "source": [
        "## 2.7 Looking for Outliers and Possible Transformations "
      ]
    },
    {
      "cell_type": "markdown",
      "metadata": {
        "id": "QIGU9x5clx0s"
      },
      "source": [
        "###2.7.1 IMF_Merge"
      ]
    },
    {
      "cell_type": "code",
      "metadata": {
        "id": "XvxtZzKumAJo",
        "colab": {
          "base_uri": "https://localhost:8080/",
          "height": 282
        },
        "outputId": "8caa933b-14ec-4c03-be00-d5e5b50d0939"
      },
      "source": [
        "IMF_Merge.boxplot()"
      ],
      "execution_count": 68,
      "outputs": [
        {
          "output_type": "execute_result",
          "data": {
            "text/plain": [
              "<matplotlib.axes._subplots.AxesSubplot at 0x7fe71fb20e10>"
            ]
          },
          "metadata": {
            "tags": []
          },
          "execution_count": 68
        },
        {
          "output_type": "display_data",
          "data": {
            "image/png": "[encoded data removed]",
            "text/plain": [
              "<Figure size 432x288 with 1 Axes>"
            ]
          },
          "metadata": {
            "tags": [],
            "needs_background": "light"
          }
        }
      ]
    },
    {
      "cell_type": "code",
      "metadata": {
        "id": "SYENft-tnmqZ",
        "colab": {
          "base_uri": "https://localhost:8080/",
          "height": 295
        },
        "outputId": "c97cb0ac-74a5-49bc-c101-2c24de35fb40"
      },
      "source": [
        "# Distribution of Expense\n",
        "IMF_Merge.hist(column = 'Expense', bins = 30, figsize = (6, 4))\n",
        "plt.xlabel('Country')\n",
        "plt.ylabel('Expense')\n",
        "plt.title('Distribution of Government Expenditures')\n",
        "plt.show()"
      ],
      "execution_count": 69,
      "outputs": [
        {
          "output_type": "display_data",
          "data": {
            "image/png": "[encoded data removed]",
            "text/plain": [
              "<Figure size 432x288 with 1 Axes>"
            ]
          },
          "metadata": {
            "tags": [],
            "needs_background": "light"
          }
        }
      ]
    },
    {
      "cell_type": "code",
      "metadata": {
        "id": "qXQrBHz_oUlU",
        "colab": {
          "base_uri": "https://localhost:8080/",
          "height": 295
        },
        "outputId": "09ae8b38-149b-4e6d-9b50-26cecc24c33b"
      },
      "source": [
        "# Distribution of Expense\n",
        "IMF_Merge.hist(column = 'Savings', bins = 30, figsize = (6, 4))\n",
        "plt.xlabel('Country')\n",
        "plt.ylabel('Savings')\n",
        "plt.title('Distribution of Government Savings')\n",
        "plt.show()"
      ],
      "execution_count": 70,
      "outputs": [
        {
          "output_type": "display_data",
          "data": {
            "image/png": "[encoded data removed]",
            "text/plain": [
              "<Figure size 432x288 with 1 Axes>"
            ]
          },
          "metadata": {
            "tags": [],
            "needs_background": "light"
          }
        }
      ]
    },
    {
      "cell_type": "markdown",
      "metadata": {
        "id": "g-9FMQvLrhKh"
      },
      "source": [
        "###2.7.2 WorldEnvData"
      ]
    },
    {
      "cell_type": "code",
      "metadata": {
        "id": "crHkulv-u4Bt",
        "colab": {
          "base_uri": "https://localhost:8080/"
        },
        "outputId": "8f9ab675-1913-4bae-c985-e5d9cf3a612d"
      },
      "source": [
        "WorldEnvData.dtypes"
      ],
      "execution_count": 71,
      "outputs": [
        {
          "output_type": "execute_result",
          "data": {
            "text/plain": [
              "Country                     object\n",
              "accessibility_to_cities    float64\n",
              "tree_canopy_cover          float64\n",
              "rain_mean_annual           float64\n",
              "temp_mean_annual           float64\n",
              "cloudiness                 float64\n",
              "dtype: object"
            ]
          },
          "metadata": {
            "tags": []
          },
          "execution_count": 71
        }
      ]
    },
    {
      "cell_type": "markdown",
      "metadata": {
        "id": "R1OOBOdLWTrk"
      },
      "source": [
        "Drop unused columns"
      ]
    },
    {
      "cell_type": "code",
      "metadata": {
        "id": "czLMK_LnWSp_"
      },
      "source": [
        ""
      ],
      "execution_count": 71,
      "outputs": []
    },
    {
      "cell_type": "markdown",
      "metadata": {
        "id": "4Z-Wnf_cC2_s"
      },
      "source": [
        "#### 2.7.2.1 Examine for Outliers"
      ]
    },
    {
      "cell_type": "code",
      "metadata": {
        "id": "9HZ6d6-PrrmF",
        "colab": {
          "base_uri": "https://localhost:8080/",
          "height": 370
        },
        "outputId": "c519e998-afd4-4cf4-d757-82893ddb5d0d"
      },
      "source": [
        "TCT = pd.DataFrame(data = WorldEnvData, columns = ['tree_canopy_cover','cloudiness', 'temp_mean_annual'])\n",
        "TCT.boxplot()"
      ],
      "execution_count": 72,
      "outputs": [
        {
          "output_type": "stream",
          "text": [
            "/usr/local/lib/python3.7/dist-packages/numpy/core/_asarray.py:83: VisibleDeprecationWarning:\n",
            "\n",
            "Creating an ndarray from ragged nested sequences (which is a list-or-tuple of lists-or-tuples-or ndarrays with different lengths or shapes) is deprecated. If you meant to do this, you must specify 'dtype=object' when creating the ndarray\n",
            "\n"
          ],
          "name": "stderr"
        },
        {
          "output_type": "execute_result",
          "data": {
            "text/plain": [
              "<matplotlib.axes._subplots.AxesSubplot at 0x7fe71f3ff710>"
            ]
          },
          "metadata": {
            "tags": []
          },
          "execution_count": 72
        },
        {
          "output_type": "display_data",
          "data": {
            "image/png": "[encoded data removed]",
            "text/plain": [
              "<Figure size 432x288 with 1 Axes>"
            ]
          },
          "metadata": {
            "tags": [],
            "needs_background": "light"
          }
        }
      ]
    },
    {
      "cell_type": "code",
      "metadata": {
        "id": "BUk6pbt_wQk5",
        "colab": {
          "base_uri": "https://localhost:8080/",
          "height": 283
        },
        "outputId": "fa1d722f-2a07-410c-a706-730761f14445"
      },
      "source": [
        "RA = pd.DataFrame(data = WorldEnvData, columns = ['rain_mean_annual','accessibility_to_cities'])\n",
        "RA.boxplot()"
      ],
      "execution_count": 73,
      "outputs": [
        {
          "output_type": "execute_result",
          "data": {
            "text/plain": [
              "<matplotlib.axes._subplots.AxesSubplot at 0x7fe71f59be90>"
            ]
          },
          "metadata": {
            "tags": []
          },
          "execution_count": 73
        },
        {
          "output_type": "display_data",
          "data": {
            "image/png": "[encoded data removed]",
            "text/plain": [
              "<Figure size 432x288 with 1 Axes>"
            ]
          },
          "metadata": {
            "tags": [],
            "needs_background": "light"
          }
        }
      ]
    },
    {
      "cell_type": "markdown",
      "metadata": {
        "id": "grTmz5n8DZGd"
      },
      "source": [
        "#### 2.7.2.2 Convert values to scaler and Normalize"
      ]
    },
    {
      "cell_type": "code",
      "metadata": {
        "id": "5fJ5Oyjwz_Ft"
      },
      "source": [
        "# Create the Scaler object\n",
        "scaler = preprocessing.StandardScaler()"
      ],
      "execution_count": 74,
      "outputs": []
    },
    {
      "cell_type": "markdown",
      "metadata": {
        "id": "KYeikqncaSSS"
      },
      "source": [
        "# New Section"
      ]
    },
    {
      "cell_type": "code",
      "metadata": {
        "id": "MpwX3ugX0B8-",
        "colab": {
          "base_uri": "https://localhost:8080/",
          "height": 343
        },
        "outputId": "30c7bd44-4917-4967-ef6c-cbd7e7541815"
      },
      "source": [
        "WEDS = scaler.fit_transform(WorldEnvData[['rain_mean_annual', 'cloudiness', 'temp_mean_annual','accessibility_to_cities','tree_canopy_cover']] )\n",
        "WEDS = pd.DataFrame(WEDS, columns = [\"rain_mean_annual\",\"cloudiness\",\"temp_mean_annual\",\"accessibility_to_cities\",\"tree_canopy_cover\"])\n",
        "\n",
        "WEDS_rain = WEDS[\"rain_mean_annual\"].tolist()\n",
        "World_rain_list = WorldEnvData['rain_mean_annual'].tolist()\n",
        "\n",
        "WEDS_cloud = WEDS[\"cloudiness\"].tolist()\n",
        "World_cloud_list = WorldEnvData[\"cloudiness\"].tolist()\n",
        "\n",
        "WEDS_temp = WEDS[\"temp_mean_annual\"].tolist()\n",
        "World_temp_list = WorldEnvData[\"temp_mean_annual\"].tolist()\n",
        "\n",
        "WEDS_cities = WEDS[\"accessibility_to_cities\"].tolist()\n",
        "World_cities_list = WorldEnvData['accessibility_to_cities'].tolist()\n",
        "\n",
        "WEDS_tree_cover = WEDS[\"tree_canopy_cover\"].tolist()\n",
        "World_tree_cover_list = WorldEnvData['tree_canopy_cover'].tolist()\n",
        "\n",
        "WorldEnvData['rain_mean_annual'].replace(World_rain_list,WEDS_rain,inplace=True)\n",
        "WorldEnvData['cloudiness'].replace(World_cloud_list,WEDS_cloud,inplace = True)\n",
        "WorldEnvData['temp_mean_annual'].replace(World_temp_list,WEDS_temp,inplace = True)\n",
        "WorldEnvData['accessibility_to_cities'].replace(World_cities_list,WEDS_cities,inplace = True)\n",
        "WorldEnvData['tree_canopy_cover'].replace(World_tree_cover_list,WEDS_tree_cover,inplace = True)\n",
        "\n",
        "WorldEnvData.head(n=10)\n"
      ],
      "execution_count": 75,
      "outputs": [
        {
          "output_type": "execute_result",
          "data": {
            "text/html": [
              "<div>\n",
              "<style scoped>\n",
              "    .dataframe tbody tr th:only-of-type {\n",
              "        vertical-align: middle;\n",
              "    }\n",
              "\n",
              "    .dataframe tbody tr th {\n",
              "        vertical-align: top;\n",
              "    }\n",
              "\n",
              "    .dataframe thead th {\n",
              "        text-align: right;\n",
              "    }\n",
              "</style>\n",
              "<table border=\"1\" class=\"dataframe\">\n",
              "  <thead>\n",
              "    <tr style=\"text-align: right;\">\n",
              "      <th></th>\n",
              "      <th>Country</th>\n",
              "      <th>accessibility_to_cities</th>\n",
              "      <th>tree_canopy_cover</th>\n",
              "      <th>rain_mean_annual</th>\n",
              "      <th>temp_mean_annual</th>\n",
              "      <th>cloudiness</th>\n",
              "    </tr>\n",
              "  </thead>\n",
              "  <tbody>\n",
              "    <tr>\n",
              "      <th>0</th>\n",
              "      <td>Russia</td>\n",
              "      <td>0.597697</td>\n",
              "      <td>-0.090750</td>\n",
              "      <td>-0.919939</td>\n",
              "      <td>-2.798999</td>\n",
              "      <td>0.186917</td>\n",
              "    </tr>\n",
              "    <tr>\n",
              "      <th>1</th>\n",
              "      <td>United States</td>\n",
              "      <td>-0.132247</td>\n",
              "      <td>-0.284566</td>\n",
              "      <td>-0.645950</td>\n",
              "      <td>-1.342992</td>\n",
              "      <td>-0.360306</td>\n",
              "    </tr>\n",
              "    <tr>\n",
              "      <th>2</th>\n",
              "      <td>Canada</td>\n",
              "      <td>1.120175</td>\n",
              "      <td>-0.078409</td>\n",
              "      <td>-0.898465</td>\n",
              "      <td>-2.863493</td>\n",
              "      <td>0.552274</td>\n",
              "    </tr>\n",
              "    <tr>\n",
              "      <th>3</th>\n",
              "      <td>Antarctica</td>\n",
              "      <td>NaN</td>\n",
              "      <td>NaN</td>\n",
              "      <td>NaN</td>\n",
              "      <td>NaN</td>\n",
              "      <td>1.822679</td>\n",
              "    </tr>\n",
              "    <tr>\n",
              "      <th>4</th>\n",
              "      <td>Indonesia</td>\n",
              "      <td>-0.197184</td>\n",
              "      <td>1.785559</td>\n",
              "      <td>1.729614</td>\n",
              "      <td>0.738576</td>\n",
              "      <td>1.649642</td>\n",
              "    </tr>\n",
              "    <tr>\n",
              "      <th>5</th>\n",
              "      <td>China</td>\n",
              "      <td>-0.215771</td>\n",
              "      <td>-0.559643</td>\n",
              "      <td>-0.773759</td>\n",
              "      <td>-1.370077</td>\n",
              "      <td>-0.164870</td>\n",
              "    </tr>\n",
              "    <tr>\n",
              "      <th>6</th>\n",
              "      <td>India</td>\n",
              "      <td>-0.397761</td>\n",
              "      <td>-0.693301</td>\n",
              "      <td>-0.139867</td>\n",
              "      <td>0.622031</td>\n",
              "      <td>-0.591278</td>\n",
              "    </tr>\n",
              "    <tr>\n",
              "      <th>7</th>\n",
              "      <td>Mongolia</td>\n",
              "      <td>-0.097512</td>\n",
              "      <td>-1.048251</td>\n",
              "      <td>-1.197122</td>\n",
              "      <td>-2.100624</td>\n",
              "      <td>-0.852326</td>\n",
              "    </tr>\n",
              "    <tr>\n",
              "      <th>8</th>\n",
              "      <td>Australia</td>\n",
              "      <td>-0.031785</td>\n",
              "      <td>-0.854702</td>\n",
              "      <td>-0.882073</td>\n",
              "      <td>0.339410</td>\n",
              "      <td>-1.312731</td>\n",
              "    </tr>\n",
              "    <tr>\n",
              "      <th>9</th>\n",
              "      <td>Kiribati</td>\n",
              "      <td>2.374042</td>\n",
              "      <td>-0.358027</td>\n",
              "      <td>0.510395</td>\n",
              "      <td>1.107965</td>\n",
              "      <td>0.417577</td>\n",
              "    </tr>\n",
              "  </tbody>\n",
              "</table>\n",
              "</div>"
            ],
            "text/plain": [
              "         Country  accessibility_to_cities  ...  temp_mean_annual  cloudiness\n",
              "0         Russia                 0.597697  ...         -2.798999    0.186917\n",
              "1  United States                -0.132247  ...         -1.342992   -0.360306\n",
              "2         Canada                 1.120175  ...         -2.863493    0.552274\n",
              "3     Antarctica                      NaN  ...               NaN    1.822679\n",
              "4      Indonesia                -0.197184  ...          0.738576    1.649642\n",
              "5          China                -0.215771  ...         -1.370077   -0.164870\n",
              "6          India                -0.397761  ...          0.622031   -0.591278\n",
              "7       Mongolia                -0.097512  ...         -2.100624   -0.852326\n",
              "8      Australia                -0.031785  ...          0.339410   -1.312731\n",
              "9       Kiribati                 2.374042  ...          1.107965    0.417577\n",
              "\n",
              "[10 rows x 6 columns]"
            ]
          },
          "metadata": {
            "tags": []
          },
          "execution_count": 75
        }
      ]
    },
    {
      "cell_type": "markdown",
      "metadata": {
        "id": "-QwhKs_qDomj"
      },
      "source": [
        "#### 2.7.2.3 Compare Normalized values to Original"
      ]
    },
    {
      "cell_type": "code",
      "metadata": {
        "id": "lY9rIJuzIYH6",
        "colab": {
          "base_uri": "https://localhost:8080/",
          "height": 425
        },
        "outputId": "439d8e32-b383-42cb-eb28-b12402610e81"
      },
      "source": [
        "TCT = pd.DataFrame(data = WorldEnvData, columns = ['tree_canopy_cover','cloudiness', 'temp_mean_annual','rain_mean_annual','accessibility_to_cities'])\n",
        "TCT.boxplot(figsize=(15,5))"
      ],
      "execution_count": 76,
      "outputs": [
        {
          "output_type": "stream",
          "text": [
            "/usr/local/lib/python3.7/dist-packages/numpy/core/_asarray.py:83: VisibleDeprecationWarning:\n",
            "\n",
            "Creating an ndarray from ragged nested sequences (which is a list-or-tuple of lists-or-tuples-or ndarrays with different lengths or shapes) is deprecated. If you meant to do this, you must specify 'dtype=object' when creating the ndarray\n",
            "\n"
          ],
          "name": "stderr"
        },
        {
          "output_type": "execute_result",
          "data": {
            "text/plain": [
              "<matplotlib.axes._subplots.AxesSubplot at 0x7fe71f40d410>"
            ]
          },
          "metadata": {
            "tags": []
          },
          "execution_count": 76
        },
        {
          "output_type": "display_data",
          "data": {
            "image/png": "[encoded data removed]",
            "text/plain": [
              "<Figure size 1080x360 with 1 Axes>"
            ]
          },
          "metadata": {
            "tags": [],
            "needs_background": "light"
          }
        }
      ]
    },
    {
      "cell_type": "markdown",
      "metadata": {
        "id": "QRZF22u5J2EX"
      },
      "source": [
        "Box Plot showing all five transformed values together."
      ]
    },
    {
      "cell_type": "code",
      "metadata": {
        "id": "ZFK4YX5RsAqy",
        "colab": {
          "base_uri": "https://localhost:8080/",
          "height": 295
        },
        "outputId": "75e400c7-bef7-4c8c-83a9-29515242eaf1"
      },
      "source": [
        "# Distribution of Rainfall\n",
        "WorldEnvData.hist(column = 'rain_mean_annual', bins = 20, figsize = (6, 4))\n",
        "plt.xlabel('Z-score normalization on annual rainfall')\n",
        "plt.ylabel('Freqency of countries')\n",
        "plt.title('Distribution of Annual Mean Rainfall')\n",
        "plt.show()"
      ],
      "execution_count": 77,
      "outputs": [
        {
          "output_type": "display_data",
          "data": {
            "image/png": "[encoded data removed]",
            "text/plain": [
              "<Figure size 432x288 with 1 Axes>"
            ]
          },
          "metadata": {
            "tags": [],
            "needs_background": "light"
          }
        }
      ]
    },
    {
      "cell_type": "code",
      "metadata": {
        "id": "0E2FSACSzAxI",
        "colab": {
          "base_uri": "https://localhost:8080/",
          "height": 295
        },
        "outputId": "1fca3f22-20e4-4db6-f47b-016329cff473"
      },
      "source": [
        "# Distribution of Temperature\n",
        "WorldEnvData.hist(column = 'temp_mean_annual', bins = 30, figsize = (6, 4))\n",
        "plt.xlabel('Country')\n",
        "plt.ylabel('temp_mean_annual')\n",
        "plt.title('Distribution of Annual Mean Temperature')\n",
        "plt.show()"
      ],
      "execution_count": 78,
      "outputs": [
        {
          "output_type": "display_data",
          "data": {
            "image/png": "[encoded data removed]",
            "text/plain": [
              "<Figure size 432x288 with 1 Axes>"
            ]
          },
          "metadata": {
            "tags": [],
            "needs_background": "light"
          }
        }
      ]
    },
    {
      "cell_type": "code",
      "metadata": {
        "id": "YaemnArPwnyP",
        "colab": {
          "base_uri": "https://localhost:8080/",
          "height": 295
        },
        "outputId": "32d400b2-a2d1-4da7-b1ee-050160c15474"
      },
      "source": [
        "# Distribution of Tree Canopy Cover\n",
        "WorldEnvData.hist(column = 'tree_canopy_cover', bins = 30, figsize = (6, 4))\n",
        "plt.xlabel('Country')\n",
        "plt.ylabel('tree_canopy_cover')\n",
        "plt.title('Distribution of Tree Canopy Cover')\n",
        "plt.show()"
      ],
      "execution_count": 79,
      "outputs": [
        {
          "output_type": "display_data",
          "data": {
            "image/png": "[encoded data removed]",
            "text/plain": [
              "<Figure size 432x288 with 1 Axes>"
            ]
          },
          "metadata": {
            "tags": [],
            "needs_background": "light"
          }
        }
      ]
    },
    {
      "cell_type": "code",
      "metadata": {
        "id": "TkhSVbO2xDPn",
        "colab": {
          "base_uri": "https://localhost:8080/",
          "height": 295
        },
        "outputId": "80260723-103d-48da-d1df-aa1a823967e4"
      },
      "source": [
        "# Distribution of Cloudiness\n",
        "WorldEnvData.hist(column = 'cloudiness', bins = 30, figsize = (6, 4))\n",
        "plt.xlabel('Country')\n",
        "plt.ylabel('cloudiness')\n",
        "plt.title('Distribution of Cloudiness')\n",
        "plt.show()"
      ],
      "execution_count": 80,
      "outputs": [
        {
          "output_type": "display_data",
          "data": {
            "image/png": "[encoded data removed]",
            "text/plain": [
              "<Figure size 432x288 with 1 Axes>"
            ]
          },
          "metadata": {
            "tags": [],
            "needs_background": "light"
          }
        }
      ]
    },
    {
      "cell_type": "markdown",
      "metadata": {
        "id": "qUe4OskbaOPP"
      },
      "source": [
        "## 2.7.3 Country Profile"
      ]
    },
    {
      "cell_type": "markdown",
      "metadata": {
        "id": "IvFDscN40SNU"
      },
      "source": [
        "#### 2.7.3.1 Examine for Outliers"
      ]
    },
    {
      "cell_type": "code",
      "metadata": {
        "id": "pg2u1s2QabVJ",
        "colab": {
          "base_uri": "https://localhost:8080/"
        },
        "outputId": "121f31ad-5d4c-432a-f655-bd482d22bd04"
      },
      "source": [
        "list(CtProfile.columns)"
      ],
      "execution_count": 81,
      "outputs": [
        {
          "output_type": "execute_result",
          "data": {
            "text/plain": [
              "['country',\n",
              " 'Population in thousands (2017)',\n",
              " 'GDP per capita (current US$)',\n",
              " 'Unemployment (% of labour force)',\n",
              " 'Urban population (% of total population)',\n",
              " 'Refugees and others of concern to UNHCR (in thousands)',\n",
              " 'Infant mortality rate (per 1000 live births',\n",
              " 'Health: Total expenditure (% of GDP)',\n",
              " 'Education: Government expenditure (% of GDP)',\n",
              " 'Mobile-cellular subscriptions (per 100 inhabitants)',\n",
              " 'Individuals using the Internet (per 100 inhabitants)',\n",
              " 'International migrant stock % Total Population',\n",
              " 'Urban Population using improved sanitation facilities %',\n",
              " 'Rural Population using improved sanitation facilities %',\n",
              " 'Life Expectancy At Birth Females Years',\n",
              " 'Life Expectancy At Birth Males Years',\n",
              " 'Tertiary gross enrol female',\n",
              " 'Tertiary gross enrol male',\n",
              " 'CO2 emissions (tons per capita)']"
            ]
          },
          "metadata": {
            "tags": []
          },
          "execution_count": 81
        }
      ]
    },
    {
      "cell_type": "code",
      "metadata": {
        "id": "cZplt7iKpm4e",
        "colab": {
          "base_uri": "https://localhost:8080/",
          "height": 424
        },
        "outputId": "d78ef885-b98c-462a-96bd-086801e4d279"
      },
      "source": [
        "Health = pd.DataFrame(data =CtProfile, columns = ['CO2 emissions (tons per capita)', 'Urban Population using improved sanitation facilities %','Rural Population using improved sanitation facilities %'])\n",
        "Health.boxplot(figsize=(15,5))"
      ],
      "execution_count": 82,
      "outputs": [
        {
          "output_type": "stream",
          "text": [
            "/usr/local/lib/python3.7/dist-packages/numpy/core/_asarray.py:83: VisibleDeprecationWarning:\n",
            "\n",
            "Creating an ndarray from ragged nested sequences (which is a list-or-tuple of lists-or-tuples-or ndarrays with different lengths or shapes) is deprecated. If you meant to do this, you must specify 'dtype=object' when creating the ndarray\n",
            "\n"
          ],
          "name": "stderr"
        },
        {
          "output_type": "execute_result",
          "data": {
            "text/plain": [
              "<matplotlib.axes._subplots.AxesSubplot at 0x7fe71f07b5d0>"
            ]
          },
          "metadata": {
            "tags": []
          },
          "execution_count": 82
        },
        {
          "output_type": "display_data",
          "data": {
            "image/png": "[encoded data removed]",
            "text/plain": [
              "<Figure size 1080x360 with 1 Axes>"
            ]
          },
          "metadata": {
            "tags": [],
            "needs_background": "light"
          }
        }
      ]
    },
    {
      "cell_type": "code",
      "metadata": {
        "id": "AjEptBH1qyYr",
        "colab": {
          "base_uri": "https://localhost:8080/",
          "height": 424
        },
        "outputId": "bb605a70-af31-4f7f-fdbd-97865adf6fd4"
      },
      "source": [
        "Health1 = pd.DataFrame(data =CtProfile, columns = ['Infant mortality rate (per 1000 live births','Health: Total expenditure (% of GDP)', 'Life Expectancy At Birth Females Years', 'Life Expectancy At Birth Males Years'])\n",
        "Health1.boxplot(figsize=(15,5))"
      ],
      "execution_count": 83,
      "outputs": [
        {
          "output_type": "stream",
          "text": [
            "/usr/local/lib/python3.7/dist-packages/numpy/core/_asarray.py:83: VisibleDeprecationWarning:\n",
            "\n",
            "Creating an ndarray from ragged nested sequences (which is a list-or-tuple of lists-or-tuples-or ndarrays with different lengths or shapes) is deprecated. If you meant to do this, you must specify 'dtype=object' when creating the ndarray\n",
            "\n"
          ],
          "name": "stderr"
        },
        {
          "output_type": "execute_result",
          "data": {
            "text/plain": [
              "<matplotlib.axes._subplots.AxesSubplot at 0x7fe71efbf1d0>"
            ]
          },
          "metadata": {
            "tags": []
          },
          "execution_count": 83
        },
        {
          "output_type": "display_data",
          "data": {
            "image/png": "[encoded data removed]",
            "text/plain": [
              "<Figure size 1080x360 with 1 Axes>"
            ]
          },
          "metadata": {
            "tags": [],
            "needs_background": "light"
          }
        }
      ]
    },
    {
      "cell_type": "code",
      "metadata": {
        "id": "PHcW6Mg8npqV",
        "colab": {
          "base_uri": "https://localhost:8080/",
          "height": 337
        },
        "outputId": "a2c3ce81-9676-4c0a-ad5c-eb28928cb41c"
      },
      "source": [
        "Dem = pd.DataFrame(data =CtProfile, columns = ['Urban population (% of total population)', 'International migrant stock % Total Population'])\n",
        "Dem.boxplot(figsize=(10,5))"
      ],
      "execution_count": 84,
      "outputs": [
        {
          "output_type": "execute_result",
          "data": {
            "text/plain": [
              "<matplotlib.axes._subplots.AxesSubplot at 0x7fe71ef4b610>"
            ]
          },
          "metadata": {
            "tags": []
          },
          "execution_count": 84
        },
        {
          "output_type": "display_data",
          "data": {
            "image/png": "[encoded data removed]",
            "text/plain": [
              "<Figure size 720x360 with 1 Axes>"
            ]
          },
          "metadata": {
            "tags": [],
            "needs_background": "light"
          }
        }
      ]
    },
    {
      "cell_type": "code",
      "metadata": {
        "id": "iA5pPecisl48",
        "colab": {
          "base_uri": "https://localhost:8080/",
          "height": 337
        },
        "outputId": "4cf57b58-5887-4f0f-af75-aded3f8f1f58"
      },
      "source": [
        "Dem1 = pd.DataFrame(data =CtProfile, columns = ['Refugees and others of concern to UNHCR (in thousands)'])\n",
        "Dem1.boxplot(figsize=(5,5))"
      ],
      "execution_count": 85,
      "outputs": [
        {
          "output_type": "execute_result",
          "data": {
            "text/plain": [
              "<matplotlib.axes._subplots.AxesSubplot at 0x7fe71ee76490>"
            ]
          },
          "metadata": {
            "tags": []
          },
          "execution_count": 85
        },
        {
          "output_type": "display_data",
          "data": {
            "image/png": "[encoded data removed]",
            "text/plain": [
              "<Figure size 360x360 with 1 Axes>"
            ]
          },
          "metadata": {
            "tags": [],
            "needs_background": "light"
          }
        }
      ]
    },
    {
      "cell_type": "code",
      "metadata": {
        "id": "xi3c_CqLtB3R",
        "colab": {
          "base_uri": "https://localhost:8080/",
          "height": 348
        },
        "outputId": "022c9358-ee26-41f5-ed50-3838e3b0a15e"
      },
      "source": [
        "Dem2 = pd.DataFrame(data =CtProfile, columns = ['Population in thousands (2017)'])\n",
        "Dem2.boxplot(figsize=(5,5))"
      ],
      "execution_count": 86,
      "outputs": [
        {
          "output_type": "execute_result",
          "data": {
            "text/plain": [
              "<matplotlib.axes._subplots.AxesSubplot at 0x7fe71ee688d0>"
            ]
          },
          "metadata": {
            "tags": []
          },
          "execution_count": 86
        },
        {
          "output_type": "display_data",
          "data": {
            "image/png": "[encoded data removed]",
            "text/plain": [
              "<Figure size 360x360 with 1 Axes>"
            ]
          },
          "metadata": {
            "tags": [],
            "needs_background": "light"
          }
        }
      ]
    },
    {
      "cell_type": "code",
      "metadata": {
        "id": "4GAfDT0hm_qa",
        "colab": {
          "base_uri": "https://localhost:8080/",
          "height": 424
        },
        "outputId": "8f96e9ba-3369-4f0a-a83d-84f23cde0fb1"
      },
      "source": [
        "Ed = pd.DataFrame(data =CtProfile, columns = ['Education: Government expenditure (% of GDP)','Tertiary gross enrol female', 'Tertiary gross enrol male'])\n",
        "Ed.boxplot(figsize=(15,5))"
      ],
      "execution_count": 87,
      "outputs": [
        {
          "output_type": "stream",
          "text": [
            "/usr/local/lib/python3.7/dist-packages/numpy/core/_asarray.py:83: VisibleDeprecationWarning:\n",
            "\n",
            "Creating an ndarray from ragged nested sequences (which is a list-or-tuple of lists-or-tuples-or ndarrays with different lengths or shapes) is deprecated. If you meant to do this, you must specify 'dtype=object' when creating the ndarray\n",
            "\n"
          ],
          "name": "stderr"
        },
        {
          "output_type": "execute_result",
          "data": {
            "text/plain": [
              "<matplotlib.axes._subplots.AxesSubplot at 0x7fe71ee3fed0>"
            ]
          },
          "metadata": {
            "tags": []
          },
          "execution_count": 87
        },
        {
          "output_type": "display_data",
          "data": {
            "image/png": "[encoded data removed]",
            "text/plain": [
              "<Figure size 1080x360 with 1 Axes>"
            ]
          },
          "metadata": {
            "tags": [],
            "needs_background": "light"
          }
        }
      ]
    },
    {
      "cell_type": "code",
      "metadata": {
        "id": "3xN1Hnlaalk-",
        "colab": {
          "base_uri": "https://localhost:8080/",
          "height": 282
        },
        "outputId": "a72651cf-0a9e-43c5-9edf-36f1f84e671d"
      },
      "source": [
        "Uemp = pd.DataFrame((np.log(CtProfile['Unemployment (% of labour force)'])))\n",
        "Uemp.boxplot()"
      ],
      "execution_count": 88,
      "outputs": [
        {
          "output_type": "execute_result",
          "data": {
            "text/plain": [
              "<matplotlib.axes._subplots.AxesSubplot at 0x7fe71edddc90>"
            ]
          },
          "metadata": {
            "tags": []
          },
          "execution_count": 88
        },
        {
          "output_type": "display_data",
          "data": {
            "image/png": "[encoded data removed]",
            "text/plain": [
              "<Figure size 432x288 with 1 Axes>"
            ]
          },
          "metadata": {
            "tags": [],
            "needs_background": "light"
          }
        }
      ]
    },
    {
      "cell_type": "code",
      "metadata": {
        "id": "67idSixwlqg-",
        "colab": {
          "base_uri": "https://localhost:8080/",
          "height": 282
        },
        "outputId": "f81e69df-00fc-4cf7-d98d-692e7dbf36b8"
      },
      "source": [
        "GDP = pd.DataFrame((np.log(CtProfile['GDP per capita (current US$)'])))\n",
        "GDP.boxplot()"
      ],
      "execution_count": 89,
      "outputs": [
        {
          "output_type": "execute_result",
          "data": {
            "text/plain": [
              "<matplotlib.axes._subplots.AxesSubplot at 0x7fe71f1347d0>"
            ]
          },
          "metadata": {
            "tags": []
          },
          "execution_count": 89
        },
        {
          "output_type": "display_data",
          "data": {
            "image/png": "[encoded data removed]",
            "text/plain": [
              "<Figure size 432x288 with 1 Axes>"
            ]
          },
          "metadata": {
            "tags": [],
            "needs_background": "light"
          }
        }
      ]
    },
    {
      "cell_type": "markdown",
      "metadata": {
        "id": "0esK-9SPvU0K"
      },
      "source": [
        "#### 2.7.3.2 Apply Outlier Corrections"
      ]
    },
    {
      "cell_type": "code",
      "metadata": {
        "id": "tkxIiwPs0HuQ",
        "colab": {
          "base_uri": "https://localhost:8080/",
          "height": 282
        },
        "outputId": "813422c1-f470-4e03-be33-c3098bfcf605"
      },
      "source": [
        "# Convert Population in thousands value.\n",
        "CT_Pop_Log = pd.DataFrame(np.log(CtProfile['Population in thousands (2017)'])) \n",
        "CT_Pop = CT_Pop_Log['Population in thousands (2017)'].tolist()\n",
        "CT_Pop_List = CtProfile['Population in thousands (2017)'].tolist()\n",
        "CtProfile['Population in thousands (2017)'].replace(CT_Pop_List,CT_Pop,inplace=True)\n",
        "\n",
        "df = pd.DataFrame(CtProfile['Population in thousands (2017)'])\n",
        "df.boxplot()"
      ],
      "execution_count": 90,
      "outputs": [
        {
          "output_type": "execute_result",
          "data": {
            "text/plain": [
              "<matplotlib.axes._subplots.AxesSubplot at 0x7fe71f21f790>"
            ]
          },
          "metadata": {
            "tags": []
          },
          "execution_count": 90
        },
        {
          "output_type": "display_data",
          "data": {
            "image/png": "[encoded data removed]",
            "text/plain": [
              "<Figure size 432x288 with 1 Axes>"
            ]
          },
          "metadata": {
            "tags": [],
            "needs_background": "light"
          }
        }
      ]
    },
    {
      "cell_type": "code",
      "metadata": {
        "id": "sxu7wFetvTOi",
        "colab": {
          "base_uri": "https://localhost:8080/",
          "height": 282
        },
        "outputId": "6fb2ffe0-02d6-4e70-e9aa-1f114bc03b21"
      },
      "source": [
        "#Apply log corrections to attributes that have a lot of outliers.\n",
        "\n",
        "# Convert CO2 value.\n",
        "CT_CO2_Log = pd.DataFrame(np.log(CtProfile['CO2 emissions (tons per capita)'])) \n",
        "CT_CO2 = CT_CO2_Log['CO2 emissions (tons per capita)'].tolist()\n",
        "CT_CO2_List = CtProfile['CO2 emissions (tons per capita)'].tolist()\n",
        "CtProfile['CO2 emissions (tons per capita)'].replace(CT_CO2_List,CT_CO2,inplace=True)\n",
        "\n",
        "df = pd.DataFrame(CtProfile['CO2 emissions (tons per capita)'])\n",
        "df.boxplot()"
      ],
      "execution_count": 91,
      "outputs": [
        {
          "output_type": "execute_result",
          "data": {
            "text/plain": [
              "<matplotlib.axes._subplots.AxesSubplot at 0x7fe71f2cbe10>"
            ]
          },
          "metadata": {
            "tags": []
          },
          "execution_count": 91
        },
        {
          "output_type": "display_data",
          "data": {
            "image/png": "[encoded data removed]",
            "text/plain": [
              "<Figure size 432x288 with 1 Axes>"
            ]
          },
          "metadata": {
            "tags": [],
            "needs_background": "light"
          }
        }
      ]
    },
    {
      "cell_type": "code",
      "metadata": {
        "id": "5lT7qYEjyaCm",
        "colab": {
          "base_uri": "https://localhost:8080/",
          "height": 282
        },
        "outputId": "3aefd50b-42c7-4e11-b22b-69bb5854b21a"
      },
      "source": [
        "# Convert International Migrant value.\n",
        "CT_Mig_Log = pd.DataFrame(np.log(CtProfile['International migrant stock % Total Population'])) \n",
        "CT_Mig = CT_Mig_Log['International migrant stock % Total Population'].tolist()\n",
        "CT_Mig_List = CtProfile['International migrant stock % Total Population'].tolist()\n",
        "CtProfile['International migrant stock % Total Population'].replace(CT_Mig_List,CT_Mig,inplace=True)\n",
        "\n",
        "df = pd.DataFrame(CtProfile['International migrant stock % Total Population'])\n",
        "df.boxplot()"
      ],
      "execution_count": 92,
      "outputs": [
        {
          "output_type": "execute_result",
          "data": {
            "text/plain": [
              "<matplotlib.axes._subplots.AxesSubplot at 0x7fe71f176710>"
            ]
          },
          "metadata": {
            "tags": []
          },
          "execution_count": 92
        },
        {
          "output_type": "display_data",
          "data": {
            "image/png": "[encoded data removed]",
            "text/plain": [
              "<Figure size 432x288 with 1 Axes>"
            ]
          },
          "metadata": {
            "tags": [],
            "needs_background": "light"
          }
        }
      ]
    },
    {
      "cell_type": "code",
      "metadata": {
        "id": "zJfxKaVQzIBm",
        "colab": {
          "base_uri": "https://localhost:8080/",
          "height": 282
        },
        "outputId": "5ef139c6-653b-475e-a127-f491ddb54829"
      },
      "source": [
        "# Convert Refugees and others of concern to UNHCR (in thousands) value.\n",
        "CT_Ref_Log = pd.DataFrame(np.log(CtProfile['Refugees and others of concern to UNHCR (in thousands)'])) \n",
        "CT_Ref = CT_Ref_Log['Refugees and others of concern to UNHCR (in thousands)'].tolist()\n",
        "CT_Ref_List = CtProfile['Refugees and others of concern to UNHCR (in thousands)'].tolist()\n",
        "CtProfile['Refugees and others of concern to UNHCR (in thousands)'].replace(CT_Ref_List,CT_Ref,inplace=True)\n",
        "\n",
        "df = pd.DataFrame(CtProfile['Refugees and others of concern to UNHCR (in thousands)'])\n",
        "df.boxplot()"
      ],
      "execution_count": 93,
      "outputs": [
        {
          "output_type": "execute_result",
          "data": {
            "text/plain": [
              "<matplotlib.axes._subplots.AxesSubplot at 0x7fe71f364510>"
            ]
          },
          "metadata": {
            "tags": []
          },
          "execution_count": 93
        },
        {
          "output_type": "display_data",
          "data": {
            "image/png": "[encoded data removed]",
            "text/plain": [
              "<Figure size 432x288 with 1 Axes>"
            ]
          },
          "metadata": {
            "tags": [],
            "needs_background": "light"
          }
        }
      ]
    },
    {
      "cell_type": "markdown",
      "metadata": {
        "id": "xUqRC3E99KpE"
      },
      "source": [
        "# **3 Database Section**\n",
        "\n"
      ]
    },
    {
      "cell_type": "markdown",
      "metadata": {
        "id": "nuZzhbzz4tll"
      },
      "source": [
        "## **3.1 Create SQLite3 Database**"
      ]
    },
    {
      "cell_type": "code",
      "metadata": {
        "id": "YLOXbBarLeR8",
        "colab": {
          "base_uri": "https://localhost:8080/"
        },
        "outputId": "24170fac-09b3-429b-c1fe-4b98d090042c"
      },
      "source": [
        "try:\n",
        "    conn = sqlite3.connect(\"WorldHappiness.db\")\n",
        "    print('Database created successfully!')\n",
        "except Exception as e:\n",
        "    print('Database could not be created - ' + str(e))"
      ],
      "execution_count": 94,
      "outputs": [
        {
          "output_type": "stream",
          "text": [
            "Database created successfully!\n"
          ],
          "name": "stdout"
        }
      ]
    },
    {
      "cell_type": "markdown",
      "metadata": {
        "id": "U0RzE_CKOiMR"
      },
      "source": [
        "## **3.2 Create Tables**"
      ]
    },
    {
      "cell_type": "markdown",
      "metadata": {
        "id": "9UEuopkK5LBT"
      },
      "source": [
        "### **3.2.1 World Happiness 2017**"
      ]
    },
    {
      "cell_type": "code",
      "metadata": {
        "id": "KP-pksY08qHF",
        "colab": {
          "base_uri": "https://localhost:8080/"
        },
        "outputId": "4fa9fc9b-b38d-46d3-ef25-e3bc1931ba96"
      },
      "source": [
        "# Drop table here in case entire file it reprocessed.\n",
        "#\n",
        "conn = sqlite3.connect(\"WorldHappiness.db\")\n",
        "try:\n",
        "    conn.execute('Drop table World_Happiness_2017')\n",
        "    print('World_Happiness_2017 table dropped successfully!')\n",
        "except Exception as e:\n",
        "    print('World_Happiness_2017 table was not dropped - Error: ' + str(e))\n",
        "finally:\n",
        "    conn.close()"
      ],
      "execution_count": 95,
      "outputs": [
        {
          "output_type": "stream",
          "text": [
            "World_Happiness_2017 table was not dropped - Error: no such table: World_Happiness_2017\n"
          ],
          "name": "stdout"
        }
      ]
    },
    {
      "cell_type": "code",
      "metadata": {
        "id": "73IAezR_47Ib",
        "colab": {
          "base_uri": "https://localhost:8080/"
        },
        "outputId": "278e5753-59a2-4997-bef8-198c648a1019"
      },
      "source": [
        "conn = sqlite3.connect(\"WorldHappiness.db\")\n",
        "try:\n",
        "    conn.execute(''' \n",
        "    Create Table World_Happiness_2017\n",
        "    (\n",
        "      COUNTRY                       VARCHAR(50)   NOT NULL,\n",
        "\t    HAPPINESS_RANK                INTEGER       NOT NULL,\n",
        "\t    HAPPINESS_SCORE               REAL          NOT NULL,\n",
        "\t    WHISKER_HIGH                  REAL          NOT NULL,\n",
        "\t    WHISKER_LOW                   REAL          NOT NULL,\n",
        "      ECONOMY_GDP_PER_CAPITA        REAL          NOT NULL,\n",
        "\t    FAMILY                        REAL          NOT NULL,\n",
        "      HEALTH_LIFE_EXPECTANCY        REAL          NOT NULL,\n",
        "\t    FREEDOM                       REAL          NOT NULL,\n",
        "      GENEROSITY                    REAL          NOT NULL,\n",
        "\t    TRUST_GOVERNMENT_CORRUPTION   REAL          NOT NULL,\n",
        "\t    DYSTOPIA_RESIDUAL             REAL          NOT NULL,\n",
        "      CONSTRAINT PK_WORLD_HAPPINESS_2017 PRIMARY KEY (Country)\n",
        "    );''')\n",
        "    print('Table World_Happiness_2017 Created successfully!')\n",
        "except Exception as e:\n",
        "    print('Table World_Happiness_2017 could not be created - Error: ' + str(e))\n",
        "finally:\n",
        "    conn.close()\n"
      ],
      "execution_count": 96,
      "outputs": [
        {
          "output_type": "stream",
          "text": [
            "Table World_Happiness_2017 Created successfully!\n"
          ],
          "name": "stdout"
        }
      ]
    },
    {
      "cell_type": "markdown",
      "metadata": {
        "id": "4lNCkwUc5i2z"
      },
      "source": [
        "### **3.2.2 World Environmental Data**"
      ]
    },
    {
      "cell_type": "code",
      "metadata": {
        "id": "2iQXIM2tGZmA",
        "colab": {
          "base_uri": "https://localhost:8080/"
        },
        "outputId": "ab85c3ae-b680-427c-ca4f-e7a4eb946e0f"
      },
      "source": [
        "# Drop table here in case entire file it reprocessed.\n",
        "#\n",
        "conn = sqlite3.connect(\"WorldHappiness.db\")\n",
        "try:\n",
        "    conn.execute('Drop table World_Environmental_Data')\n",
        "    print('World_Environmental_Data table dropped successfully!')\n",
        "except Exception as e:\n",
        "    print('World_Environmental_Data table was not dropped - Error: ' + str(e))\n",
        "finally:\n",
        "    conn.close()"
      ],
      "execution_count": 97,
      "outputs": [
        {
          "output_type": "stream",
          "text": [
            "World_Environmental_Data table was not dropped - Error: no such table: World_Environmental_Data\n"
          ],
          "name": "stdout"
        }
      ]
    },
    {
      "cell_type": "code",
      "metadata": {
        "id": "bYf1nZ0k5bCD",
        "colab": {
          "base_uri": "https://localhost:8080/"
        },
        "outputId": "87a762fc-59b7-4512-8be2-b4bb8b9ebe5f"
      },
      "source": [
        "conn = sqlite3.connect(\"WorldHappiness.db\")\n",
        "\n",
        "try:\n",
        "    conn.execute(''' \n",
        "    Create Table World_Environmental_Data\n",
        "    (\n",
        "      COUNTRY                   VARCHAR2(50)  NOT NULL,\n",
        "\t    ACCESSIBILITY_TO_CITIES\t\tREAL          NULL,\n",
        "\t    TREE_CANOPY_COVER         REAL          NULL,\n",
        "\t    RAIN_MEAN_ANNUAL          REAL          NULL,\n",
        "\t    TEMP_MEAN_ANNUAL          REAL          NULL,\n",
        "\t    CLOUDINESS                REAL          NULL,\n",
        "      CONSTRAINT PK_WORLD_ENVIRONMENTAL_DATA PRIMARY KEY (Country),\n",
        "      FOREIGN KEY (COUNTRY) REFERENCES World_Happiness_2017(COUNTRY)\n",
        "    );''')\n",
        "    print('Table World_Environmental_Data Created successfully!')\n",
        "except Exception as e:\n",
        "    print('Table World_Environmental_Data could not be created - Error: ' + str(e))\n",
        "finally:\n",
        "    conn.close()"
      ],
      "execution_count": 98,
      "outputs": [
        {
          "output_type": "stream",
          "text": [
            "Table World_Environmental_Data Created successfully!\n"
          ],
          "name": "stdout"
        }
      ]
    },
    {
      "cell_type": "markdown",
      "metadata": {
        "id": "MRi6fGuA5q-7"
      },
      "source": [
        "### **3.2.3 Country Profile Variables**"
      ]
    },
    {
      "cell_type": "code",
      "metadata": {
        "id": "xLXNi-4ELB4G",
        "colab": {
          "base_uri": "https://localhost:8080/"
        },
        "outputId": "ca74c332-5735-4492-9b68-558a4b03c3e5"
      },
      "source": [
        "# Drop table here in case entire file it reprocessed.\n",
        "#\n",
        "conn = sqlite3.connect(\"WorldHappiness.db\")\n",
        "try:\n",
        "    conn.execute('Drop table Country_Profile_Variables')\n",
        "    print('Country_Profile_Variables table dropped successfully!')\n",
        "except Exception as e:\n",
        "    print('Country_Profile_Variables table was not dropped - Error: ' + str(e))\n",
        "finally:\n",
        "    conn.close()"
      ],
      "execution_count": 99,
      "outputs": [
        {
          "output_type": "stream",
          "text": [
            "Country_Profile_Variables table was not dropped - Error: no such table: Country_Profile_Variables\n"
          ],
          "name": "stdout"
        }
      ]
    },
    {
      "cell_type": "code",
      "metadata": {
        "id": "99IiPS6I5zNL",
        "colab": {
          "base_uri": "https://localhost:8080/"
        },
        "outputId": "d79ed8ce-673a-44f0-bff0-9bf9af39a738"
      },
      "source": [
        "conn = sqlite3.connect(\"WorldHappiness.db\")\n",
        "\n",
        "try:\n",
        "    conn.execute('''Create Table Country_Profile_Variables\n",
        "    (\n",
        "\t    COUNTRY                                                       VARCHAR(50) NOT NULL,\n",
        "\t    POPULATION_IN_THOUSANDS_2017                                  INTEGER     NULL,\n",
        "\t    GDP_PER_CAPITA_CURRENT_US                                     REAL        NULL,\n",
        "\t    UNEMPLOYMENT_OF_LABOUR_FORCE                                  REAL\t\t\t\tNULL,\n",
        "\t    URBAN_POPULATION_OF_TOTAL_POPULATION                          REAL        NULL,\n",
        "\t    REFUGEES_AND_OTHERS_OF_CONCERN_TO_UNHCR_IN_THOUSANDS          REAL\t\t\t\tNULL,\n",
        "\t    INFANT_MORTALITY_RATE_PER_1000_LIVE_BIRTHS                    REAL\t\t\t\tNULL,\n",
        "\t    HEALTH_TOTAL_EXPENDITURE_OF_GDP                               REAL        NULL,\n",
        "\t    EDUCATION_GOVERNMENT_EXPENDITURE_OF_GDP                       REAL\t\t\t\tNULL,\n",
        "\t    MOBILE_CELLULAR_SUBSCRIPTIONS_PER_100_INHABITANTS             REAL\t\t\t\tNULL,\n",
        "\t    INDIVIDUALS_USING_THE_INTERNET_PER_100_INHABITANTS            INTEGER     NULL,\n",
        "\t    INTERNATIONAL_MIGRANT_STOCK_OF_TOTAL_POP                  \t\tREAL\t\t\t\tNULL,\n",
        "\t\t\tPOP_USING_IMPROVED_SANITATION_FACILITIES_URBAN          \t\t\tREAL \t\t\t\tNULL,\n",
        "\t\t\tPOP_USING_IMPROVED_SANITATION_FACILITIES_RURAL\t\t\t\t\t\t\t\tREAL\t\t\t\tNULL,\n",
        "\t\t\tLIFE_EXPECTANCY_AT_BIRTH_FEMALES_YEARS\t\t\t\t\t\t\t\t\t\t\t\tREAL\t\t\t\tNULL,\n",
        "\t\t\tLIFE_EXPECTANCY_AT_BIRTH_MALES_YEARS                  \t\t\t\tREAL\t\t\t\tNULL,\n",
        "\t\t\tTERTIARY_GROSS_ENROL_FEMALE\t\t\t\t\t\t\t\t\t\t\t\t\t\t\t\t\t\tREAL\t\t\t\tNULL,\n",
        "\t\t\tTERTIARY_GROSS_ENROL_MALE\t\t\t\t\t\t\t\t\t\t\t\t\t\t\t\t\t\t\tREAL\t\t\t\tNULL,\n",
        "\t\t\tCO2_EMISSIONS_PER_CAPITA\t\t\t\t\t\t\t\t\t\t\t\t\t\t\t\t\t\t\tREAL\t\t\t\tNULL,\n",
        "\t\t\tCONSTRAINT PK_Country_Profile_Variables PRIMARY KEY (Country),\n",
        "      FOREIGN KEY (COUNTRY) REFERENCES World_Happiness_2017(COUNTRY)\n",
        "    );''')\n",
        "    print('Table Country_Profile_Variables Created successfully!')\n",
        "except Exception as e:\n",
        "    print('Table Country_Profile_Variables could not be created - Error: ' + str(e))\n",
        "finally:\n",
        "    conn.close()"
      ],
      "execution_count": 100,
      "outputs": [
        {
          "output_type": "stream",
          "text": [
            "Table Country_Profile_Variables Created successfully!\n"
          ],
          "name": "stdout"
        }
      ]
    },
    {
      "cell_type": "markdown",
      "metadata": {
        "id": "NVuTdAOW53fr"
      },
      "source": [
        "### **3.2.4 IMF Combined Data Table**"
      ]
    },
    {
      "cell_type": "code",
      "metadata": {
        "id": "B1CSoxqJS3TJ",
        "colab": {
          "base_uri": "https://localhost:8080/"
        },
        "outputId": "3b5d9634-0d4e-44e0-c37b-f07895712b9d"
      },
      "source": [
        "# Drop table here in case entire file it reprocessed.\n",
        "#\n",
        "conn = sqlite3.connect(\"WorldHappiness.db\")\n",
        "try:\n",
        "    conn.execute('Drop table IMF_Combined_Data_2017')\n",
        "    print('IMF_Combined_Data_2017 table dropped successfully!')\n",
        "except Exception as e:\n",
        "    print('IMF_Combined_Data_2017 table was not dropped - Error: ' + str(e))\n",
        "finally:\n",
        "    conn.close()"
      ],
      "execution_count": 101,
      "outputs": [
        {
          "output_type": "stream",
          "text": [
            "IMF_Combined_Data_2017 table was not dropped - Error: no such table: IMF_Combined_Data_2017\n"
          ],
          "name": "stdout"
        }
      ]
    },
    {
      "cell_type": "code",
      "metadata": {
        "id": "Z7eTvuj16AJ7",
        "colab": {
          "base_uri": "https://localhost:8080/"
        },
        "outputId": "e7f96001-71ff-45c1-e045-97db670d2b0c"
      },
      "source": [
        "conn = sqlite3.connect(\"WorldHappiness.db\")\n",
        "\n",
        "try:\n",
        "    conn.execute('''Create Table IMF_COMBINED_DATA_2017\n",
        "    (\n",
        "\t    COUNTRY VARCHAR(50) NOT NULL,\n",
        "      EXPENSE REAL        NOT NULL,\n",
        "\t    SAVINGS REAL        NOT NULL,\n",
        "      UNITS   VARCHAR(50) NOT NULL,\n",
        "\t    CONSTRAINT PK_IMF_GROSS_NATIONAL_SAVINGS_2017 PRIMARY KEY (Country),\n",
        "      FOREIGN KEY (COUNTRY) REFERENCES World_Happiness_2017(COUNTRY)\n",
        "    );''')\n",
        "    print('Table IMF_Combined_Data_2017 Created successfully!')\n",
        "except Exception as e:\n",
        "    print('Table IMF_Combined_Data_2017 could not be created - Error: ' + str(e))\n",
        "finally:\n",
        "    conn.close()"
      ],
      "execution_count": 102,
      "outputs": [
        {
          "output_type": "stream",
          "text": [
            "Table IMF_Combined_Data_2017 Created successfully!\n"
          ],
          "name": "stdout"
        }
      ]
    },
    {
      "cell_type": "markdown",
      "metadata": {
        "id": "XS9RxiYb6SYD"
      },
      "source": [
        "### **3.2.5 Country/Region Reference Table**"
      ]
    },
    {
      "cell_type": "code",
      "metadata": {
        "id": "kDzhZMx7LZno",
        "colab": {
          "base_uri": "https://localhost:8080/"
        },
        "outputId": "2f83a20c-10f7-4a6b-ab8c-b6963ec037ba"
      },
      "source": [
        "# Drop table here in case entire file it reprocessed.\n",
        "#\n",
        "conn = sqlite3.connect(\"WorldHappiness.db\")\n",
        "try:\n",
        "    conn.execute('Drop table Country_Region')\n",
        "    print('Country_Region table dropped successfully!')\n",
        "except Exception as e:\n",
        "    print('Country_Region table was not dropped - Error: ' + str(e))\n",
        "finally:\n",
        "    conn.close()"
      ],
      "execution_count": 103,
      "outputs": [
        {
          "output_type": "stream",
          "text": [
            "Country_Region table was not dropped - Error: no such table: Country_Region\n"
          ],
          "name": "stdout"
        }
      ]
    },
    {
      "cell_type": "code",
      "metadata": {
        "id": "LDJHOfeg6Wwc",
        "colab": {
          "base_uri": "https://localhost:8080/"
        },
        "outputId": "31f7a12d-9106-41e7-b369-d92020ecbbd1"
      },
      "source": [
        "conn = sqlite3.connect(\"WorldHappiness.db\")\n",
        "\n",
        "try:\n",
        "    conn.execute('''Create Table Country_Region\n",
        "    (\n",
        "\t    COUNTRY VARCHAR(50) NOT NULL,\n",
        "\t    REGION  VARCHAR(50) NOT NULL,\n",
        "\t    CONSTRAINT PK_Country_Region PRIMARY KEY (Country,Region),\n",
        "      FOREIGN KEY (COUNTRY) REFERENCES World_Happiness_2017(COUNTRY)\n",
        "    );''')\n",
        "    print('Table IMF_Gross_National_Savings_2017 Created successfully!')\n",
        "except Exception as e:\n",
        "    print('Table IMF_Gross_National_Savings_2017 could not be created - Error: ' + str(e))\n",
        "finally:\n",
        "    conn.close()"
      ],
      "execution_count": 104,
      "outputs": [
        {
          "output_type": "stream",
          "text": [
            "Table IMF_Gross_National_Savings_2017 Created successfully!\n"
          ],
          "name": "stdout"
        }
      ]
    },
    {
      "cell_type": "markdown",
      "metadata": {
        "id": "BAehMkur9hRV"
      },
      "source": [
        "## **3.3 Load Data**"
      ]
    },
    {
      "cell_type": "markdown",
      "metadata": {
        "id": "1LHI8UNs9Byb"
      },
      "source": [
        "### **3.3.1 Load WorldHappiness 2017 data**"
      ]
    },
    {
      "cell_type": "code",
      "metadata": {
        "id": "S-ncfV2E9v20",
        "colab": {
          "base_uri": "https://localhost:8080/"
        },
        "outputId": "b369b66e-ea3e-412f-e38d-72973f7c919e"
      },
      "source": [
        "wh17_list = worldhappy17.values.tolist()\n",
        "\n",
        "conn = sqlite3.connect(\"WorldHappiness.db\")\n",
        "\n",
        "cursor = conn.cursor()\n",
        "\n",
        "try:\n",
        "    cursor.executemany(''' \n",
        "    INSERT INTO World_Happiness_2017 (COUNTRY, HAPPINESS_RANK, HAPPINESS_SCORE, WHISKER_HIGH, WHISKER_LOW, ECONOMY_GDP_PER_CAPITA, FAMILY, HEALTH_LIFE_EXPECTANCY, FREEDOM, GENEROSITY, TRUST_GOVERNMENT_CORRUPTION, DYSTOPIA_RESIDUAL)\n",
        "    values (?,?,?,?,?,?,?,?,?,?,?,?)''', wh17_list)\n",
        "    conn.commit()\n",
        "    print('World_Happiness_2017 data loaded successfully!')\n",
        "except Exception as e:\n",
        "  print('World_Happiness_2017 data could not be loaded into table - Error: ' + str(e))\n",
        "finally:\n",
        "    conn.close()"
      ],
      "execution_count": 105,
      "outputs": [
        {
          "output_type": "stream",
          "text": [
            "World_Happiness_2017 data loaded successfully!\n"
          ],
          "name": "stdout"
        }
      ]
    },
    {
      "cell_type": "code",
      "metadata": {
        "id": "gUxb5yiQA_-1",
        "colab": {
          "base_uri": "https://localhost:8080/"
        },
        "outputId": "b3a936a7-b247-402c-f7ff-a50031c093c4"
      },
      "source": [
        "# Data Load Check\n",
        "conn = sqlite3.connect(\"WorldHappiness.db\")\n",
        "cur = conn.cursor()\n",
        "cur.execute(\"select count(*) FROM World_Happiness_2017\")\n",
        "print(\"World_Happiness_2017 Rows Loaded = %3d\" %(cur.fetchone()[0]))"
      ],
      "execution_count": 106,
      "outputs": [
        {
          "output_type": "stream",
          "text": [
            "World_Happiness_2017 Rows Loaded = 155\n"
          ],
          "name": "stdout"
        }
      ]
    },
    {
      "cell_type": "markdown",
      "metadata": {
        "id": "N_VzFB5REC7T"
      },
      "source": [
        "### **3.3.2 Load World Environment Data**"
      ]
    },
    {
      "cell_type": "code",
      "metadata": {
        "id": "s2faiTz4ELot",
        "colab": {
          "base_uri": "https://localhost:8080/"
        },
        "outputId": "25a02321-d653-4232-debe-8a600997bbe0"
      },
      "source": [
        "wed_list = WorldEnvData.values.tolist()\n",
        "\n",
        "conn = sqlite3.connect(\"WorldHappiness.db\")\n",
        "\n",
        "cursor = conn.cursor()\n",
        "\n",
        "try:\n",
        "    cursor.executemany(''' \n",
        "    INSERT INTO World_Environmental_Data (COUNTRY, ACCESSIBILITY_TO_CITIES, TREE_CANOPY_COVER, RAIN_MEAN_ANNUAL, TEMP_MEAN_ANNUAL, CLOUDINESS)\n",
        "      values (?,?,?,?,?,?)''', wed_list)\n",
        "    conn.commit()\n",
        "    print('World_Environmental_Data data loaded successfully!')\n",
        "except Exception as e:\n",
        "  print('World_Environmental_Data data could not be loaded into table - Error: ' + str(e))\n",
        "finally:\n",
        "    conn.close()"
      ],
      "execution_count": 107,
      "outputs": [
        {
          "output_type": "stream",
          "text": [
            "World_Environmental_Data data loaded successfully!\n"
          ],
          "name": "stdout"
        }
      ]
    },
    {
      "cell_type": "code",
      "metadata": {
        "id": "PqqnJiJsFuhh",
        "colab": {
          "base_uri": "https://localhost:8080/"
        },
        "outputId": "21bf026d-7536-491a-aebd-f88ce3c15120"
      },
      "source": [
        "# Data Load Check\n",
        "conn = sqlite3.connect(\"WorldHappiness.db\")\n",
        "cur = conn.cursor()\n",
        "cur.execute(\"select count(*) FROM World_Environmental_Data\")\n",
        "print(\"World_Environmental_Data Rows Loaded = %3d\" %(cur.fetchone()[0]))"
      ],
      "execution_count": 108,
      "outputs": [
        {
          "output_type": "stream",
          "text": [
            "World_Environmental_Data Rows Loaded = 243\n"
          ],
          "name": "stdout"
        }
      ]
    },
    {
      "cell_type": "markdown",
      "metadata": {
        "id": "s6alRTBxaMkj"
      },
      "source": [
        "### **3.3.3 Load Country Profile Variables**\n"
      ]
    },
    {
      "cell_type": "code",
      "metadata": {
        "id": "2L5jeFrbaU9x",
        "colab": {
          "base_uri": "https://localhost:8080/"
        },
        "outputId": "caa44b3d-2968-4057-ea80-726f0bc1ee86"
      },
      "source": [
        "CPV_List = CtProfile.values.tolist()\n",
        "\n",
        "conn = sqlite3.connect(\"WorldHappiness.db\")\n",
        "\n",
        "cursor = conn.cursor()\n",
        "\n",
        "try:\n",
        "    cursor.executemany(''' \n",
        "    INSERT INTO Country_Profile_Variables (COUNTRY, POPULATION_IN_THOUSANDS_2017, GDP_PER_CAPITA_CURRENT_US, UNEMPLOYMENT_OF_LABOUR_FORCE,\n",
        "\t                                         URBAN_POPULATION_OF_TOTAL_POPULATION, REFUGEES_AND_OTHERS_OF_CONCERN_TO_UNHCR_IN_THOUSANDS,\n",
        "\t                                         INFANT_MORTALITY_RATE_PER_1000_LIVE_BIRTHS, HEALTH_TOTAL_EXPENDITURE_OF_GDP, EDUCATION_GOVERNMENT_EXPENDITURE_OF_GDP,\n",
        "\t                                         MOBILE_CELLULAR_SUBSCRIPTIONS_PER_100_INHABITANTS, INDIVIDUALS_USING_THE_INTERNET_PER_100_INHABITANTS,\n",
        "\t                                         INTERNATIONAL_MIGRANT_STOCK_OF_TOTAL_POP, POP_USING_IMPROVED_SANITATION_FACILITIES_URBAN,\n",
        "\t\t                                       POP_USING_IMPROVED_SANITATION_FACILITIES_RURAL, LIFE_EXPECTANCY_AT_BIRTH_FEMALES_YEARS, LIFE_EXPECTANCY_AT_BIRTH_MALES_YEARS,\n",
        "                                           TERTIARY_GROSS_ENROL_FEMALE, TERTIARY_GROSS_ENROL_MALE, CO2_EMISSIONS_PER_CAPITA)\n",
        "    values (?,?,?,?,?,?,?,?,?,?,?,?,?,?,?,?,?,?,?)''', CPV_List)\n",
        "    conn.commit()\n",
        "    print('Country_Profile_Variables data loaded successfully!')\n",
        "except Exception as e:\n",
        "  print('Country_Profile_Variables data could not be loaded into table - Error: ' + str(e))\n",
        "finally:\n",
        "    conn.close()"
      ],
      "execution_count": 109,
      "outputs": [
        {
          "output_type": "stream",
          "text": [
            "Country_Profile_Variables data loaded successfully!\n"
          ],
          "name": "stdout"
        }
      ]
    },
    {
      "cell_type": "code",
      "metadata": {
        "id": "kSvAmCz4asey",
        "colab": {
          "base_uri": "https://localhost:8080/"
        },
        "outputId": "d04dca26-5666-4714-85a4-0874d7bb0794"
      },
      "source": [
        "# Data Load Check - can be deleted \n",
        "conn = sqlite3.connect(\"WorldHappiness.db\")\n",
        "cur = conn.cursor()\n",
        "cur.execute(\"select count(*) FROM Country_Profile_Variables\")\n",
        "print(\"Country_Profile_Variables Rows Loaded = %3d\" %cur.fetchone()[0])"
      ],
      "execution_count": 110,
      "outputs": [
        {
          "output_type": "stream",
          "text": [
            "Country_Profile_Variables Rows Loaded = 229\n"
          ],
          "name": "stdout"
        }
      ]
    },
    {
      "cell_type": "markdown",
      "metadata": {
        "id": "1KSOcLVUIz_o"
      },
      "source": [
        "### **3.3.4 Load Combined IMF Data 2017**"
      ]
    },
    {
      "cell_type": "code",
      "metadata": {
        "id": "QEcsI6n-JiVw",
        "colab": {
          "base_uri": "https://localhost:8080/"
        },
        "outputId": "28415c7d-6f10-48b3-ca42-b8f226e8dba4"
      },
      "source": [
        "IMF_List = IMF_Merge.values.tolist()\n",
        "\n",
        "conn = sqlite3.connect(\"WorldHappiness.db\")\n",
        "\n",
        "cursor = conn.cursor()\n",
        "\n",
        "try:\n",
        "    cursor.executemany(''' \n",
        "    INSERT INTO IMF_Combined_Data_2017 (COUNTRY, EXPENSE, SAVINGS, UNITS)\n",
        "    values (?,?,?,?)''', IMF_List)\n",
        "    conn.commit()\n",
        "    print('IMF_Combined_Data_2017 data loaded successfully!')\n",
        "except Exception as e:\n",
        "  print('IMF_Combined_Data_2017 data could not be loaded into table - Error: ' + str(e))\n",
        "finally:\n",
        "    conn.close()"
      ],
      "execution_count": 111,
      "outputs": [
        {
          "output_type": "stream",
          "text": [
            "IMF_Combined_Data_2017 data loaded successfully!\n"
          ],
          "name": "stdout"
        }
      ]
    },
    {
      "cell_type": "code",
      "metadata": {
        "id": "o98NtUmXKXFw",
        "colab": {
          "base_uri": "https://localhost:8080/"
        },
        "outputId": "e1ef808e-5c91-4980-a5ed-b779a48a687e"
      },
      "source": [
        "# Data Load Check - can be deleted \n",
        "conn = sqlite3.connect(\"WorldHappiness.db\")\n",
        "cur = conn.cursor()\n",
        "cur.execute(\"select count(*) FROM IMF_Combined_Data_2017\")\n",
        "print(\"IMF_Combined_Data_2017 Rows Loaded = %3d\" %cur.fetchone()[0])"
      ],
      "execution_count": 112,
      "outputs": [
        {
          "output_type": "stream",
          "text": [
            "IMF_Combined_Data_2017 Rows Loaded = 171\n"
          ],
          "name": "stdout"
        }
      ]
    },
    {
      "cell_type": "markdown",
      "metadata": {
        "id": "TkR47-0FqbiS"
      },
      "source": [
        "### **3.3.5 Load Country Region Reference Table**"
      ]
    },
    {
      "cell_type": "code",
      "metadata": {
        "id": "O686iBqXqfAb",
        "colab": {
          "base_uri": "https://localhost:8080/"
        },
        "outputId": "cfc86597-95aa-45c0-857d-64c2ca69423a"
      },
      "source": [
        "CR_list = CtRg.values.tolist()\n",
        "\n",
        "conn = sqlite3.connect(\"WorldHappiness.db\")\n",
        "\n",
        "cursor = conn.cursor()\n",
        "\n",
        "try:\n",
        "    cursor.executemany(''' \n",
        "    INSERT INTO Country_Region (COUNTRY, REGION)\n",
        "    values (?,?)''', CR_list)\n",
        "    conn.commit()\n",
        "    print('Country/Region data loaded successfully!')\n",
        "except Exception as e:\n",
        "  print('Country/Region data could not be loaded into table - Error: ' + str(e))\n",
        "finally:\n",
        "    conn.close()"
      ],
      "execution_count": 113,
      "outputs": [
        {
          "output_type": "stream",
          "text": [
            "Country/Region data loaded successfully!\n"
          ],
          "name": "stdout"
        }
      ]
    },
    {
      "cell_type": "code",
      "metadata": {
        "id": "6kqXM8TVq7Az",
        "colab": {
          "base_uri": "https://localhost:8080/"
        },
        "outputId": "e19c47a5-6c00-435f-cd1d-0c8de9d82212"
      },
      "source": [
        "# Data Load Check - can be deleted \n",
        "conn = sqlite3.connect(\"WorldHappiness.db\")\n",
        "cur = conn.cursor()\n",
        "cur.execute(\"select count(*) FROM Country_Region\")\n",
        "print(\"Country_Region Rows Loaded = %3d\" %cur.fetchone()[0])"
      ],
      "execution_count": 114,
      "outputs": [
        {
          "output_type": "stream",
          "text": [
            "Country_Region Rows Loaded = 157\n"
          ],
          "name": "stdout"
        }
      ]
    },
    {
      "cell_type": "markdown",
      "metadata": {
        "id": "FPNNBFiMrcK1"
      },
      "source": [
        "# ***4 Data Query Selections***\n",
        "---"
      ]
    },
    {
      "cell_type": "markdown",
      "metadata": {
        "id": "dsYsfVQlraZF"
      },
      "source": [
        "## *4.1 - Environmental Analysis*"
      ]
    },
    {
      "cell_type": "code",
      "metadata": {
        "id": "crcU63Zl4Ajg"
      },
      "source": [
        "pd.set_option('display.max_columns', None)"
      ],
      "execution_count": 115,
      "outputs": []
    },
    {
      "cell_type": "markdown",
      "metadata": {
        "id": "vaVs0_p5QOoL"
      },
      "source": [
        "### 4.1.1 - Analysis Query"
      ]
    },
    {
      "cell_type": "code",
      "metadata": {
        "id": "NwwEMvyHrheR"
      },
      "source": [
        "# \n",
        "# Environmental Analysis\n",
        "#\n",
        "# World Happiness Table\n",
        "#   Country\n",
        "#   Score\n",
        "#\n",
        "# World_Environmental_Data\n",
        "#   rain_mean_annual\n",
        "#   cloudiness\n",
        "#   temp_mean_annual\n",
        "#   tree_canopy_cover\n",
        "#   ACCESSIBILITY_TO_CITIES\n",
        "#\n",
        "# Country_Profile_Variables\n",
        "#   CO2_EMISSIONS_PER_CAPITA\n",
        "#\n",
        "# Country_Region\n",
        "#   Region\n",
        "#\n",
        "#\n",
        "conn = sqlite3.connect(\"WorldHappiness.db\")\n",
        "\n",
        "try:\n",
        "\n",
        "  df_q1= pd.read_sql_query('''select wh.Country,\n",
        "                                    cr.Region,\n",
        "                                    wh.Happiness_Score AS Score, \n",
        "                                    wed.rain_mean_annual AS Rain, \n",
        "                                    wed.cloudiness AS Clouds, \n",
        "                                    wed.temp_mean_annual AS Temp, \n",
        "                                    wed.tree_canopy_cover,\n",
        "\t\t                                cp.CO2_EMISSIONS_PER_CAPITA AS CO2,\n",
        "                                    wed.ACCESSIBILITY_TO_CITIES as CityAccess\n",
        "                                from World_Happiness_2017 wh JOIN World_Environmental_Data wed on (wh.Country = wed.Country)\n",
        "\t                                  JOIN Country_Profile_Variables cp on (wh.country=cp.country)\n",
        "                                    JOIN country_region cr on (cr.COUNTRY=wh.Country) \n",
        "                            ''',conn)\n",
        "except Exception as e:\n",
        "  print('Could not execute query - Error: ' + str(e))\n",
        "finally:\n",
        "  conn.close()"
      ],
      "execution_count": 116,
      "outputs": []
    },
    {
      "cell_type": "markdown",
      "metadata": {
        "id": "MlUMNKarQs_v"
      },
      "source": [
        "### 4.1.2 - Results Graph"
      ]
    },
    {
      "cell_type": "code",
      "metadata": {
        "id": "vBFIgYSYdcIf",
        "colab": {
          "base_uri": "https://localhost:8080/",
          "height": 542
        },
        "outputId": "5ca7f4bd-1824-411e-aae9-1c255798fddc"
      },
      "source": [
        "#\n",
        "# Showing a bar chart of the Score, CO2 and temperature\n",
        "#\n",
        "x = df_q1[\"REGION\"]\n",
        "y = df_q1[\"Score\"]\n",
        "y1 = df_q1[\"CO2\"]\n",
        "y2 = df_q1[\"Temp\"]\n",
        "\n",
        "fig = go.Figure()\n",
        "fig.add_trace(go.Histogram(y=y, x=x, histfunc='avg', name=\"Score\"))\n",
        "fig.add_trace(go.Histogram(histfunc=\"avg\", y=y1, x=x, name=\"CO2\"))\n",
        "fig.add_trace(go.Histogram(histfunc=\"avg\", y=y2, x=x, name = \"Temp\"))\n",
        "fig.update_layout(title_text='Relationship Between World Happiness Score, Standardized CO2 and Temperature')\n",
        "fig.show()"
      ],
      "execution_count": 167,
      "outputs": [
        {
          "output_type": "display_data",
          "data": {
            "text/html": [
              "<html>\n",
              "<head><meta charset=\"utf-8\" /></head>\n",
              "<body>\n",
              "    <div>\n",
              "            <script src=\"https://cdnjs.cloudflare.com/ajax/libs/mathjax/2.7.5/MathJax.js?config=TeX-AMS-MML_SVG\"></script><script type=\"text/javascript\">if (window.MathJax) {MathJax.Hub.Config({SVG: {font: \"STIX-Web\"}});}</script>\n",
              "                <script type=\"text/javascript\">window.PlotlyConfig = {MathJaxConfig: 'local'};</script>\n",
              "        <script src=\"https://cdn.plot.ly/plotly-latest.min.js\"></script>    \n",
              "            <div id=\"5c70c68c-5252-40e8-9aa3-296151648b21\" class=\"plotly-graph-div\" style=\"height:525px; width:100%;\"></div>\n",
              "            <script type=\"text/javascript\">\n",
              "                \n",
              "                    window.PLOTLYENV=window.PLOTLYENV || {};\n",
              "                    \n",
              "                if (document.getElementById(\"5c70c68c-5252-40e8-9aa3-296151648b21\")) {\n",
              "                    Plotly.newPlot(\n",
              "                        '5c70c68c-5252-40e8-9aa3-296151648b21',\n",
              "                        [{\"histfunc\": \"avg\", \"name\": \"Score\", \"type\": \"histogram\", \"x\": [\"Western Europe\", \"Western Europe\", \"Western Europe\", \"Western Europe\", \"Western Europe\", \"North America\", \"Western Europe\", \"Australia and New Zealand\", \"Australia and New Zealand\", \"Western Europe\", \"Middle East and Northern Africa\", \"Western Europe\", \"North America\", \"Latin America and Caribbean\", \"Western Europe\", \"Latin America and Caribbean\", \"Western Europe\", \"Western Europe\", \"Western Europe\", \"Latin America and Caribbean\", \"Southeastern Asia\", \"Western Europe\", \"Latin America and Caribbean\", \"Latin America and Caribbean\", \"Latin America and Caribbean\", \"Central and Eastern Europe\", \"Middle East and Northern Africa\", \"Latin America and Caribbean\", \"Western Europe\", \"Latin America and Caribbean\", \"Western Europe\", \"Southeastern Asia\", \"Middle East and Northern Africa\", \"Middle East and Northern Africa\", \"Western Europe\", \"Middle East and Northern Africa\", \"Latin America and Caribbean\", \"Middle East and Northern Africa\", \"Middle East and Northern Africa\", \"Latin America and Caribbean\", \"Latin America and Caribbean\", \"Central and Eastern Europe\", \"Latin America and Caribbean\", \"Southeastern Asia\", \"Latin America and Caribbean\", \"Central and Eastern Europe\", \"Western Europe\", \"Latin America and Caribbean\", \"Latin America and Caribbean\", \"Eastern Asia\", \"Central and Eastern Europe\", \"Central and Eastern Europe\", \"Central and Eastern Europe\", \"Central and Eastern Europe\", \"Latin America and Caribbean\", \"Central and Eastern Europe\", \"Central and Eastern Europe\", \"Central and Eastern Europe\", \"Latin America and Caribbean\", \"Central and Eastern Europe\", \"Sub-Saharan Africa\", \"Middle East and Northern Africa\", \"Central and Eastern Europe\", \"Western Europe\", \"Latin America and Caribbean\", \"Central and Eastern Europe\", \"Central and Eastern Europe\", \"Latin America and Caribbean\", \"Central and Eastern Europe\", \"Sub-Saharan Africa\", \"Middle East and Northern Africa\", \"Southeastern Asia\", \"Middle East and Northern Africa\", \"Central and Eastern Europe\", \"Southeastern Asia\", \"Eastern Asia\", \"Southern Asia\", \"Central and Eastern Europe\", \"Central and Eastern Europe\", \"Central and Eastern Europe\", \"Central and Eastern Europe\", \"Latin America and Caribbean\", \"Middle East and Northern Africa\", \"Central and Eastern Europe\", \"Southern Asia\", \"Middle East and Northern Africa\", \"Western Europe\", \"Southeastern Asia\", \"Middle East and Northern Africa\", \"Western Europe\", \"Central and Eastern Europe\", \"Eastern Asia\", \"Sub-Saharan Africa\", \"Latin America and Caribbean\", \"Sub-Saharan Africa\", \"Southern Asia\", \"Central and Eastern Europe\", \"Southern Asia\", \"Sub-Saharan Africa\", \"Middle East and Northern Africa\", \"Sub-Saharan Africa\", \"Sub-Saharan Africa\", \"Sub-Saharan Africa\", \"Sub-Saharan Africa\", \"Southern Asia\", \"Southern Asia\", \"Southeastern Asia\", \"Middle East and Northern Africa\", \"Central and Eastern Europe\", \"Sub-Saharan Africa\", \"Central and Eastern Europe\", \"Sub-Saharan Africa\", \"Sub-Saharan Africa\", \"Central and Eastern Europe\", \"Sub-Saharan Africa\", \"Sub-Saharan Africa\", \"Central and Eastern Europe\", \"Sub-Saharan Africa\", \"Sub-Saharan Africa\", \"Sub-Saharan Africa\", \"Sub-Saharan Africa\", \"Sub-Saharan Africa\", \"Sub-Saharan Africa\", \"Latin America and Caribbean\", \"Sub-Saharan Africa\", \"Southeastern Asia\", \"Sub-Saharan Africa\", \"Sub-Saharan Africa\", \"Sub-Saharan Africa\", \"Sub-Saharan Africa\", \"Sub-Saharan Africa\", \"Sub-Saharan Africa\", \"Middle East and Northern Africa\", \"Sub-Saharan Africa\", \"Sub-Saharan Africa\", \"Sub-Saharan Africa\", \"Sub-Saharan Africa\", \"Sub-Saharan Africa\", \"Sub-Saharan Africa\", \"Southern Asia\", \"Sub-Saharan Africa\", \"Middle East and Northern Africa\", \"Sub-Saharan Africa\"], \"y\": [7.521999836, 7.493999958, 7.504000187000001, 7.537000179, 7.468999863, 7.315999985, 7.376999855, 7.31400013, 7.28399992, 7.28399992, 7.212999821, 7.006000042, 6.993000031, 7.078999996, 6.951000214, 6.635000229, 6.890999794, 6.977000237, 6.862999916000001, 6.578000069, 6.5720000270000005, 6.714000225, 6.65199995, 6.452000141, 6.598999977, 6.609000206, 6.647999763, 6.453999996, 6.52699995, 6.3569998739999996, 6.441999912000001, 6.423999786, 6.343999863, 6.375, 6.402999877999999, 5.872000217, 6.453999996, 6.105000018999999, 6.086999893, 6.168000221000001, 5.25, 6.09800005, 6.002999783, 6.084000111, 6.071000099, 5.971000195, 5.964000225, 6.007999897, 5.9559998510000005, 5.920000076, 5.818999767, 5.837999821, 5.962999821, 5.97300005, 5.822999954, 5.90199995, 5.568999767, 5.757999897, 5.715000152999999, 5.8220000270000005, 5.629000187000001, 5.525000095, 5.849999905, 5.620999812999999, 5.493000031, 5.8249998089999995, 5.611000061, 5.31099987, 5.293000221000001, 5.151000023, 5.5, 5.262000083999999, 5.335999966, 5.234000206, 5.429999828, 5.2729997630000005, 5.011000156000001, 5.004000187, 5.394999981000001, 5.18200016, 5.236999989, 5.230000018999999, 5.235000134, 5.323999882, 5.269000053, 5.224999905, 5.195000172, 5.073999882, 4.804999828, 5.2270002369999995, 5.040999889, 4.954999924, 5.073999882, 5.181000233, 4.513999939, 4.961999893, 4.644000053, 4.607999802, 4.709000111, 4.497000217, 4.573999882, 4.695000172, 4.460000038, 4.828999996, 4.440000057, 4.315000057, 4.545000076, 4.735000134, 4.375999928, 4.552999973, 4.096000195, 4.1199998860000004, 4.28000021, 4.285999775, 4.290999889, 4.534999847, 4.714000225, 4.291999817, 3.875, 3.970000029, 4.138999939, 4.465000153, 4.190000057, 3.6029999260000003, 3.766000032, 4.168000221000001, 3.7950000760000004, 4.027999878, 3.59100008, 3.9360001089999996, 4.032000065, 4.0809998510000005, 3.592999935, 3.644000053, 3.348999977, 3.5329999919999997, 3.5069999689999998, 3.4709999560000004, 3.657000065, 3.79399991, 3.4949998860000004, 3.461999893, 2.904999971]}, {\"histfunc\": \"avg\", \"name\": \"CO2\", \"type\": \"histogram\", \"x\": [\"Western Europe\", \"Western Europe\", \"Western Europe\", \"Western Europe\", \"Western Europe\", \"North America\", \"Western Europe\", \"Australia and New Zealand\", \"Australia and New Zealand\", \"Western Europe\", \"Middle East and Northern Africa\", \"Western Europe\", \"North America\", \"Latin America and Caribbean\", \"Western Europe\", \"Latin America and Caribbean\", \"Western Europe\", \"Western Europe\", \"Western Europe\", \"Latin America and Caribbean\", \"Southeastern Asia\", \"Western Europe\", \"Latin America and Caribbean\", \"Latin America and Caribbean\", \"Latin America and Caribbean\", \"Central and Eastern Europe\", \"Middle East and Northern Africa\", \"Latin America and Caribbean\", \"Western Europe\", \"Latin America and Caribbean\", \"Western Europe\", \"Southeastern Asia\", \"Middle East and Northern Africa\", \"Middle East and Northern Africa\", \"Western Europe\", \"Middle East and Northern Africa\", \"Latin America and Caribbean\", \"Middle East and Northern Africa\", \"Middle East and Northern Africa\", \"Latin America and Caribbean\", \"Latin America and Caribbean\", \"Central and Eastern Europe\", \"Latin America and Caribbean\", \"Southeastern Asia\", \"Latin America and Caribbean\", \"Central and Eastern Europe\", \"Western Europe\", \"Latin America and Caribbean\", \"Latin America and Caribbean\", \"Eastern Asia\", \"Central and Eastern Europe\", \"Central and Eastern Europe\", \"Central and Eastern Europe\", \"Central and Eastern Europe\", \"Latin America and Caribbean\", \"Central and Eastern Europe\", \"Central and Eastern Europe\", \"Central and Eastern Europe\", \"Latin America and Caribbean\", \"Central and Eastern Europe\", \"Sub-Saharan Africa\", \"Middle East and Northern Africa\", \"Central and Eastern Europe\", \"Western Europe\", \"Latin America and Caribbean\", \"Central and Eastern Europe\", \"Central and Eastern Europe\", \"Latin America and Caribbean\", \"Central and Eastern Europe\", \"Sub-Saharan Africa\", \"Middle East and Northern Africa\", \"Southeastern Asia\", \"Middle East and Northern Africa\", \"Central and Eastern Europe\", \"Southeastern Asia\", \"Eastern Asia\", \"Southern Asia\", \"Central and Eastern Europe\", \"Central and Eastern Europe\", \"Central and Eastern Europe\", \"Central and Eastern Europe\", \"Latin America and Caribbean\", \"Middle East and Northern Africa\", \"Central and Eastern Europe\", \"Southern Asia\", \"Middle East and Northern Africa\", \"Western Europe\", \"Southeastern Asia\", \"Middle East and Northern Africa\", \"Western Europe\", \"Central and Eastern Europe\", \"Eastern Asia\", \"Sub-Saharan Africa\", \"Latin America and Caribbean\", \"Sub-Saharan Africa\", \"Southern Asia\", \"Central and Eastern Europe\", \"Southern Asia\", \"Sub-Saharan Africa\", \"Middle East and Northern Africa\", \"Sub-Saharan Africa\", \"Sub-Saharan Africa\", \"Sub-Saharan Africa\", \"Sub-Saharan Africa\", \"Southern Asia\", \"Southern Asia\", \"Southeastern Asia\", \"Middle East and Northern Africa\", \"Central and Eastern Europe\", \"Sub-Saharan Africa\", \"Central and Eastern Europe\", \"Sub-Saharan Africa\", \"Sub-Saharan Africa\", \"Central and Eastern Europe\", \"Sub-Saharan Africa\", \"Sub-Saharan Africa\", \"Central and Eastern Europe\", \"Sub-Saharan Africa\", \"Sub-Saharan Africa\", \"Sub-Saharan Africa\", \"Sub-Saharan Africa\", \"Sub-Saharan Africa\", \"Sub-Saharan Africa\", \"Latin America and Caribbean\", \"Sub-Saharan Africa\", \"Southeastern Asia\", \"Sub-Saharan Africa\", \"Sub-Saharan Africa\", \"Sub-Saharan Africa\", \"Sub-Saharan Africa\", \"Sub-Saharan Africa\", \"Sub-Saharan Africa\", \"Middle East and Northern Africa\", \"Sub-Saharan Africa\", \"Sub-Saharan Africa\", \"Sub-Saharan Africa\", \"Sub-Saharan Africa\", \"Sub-Saharan Africa\", \"Sub-Saharan Africa\", \"Southern Asia\", \"Sub-Saharan Africa\", \"Middle East and Northern Africa\", \"Sub-Saharan Africa\"], \"y\": [1.7749523509116738, 1.4586150226995167, 1.8082887711792655, 2.2192034840549946, 2.151762203259462, 2.714694743820879, 2.2925347571405443, 2.0412203288596382, 2.72785282839839, 1.5040773967762742, 2.0918640616783932, 1.9315214116032138, 2.785011242238338, 0.47000362924573563, 2.186051276738094, 0.9555114450274363, 2.1162555148025524, 1.9878743481543455, 2.8507065015037334, 1.33500106673234, 2.322387720290225, 1.8718021769015913, 1.547562508716013, 0.8329091229351039, 1.547562508716013, 2.2192034840549946, 3.1441522786722644, 0.6931471805599453, 1.7227665977411035, 0.5877866649021191, 1.547562508716013, 1.547562508716013, 2.970414465569701, 3.906004933102583, 1.62924053973028, 1.308332819650179, 0.09531017980432493, 3.2347491740244907, 3.1354942159291497, 3.5322256440685598, 1.8082887711792655, 1.7227665977411035, 0.0, 2.0918640616783932, -0.2231435513142097, 1.2809338454620642, 1.6863989535702288, 1.0296194171811581, 0.3364722366212129, 2.2617630984737906, 2.6602595372658615, 0.1823215567939546, 2.4765384001174837, 2.0014800002101243, 0.6418538861723947, 1.4816045409242156, 1.9021075263969205, 1.824549292051046, 0.6931471805599453, 2.5572273113676265, 1.1939224684724346, 2.2082744135228043, 1.252762968495368, 1.6486586255873816, -0.10536051565782628, 1.2809338454620642, 2.6946271807700692, 0.9932517730102834, 1.3862943611198906, -2.3025850929940455, 1.5040773967762742, 0.5877866649021191, 1.2809338454620642, 1.3609765531356006, 0.09531017980432493, 2.0149030205422647, 0.26236426446749106, 0.5306282510621704, 1.4586150226995167, 1.7578579175523736, 1.252762968495368, 0.7419373447293773, 0.5306282510621704, 1.4586150226995167, -0.10536051565782628, 1.4586150226995167, 1.4586150226995167, 0.5877866649021191, 0.9555114450274363, 1.8082887711792655, -0.5108256237659907, 1.9740810260220096, -0.5108256237659907, 0.1823215567939546, -1.2039728043259361, -1.2039728043259361, 0.6931471805599453, -0.6931471805599453, -1.6094379124341003, 1.5686159179138452, 0.47000362924573563, -1.2039728043259361, -2.3025850929940455, 2.2082744135228043, -0.10536051565782628, 0.5306282510621704, -0.916290731874155, 0.7884573603642703, 0.5877866649021191, -1.2039728043259361, 1.62924053973028, -0.5108256237659907, -2.3025850929940455, 0.7884573603642703, -0.35667494393873245, -0.5108256237659907, 1.7749523509116738, -0.35667494393873245, -0.2231435513142097, -2.3025850929940455, -0.916290731874155, 1.1314021114911006, -2.3025850929940455, -1.2039728043259361, 1.1631508098056809, -0.916290731874155, 0.3364722366212129, -2.3025850929940455, -2.3025850929940455, null, -2.3025850929940455, -2.3025850929940455, -0.10536051565782628, -2.3025850929940455, -1.6094379124341003, -1.6094379124341003, -1.6094379124341003, -2.3025850929940455, -0.5108256237659907, -1.2039728043259361, -0.916290731874155, 0.5306282510621704, null]}, {\"histfunc\": \"avg\", \"name\": \"Temp\", \"type\": \"histogram\", \"x\": [\"Western Europe\", \"Western Europe\", \"Western Europe\", \"Western Europe\", \"Western Europe\", \"North America\", \"Western Europe\", \"Australia and New Zealand\", \"Australia and New Zealand\", \"Western Europe\", \"Middle East and Northern Africa\", \"Western Europe\", \"North America\", \"Latin America and Caribbean\", \"Western Europe\", \"Latin America and Caribbean\", \"Western Europe\", \"Western Europe\", \"Western Europe\", \"Latin America and Caribbean\", \"Southeastern Asia\", \"Western Europe\", \"Latin America and Caribbean\", \"Latin America and Caribbean\", \"Latin America and Caribbean\", \"Central and Eastern Europe\", \"Middle East and Northern Africa\", \"Latin America and Caribbean\", \"Western Europe\", \"Latin America and Caribbean\", \"Western Europe\", \"Southeastern Asia\", \"Middle East and Northern Africa\", \"Middle East and Northern Africa\", \"Western Europe\", \"Middle East and Northern Africa\", \"Latin America and Caribbean\", \"Middle East and Northern Africa\", \"Middle East and Northern Africa\", \"Latin America and Caribbean\", \"Latin America and Caribbean\", \"Central and Eastern Europe\", \"Latin America and Caribbean\", \"Southeastern Asia\", \"Latin America and Caribbean\", \"Central and Eastern Europe\", \"Western Europe\", \"Latin America and Caribbean\", \"Latin America and Caribbean\", \"Eastern Asia\", \"Central and Eastern Europe\", \"Central and Eastern Europe\", \"Central and Eastern Europe\", \"Central and Eastern Europe\", \"Latin America and Caribbean\", \"Central and Eastern Europe\", \"Central and Eastern Europe\", \"Central and Eastern Europe\", \"Latin America and Caribbean\", \"Central and Eastern Europe\", \"Sub-Saharan Africa\", \"Middle East and Northern Africa\", \"Central and Eastern Europe\", \"Western Europe\", \"Latin America and Caribbean\", \"Central and Eastern Europe\", \"Central and Eastern Europe\", \"Latin America and Caribbean\", \"Central and Eastern Europe\", \"Sub-Saharan Africa\", \"Middle East and Northern Africa\", \"Southeastern Asia\", \"Middle East and Northern Africa\", \"Central and Eastern Europe\", \"Southeastern Asia\", \"Eastern Asia\", \"Southern Asia\", \"Central and Eastern Europe\", \"Central and Eastern Europe\", \"Central and Eastern Europe\", \"Central and Eastern Europe\", \"Latin America and Caribbean\", \"Middle East and Northern Africa\", \"Central and Eastern Europe\", \"Southern Asia\", \"Middle East and Northern Africa\", \"Western Europe\", \"Southeastern Asia\", \"Middle East and Northern Africa\", \"Western Europe\", \"Central and Eastern Europe\", \"Eastern Asia\", \"Sub-Saharan Africa\", \"Latin America and Caribbean\", \"Sub-Saharan Africa\", \"Southern Asia\", \"Central and Eastern Europe\", \"Southern Asia\", \"Sub-Saharan Africa\", \"Middle East and Northern Africa\", \"Sub-Saharan Africa\", \"Sub-Saharan Africa\", \"Sub-Saharan Africa\", \"Sub-Saharan Africa\", \"Southern Asia\", \"Southern Asia\", \"Southeastern Asia\", \"Middle East and Northern Africa\", \"Central and Eastern Europe\", \"Sub-Saharan Africa\", \"Central and Eastern Europe\", \"Sub-Saharan Africa\", \"Sub-Saharan Africa\", \"Central and Eastern Europe\", \"Sub-Saharan Africa\", \"Sub-Saharan Africa\", \"Central and Eastern Europe\", \"Sub-Saharan Africa\", \"Sub-Saharan Africa\", \"Sub-Saharan Africa\", \"Sub-Saharan Africa\", \"Sub-Saharan Africa\", \"Sub-Saharan Africa\", \"Latin America and Caribbean\", \"Sub-Saharan Africa\", \"Southeastern Asia\", \"Sub-Saharan Africa\", \"Sub-Saharan Africa\", \"Sub-Saharan Africa\", \"Sub-Saharan Africa\", \"Sub-Saharan Africa\", \"Sub-Saharan Africa\", \"Middle East and Northern Africa\", \"Sub-Saharan Africa\", \"Sub-Saharan Africa\", \"Sub-Saharan Africa\", \"Sub-Saharan Africa\", \"Sub-Saharan Africa\", \"Sub-Saharan Africa\", \"Southern Asia\", \"Sub-Saharan Africa\", \"Middle East and Northern Africa\", \"Sub-Saharan Africa\"], \"y\": [-1.2158350726247487, -1.5322808814031943, -1.961213164132529, -2.2541394335064164, -1.946644835239632, -2.863492956798796, -1.039673625584768, -0.9350332527009996, 0.33941021542412514, -1.8459115418403504, 0.15592058328625896, -1.4401110241717947, -1.3429920347226607, 0.5692391490963276, -1.1382348594792036, 0.6768252945615375, -1.0121920474758028, -1.0565658032086742, -1.1181528576771627, 0.21256470120504056, 0.9517273034138948, -1.1336234188989742, -1.1169935062569165, 0.7416929563827558, -0.482237414798234, -1.2599791415655206, 0.9780918651678965, -0.1068542271136752, -0.010484418431057232, 0.6924218237650607, -0.9044809943324631, 0.8695193725217482, 0.6900276768386443, 0.9451239549967042, -0.6110948097910464, 0.5088831627730397, 0.5051640234566936, 0.7169321988709628, 0.8799862734220817, 0.8337841967667007, 0.8072827508162572, -1.2326653477832985, 0.6708460719809225, 0.7895176268830008, 0.7446653750904279, -0.6870453955381738, -0.728195413110796, 0.2766380623129873, 0.7163232328403004, -0.9093928099307445, -1.4496613719670246, -1.0340432749136312, -2.7989994396439797, -1.2259385030869605, 0.22170338285217336, -1.3887590338898343, -1.3834696988309678, -1.0911439290179674, 0.0790466392725334, -0.3594245957049284, 0.40310507373272464, 0.3658271472109477, -1.4472379452461397, -0.12488517055845597, 0.5576479370474594, -1.0708923030904294, -1.5171128207866755, 0.6058918575601832, -0.8662541221368704, 0.8940947342318101, -0.8732159466544517, 0.7385757691119111, -0.016551945692689182, -0.7332292700135715, 0.7715880698750044, -1.3700771294657041, -0.9636873510241349, -1.9781448222191724, -0.9398183253497393, -1.0634098465377444, -1.1314292529472716, 0.6093886579610898, -0.15522851018616216, -0.9193046326247647, 0.17424705692684148, -0.4009172844257407, -0.39335148187694896, 0.553562526679004, 0.06992505287017559, -0.5485242286759135, -1.8138767461321876, -2.1006239683704244, 0.9007247158723055, 0.5852011276393208, 0.30877122675787994, -0.5113822639045713, -0.7923270218737904, 0.798407182461749, 0.8569050184486959, 0.339177150102785, 0.15859654029743675, 0.65525645150185, 0.4833099091590057, -0.14362101555047388, 0.906665245521388, 0.6220313215059577, 0.538472809684828, 0.39827653293809134, -1.3924473392882615, 0.6535668971315544, -1.1737929890968624, 0.9584283971527717, 0.6201799440737964, -1.186009569171868, 0.6790542183919713, 1.0376230217765021, -0.9381197196902181, 1.0431987257275253, 0.22950093666118337, 0.371201004129917, 0.9388200744313384, 0.6830583414600774, 1.1071434865437249, 0.5982412273293114, 0.2678414213816202, 0.9370497669870925, 0.3558508008335248, 0.9815860657424497, 0.9398114152709065, 0.9612422932311626, 1.0868697757873904, 0.4536227523473346, 0.5100808734596861, 0.495528553136212, 0.45333783424203866, 0.8054051181938786, 0.8161813418385329, 0.04506878088464761, 0.9867896493150269, -0.7848773660297321, 0.9358475719678321, -0.07961198571387959, 0.15684473610144167]}],\n",
              "                        {\"template\": {\"data\": {\"bar\": [{\"error_x\": {\"color\": \"#2a3f5f\"}, \"error_y\": {\"color\": \"#2a3f5f\"}, \"marker\": {\"line\": {\"color\": \"#E5ECF6\", \"width\": 0.5}}, \"type\": \"bar\"}], \"barpolar\": [{\"marker\": {\"line\": {\"color\": \"#E5ECF6\", \"width\": 0.5}}, \"type\": \"barpolar\"}], \"carpet\": [{\"aaxis\": {\"endlinecolor\": \"#2a3f5f\", \"gridcolor\": \"white\", \"linecolor\": \"white\", \"minorgridcolor\": \"white\", \"startlinecolor\": \"#2a3f5f\"}, \"baxis\": {\"endlinecolor\": \"#2a3f5f\", \"gridcolor\": \"white\", \"linecolor\": \"white\", \"minorgridcolor\": \"white\", \"startlinecolor\": \"#2a3f5f\"}, \"type\": \"carpet\"}], \"choropleth\": [{\"colorbar\": {\"outlinewidth\": 0, \"ticks\": \"\"}, \"type\": \"choropleth\"}], \"contour\": [{\"colorbar\": {\"outlinewidth\": 0, \"ticks\": \"\"}, \"colorscale\": [[0.0, \"#0d0887\"], [0.1111111111111111, \"#46039f\"], [0.2222222222222222, \"#7201a8\"], [0.3333333333333333, \"#9c179e\"], [0.4444444444444444, \"#bd3786\"], [0.5555555555555556, \"#d8576b\"], [0.6666666666666666, \"#ed7953\"], [0.7777777777777778, \"#fb9f3a\"], [0.8888888888888888, \"#fdca26\"], [1.0, \"#f0f921\"]], \"type\": \"contour\"}], \"contourcarpet\": [{\"colorbar\": {\"outlinewidth\": 0, \"ticks\": \"\"}, \"type\": \"contourcarpet\"}], \"heatmap\": [{\"colorbar\": {\"outlinewidth\": 0, \"ticks\": \"\"}, \"colorscale\": [[0.0, \"#0d0887\"], [0.1111111111111111, \"#46039f\"], [0.2222222222222222, \"#7201a8\"], [0.3333333333333333, \"#9c179e\"], [0.4444444444444444, \"#bd3786\"], [0.5555555555555556, \"#d8576b\"], [0.6666666666666666, \"#ed7953\"], [0.7777777777777778, \"#fb9f3a\"], [0.8888888888888888, \"#fdca26\"], [1.0, \"#f0f921\"]], \"type\": \"heatmap\"}], \"heatmapgl\": [{\"colorbar\": {\"outlinewidth\": 0, \"ticks\": \"\"}, \"colorscale\": [[0.0, \"#0d0887\"], [0.1111111111111111, \"#46039f\"], [0.2222222222222222, \"#7201a8\"], [0.3333333333333333, \"#9c179e\"], [0.4444444444444444, \"#bd3786\"], [0.5555555555555556, \"#d8576b\"], [0.6666666666666666, \"#ed7953\"], [0.7777777777777778, \"#fb9f3a\"], [0.8888888888888888, \"#fdca26\"], [1.0, \"#f0f921\"]], \"type\": \"heatmapgl\"}], \"histogram\": [{\"marker\": {\"colorbar\": {\"outlinewidth\": 0, \"ticks\": \"\"}}, \"type\": \"histogram\"}], \"histogram2d\": [{\"colorbar\": {\"outlinewidth\": 0, \"ticks\": \"\"}, \"colorscale\": [[0.0, \"#0d0887\"], [0.1111111111111111, \"#46039f\"], [0.2222222222222222, \"#7201a8\"], [0.3333333333333333, \"#9c179e\"], [0.4444444444444444, \"#bd3786\"], [0.5555555555555556, \"#d8576b\"], [0.6666666666666666, \"#ed7953\"], [0.7777777777777778, \"#fb9f3a\"], [0.8888888888888888, \"#fdca26\"], [1.0, \"#f0f921\"]], \"type\": \"histogram2d\"}], \"histogram2dcontour\": [{\"colorbar\": {\"outlinewidth\": 0, \"ticks\": \"\"}, \"colorscale\": [[0.0, \"#0d0887\"], [0.1111111111111111, \"#46039f\"], [0.2222222222222222, \"#7201a8\"], [0.3333333333333333, \"#9c179e\"], [0.4444444444444444, \"#bd3786\"], [0.5555555555555556, \"#d8576b\"], [0.6666666666666666, \"#ed7953\"], [0.7777777777777778, \"#fb9f3a\"], [0.8888888888888888, \"#fdca26\"], [1.0, \"#f0f921\"]], \"type\": \"histogram2dcontour\"}], \"mesh3d\": [{\"colorbar\": {\"outlinewidth\": 0, \"ticks\": \"\"}, \"type\": \"mesh3d\"}], \"parcoords\": [{\"line\": {\"colorbar\": {\"outlinewidth\": 0, \"ticks\": \"\"}}, \"type\": \"parcoords\"}], \"pie\": [{\"automargin\": true, \"type\": \"pie\"}], \"scatter\": [{\"marker\": {\"colorbar\": {\"outlinewidth\": 0, \"ticks\": \"\"}}, \"type\": \"scatter\"}], \"scatter3d\": [{\"line\": {\"colorbar\": {\"outlinewidth\": 0, \"ticks\": \"\"}}, \"marker\": {\"colorbar\": {\"outlinewidth\": 0, \"ticks\": \"\"}}, \"type\": \"scatter3d\"}], \"scattercarpet\": [{\"marker\": {\"colorbar\": {\"outlinewidth\": 0, \"ticks\": \"\"}}, \"type\": \"scattercarpet\"}], \"scattergeo\": [{\"marker\": {\"colorbar\": {\"outlinewidth\": 0, \"ticks\": \"\"}}, \"type\": \"scattergeo\"}], \"scattergl\": [{\"marker\": {\"colorbar\": {\"outlinewidth\": 0, \"ticks\": \"\"}}, \"type\": \"scattergl\"}], \"scattermapbox\": [{\"marker\": {\"colorbar\": {\"outlinewidth\": 0, \"ticks\": \"\"}}, \"type\": \"scattermapbox\"}], \"scatterpolar\": [{\"marker\": {\"colorbar\": {\"outlinewidth\": 0, \"ticks\": \"\"}}, \"type\": \"scatterpolar\"}], \"scatterpolargl\": [{\"marker\": {\"colorbar\": {\"outlinewidth\": 0, \"ticks\": \"\"}}, \"type\": \"scatterpolargl\"}], \"scatterternary\": [{\"marker\": {\"colorbar\": {\"outlinewidth\": 0, \"ticks\": \"\"}}, \"type\": \"scatterternary\"}], \"surface\": [{\"colorbar\": {\"outlinewidth\": 0, \"ticks\": \"\"}, \"colorscale\": [[0.0, \"#0d0887\"], [0.1111111111111111, \"#46039f\"], [0.2222222222222222, \"#7201a8\"], [0.3333333333333333, \"#9c179e\"], [0.4444444444444444, \"#bd3786\"], [0.5555555555555556, \"#d8576b\"], [0.6666666666666666, \"#ed7953\"], [0.7777777777777778, \"#fb9f3a\"], [0.8888888888888888, \"#fdca26\"], [1.0, \"#f0f921\"]], \"type\": \"surface\"}], \"table\": [{\"cells\": {\"fill\": {\"color\": \"#EBF0F8\"}, \"line\": {\"color\": \"white\"}}, \"header\": {\"fill\": {\"color\": \"#C8D4E3\"}, \"line\": {\"color\": \"white\"}}, \"type\": \"table\"}]}, \"layout\": {\"annotationdefaults\": {\"arrowcolor\": \"#2a3f5f\", \"arrowhead\": 0, \"arrowwidth\": 1}, \"coloraxis\": {\"colorbar\": {\"outlinewidth\": 0, \"ticks\": \"\"}}, \"colorscale\": {\"diverging\": [[0, \"#8e0152\"], [0.1, \"#c51b7d\"], [0.2, \"#de77ae\"], [0.3, \"#f1b6da\"], [0.4, \"#fde0ef\"], [0.5, \"#f7f7f7\"], [0.6, \"#e6f5d0\"], [0.7, \"#b8e186\"], [0.8, \"#7fbc41\"], [0.9, \"#4d9221\"], [1, \"#276419\"]], \"sequential\": [[0.0, \"#0d0887\"], [0.1111111111111111, \"#46039f\"], [0.2222222222222222, \"#7201a8\"], [0.3333333333333333, \"#9c179e\"], [0.4444444444444444, \"#bd3786\"], [0.5555555555555556, \"#d8576b\"], [0.6666666666666666, \"#ed7953\"], [0.7777777777777778, \"#fb9f3a\"], [0.8888888888888888, \"#fdca26\"], [1.0, \"#f0f921\"]], \"sequentialminus\": [[0.0, \"#0d0887\"], [0.1111111111111111, \"#46039f\"], [0.2222222222222222, \"#7201a8\"], [0.3333333333333333, \"#9c179e\"], [0.4444444444444444, \"#bd3786\"], [0.5555555555555556, \"#d8576b\"], [0.6666666666666666, \"#ed7953\"], [0.7777777777777778, \"#fb9f3a\"], [0.8888888888888888, \"#fdca26\"], [1.0, \"#f0f921\"]]}, \"colorway\": [\"#636efa\", \"#EF553B\", \"#00cc96\", \"#ab63fa\", \"#FFA15A\", \"#19d3f3\", \"#FF6692\", \"#B6E880\", \"#FF97FF\", \"#FECB52\"], \"font\": {\"color\": \"#2a3f5f\"}, \"geo\": {\"bgcolor\": \"white\", \"lakecolor\": \"white\", \"landcolor\": \"#E5ECF6\", \"showlakes\": true, \"showland\": true, \"subunitcolor\": \"white\"}, \"hoverlabel\": {\"align\": \"left\"}, \"hovermode\": \"closest\", \"mapbox\": {\"style\": \"light\"}, \"paper_bgcolor\": \"white\", \"plot_bgcolor\": \"#E5ECF6\", \"polar\": {\"angularaxis\": {\"gridcolor\": \"white\", \"linecolor\": \"white\", \"ticks\": \"\"}, \"bgcolor\": \"#E5ECF6\", \"radialaxis\": {\"gridcolor\": \"white\", \"linecolor\": \"white\", \"ticks\": \"\"}}, \"scene\": {\"xaxis\": {\"backgroundcolor\": \"#E5ECF6\", \"gridcolor\": \"white\", \"gridwidth\": 2, \"linecolor\": \"white\", \"showbackground\": true, \"ticks\": \"\", \"zerolinecolor\": \"white\"}, \"yaxis\": {\"backgroundcolor\": \"#E5ECF6\", \"gridcolor\": \"white\", \"gridwidth\": 2, \"linecolor\": \"white\", \"showbackground\": true, \"ticks\": \"\", \"zerolinecolor\": \"white\"}, \"zaxis\": {\"backgroundcolor\": \"#E5ECF6\", \"gridcolor\": \"white\", \"gridwidth\": 2, \"linecolor\": \"white\", \"showbackground\": true, \"ticks\": \"\", \"zerolinecolor\": \"white\"}}, \"shapedefaults\": {\"line\": {\"color\": \"#2a3f5f\"}}, \"ternary\": {\"aaxis\": {\"gridcolor\": \"white\", \"linecolor\": \"white\", \"ticks\": \"\"}, \"baxis\": {\"gridcolor\": \"white\", \"linecolor\": \"white\", \"ticks\": \"\"}, \"bgcolor\": \"#E5ECF6\", \"caxis\": {\"gridcolor\": \"white\", \"linecolor\": \"white\", \"ticks\": \"\"}}, \"title\": {\"x\": 0.05}, \"xaxis\": {\"automargin\": true, \"gridcolor\": \"white\", \"linecolor\": \"white\", \"ticks\": \"\", \"title\": {\"standoff\": 15}, \"zerolinecolor\": \"white\", \"zerolinewidth\": 2}, \"yaxis\": {\"automargin\": true, \"gridcolor\": \"white\", \"linecolor\": \"white\", \"ticks\": \"\", \"title\": {\"standoff\": 15}, \"zerolinecolor\": \"white\", \"zerolinewidth\": 2}}}, \"title\": {\"text\": \"Relationship Between World Happiness Score, Standardized CO2 and Temperature\"}},\n",
              "                        {\"responsive\": true}\n",
              "                    ).then(function(){\n",
              "                            \n",
              "var gd = document.getElementById('5c70c68c-5252-40e8-9aa3-296151648b21');\n",
              "var x = new MutationObserver(function (mutations, observer) {{\n",
              "        var display = window.getComputedStyle(gd).display;\n",
              "        if (!display || display === 'none') {{\n",
              "            console.log([gd, 'removed!']);\n",
              "            Plotly.purge(gd);\n",
              "            observer.disconnect();\n",
              "        }}\n",
              "}});\n",
              "\n",
              "// Listen for the removal of the full notebook cells\n",
              "var notebookContainer = gd.closest('#notebook-container');\n",
              "if (notebookContainer) {{\n",
              "    x.observe(notebookContainer, {childList: true});\n",
              "}}\n",
              "\n",
              "// Listen for the clearing of the current output cell\n",
              "var outputEl = gd.closest('.output');\n",
              "if (outputEl) {{\n",
              "    x.observe(outputEl, {childList: true});\n",
              "}}\n",
              "\n",
              "                        })\n",
              "                };\n",
              "                \n",
              "            </script>\n",
              "        </div>\n",
              "</body>\n",
              "</html>"
            ]
          },
          "metadata": {
            "tags": []
          }
        }
      ]
    },
    {
      "cell_type": "code",
      "metadata": {
        "id": "p56DWlU-AyT7",
        "colab": {
          "base_uri": "https://localhost:8080/",
          "height": 542
        },
        "outputId": "973c6969-39a4-4ac2-a79a-8ab019e49f31"
      },
      "source": [
        "fig = px.scatter(df_q1, x=\"Score\", y=\"Temp\", color=\"REGION\")\n",
        "fig.update_layout(\n",
        "    title_text='Relationship Between Happiness Score and Temperature by Region'\n",
        ")\n",
        "fig.show()"
      ],
      "execution_count": 118,
      "outputs": [
        {
          "output_type": "display_data",
          "data": {
            "text/html": [
              "<html>\n",
              "<head><meta charset=\"utf-8\" /></head>\n",
              "<body>\n",
              "    <div>\n",
              "            <script src=\"https://cdnjs.cloudflare.com/ajax/libs/mathjax/2.7.5/MathJax.js?config=TeX-AMS-MML_SVG\"></script><script type=\"text/javascript\">if (window.MathJax) {MathJax.Hub.Config({SVG: {font: \"STIX-Web\"}});}</script>\n",
              "                <script type=\"text/javascript\">window.PlotlyConfig = {MathJaxConfig: 'local'};</script>\n",
              "        <script src=\"https://cdn.plot.ly/plotly-latest.min.js\"></script>    \n",
              "            <div id=\"df202129-aa1f-447d-b212-f3e0a1cceb0e\" class=\"plotly-graph-div\" style=\"height:525px; width:100%;\"></div>\n",
              "            <script type=\"text/javascript\">\n",
              "                \n",
              "                    window.PLOTLYENV=window.PLOTLYENV || {};\n",
              "                    \n",
              "                if (document.getElementById(\"df202129-aa1f-447d-b212-f3e0a1cceb0e\")) {\n",
              "                    Plotly.newPlot(\n",
              "                        'df202129-aa1f-447d-b212-f3e0a1cceb0e',\n",
              "                        [{\"hoverlabel\": {\"namelength\": 0}, \"hovertemplate\": \"REGION=Western Europe<br>Score=%{x}<br>Temp=%{y}\", \"legendgroup\": \"REGION=Western Europe\", \"marker\": {\"color\": \"#636efa\", \"symbol\": \"circle\"}, \"mode\": \"markers\", \"name\": \"REGION=Western Europe\", \"showlegend\": true, \"type\": \"scatter\", \"x\": [7.521999836, 7.493999958, 7.504000187000001, 7.537000179, 7.468999863, 7.376999855, 7.28399992, 7.006000042, 6.951000214, 6.890999794, 6.977000237, 6.862999916000001, 6.714000225, 6.52699995, 6.441999912000001, 6.402999877999999, 5.964000225, 5.620999812999999, 5.195000172, 5.2270002369999995], \"xaxis\": \"x\", \"y\": [-1.2158350726247487, -1.5322808814031943, -1.961213164132529, -2.2541394335064164, -1.946644835239632, -1.039673625584768, -1.8459115418403504, -1.4401110241717947, -1.1382348594792036, -1.0121920474758028, -1.0565658032086742, -1.1181528576771627, -1.1336234188989742, -0.010484418431057232, -0.9044809943324631, -0.6110948097910464, -0.728195413110796, -0.12488517055845597, -0.39335148187694896, -0.5485242286759135], \"yaxis\": \"y\"}, {\"hoverlabel\": {\"namelength\": 0}, \"hovertemplate\": \"REGION=North America<br>Score=%{x}<br>Temp=%{y}\", \"legendgroup\": \"REGION=North America\", \"marker\": {\"color\": \"#EF553B\", \"symbol\": \"circle\"}, \"mode\": \"markers\", \"name\": \"REGION=North America\", \"showlegend\": true, \"type\": \"scatter\", \"x\": [7.315999985, 6.993000031], \"xaxis\": \"x\", \"y\": [-2.863492956798796, -1.3429920347226607], \"yaxis\": \"y\"}, {\"hoverlabel\": {\"namelength\": 0}, \"hovertemplate\": \"REGION=Australia and New Zealand<br>Score=%{x}<br>Temp=%{y}\", \"legendgroup\": \"REGION=Australia and New Zealand\", \"marker\": {\"color\": \"#00cc96\", \"symbol\": \"circle\"}, \"mode\": \"markers\", \"name\": \"REGION=Australia and New Zealand\", \"showlegend\": true, \"type\": \"scatter\", \"x\": [7.31400013, 7.28399992], \"xaxis\": \"x\", \"y\": [-0.9350332527009996, 0.33941021542412514], \"yaxis\": \"y\"}, {\"hoverlabel\": {\"namelength\": 0}, \"hovertemplate\": \"REGION=Middle East and Northern Africa<br>Score=%{x}<br>Temp=%{y}\", \"legendgroup\": \"REGION=Middle East and Northern Africa\", \"marker\": {\"color\": \"#ab63fa\", \"symbol\": \"circle\"}, \"mode\": \"markers\", \"name\": \"REGION=Middle East and Northern Africa\", \"showlegend\": true, \"type\": \"scatter\", \"x\": [7.212999821, 6.647999763, 6.343999863, 6.375, 5.872000217, 6.105000018999999, 6.086999893, 5.525000095, 5.5, 5.335999966, 5.235000134, 5.224999905, 4.804999828, 4.497000217, 4.735000134, 3.592999935, 3.461999893], \"xaxis\": \"x\", \"y\": [0.15592058328625896, 0.9780918651678965, 0.6900276768386443, 0.9451239549967042, 0.5088831627730397, 0.7169321988709628, 0.8799862734220817, 0.3658271472109477, -0.8732159466544517, -0.016551945692689182, -0.15522851018616216, -0.4009172844257407, 0.06992505287017559, 0.339177150102785, 0.39827653293809134, 0.5100808734596861, -0.07961198571387959], \"yaxis\": \"y\"}, {\"hoverlabel\": {\"namelength\": 0}, \"hovertemplate\": \"REGION=Latin America and Caribbean<br>Score=%{x}<br>Temp=%{y}\", \"legendgroup\": \"REGION=Latin America and Caribbean\", \"marker\": {\"color\": \"#FFA15A\", \"symbol\": \"circle\"}, \"mode\": \"markers\", \"name\": \"REGION=Latin America and Caribbean\", \"showlegend\": true, \"type\": \"scatter\", \"x\": [7.078999996, 6.635000229, 6.578000069, 6.65199995, 6.452000141, 6.598999977, 6.453999996, 6.3569998739999996, 6.453999996, 6.168000221000001, 5.25, 6.002999783, 6.071000099, 6.007999897, 5.9559998510000005, 5.822999954, 5.715000152999999, 5.493000031, 5.31099987, 5.230000018999999, 5.181000233, 3.6029999260000003], \"xaxis\": \"x\", \"y\": [0.5692391490963276, 0.6768252945615375, 0.21256470120504056, -1.1169935062569165, 0.7416929563827558, -0.482237414798234, -0.1068542271136752, 0.6924218237650607, 0.5051640234566936, 0.8337841967667007, 0.8072827508162572, 0.6708460719809225, 0.7446653750904279, 0.2766380623129873, 0.7163232328403004, 0.22170338285217336, 0.0790466392725334, 0.5576479370474594, 0.6058918575601832, 0.6093886579610898, 0.5852011276393208, 0.5982412273293114], \"yaxis\": \"y\"}, {\"hoverlabel\": {\"namelength\": 0}, \"hovertemplate\": \"REGION=Southeastern Asia<br>Score=%{x}<br>Temp=%{y}\", \"legendgroup\": \"REGION=Southeastern Asia\", \"marker\": {\"color\": \"#19d3f3\", \"symbol\": \"circle\"}, \"mode\": \"markers\", \"name\": \"REGION=Southeastern Asia\", \"showlegend\": true, \"type\": \"scatter\", \"x\": [6.5720000270000005, 6.423999786, 6.084000111, 5.262000083999999, 5.429999828, 5.073999882, 4.545000076, 4.168000221000001], \"xaxis\": \"x\", \"y\": [0.9517273034138948, 0.8695193725217482, 0.7895176268830008, 0.7385757691119111, 0.7715880698750044, 0.553562526679004, 0.538472809684828, 0.9370497669870925], \"yaxis\": \"y\"}, {\"hoverlabel\": {\"namelength\": 0}, \"hovertemplate\": \"REGION=Central and Eastern Europe<br>Score=%{x}<br>Temp=%{y}\", \"legendgroup\": \"REGION=Central and Eastern Europe\", \"marker\": {\"color\": \"#FF6692\", \"symbol\": \"circle\"}, \"mode\": \"markers\", \"name\": \"REGION=Central and Eastern Europe\", \"showlegend\": true, \"type\": \"scatter\", \"x\": [6.609000206, 6.09800005, 5.971000195, 5.818999767, 5.837999821, 5.962999821, 5.97300005, 5.90199995, 5.568999767, 5.757999897, 5.8220000270000005, 5.849999905, 5.8249998089999995, 5.611000061, 5.293000221000001, 5.234000206, 5.004000187, 5.394999981000001, 5.18200016, 5.236999989, 5.323999882, 5.040999889, 4.644000053, 4.375999928, 4.096000195, 4.285999775, 4.714000225], \"xaxis\": \"x\", \"y\": [-1.2599791415655206, -1.2326653477832985, -0.6870453955381738, -1.4496613719670246, -1.0340432749136312, -2.7989994396439797, -1.2259385030869605, -1.3887590338898343, -1.3834696988309678, -1.0911439290179674, -0.3594245957049284, -1.4472379452461397, -1.0708923030904294, -1.5171128207866755, -0.8662541221368704, -0.7332292700135715, -1.9781448222191724, -0.9398183253497393, -1.0634098465377444, -1.1314292529472716, -0.9193046326247647, -1.8138767461321876, -0.7923270218737904, -1.3924473392882615, -1.1737929890968624, -1.186009569171868, -0.9381197196902181], \"yaxis\": \"y\"}, {\"hoverlabel\": {\"namelength\": 0}, \"hovertemplate\": \"REGION=Eastern Asia<br>Score=%{x}<br>Temp=%{y}\", \"legendgroup\": \"REGION=Eastern Asia\", \"marker\": {\"color\": \"#B6E880\", \"symbol\": \"circle\"}, \"mode\": \"markers\", \"name\": \"REGION=Eastern Asia\", \"showlegend\": true, \"type\": \"scatter\", \"x\": [5.920000076, 5.2729997630000005, 4.954999924], \"xaxis\": \"x\", \"y\": [-0.9093928099307445, -1.3700771294657041, -2.1006239683704244], \"yaxis\": \"y\"}, {\"hoverlabel\": {\"namelength\": 0}, \"hovertemplate\": \"REGION=Sub-Saharan Africa<br>Score=%{x}<br>Temp=%{y}\", \"legendgroup\": \"REGION=Sub-Saharan Africa\", \"marker\": {\"color\": \"#FF97FF\", \"symbol\": \"circle\"}, \"mode\": \"markers\", \"name\": \"REGION=Sub-Saharan Africa\", \"showlegend\": true, \"type\": \"scatter\", \"x\": [5.629000187000001, 5.151000023, 5.073999882, 4.513999939, 4.709000111, 4.573999882, 4.695000172, 4.460000038, 4.828999996, 4.552999973, 4.1199998860000004, 4.28000021, 4.290999889, 4.534999847, 4.291999817, 3.875, 3.970000029, 4.138999939, 4.465000153, 4.190000057, 3.766000032, 3.7950000760000004, 4.027999878, 3.59100008, 3.9360001089999996, 4.032000065, 4.0809998510000005, 3.644000053, 3.348999977, 3.5329999919999997, 3.5069999689999998, 3.4709999560000004, 3.657000065, 3.4949998860000004, 2.904999971], \"xaxis\": \"x\", \"y\": [0.40310507373272464, 0.8940947342318101, 0.9007247158723055, 0.30877122675787994, 0.8569050184486959, 0.15859654029743675, 0.65525645150185, 0.4833099091590057, -0.14362101555047388, 0.6535668971315544, 0.9584283971527717, 0.6201799440737964, 0.6790542183919713, 1.0376230217765021, 1.0431987257275253, 0.22950093666118337, 0.371201004129917, 0.9388200744313384, 0.6830583414600774, 1.1071434865437249, 0.2678414213816202, 0.3558508008335248, 0.9815860657424497, 0.9398114152709065, 0.9612422932311626, 1.0868697757873904, 0.4536227523473346, 0.495528553136212, 0.45333783424203866, 0.8054051181938786, 0.8161813418385329, 0.04506878088464761, 0.9867896493150269, 0.9358475719678321, 0.15684473610144167], \"yaxis\": \"y\"}, {\"hoverlabel\": {\"namelength\": 0}, \"hovertemplate\": \"REGION=Southern Asia<br>Score=%{x}<br>Temp=%{y}\", \"legendgroup\": \"REGION=Southern Asia\", \"marker\": {\"color\": \"#FECB52\", \"symbol\": \"circle\"}, \"mode\": \"markers\", \"name\": \"REGION=Southern Asia\", \"showlegend\": true, \"type\": \"scatter\", \"x\": [5.011000156000001, 5.269000053, 4.961999893, 4.607999802, 4.440000057, 4.315000057, 3.79399991], \"xaxis\": \"x\", \"y\": [-0.9636873510241349, 0.17424705692684148, -0.5113822639045713, 0.798407182461749, 0.906665245521388, 0.6220313215059577, -0.7848773660297321], \"yaxis\": \"y\"}],\n",
              "                        {\"legend\": {\"tracegroupgap\": 0}, \"margin\": {\"t\": 60}, \"template\": {\"data\": {\"bar\": [{\"error_x\": {\"color\": \"#2a3f5f\"}, \"error_y\": {\"color\": \"#2a3f5f\"}, \"marker\": {\"line\": {\"color\": \"#E5ECF6\", \"width\": 0.5}}, \"type\": \"bar\"}], \"barpolar\": [{\"marker\": {\"line\": {\"color\": \"#E5ECF6\", \"width\": 0.5}}, \"type\": \"barpolar\"}], \"carpet\": [{\"aaxis\": {\"endlinecolor\": \"#2a3f5f\", \"gridcolor\": \"white\", \"linecolor\": \"white\", \"minorgridcolor\": \"white\", \"startlinecolor\": \"#2a3f5f\"}, \"baxis\": {\"endlinecolor\": \"#2a3f5f\", \"gridcolor\": \"white\", \"linecolor\": \"white\", \"minorgridcolor\": \"white\", \"startlinecolor\": \"#2a3f5f\"}, \"type\": \"carpet\"}], \"choropleth\": [{\"colorbar\": {\"outlinewidth\": 0, \"ticks\": \"\"}, \"type\": \"choropleth\"}], \"contour\": [{\"colorbar\": {\"outlinewidth\": 0, \"ticks\": \"\"}, \"colorscale\": [[0.0, \"#0d0887\"], [0.1111111111111111, \"#46039f\"], [0.2222222222222222, \"#7201a8\"], [0.3333333333333333, \"#9c179e\"], [0.4444444444444444, \"#bd3786\"], [0.5555555555555556, \"#d8576b\"], [0.6666666666666666, \"#ed7953\"], [0.7777777777777778, \"#fb9f3a\"], [0.8888888888888888, \"#fdca26\"], [1.0, \"#f0f921\"]], \"type\": \"contour\"}], \"contourcarpet\": [{\"colorbar\": {\"outlinewidth\": 0, \"ticks\": \"\"}, \"type\": \"contourcarpet\"}], \"heatmap\": [{\"colorbar\": {\"outlinewidth\": 0, \"ticks\": \"\"}, \"colorscale\": [[0.0, \"#0d0887\"], [0.1111111111111111, \"#46039f\"], [0.2222222222222222, \"#7201a8\"], [0.3333333333333333, \"#9c179e\"], [0.4444444444444444, \"#bd3786\"], [0.5555555555555556, \"#d8576b\"], [0.6666666666666666, \"#ed7953\"], [0.7777777777777778, \"#fb9f3a\"], [0.8888888888888888, \"#fdca26\"], [1.0, \"#f0f921\"]], \"type\": \"heatmap\"}], \"heatmapgl\": [{\"colorbar\": {\"outlinewidth\": 0, \"ticks\": \"\"}, \"colorscale\": [[0.0, \"#0d0887\"], [0.1111111111111111, \"#46039f\"], [0.2222222222222222, \"#7201a8\"], [0.3333333333333333, \"#9c179e\"], [0.4444444444444444, \"#bd3786\"], [0.5555555555555556, \"#d8576b\"], [0.6666666666666666, \"#ed7953\"], [0.7777777777777778, \"#fb9f3a\"], [0.8888888888888888, \"#fdca26\"], [1.0, \"#f0f921\"]], \"type\": \"heatmapgl\"}], \"histogram\": [{\"marker\": {\"colorbar\": {\"outlinewidth\": 0, \"ticks\": \"\"}}, \"type\": \"histogram\"}], \"histogram2d\": [{\"colorbar\": {\"outlinewidth\": 0, \"ticks\": \"\"}, \"colorscale\": [[0.0, \"#0d0887\"], [0.1111111111111111, \"#46039f\"], [0.2222222222222222, \"#7201a8\"], [0.3333333333333333, \"#9c179e\"], [0.4444444444444444, \"#bd3786\"], [0.5555555555555556, \"#d8576b\"], [0.6666666666666666, \"#ed7953\"], [0.7777777777777778, \"#fb9f3a\"], [0.8888888888888888, \"#fdca26\"], [1.0, \"#f0f921\"]], \"type\": \"histogram2d\"}], \"histogram2dcontour\": [{\"colorbar\": {\"outlinewidth\": 0, \"ticks\": \"\"}, \"colorscale\": [[0.0, \"#0d0887\"], [0.1111111111111111, \"#46039f\"], [0.2222222222222222, \"#7201a8\"], [0.3333333333333333, \"#9c179e\"], [0.4444444444444444, \"#bd3786\"], [0.5555555555555556, \"#d8576b\"], [0.6666666666666666, \"#ed7953\"], [0.7777777777777778, \"#fb9f3a\"], [0.8888888888888888, \"#fdca26\"], [1.0, \"#f0f921\"]], \"type\": \"histogram2dcontour\"}], \"mesh3d\": [{\"colorbar\": {\"outlinewidth\": 0, \"ticks\": \"\"}, \"type\": \"mesh3d\"}], \"parcoords\": [{\"line\": {\"colorbar\": {\"outlinewidth\": 0, \"ticks\": \"\"}}, \"type\": \"parcoords\"}], \"pie\": [{\"automargin\": true, \"type\": \"pie\"}], \"scatter\": [{\"marker\": {\"colorbar\": {\"outlinewidth\": 0, \"ticks\": \"\"}}, \"type\": \"scatter\"}], \"scatter3d\": [{\"line\": {\"colorbar\": {\"outlinewidth\": 0, \"ticks\": \"\"}}, \"marker\": {\"colorbar\": {\"outlinewidth\": 0, \"ticks\": \"\"}}, \"type\": \"scatter3d\"}], \"scattercarpet\": [{\"marker\": {\"colorbar\": {\"outlinewidth\": 0, \"ticks\": \"\"}}, \"type\": \"scattercarpet\"}], \"scattergeo\": [{\"marker\": {\"colorbar\": {\"outlinewidth\": 0, \"ticks\": \"\"}}, \"type\": \"scattergeo\"}], \"scattergl\": [{\"marker\": {\"colorbar\": {\"outlinewidth\": 0, \"ticks\": \"\"}}, \"type\": \"scattergl\"}], \"scattermapbox\": [{\"marker\": {\"colorbar\": {\"outlinewidth\": 0, \"ticks\": \"\"}}, \"type\": \"scattermapbox\"}], \"scatterpolar\": [{\"marker\": {\"colorbar\": {\"outlinewidth\": 0, \"ticks\": \"\"}}, \"type\": \"scatterpolar\"}], \"scatterpolargl\": [{\"marker\": {\"colorbar\": {\"outlinewidth\": 0, \"ticks\": \"\"}}, \"type\": \"scatterpolargl\"}], \"scatterternary\": [{\"marker\": {\"colorbar\": {\"outlinewidth\": 0, \"ticks\": \"\"}}, \"type\": \"scatterternary\"}], \"surface\": [{\"colorbar\": {\"outlinewidth\": 0, \"ticks\": \"\"}, \"colorscale\": [[0.0, \"#0d0887\"], [0.1111111111111111, \"#46039f\"], [0.2222222222222222, \"#7201a8\"], [0.3333333333333333, \"#9c179e\"], [0.4444444444444444, \"#bd3786\"], [0.5555555555555556, \"#d8576b\"], [0.6666666666666666, \"#ed7953\"], [0.7777777777777778, \"#fb9f3a\"], [0.8888888888888888, \"#fdca26\"], [1.0, \"#f0f921\"]], \"type\": \"surface\"}], \"table\": [{\"cells\": {\"fill\": {\"color\": \"#EBF0F8\"}, \"line\": {\"color\": \"white\"}}, \"header\": {\"fill\": {\"color\": \"#C8D4E3\"}, \"line\": {\"color\": \"white\"}}, \"type\": \"table\"}]}, \"layout\": {\"annotationdefaults\": {\"arrowcolor\": \"#2a3f5f\", \"arrowhead\": 0, \"arrowwidth\": 1}, \"coloraxis\": {\"colorbar\": {\"outlinewidth\": 0, \"ticks\": \"\"}}, \"colorscale\": {\"diverging\": [[0, \"#8e0152\"], [0.1, \"#c51b7d\"], [0.2, \"#de77ae\"], [0.3, \"#f1b6da\"], [0.4, \"#fde0ef\"], [0.5, \"#f7f7f7\"], [0.6, \"#e6f5d0\"], [0.7, \"#b8e186\"], [0.8, \"#7fbc41\"], [0.9, \"#4d9221\"], [1, \"#276419\"]], \"sequential\": [[0.0, \"#0d0887\"], [0.1111111111111111, \"#46039f\"], [0.2222222222222222, \"#7201a8\"], [0.3333333333333333, \"#9c179e\"], [0.4444444444444444, \"#bd3786\"], [0.5555555555555556, \"#d8576b\"], [0.6666666666666666, \"#ed7953\"], [0.7777777777777778, \"#fb9f3a\"], [0.8888888888888888, \"#fdca26\"], [1.0, \"#f0f921\"]], \"sequentialminus\": [[0.0, \"#0d0887\"], [0.1111111111111111, \"#46039f\"], [0.2222222222222222, \"#7201a8\"], [0.3333333333333333, \"#9c179e\"], [0.4444444444444444, \"#bd3786\"], [0.5555555555555556, \"#d8576b\"], [0.6666666666666666, \"#ed7953\"], [0.7777777777777778, \"#fb9f3a\"], [0.8888888888888888, \"#fdca26\"], [1.0, \"#f0f921\"]]}, \"colorway\": [\"#636efa\", \"#EF553B\", \"#00cc96\", \"#ab63fa\", \"#FFA15A\", \"#19d3f3\", \"#FF6692\", \"#B6E880\", \"#FF97FF\", \"#FECB52\"], \"font\": {\"color\": \"#2a3f5f\"}, \"geo\": {\"bgcolor\": \"white\", \"lakecolor\": \"white\", \"landcolor\": \"#E5ECF6\", \"showlakes\": true, \"showland\": true, \"subunitcolor\": \"white\"}, \"hoverlabel\": {\"align\": \"left\"}, \"hovermode\": \"closest\", \"mapbox\": {\"style\": \"light\"}, \"paper_bgcolor\": \"white\", \"plot_bgcolor\": \"#E5ECF6\", \"polar\": {\"angularaxis\": {\"gridcolor\": \"white\", \"linecolor\": \"white\", \"ticks\": \"\"}, \"bgcolor\": \"#E5ECF6\", \"radialaxis\": {\"gridcolor\": \"white\", \"linecolor\": \"white\", \"ticks\": \"\"}}, \"scene\": {\"xaxis\": {\"backgroundcolor\": \"#E5ECF6\", \"gridcolor\": \"white\", \"gridwidth\": 2, \"linecolor\": \"white\", \"showbackground\": true, \"ticks\": \"\", \"zerolinecolor\": \"white\"}, \"yaxis\": {\"backgroundcolor\": \"#E5ECF6\", \"gridcolor\": \"white\", \"gridwidth\": 2, \"linecolor\": \"white\", \"showbackground\": true, \"ticks\": \"\", \"zerolinecolor\": \"white\"}, \"zaxis\": {\"backgroundcolor\": \"#E5ECF6\", \"gridcolor\": \"white\", \"gridwidth\": 2, \"linecolor\": \"white\", \"showbackground\": true, \"ticks\": \"\", \"zerolinecolor\": \"white\"}}, \"shapedefaults\": {\"line\": {\"color\": \"#2a3f5f\"}}, \"ternary\": {\"aaxis\": {\"gridcolor\": \"white\", \"linecolor\": \"white\", \"ticks\": \"\"}, \"baxis\": {\"gridcolor\": \"white\", \"linecolor\": \"white\", \"ticks\": \"\"}, \"bgcolor\": \"#E5ECF6\", \"caxis\": {\"gridcolor\": \"white\", \"linecolor\": \"white\", \"ticks\": \"\"}}, \"title\": {\"x\": 0.05}, \"xaxis\": {\"automargin\": true, \"gridcolor\": \"white\", \"linecolor\": \"white\", \"ticks\": \"\", \"title\": {\"standoff\": 15}, \"zerolinecolor\": \"white\", \"zerolinewidth\": 2}, \"yaxis\": {\"automargin\": true, \"gridcolor\": \"white\", \"linecolor\": \"white\", \"ticks\": \"\", \"title\": {\"standoff\": 15}, \"zerolinecolor\": \"white\", \"zerolinewidth\": 2}}}, \"title\": {\"text\": \"Relationship Between Happiness Score and Temperature by Region\"}, \"xaxis\": {\"anchor\": \"y\", \"domain\": [0.0, 1.0], \"title\": {\"text\": \"Score\"}}, \"yaxis\": {\"anchor\": \"x\", \"domain\": [0.0, 1.0], \"title\": {\"text\": \"Temp\"}}},\n",
              "                        {\"responsive\": true}\n",
              "                    ).then(function(){\n",
              "                            \n",
              "var gd = document.getElementById('df202129-aa1f-447d-b212-f3e0a1cceb0e');\n",
              "var x = new MutationObserver(function (mutations, observer) {{\n",
              "        var display = window.getComputedStyle(gd).display;\n",
              "        if (!display || display === 'none') {{\n",
              "            console.log([gd, 'removed!']);\n",
              "            Plotly.purge(gd);\n",
              "            observer.disconnect();\n",
              "        }}\n",
              "}});\n",
              "\n",
              "// Listen for the removal of the full notebook cells\n",
              "var notebookContainer = gd.closest('#notebook-container');\n",
              "if (notebookContainer) {{\n",
              "    x.observe(notebookContainer, {childList: true});\n",
              "}}\n",
              "\n",
              "// Listen for the clearing of the current output cell\n",
              "var outputEl = gd.closest('.output');\n",
              "if (outputEl) {{\n",
              "    x.observe(outputEl, {childList: true});\n",
              "}}\n",
              "\n",
              "                        })\n",
              "                };\n",
              "                \n",
              "            </script>\n",
              "        </div>\n",
              "</body>\n",
              "</html>"
            ]
          },
          "metadata": {
            "tags": []
          }
        }
      ]
    },
    {
      "cell_type": "code",
      "metadata": {
        "id": "2KRxfm7kFXWG",
        "colab": {
          "base_uri": "https://localhost:8080/",
          "height": 542
        },
        "outputId": "2474f046-e4cd-4241-8f00-8f686cba5d23"
      },
      "source": [
        "fig = px.scatter(df_q1, x=\"Score\", y=\"Clouds\", color=\"REGION\")\n",
        "fig.update_layout(\n",
        "    title_text='Relationship Between Happiness Score and Cloud Cover by Region'\n",
        ")\n",
        "fig.show()"
      ],
      "execution_count": 119,
      "outputs": [
        {
          "output_type": "display_data",
          "data": {
            "text/html": [
              "<html>\n",
              "<head><meta charset=\"utf-8\" /></head>\n",
              "<body>\n",
              "    <div>\n",
              "            <script src=\"https://cdnjs.cloudflare.com/ajax/libs/mathjax/2.7.5/MathJax.js?config=TeX-AMS-MML_SVG\"></script><script type=\"text/javascript\">if (window.MathJax) {MathJax.Hub.Config({SVG: {font: \"STIX-Web\"}});}</script>\n",
              "                <script type=\"text/javascript\">window.PlotlyConfig = {MathJaxConfig: 'local'};</script>\n",
              "        <script src=\"https://cdn.plot.ly/plotly-latest.min.js\"></script>    \n",
              "            <div id=\"76b8348c-4ea9-410e-bf8b-c8ca8a885dd8\" class=\"plotly-graph-div\" style=\"height:525px; width:100%;\"></div>\n",
              "            <script type=\"text/javascript\">\n",
              "                \n",
              "                    window.PLOTLYENV=window.PLOTLYENV || {};\n",
              "                    \n",
              "                if (document.getElementById(\"76b8348c-4ea9-410e-bf8b-c8ca8a885dd8\")) {\n",
              "                    Plotly.newPlot(\n",
              "                        '76b8348c-4ea9-410e-bf8b-c8ca8a885dd8',\n",
              "                        [{\"hoverlabel\": {\"namelength\": 0}, \"hovertemplate\": \"REGION=Western Europe<br>Score=%{x}<br>Clouds=%{y}\", \"legendgroup\": \"REGION=Western Europe\", \"marker\": {\"color\": \"#636efa\", \"symbol\": \"circle\"}, \"mode\": \"markers\", \"name\": \"REGION=Western Europe\", \"showlegend\": true, \"type\": \"scatter\", \"x\": [7.521999836, 7.493999958, 7.504000187000001, 7.537000179, 7.468999863, 7.376999855, 7.28399992, 7.006000042, 6.951000214, 6.890999794, 6.977000237, 6.862999916000001, 6.714000225, 6.52699995, 6.441999912000001, 6.402999877999999, 5.964000225, 5.620999812999999, 5.195000172, 5.2270002369999995], \"xaxis\": \"x\", \"y\": [0.6873435347332029, 0.4599397515370348, null, null, null, 0.720951590398861, 0.6552064536188325, 0.5586696807527018, 0.7103009499120979, 0.6665905513094049, 0.8027771372872751, 0.7290802652531354, 0.8484380296204577, -1.1977822782126661, 0.23006326780396305, -0.7631507789371051, -0.3613608589471164, -1.4916419994703294, -0.8934086715135249, -0.6169705332448571], \"yaxis\": \"y\"}, {\"hoverlabel\": {\"namelength\": 0}, \"hovertemplate\": \"REGION=North America<br>Score=%{x}<br>Clouds=%{y}\", \"legendgroup\": \"REGION=North America\", \"marker\": {\"color\": \"#EF553B\", \"symbol\": \"circle\"}, \"mode\": \"markers\", \"name\": \"REGION=North America\", \"showlegend\": true, \"type\": \"scatter\", \"x\": [7.315999985, 6.993000031], \"xaxis\": \"x\", \"y\": [0.5522740565771183, -0.36030627448733676], \"yaxis\": \"y\"}, {\"hoverlabel\": {\"namelength\": 0}, \"hovertemplate\": \"REGION=Australia and New Zealand<br>Score=%{x}<br>Clouds=%{y}\", \"legendgroup\": \"REGION=Australia and New Zealand\", \"marker\": {\"color\": \"#00cc96\", \"symbol\": \"circle\"}, \"mode\": \"markers\", \"name\": \"REGION=Australia and New Zealand\", \"showlegend\": true, \"type\": \"scatter\", \"x\": [7.31400013, 7.28399992], \"xaxis\": \"x\", \"y\": [0.07820481587998558, -1.3127313857291487], \"yaxis\": \"y\"}, {\"hoverlabel\": {\"namelength\": 0}, \"hovertemplate\": \"REGION=Middle East and Northern Africa<br>Score=%{x}<br>Clouds=%{y}\", \"legendgroup\": \"REGION=Middle East and Northern Africa\", \"marker\": {\"color\": \"#ab63fa\", \"symbol\": \"circle\"}, \"mode\": \"markers\", \"name\": \"REGION=Middle East and Northern Africa\", \"showlegend\": true, \"type\": \"scatter\", \"x\": [7.212999821, 6.647999763, 6.343999863, 6.375, 5.872000217, 6.105000018999999, 6.086999893, 5.525000095, 5.5, 5.335999966, 5.235000134, 5.224999905, 4.804999828, 4.497000217, 4.735000134, 3.592999935, 3.461999893], \"xaxis\": \"x\", \"y\": [-1.993545570223209, -2.3342857795317737, -2.274406652095727, -2.104511777993687, -1.9565759635920774, -1.9420103916608022, -1.7070352203074797, -2.4742301752733256, -0.672274118920042, -2.2321909970766964, -1.5282574137053242, -1.3106599962771686, -1.645358299380548, -1.901718086557021, -2.674844885232368, -1.9265330751858958, -1.835829977135656], \"yaxis\": \"y\"}, {\"hoverlabel\": {\"namelength\": 0}, \"hovertemplate\": \"REGION=Latin America and Caribbean<br>Score=%{x}<br>Clouds=%{y}\", \"legendgroup\": \"REGION=Latin America and Caribbean\", \"marker\": {\"color\": \"#FFA15A\", \"symbol\": \"circle\"}, \"mode\": \"markers\", \"name\": \"REGION=Latin America and Caribbean\", \"showlegend\": true, \"type\": \"scatter\", \"x\": [7.078999996, 6.635000229, 6.578000069, 6.65199995, 6.452000141, 6.598999977, 6.453999996, 6.3569998739999996, 6.453999996, 6.168000221000001, 5.25, 6.002999783, 6.071000099, 6.007999897, 5.9559998510000005, 5.822999954, 5.715000152999999, 5.493000031, 5.31099987, 5.230000018999999, 5.181000233, 3.6029999260000003], \"xaxis\": \"x\", \"y\": [1.0218211416815197, 0.32043064435035595, -0.8496370091019516, -0.30587454899143224, 1.2578910120347355, -0.7392074169268111, -0.6726916420748982, 1.4850351936710977, 0.33986485961788027, 0.5217885631623501, 0.9194059791509268, -0.020094137725873793, 0.5789379571349195, 1.4745628289441064, 0.13104382308714624, -0.06245373775412738, 0.6660553766285907, -0.4045591877409671, -0.1904531500284625, -0.32211841774029026, 0.4672112318999057, -0.2916061227452974], \"yaxis\": \"y\"}, {\"hoverlabel\": {\"namelength\": 0}, \"hovertemplate\": \"REGION=Southeastern Asia<br>Score=%{x}<br>Clouds=%{y}\", \"legendgroup\": \"REGION=Southeastern Asia\", \"marker\": {\"color\": \"#19d3f3\", \"symbol\": \"circle\"}, \"mode\": \"markers\", \"name\": \"REGION=Southeastern Asia\", \"showlegend\": true, \"type\": \"scatter\", \"x\": [6.5720000270000005, 6.423999786, 6.084000111, 5.262000083999999, 5.429999828, 5.073999882, 4.545000076, 4.168000221000001], \"xaxis\": \"x\", \"y\": [2.167898466222477, 0.6703748279007916, 1.7420358208118703, 1.6496424343569358, 1.251297591698254, 1.1302084210193353, 0.03624986377258846, 1.0778747600658594], \"yaxis\": \"y\"}, {\"hoverlabel\": {\"namelength\": 0}, \"hovertemplate\": \"REGION=Central and Eastern Europe<br>Score=%{x}<br>Clouds=%{y}\", \"legendgroup\": \"REGION=Central and Eastern Europe\", \"marker\": {\"color\": \"#FF6692\", \"symbol\": \"circle\"}, \"mode\": \"markers\", \"name\": \"REGION=Central and Eastern Europe\", \"showlegend\": true, \"type\": \"scatter\", \"x\": [6.609000206, 6.09800005, 5.971000195, 5.818999767, 5.837999821, 5.962999821, 5.97300005, 5.90199995, 5.568999767, 5.757999897, 5.8220000270000005, 5.849999905, 5.8249998089999995, 5.611000061, 5.293000221000001, 5.234000206, 5.004000187, 5.394999981000001, 5.18200016, 5.236999989, 5.323999882, 5.040999889, 4.644000053, 4.375999928, 4.096000195, 4.285999775, 4.714000225], \"xaxis\": \"x\", \"y\": [0.6863406453979516, 0.40714514936757196, -0.9762540110470268, -0.38795525960820265, 0.07255746780905684, 0.18691660741144847, 0.5748018554659157, 0.5989110972378952, 0.5714044042077377, 0.28587612626054043, -1.3390421125788994, 0.6319248487061421, 0.08358804617162681, null, 0.03595557907240499, -0.16639652265882227, -0.060570688016100015, 0.06230106566901686, 0.16079971812705823, 0.021917513869176272, 0.15585139709911514, -0.27102295095552953, -0.3450477967274805, -0.15565949856251557, 0.2491253216446084, 0.2773645169698413, -0.16299469948640155], \"yaxis\": \"y\"}, {\"hoverlabel\": {\"namelength\": 0}, \"hovertemplate\": \"REGION=Eastern Asia<br>Score=%{x}<br>Clouds=%{y}\", \"legendgroup\": \"REGION=Eastern Asia\", \"marker\": {\"color\": \"#B6E880\", \"symbol\": \"circle\"}, \"mode\": \"markers\", \"name\": \"REGION=Eastern Asia\", \"showlegend\": true, \"type\": \"scatter\", \"x\": [5.920000076, 5.2729997630000005, 4.954999924], \"xaxis\": \"x\", \"y\": [0.7721333036141127, -0.16487026673061445, -0.8523258788851612], \"yaxis\": \"y\"}, {\"hoverlabel\": {\"namelength\": 0}, \"hovertemplate\": \"REGION=Sub-Saharan Africa<br>Score=%{x}<br>Clouds=%{y}\", \"legendgroup\": \"REGION=Sub-Saharan Africa\", \"marker\": {\"color\": \"#FF97FF\", \"symbol\": \"circle\"}, \"mode\": \"markers\", \"name\": \"REGION=Sub-Saharan Africa\", \"showlegend\": true, \"type\": \"scatter\", \"x\": [5.629000187000001, 5.151000023, 5.073999882, 4.513999939, 4.709000111, 4.573999882, 4.695000172, 4.460000038, 4.828999996, 4.552999973, 4.1199998860000004, 4.28000021, 4.290999889, 4.534999847, 4.291999817, 3.875, 3.970000029, 4.138999939, 4.465000153, 4.190000057, 3.766000032, 3.7950000760000004, 4.027999878, 3.59100008, 3.9360001089999996, 4.032000065, 4.0809998510000005, 3.644000053, 3.348999977, 3.5329999919999997, 3.5069999689999998, 3.4709999560000004, 3.657000065, 3.4949998860000004, 2.904999971], \"xaxis\": \"x\", \"y\": [-0.8088815203500473, -1.1872759839393177, 0.2629535367457149, -0.6949404722157324, 0.6455960347668172, -1.7634624235740683, 0.9518846753019509, -0.5276988984373168, -1.4955646416247173, -0.28069804884038796, 0.4681744159161938, 0.9641789025645737, 1.2886959740860118, -0.4513333932026429, -1.5248520808869948, -1.25203625884955, -0.5878590893632842, -1.8413551284219432, 1.5648042964981541, -1.147760344412497, -1.5701996437916894, -0.2312794766182377, -1.8348939054012416, 0.2838925670335748, -1.5182951858096063, -0.3776769301981935, 0.7617071646649803, -0.8127846545741323, -0.10000739257781475, 0.8428795807022317, 0.2561466426422486, 1.1970037578740775, 0.2180410078129478, 0.4186286270468257, 0.9699050377322779], \"yaxis\": \"y\"}, {\"hoverlabel\": {\"namelength\": 0}, \"hovertemplate\": \"REGION=Southern Asia<br>Score=%{x}<br>Clouds=%{y}\", \"legendgroup\": \"REGION=Southern Asia\", \"marker\": {\"color\": \"#FECB52\", \"symbol\": \"circle\"}, \"mode\": \"markers\", \"name\": \"REGION=Southern Asia\", \"showlegend\": true, \"type\": \"scatter\", \"x\": [5.011000156000001, 5.269000053, 4.961999893, 4.607999802, 4.440000057, 4.315000057, 3.79399991], \"xaxis\": \"x\", \"y\": [0.4557310821488533, -1.4154037429507047, -0.4682439521503846, -0.1250526640397198, 0.8392515136400491, -0.5912779423353179, -1.5369401155617328], \"yaxis\": \"y\"}],\n",
              "                        {\"legend\": {\"tracegroupgap\": 0}, \"margin\": {\"t\": 60}, \"template\": {\"data\": {\"bar\": [{\"error_x\": {\"color\": \"#2a3f5f\"}, \"error_y\": {\"color\": \"#2a3f5f\"}, \"marker\": {\"line\": {\"color\": \"#E5ECF6\", \"width\": 0.5}}, \"type\": \"bar\"}], \"barpolar\": [{\"marker\": {\"line\": {\"color\": \"#E5ECF6\", \"width\": 0.5}}, \"type\": \"barpolar\"}], \"carpet\": [{\"aaxis\": {\"endlinecolor\": \"#2a3f5f\", \"gridcolor\": \"white\", \"linecolor\": \"white\", \"minorgridcolor\": \"white\", \"startlinecolor\": \"#2a3f5f\"}, \"baxis\": {\"endlinecolor\": \"#2a3f5f\", \"gridcolor\": \"white\", \"linecolor\": \"white\", \"minorgridcolor\": \"white\", \"startlinecolor\": \"#2a3f5f\"}, \"type\": \"carpet\"}], \"choropleth\": [{\"colorbar\": {\"outlinewidth\": 0, \"ticks\": \"\"}, \"type\": \"choropleth\"}], \"contour\": [{\"colorbar\": {\"outlinewidth\": 0, \"ticks\": \"\"}, \"colorscale\": [[0.0, \"#0d0887\"], [0.1111111111111111, \"#46039f\"], [0.2222222222222222, \"#7201a8\"], [0.3333333333333333, \"#9c179e\"], [0.4444444444444444, \"#bd3786\"], [0.5555555555555556, \"#d8576b\"], [0.6666666666666666, \"#ed7953\"], [0.7777777777777778, \"#fb9f3a\"], [0.8888888888888888, \"#fdca26\"], [1.0, \"#f0f921\"]], \"type\": \"contour\"}], \"contourcarpet\": [{\"colorbar\": {\"outlinewidth\": 0, \"ticks\": \"\"}, \"type\": \"contourcarpet\"}], \"heatmap\": [{\"colorbar\": {\"outlinewidth\": 0, \"ticks\": \"\"}, \"colorscale\": [[0.0, \"#0d0887\"], [0.1111111111111111, \"#46039f\"], [0.2222222222222222, \"#7201a8\"], [0.3333333333333333, \"#9c179e\"], [0.4444444444444444, \"#bd3786\"], [0.5555555555555556, \"#d8576b\"], [0.6666666666666666, \"#ed7953\"], [0.7777777777777778, \"#fb9f3a\"], [0.8888888888888888, \"#fdca26\"], [1.0, \"#f0f921\"]], \"type\": \"heatmap\"}], \"heatmapgl\": [{\"colorbar\": {\"outlinewidth\": 0, \"ticks\": \"\"}, \"colorscale\": [[0.0, \"#0d0887\"], [0.1111111111111111, \"#46039f\"], [0.2222222222222222, \"#7201a8\"], [0.3333333333333333, \"#9c179e\"], [0.4444444444444444, \"#bd3786\"], [0.5555555555555556, \"#d8576b\"], [0.6666666666666666, \"#ed7953\"], [0.7777777777777778, \"#fb9f3a\"], [0.8888888888888888, \"#fdca26\"], [1.0, \"#f0f921\"]], \"type\": \"heatmapgl\"}], \"histogram\": [{\"marker\": {\"colorbar\": {\"outlinewidth\": 0, \"ticks\": \"\"}}, \"type\": \"histogram\"}], \"histogram2d\": [{\"colorbar\": {\"outlinewidth\": 0, \"ticks\": \"\"}, \"colorscale\": [[0.0, \"#0d0887\"], [0.1111111111111111, \"#46039f\"], [0.2222222222222222, \"#7201a8\"], [0.3333333333333333, \"#9c179e\"], [0.4444444444444444, \"#bd3786\"], [0.5555555555555556, \"#d8576b\"], [0.6666666666666666, \"#ed7953\"], [0.7777777777777778, \"#fb9f3a\"], [0.8888888888888888, \"#fdca26\"], [1.0, \"#f0f921\"]], \"type\": \"histogram2d\"}], \"histogram2dcontour\": [{\"colorbar\": {\"outlinewidth\": 0, \"ticks\": \"\"}, \"colorscale\": [[0.0, \"#0d0887\"], [0.1111111111111111, \"#46039f\"], [0.2222222222222222, \"#7201a8\"], [0.3333333333333333, \"#9c179e\"], [0.4444444444444444, \"#bd3786\"], [0.5555555555555556, \"#d8576b\"], [0.6666666666666666, \"#ed7953\"], [0.7777777777777778, \"#fb9f3a\"], [0.8888888888888888, \"#fdca26\"], [1.0, \"#f0f921\"]], \"type\": \"histogram2dcontour\"}], \"mesh3d\": [{\"colorbar\": {\"outlinewidth\": 0, \"ticks\": \"\"}, \"type\": \"mesh3d\"}], \"parcoords\": [{\"line\": {\"colorbar\": {\"outlinewidth\": 0, \"ticks\": \"\"}}, \"type\": \"parcoords\"}], \"pie\": [{\"automargin\": true, \"type\": \"pie\"}], \"scatter\": [{\"marker\": {\"colorbar\": {\"outlinewidth\": 0, \"ticks\": \"\"}}, \"type\": \"scatter\"}], \"scatter3d\": [{\"line\": {\"colorbar\": {\"outlinewidth\": 0, \"ticks\": \"\"}}, \"marker\": {\"colorbar\": {\"outlinewidth\": 0, \"ticks\": \"\"}}, \"type\": \"scatter3d\"}], \"scattercarpet\": [{\"marker\": {\"colorbar\": {\"outlinewidth\": 0, \"ticks\": \"\"}}, \"type\": \"scattercarpet\"}], \"scattergeo\": [{\"marker\": {\"colorbar\": {\"outlinewidth\": 0, \"ticks\": \"\"}}, \"type\": \"scattergeo\"}], \"scattergl\": [{\"marker\": {\"colorbar\": {\"outlinewidth\": 0, \"ticks\": \"\"}}, \"type\": \"scattergl\"}], \"scattermapbox\": [{\"marker\": {\"colorbar\": {\"outlinewidth\": 0, \"ticks\": \"\"}}, \"type\": \"scattermapbox\"}], \"scatterpolar\": [{\"marker\": {\"colorbar\": {\"outlinewidth\": 0, \"ticks\": \"\"}}, \"type\": \"scatterpolar\"}], \"scatterpolargl\": [{\"marker\": {\"colorbar\": {\"outlinewidth\": 0, \"ticks\": \"\"}}, \"type\": \"scatterpolargl\"}], \"scatterternary\": [{\"marker\": {\"colorbar\": {\"outlinewidth\": 0, \"ticks\": \"\"}}, \"type\": \"scatterternary\"}], \"surface\": [{\"colorbar\": {\"outlinewidth\": 0, \"ticks\": \"\"}, \"colorscale\": [[0.0, \"#0d0887\"], [0.1111111111111111, \"#46039f\"], [0.2222222222222222, \"#7201a8\"], [0.3333333333333333, \"#9c179e\"], [0.4444444444444444, \"#bd3786\"], [0.5555555555555556, \"#d8576b\"], [0.6666666666666666, \"#ed7953\"], [0.7777777777777778, \"#fb9f3a\"], [0.8888888888888888, \"#fdca26\"], [1.0, \"#f0f921\"]], \"type\": \"surface\"}], \"table\": [{\"cells\": {\"fill\": {\"color\": \"#EBF0F8\"}, \"line\": {\"color\": \"white\"}}, \"header\": {\"fill\": {\"color\": \"#C8D4E3\"}, \"line\": {\"color\": \"white\"}}, \"type\": \"table\"}]}, \"layout\": {\"annotationdefaults\": {\"arrowcolor\": \"#2a3f5f\", \"arrowhead\": 0, \"arrowwidth\": 1}, \"coloraxis\": {\"colorbar\": {\"outlinewidth\": 0, \"ticks\": \"\"}}, \"colorscale\": {\"diverging\": [[0, \"#8e0152\"], [0.1, \"#c51b7d\"], [0.2, \"#de77ae\"], [0.3, \"#f1b6da\"], [0.4, \"#fde0ef\"], [0.5, \"#f7f7f7\"], [0.6, \"#e6f5d0\"], [0.7, \"#b8e186\"], [0.8, \"#7fbc41\"], [0.9, \"#4d9221\"], [1, \"#276419\"]], \"sequential\": [[0.0, \"#0d0887\"], [0.1111111111111111, \"#46039f\"], [0.2222222222222222, \"#7201a8\"], [0.3333333333333333, \"#9c179e\"], [0.4444444444444444, \"#bd3786\"], [0.5555555555555556, \"#d8576b\"], [0.6666666666666666, \"#ed7953\"], [0.7777777777777778, \"#fb9f3a\"], [0.8888888888888888, \"#fdca26\"], [1.0, \"#f0f921\"]], \"sequentialminus\": [[0.0, \"#0d0887\"], [0.1111111111111111, \"#46039f\"], [0.2222222222222222, \"#7201a8\"], [0.3333333333333333, \"#9c179e\"], [0.4444444444444444, \"#bd3786\"], [0.5555555555555556, \"#d8576b\"], [0.6666666666666666, \"#ed7953\"], [0.7777777777777778, \"#fb9f3a\"], [0.8888888888888888, \"#fdca26\"], [1.0, \"#f0f921\"]]}, \"colorway\": [\"#636efa\", \"#EF553B\", \"#00cc96\", \"#ab63fa\", \"#FFA15A\", \"#19d3f3\", \"#FF6692\", \"#B6E880\", \"#FF97FF\", \"#FECB52\"], \"font\": {\"color\": \"#2a3f5f\"}, \"geo\": {\"bgcolor\": \"white\", \"lakecolor\": \"white\", \"landcolor\": \"#E5ECF6\", \"showlakes\": true, \"showland\": true, \"subunitcolor\": \"white\"}, \"hoverlabel\": {\"align\": \"left\"}, \"hovermode\": \"closest\", \"mapbox\": {\"style\": \"light\"}, \"paper_bgcolor\": \"white\", \"plot_bgcolor\": \"#E5ECF6\", \"polar\": {\"angularaxis\": {\"gridcolor\": \"white\", \"linecolor\": \"white\", \"ticks\": \"\"}, \"bgcolor\": \"#E5ECF6\", \"radialaxis\": {\"gridcolor\": \"white\", \"linecolor\": \"white\", \"ticks\": \"\"}}, \"scene\": {\"xaxis\": {\"backgroundcolor\": \"#E5ECF6\", \"gridcolor\": \"white\", \"gridwidth\": 2, \"linecolor\": \"white\", \"showbackground\": true, \"ticks\": \"\", \"zerolinecolor\": \"white\"}, \"yaxis\": {\"backgroundcolor\": \"#E5ECF6\", \"gridcolor\": \"white\", \"gridwidth\": 2, \"linecolor\": \"white\", \"showbackground\": true, \"ticks\": \"\", \"zerolinecolor\": \"white\"}, \"zaxis\": {\"backgroundcolor\": \"#E5ECF6\", \"gridcolor\": \"white\", \"gridwidth\": 2, \"linecolor\": \"white\", \"showbackground\": true, \"ticks\": \"\", \"zerolinecolor\": \"white\"}}, \"shapedefaults\": {\"line\": {\"color\": \"#2a3f5f\"}}, \"ternary\": {\"aaxis\": {\"gridcolor\": \"white\", \"linecolor\": \"white\", \"ticks\": \"\"}, \"baxis\": {\"gridcolor\": \"white\", \"linecolor\": \"white\", \"ticks\": \"\"}, \"bgcolor\": \"#E5ECF6\", \"caxis\": {\"gridcolor\": \"white\", \"linecolor\": \"white\", \"ticks\": \"\"}}, \"title\": {\"x\": 0.05}, \"xaxis\": {\"automargin\": true, \"gridcolor\": \"white\", \"linecolor\": \"white\", \"ticks\": \"\", \"title\": {\"standoff\": 15}, \"zerolinecolor\": \"white\", \"zerolinewidth\": 2}, \"yaxis\": {\"automargin\": true, \"gridcolor\": \"white\", \"linecolor\": \"white\", \"ticks\": \"\", \"title\": {\"standoff\": 15}, \"zerolinecolor\": \"white\", \"zerolinewidth\": 2}}}, \"title\": {\"text\": \"Relationship Between Happiness Score and Cloud Cover by Region\"}, \"xaxis\": {\"anchor\": \"y\", \"domain\": [0.0, 1.0], \"title\": {\"text\": \"Score\"}}, \"yaxis\": {\"anchor\": \"x\", \"domain\": [0.0, 1.0], \"title\": {\"text\": \"Clouds\"}}},\n",
              "                        {\"responsive\": true}\n",
              "                    ).then(function(){\n",
              "                            \n",
              "var gd = document.getElementById('76b8348c-4ea9-410e-bf8b-c8ca8a885dd8');\n",
              "var x = new MutationObserver(function (mutations, observer) {{\n",
              "        var display = window.getComputedStyle(gd).display;\n",
              "        if (!display || display === 'none') {{\n",
              "            console.log([gd, 'removed!']);\n",
              "            Plotly.purge(gd);\n",
              "            observer.disconnect();\n",
              "        }}\n",
              "}});\n",
              "\n",
              "// Listen for the removal of the full notebook cells\n",
              "var notebookContainer = gd.closest('#notebook-container');\n",
              "if (notebookContainer) {{\n",
              "    x.observe(notebookContainer, {childList: true});\n",
              "}}\n",
              "\n",
              "// Listen for the clearing of the current output cell\n",
              "var outputEl = gd.closest('.output');\n",
              "if (outputEl) {{\n",
              "    x.observe(outputEl, {childList: true});\n",
              "}}\n",
              "\n",
              "                        })\n",
              "                };\n",
              "                \n",
              "            </script>\n",
              "        </div>\n",
              "</body>\n",
              "</html>"
            ]
          },
          "metadata": {
            "tags": []
          }
        }
      ]
    },
    {
      "cell_type": "code",
      "metadata": {
        "id": "XYHGlnT3GU4S",
        "colab": {
          "base_uri": "https://localhost:8080/",
          "height": 542
        },
        "outputId": "c9258181-7357-41fb-f627-800421ca8706"
      },
      "source": [
        "fig = px.scatter(df_q1, y=\"Score\", x=\"Rain\", color=\"REGION\")\n",
        "fig.update_layout(\n",
        "    title_text='Relationship Between Happiness Score and Rain by Region'\n",
        ")\n",
        "fig.show()"
      ],
      "execution_count": 120,
      "outputs": [
        {
          "output_type": "display_data",
          "data": {
            "text/html": [
              "<html>\n",
              "<head><meta charset=\"utf-8\" /></head>\n",
              "<body>\n",
              "    <div>\n",
              "            <script src=\"https://cdnjs.cloudflare.com/ajax/libs/mathjax/2.7.5/MathJax.js?config=TeX-AMS-MML_SVG\"></script><script type=\"text/javascript\">if (window.MathJax) {MathJax.Hub.Config({SVG: {font: \"STIX-Web\"}});}</script>\n",
              "                <script type=\"text/javascript\">window.PlotlyConfig = {MathJaxConfig: 'local'};</script>\n",
              "        <script src=\"https://cdn.plot.ly/plotly-latest.min.js\"></script>    \n",
              "            <div id=\"a3f1cb3e-492a-49bb-b46f-d168807ba880\" class=\"plotly-graph-div\" style=\"height:525px; width:100%;\"></div>\n",
              "            <script type=\"text/javascript\">\n",
              "                \n",
              "                    window.PLOTLYENV=window.PLOTLYENV || {};\n",
              "                    \n",
              "                if (document.getElementById(\"a3f1cb3e-492a-49bb-b46f-d168807ba880\")) {\n",
              "                    Plotly.newPlot(\n",
              "                        'a3f1cb3e-492a-49bb-b46f-d168807ba880',\n",
              "                        [{\"hoverlabel\": {\"namelength\": 0}, \"hovertemplate\": \"REGION=Western Europe<br>Rain=%{x}<br>Score=%{y}\", \"legendgroup\": \"REGION=Western Europe\", \"marker\": {\"color\": \"#636efa\", \"symbol\": \"circle\"}, \"mode\": \"markers\", \"name\": \"REGION=Western Europe\", \"showlegend\": true, \"type\": \"scatter\", \"x\": [-0.5827004883733098, 0.12399637877555474, -0.06633634492159517, -0.4603884958916628, -0.7743971435153523, -0.5183801512026402, -0.6870499691607326, -0.2100808664942176, -0.5782405913177018, -0.43998942241708605, -0.18381806538626014, -0.39073627917156073, -0.3043826372727009, -0.8265011668076103, -0.48029114097095627, -0.7191220483440829, -0.47402539104564195, -0.7717136446473853, -0.43561274631214586, -0.6071330482055076], \"xaxis\": \"x\", \"y\": [7.521999836, 7.493999958, 7.504000187000001, 7.537000179, 7.468999863, 7.376999855, 7.28399992, 7.006000042, 6.951000214, 6.890999794, 6.977000237, 6.862999916000001, 6.714000225, 6.52699995, 6.441999912000001, 6.402999877999999, 5.964000225, 5.620999812999999, 5.195000172, 5.2270002369999995], \"yaxis\": \"y\"}, {\"hoverlabel\": {\"namelength\": 0}, \"hovertemplate\": \"REGION=North America<br>Rain=%{x}<br>Score=%{y}\", \"legendgroup\": \"REGION=North America\", \"marker\": {\"color\": \"#EF553B\", \"symbol\": \"circle\"}, \"mode\": \"markers\", \"name\": \"REGION=North America\", \"showlegend\": true, \"type\": \"scatter\", \"x\": [-0.898464819484261, -0.6459500459235249], \"xaxis\": \"x\", \"y\": [7.315999985, 6.993000031], \"yaxis\": \"y\"}, {\"hoverlabel\": {\"namelength\": 0}, \"hovertemplate\": \"REGION=Australia and New Zealand<br>Rain=%{x}<br>Score=%{y}\", \"legendgroup\": \"REGION=Australia and New Zealand\", \"marker\": {\"color\": \"#00cc96\", \"symbol\": \"circle\"}, \"mode\": \"markers\", \"name\": \"REGION=Australia and New Zealand\", \"showlegend\": true, \"type\": \"scatter\", \"x\": [0.48877962441837464, -0.8820731918218097], \"xaxis\": \"x\", \"y\": [7.31400013, 7.28399992], \"yaxis\": \"y\"}, {\"hoverlabel\": {\"namelength\": 0}, \"hovertemplate\": \"REGION=Middle East and Northern Africa<br>Rain=%{x}<br>Score=%{y}\", \"legendgroup\": \"REGION=Middle East and Northern Africa\", \"marker\": {\"color\": \"#ab63fa\", \"symbol\": \"circle\"}, \"mode\": \"markers\", \"name\": \"REGION=Middle East and Northern Africa\", \"showlegend\": true, \"type\": \"scatter\", \"x\": [-1.0802210676201625, -1.3385755427537573, -1.3128221603022363, -1.3375535838422763, -1.3303434002452743, -1.298274369941907, -1.3410965805077495, -1.3876921415607766, -0.7378069923761542, -1.3008169271760193, -1.0559165475550936, -0.46790388137268163, -1.1573478437714062, -1.1852334212456013, -1.4057702334509918, -1.2916106775918688, -1.1356257285522706], \"xaxis\": \"x\", \"y\": [7.212999821, 6.647999763, 6.343999863, 6.375, 5.872000217, 6.105000018999999, 6.086999893, 5.525000095, 5.5, 5.335999966, 5.235000134, 5.224999905, 4.804999828, 4.497000217, 4.735000134, 3.592999935, 3.461999893], \"yaxis\": \"y\"}, {\"hoverlabel\": {\"namelength\": 0}, \"hovertemplate\": \"REGION=Latin America and Caribbean<br>Rain=%{x}<br>Score=%{y}\", \"legendgroup\": \"REGION=Latin America and Caribbean\", \"marker\": {\"color\": \"#FFA15A\", \"symbol\": \"circle\"}, \"mode\": \"markers\", \"name\": \"REGION=Latin America and Caribbean\", \"showlegend\": true, \"type\": \"scatter\", \"x\": [2.0112266069885347, 0.6026624567976786, -0.5308915804816503, -0.21229864247863314, 1.5421345984832553, -0.7984792558309057, -0.010423967745957139, 1.6666570621641374, 0.8678905197256909, 0.9580155037492192, 0.8240466087778087, 0.6964935781934637, 1.2227163006175437, 0.9553372484775021, 0.9587008759262838, -0.09535484692600892, 0.38169486991039764, -0.17270801100188296, 0.7329301146733784, 0.1653846481699549, 0.5732332834323665, 0.3583178684601117], \"xaxis\": \"x\", \"y\": [7.078999996, 6.635000229, 6.578000069, 6.65199995, 6.452000141, 6.598999977, 6.453999996, 6.3569998739999996, 6.453999996, 6.168000221000001, 5.25, 6.002999783, 6.071000099, 6.007999897, 5.9559998510000005, 5.822999954, 5.715000152999999, 5.493000031, 5.31099987, 5.230000018999999, 5.181000233, 3.6029999260000003], \"yaxis\": \"y\"}, {\"hoverlabel\": {\"namelength\": 0}, \"hovertemplate\": \"REGION=Southeastern Asia<br>Rain=%{x}<br>Score=%{y}\", \"legendgroup\": \"REGION=Southeastern Asia\", \"marker\": {\"color\": \"#19d3f3\", \"symbol\": \"circle\"}, \"mode\": \"markers\", \"name\": \"REGION=Southeastern Asia\", \"showlegend\": true, \"type\": \"scatter\", \"x\": [1.3524247170316772, 0.2950381091724698, 1.9875915404793971, 1.729613716253766, 1.5335928735300086, 0.6443556165007563, 0.8667558873763196, 0.6316062313175488], \"xaxis\": \"x\", \"y\": [6.5720000270000005, 6.423999786, 6.084000111, 5.262000083999999, 5.429999828, 5.073999882, 4.545000076, 4.168000221000001], \"yaxis\": \"y\"}, {\"hoverlabel\": {\"namelength\": 0}, \"hovertemplate\": \"REGION=Central and Eastern Europe<br>Rain=%{x}<br>Score=%{y}\", \"legendgroup\": \"REGION=Central and Eastern Europe\", \"marker\": {\"color\": \"#FF6692\", \"symbol\": \"circle\"}, \"mode\": \"markers\", \"name\": \"REGION=Central and Eastern Europe\", \"showlegend\": true, \"type\": \"scatter\", \"x\": [-0.6552879399006727, -0.5521545588489806, -1.194762492084349, -1.1316930444180375, -0.780415320541593, -0.9199386901822615, -0.7348208704726771, -0.6575060356391071, -0.70112611784969, -0.06691885865361888, -1.2302653500638965, -0.6573492416914912, -0.698794680747883, -0.6884313600067813, -0.27873236668976326, -0.8984856249818435, -0.9324220192285811, -0.608640424676358, -0.22541409171986457, 0.04076580198705691, -0.7459299071428542, -0.7637292223004122, -0.0924039239561648, -0.84262298619073, -0.7651834768624571, -0.2979200336967725, -0.7175181254510749], \"xaxis\": \"x\", \"y\": [6.609000206, 6.09800005, 5.971000195, 5.818999767, 5.837999821, 5.962999821, 5.97300005, 5.90199995, 5.568999767, 5.757999897, 5.8220000270000005, 5.849999905, 5.8249998089999995, 5.611000061, 5.293000221000001, 5.234000206, 5.004000187, 5.394999981000001, 5.18200016, 5.236999989, 5.323999882, 5.040999889, 4.644000053, 4.375999928, 4.096000195, 4.285999775, 4.714000225], \"yaxis\": \"y\"}, {\"hoverlabel\": {\"namelength\": 0}, \"hovertemplate\": \"REGION=Eastern Asia<br>Rain=%{x}<br>Score=%{y}\", \"legendgroup\": \"REGION=Eastern Asia\", \"marker\": {\"color\": \"#B6E880\", \"symbol\": \"circle\"}, \"mode\": \"markers\", \"name\": \"REGION=Eastern Asia\", \"showlegend\": true, \"type\": \"scatter\", \"x\": [0.5232808196648512, -0.773759414918124, -1.1971218604159097], \"xaxis\": \"x\", \"y\": [5.920000076, 5.2729997630000005, 4.954999924], \"yaxis\": \"y\"}, {\"hoverlabel\": {\"namelength\": 0}, \"hovertemplate\": \"REGION=Sub-Saharan Africa<br>Rain=%{x}<br>Score=%{y}\", \"legendgroup\": \"REGION=Sub-Saharan Africa\", \"marker\": {\"color\": \"#FF97FF\", \"symbol\": \"circle\"}, \"mode\": \"markers\", \"name\": \"REGION=Sub-Saharan Africa\", \"showlegend\": true, \"type\": \"scatter\", \"x\": [0.7187023118978279, -1.1090177771243035, -0.06032691931333006, -0.2392249447273916, 1.7139256102744875, -1.0938047744424455, 0.4936874258106971, -0.49932438815773195, -0.8676281973996934, -0.7237622256727483, 0.018755690052891585, 0.4235053740245407, 0.4866036740616989, -0.6427750397300726, -1.3150337202130777, -0.6509781680499962, -0.18463057328603494, -1.1508511073781162, 0.7268524063337157, -1.0533013598359693, -0.9650676798246818, -0.23994681021806755, -1.2628271496237016, -0.30393710094091103, -1.0544974479142968, -0.5435671146159141, -0.0424901391041526, 0.16793442886452573, -0.29442430648276097, 1.7014295169434641, 0.7182076981759122, -0.08348365321739042, -0.19630741361715448, -0.04543096001874277, -0.05915936084836045], \"xaxis\": \"x\", \"y\": [5.629000187000001, 5.151000023, 5.073999882, 4.513999939, 4.709000111, 4.573999882, 4.695000172, 4.460000038, 4.828999996, 4.552999973, 4.1199998860000004, 4.28000021, 4.290999889, 4.534999847, 4.291999817, 3.875, 3.970000029, 4.138999939, 4.465000153, 4.190000057, 3.766000032, 3.7950000760000004, 4.027999878, 3.59100008, 3.9360001089999996, 4.032000065, 4.0809998510000005, 3.644000053, 3.348999977, 3.5329999919999997, 3.5069999689999998, 3.4709999560000004, 3.657000065, 3.4949998860000004, 2.904999971], \"yaxis\": \"y\"}, {\"hoverlabel\": {\"namelength\": 0}, \"hovertemplate\": \"REGION=Southern Asia<br>Rain=%{x}<br>Score=%{y}\", \"legendgroup\": \"REGION=Southern Asia\", \"marker\": {\"color\": \"#FECB52\", \"symbol\": \"circle\"}, \"mode\": \"markers\", \"name\": \"REGION=Southern Asia\", \"showlegend\": true, \"type\": \"scatter\", \"x\": [0.3219773633072782, -1.1185770439245744, 0.15139767515715688, 1.112450779145463, 0.7523461274052742, -0.1398665978734152, -1.0624880952990463], \"xaxis\": \"x\", \"y\": [5.011000156000001, 5.269000053, 4.961999893, 4.607999802, 4.440000057, 4.315000057, 3.79399991], \"yaxis\": \"y\"}],\n",
              "                        {\"legend\": {\"tracegroupgap\": 0}, \"margin\": {\"t\": 60}, \"template\": {\"data\": {\"bar\": [{\"error_x\": {\"color\": \"#2a3f5f\"}, \"error_y\": {\"color\": \"#2a3f5f\"}, \"marker\": {\"line\": {\"color\": \"#E5ECF6\", \"width\": 0.5}}, \"type\": \"bar\"}], \"barpolar\": [{\"marker\": {\"line\": {\"color\": \"#E5ECF6\", \"width\": 0.5}}, \"type\": \"barpolar\"}], \"carpet\": [{\"aaxis\": {\"endlinecolor\": \"#2a3f5f\", \"gridcolor\": \"white\", \"linecolor\": \"white\", \"minorgridcolor\": \"white\", \"startlinecolor\": \"#2a3f5f\"}, \"baxis\": {\"endlinecolor\": \"#2a3f5f\", \"gridcolor\": \"white\", \"linecolor\": \"white\", \"minorgridcolor\": \"white\", \"startlinecolor\": \"#2a3f5f\"}, \"type\": \"carpet\"}], \"choropleth\": [{\"colorbar\": {\"outlinewidth\": 0, \"ticks\": \"\"}, \"type\": \"choropleth\"}], \"contour\": [{\"colorbar\": {\"outlinewidth\": 0, \"ticks\": \"\"}, \"colorscale\": [[0.0, \"#0d0887\"], [0.1111111111111111, \"#46039f\"], [0.2222222222222222, \"#7201a8\"], [0.3333333333333333, \"#9c179e\"], [0.4444444444444444, \"#bd3786\"], [0.5555555555555556, \"#d8576b\"], [0.6666666666666666, \"#ed7953\"], [0.7777777777777778, \"#fb9f3a\"], [0.8888888888888888, \"#fdca26\"], [1.0, \"#f0f921\"]], \"type\": \"contour\"}], \"contourcarpet\": [{\"colorbar\": {\"outlinewidth\": 0, \"ticks\": \"\"}, \"type\": \"contourcarpet\"}], \"heatmap\": [{\"colorbar\": {\"outlinewidth\": 0, \"ticks\": \"\"}, \"colorscale\": [[0.0, \"#0d0887\"], [0.1111111111111111, \"#46039f\"], [0.2222222222222222, \"#7201a8\"], [0.3333333333333333, \"#9c179e\"], [0.4444444444444444, \"#bd3786\"], [0.5555555555555556, \"#d8576b\"], [0.6666666666666666, \"#ed7953\"], [0.7777777777777778, \"#fb9f3a\"], [0.8888888888888888, \"#fdca26\"], [1.0, \"#f0f921\"]], \"type\": \"heatmap\"}], \"heatmapgl\": [{\"colorbar\": {\"outlinewidth\": 0, \"ticks\": \"\"}, \"colorscale\": [[0.0, \"#0d0887\"], [0.1111111111111111, \"#46039f\"], [0.2222222222222222, \"#7201a8\"], [0.3333333333333333, \"#9c179e\"], [0.4444444444444444, \"#bd3786\"], [0.5555555555555556, \"#d8576b\"], [0.6666666666666666, \"#ed7953\"], [0.7777777777777778, \"#fb9f3a\"], [0.8888888888888888, \"#fdca26\"], [1.0, \"#f0f921\"]], \"type\": \"heatmapgl\"}], \"histogram\": [{\"marker\": {\"colorbar\": {\"outlinewidth\": 0, \"ticks\": \"\"}}, \"type\": \"histogram\"}], \"histogram2d\": [{\"colorbar\": {\"outlinewidth\": 0, \"ticks\": \"\"}, \"colorscale\": [[0.0, \"#0d0887\"], [0.1111111111111111, \"#46039f\"], [0.2222222222222222, \"#7201a8\"], [0.3333333333333333, \"#9c179e\"], [0.4444444444444444, \"#bd3786\"], [0.5555555555555556, \"#d8576b\"], [0.6666666666666666, \"#ed7953\"], [0.7777777777777778, \"#fb9f3a\"], [0.8888888888888888, \"#fdca26\"], [1.0, \"#f0f921\"]], \"type\": \"histogram2d\"}], \"histogram2dcontour\": [{\"colorbar\": {\"outlinewidth\": 0, \"ticks\": \"\"}, \"colorscale\": [[0.0, \"#0d0887\"], [0.1111111111111111, \"#46039f\"], [0.2222222222222222, \"#7201a8\"], [0.3333333333333333, \"#9c179e\"], [0.4444444444444444, \"#bd3786\"], [0.5555555555555556, \"#d8576b\"], [0.6666666666666666, \"#ed7953\"], [0.7777777777777778, \"#fb9f3a\"], [0.8888888888888888, \"#fdca26\"], [1.0, \"#f0f921\"]], \"type\": \"histogram2dcontour\"}], \"mesh3d\": [{\"colorbar\": {\"outlinewidth\": 0, \"ticks\": \"\"}, \"type\": \"mesh3d\"}], \"parcoords\": [{\"line\": {\"colorbar\": {\"outlinewidth\": 0, \"ticks\": \"\"}}, \"type\": \"parcoords\"}], \"pie\": [{\"automargin\": true, \"type\": \"pie\"}], \"scatter\": [{\"marker\": {\"colorbar\": {\"outlinewidth\": 0, \"ticks\": \"\"}}, \"type\": \"scatter\"}], \"scatter3d\": [{\"line\": {\"colorbar\": {\"outlinewidth\": 0, \"ticks\": \"\"}}, \"marker\": {\"colorbar\": {\"outlinewidth\": 0, \"ticks\": \"\"}}, \"type\": \"scatter3d\"}], \"scattercarpet\": [{\"marker\": {\"colorbar\": {\"outlinewidth\": 0, \"ticks\": \"\"}}, \"type\": \"scattercarpet\"}], \"scattergeo\": [{\"marker\": {\"colorbar\": {\"outlinewidth\": 0, \"ticks\": \"\"}}, \"type\": \"scattergeo\"}], \"scattergl\": [{\"marker\": {\"colorbar\": {\"outlinewidth\": 0, \"ticks\": \"\"}}, \"type\": \"scattergl\"}], \"scattermapbox\": [{\"marker\": {\"colorbar\": {\"outlinewidth\": 0, \"ticks\": \"\"}}, \"type\": \"scattermapbox\"}], \"scatterpolar\": [{\"marker\": {\"colorbar\": {\"outlinewidth\": 0, \"ticks\": \"\"}}, \"type\": \"scatterpolar\"}], \"scatterpolargl\": [{\"marker\": {\"colorbar\": {\"outlinewidth\": 0, \"ticks\": \"\"}}, \"type\": \"scatterpolargl\"}], \"scatterternary\": [{\"marker\": {\"colorbar\": {\"outlinewidth\": 0, \"ticks\": \"\"}}, \"type\": \"scatterternary\"}], \"surface\": [{\"colorbar\": {\"outlinewidth\": 0, \"ticks\": \"\"}, \"colorscale\": [[0.0, \"#0d0887\"], [0.1111111111111111, \"#46039f\"], [0.2222222222222222, \"#7201a8\"], [0.3333333333333333, \"#9c179e\"], [0.4444444444444444, \"#bd3786\"], [0.5555555555555556, \"#d8576b\"], [0.6666666666666666, \"#ed7953\"], [0.7777777777777778, \"#fb9f3a\"], [0.8888888888888888, \"#fdca26\"], [1.0, \"#f0f921\"]], \"type\": \"surface\"}], \"table\": [{\"cells\": {\"fill\": {\"color\": \"#EBF0F8\"}, \"line\": {\"color\": \"white\"}}, \"header\": {\"fill\": {\"color\": \"#C8D4E3\"}, \"line\": {\"color\": \"white\"}}, \"type\": \"table\"}]}, \"layout\": {\"annotationdefaults\": {\"arrowcolor\": \"#2a3f5f\", \"arrowhead\": 0, \"arrowwidth\": 1}, \"coloraxis\": {\"colorbar\": {\"outlinewidth\": 0, \"ticks\": \"\"}}, \"colorscale\": {\"diverging\": [[0, \"#8e0152\"], [0.1, \"#c51b7d\"], [0.2, \"#de77ae\"], [0.3, \"#f1b6da\"], [0.4, \"#fde0ef\"], [0.5, \"#f7f7f7\"], [0.6, \"#e6f5d0\"], [0.7, \"#b8e186\"], [0.8, \"#7fbc41\"], [0.9, \"#4d9221\"], [1, \"#276419\"]], \"sequential\": [[0.0, \"#0d0887\"], [0.1111111111111111, \"#46039f\"], [0.2222222222222222, \"#7201a8\"], [0.3333333333333333, \"#9c179e\"], [0.4444444444444444, \"#bd3786\"], [0.5555555555555556, \"#d8576b\"], [0.6666666666666666, \"#ed7953\"], [0.7777777777777778, \"#fb9f3a\"], [0.8888888888888888, \"#fdca26\"], [1.0, \"#f0f921\"]], \"sequentialminus\": [[0.0, \"#0d0887\"], [0.1111111111111111, \"#46039f\"], [0.2222222222222222, \"#7201a8\"], [0.3333333333333333, \"#9c179e\"], [0.4444444444444444, \"#bd3786\"], [0.5555555555555556, \"#d8576b\"], [0.6666666666666666, \"#ed7953\"], [0.7777777777777778, \"#fb9f3a\"], [0.8888888888888888, \"#fdca26\"], [1.0, \"#f0f921\"]]}, \"colorway\": [\"#636efa\", \"#EF553B\", \"#00cc96\", \"#ab63fa\", \"#FFA15A\", \"#19d3f3\", \"#FF6692\", \"#B6E880\", \"#FF97FF\", \"#FECB52\"], \"font\": {\"color\": \"#2a3f5f\"}, \"geo\": {\"bgcolor\": \"white\", \"lakecolor\": \"white\", \"landcolor\": \"#E5ECF6\", \"showlakes\": true, \"showland\": true, \"subunitcolor\": \"white\"}, \"hoverlabel\": {\"align\": \"left\"}, \"hovermode\": \"closest\", \"mapbox\": {\"style\": \"light\"}, \"paper_bgcolor\": \"white\", \"plot_bgcolor\": \"#E5ECF6\", \"polar\": {\"angularaxis\": {\"gridcolor\": \"white\", \"linecolor\": \"white\", \"ticks\": \"\"}, \"bgcolor\": \"#E5ECF6\", \"radialaxis\": {\"gridcolor\": \"white\", \"linecolor\": \"white\", \"ticks\": \"\"}}, \"scene\": {\"xaxis\": {\"backgroundcolor\": \"#E5ECF6\", \"gridcolor\": \"white\", \"gridwidth\": 2, \"linecolor\": \"white\", \"showbackground\": true, \"ticks\": \"\", \"zerolinecolor\": \"white\"}, \"yaxis\": {\"backgroundcolor\": \"#E5ECF6\", \"gridcolor\": \"white\", \"gridwidth\": 2, \"linecolor\": \"white\", \"showbackground\": true, \"ticks\": \"\", \"zerolinecolor\": \"white\"}, \"zaxis\": {\"backgroundcolor\": \"#E5ECF6\", \"gridcolor\": \"white\", \"gridwidth\": 2, \"linecolor\": \"white\", \"showbackground\": true, \"ticks\": \"\", \"zerolinecolor\": \"white\"}}, \"shapedefaults\": {\"line\": {\"color\": \"#2a3f5f\"}}, \"ternary\": {\"aaxis\": {\"gridcolor\": \"white\", \"linecolor\": \"white\", \"ticks\": \"\"}, \"baxis\": {\"gridcolor\": \"white\", \"linecolor\": \"white\", \"ticks\": \"\"}, \"bgcolor\": \"#E5ECF6\", \"caxis\": {\"gridcolor\": \"white\", \"linecolor\": \"white\", \"ticks\": \"\"}}, \"title\": {\"x\": 0.05}, \"xaxis\": {\"automargin\": true, \"gridcolor\": \"white\", \"linecolor\": \"white\", \"ticks\": \"\", \"title\": {\"standoff\": 15}, \"zerolinecolor\": \"white\", \"zerolinewidth\": 2}, \"yaxis\": {\"automargin\": true, \"gridcolor\": \"white\", \"linecolor\": \"white\", \"ticks\": \"\", \"title\": {\"standoff\": 15}, \"zerolinecolor\": \"white\", \"zerolinewidth\": 2}}}, \"title\": {\"text\": \"Relationship Between Happiness Score and Rain by Region\"}, \"xaxis\": {\"anchor\": \"y\", \"domain\": [0.0, 1.0], \"title\": {\"text\": \"Rain\"}}, \"yaxis\": {\"anchor\": \"x\", \"domain\": [0.0, 1.0], \"title\": {\"text\": \"Score\"}}},\n",
              "                        {\"responsive\": true}\n",
              "                    ).then(function(){\n",
              "                            \n",
              "var gd = document.getElementById('a3f1cb3e-492a-49bb-b46f-d168807ba880');\n",
              "var x = new MutationObserver(function (mutations, observer) {{\n",
              "        var display = window.getComputedStyle(gd).display;\n",
              "        if (!display || display === 'none') {{\n",
              "            console.log([gd, 'removed!']);\n",
              "            Plotly.purge(gd);\n",
              "            observer.disconnect();\n",
              "        }}\n",
              "}});\n",
              "\n",
              "// Listen for the removal of the full notebook cells\n",
              "var notebookContainer = gd.closest('#notebook-container');\n",
              "if (notebookContainer) {{\n",
              "    x.observe(notebookContainer, {childList: true});\n",
              "}}\n",
              "\n",
              "// Listen for the clearing of the current output cell\n",
              "var outputEl = gd.closest('.output');\n",
              "if (outputEl) {{\n",
              "    x.observe(outputEl, {childList: true});\n",
              "}}\n",
              "\n",
              "                        })\n",
              "                };\n",
              "                \n",
              "            </script>\n",
              "        </div>\n",
              "</body>\n",
              "</html>"
            ]
          },
          "metadata": {
            "tags": []
          }
        }
      ]
    },
    {
      "cell_type": "code",
      "metadata": {
        "id": "vcHeQGIgHuKx",
        "colab": {
          "base_uri": "https://localhost:8080/",
          "height": 542
        },
        "outputId": "e9afc74e-d41e-4e46-9965-fa19808c7afa"
      },
      "source": [
        "fig = go.Figure()\n",
        "fig.add_trace(go.Scatter( y=df_q1[\"Score\"],\n",
        "                    mode='lines',\n",
        "                    name='Score'))\n",
        "fig.add_trace(go.Scatter(y=df_q1[\"TREE_CANOPY_COVER\"],\n",
        "                    mode='lines+markers',\n",
        "                    name='Tree Cover'))\n",
        "fig.update_layout(\n",
        "    title_text='Tree Cover and Happiness Score'\n",
        ")\n",
        "fig.show()"
      ],
      "execution_count": 121,
      "outputs": [
        {
          "output_type": "display_data",
          "data": {
            "text/html": [
              "<html>\n",
              "<head><meta charset=\"utf-8\" /></head>\n",
              "<body>\n",
              "    <div>\n",
              "            <script src=\"https://cdnjs.cloudflare.com/ajax/libs/mathjax/2.7.5/MathJax.js?config=TeX-AMS-MML_SVG\"></script><script type=\"text/javascript\">if (window.MathJax) {MathJax.Hub.Config({SVG: {font: \"STIX-Web\"}});}</script>\n",
              "                <script type=\"text/javascript\">window.PlotlyConfig = {MathJaxConfig: 'local'};</script>\n",
              "        <script src=\"https://cdn.plot.ly/plotly-latest.min.js\"></script>    \n",
              "            <div id=\"53b58acc-0edd-41cd-8131-dba9f120c93d\" class=\"plotly-graph-div\" style=\"height:525px; width:100%;\"></div>\n",
              "            <script type=\"text/javascript\">\n",
              "                \n",
              "                    window.PLOTLYENV=window.PLOTLYENV || {};\n",
              "                    \n",
              "                if (document.getElementById(\"53b58acc-0edd-41cd-8131-dba9f120c93d\")) {\n",
              "                    Plotly.newPlot(\n",
              "                        '53b58acc-0edd-41cd-8131-dba9f120c93d',\n",
              "                        [{\"mode\": \"lines\", \"name\": \"Score\", \"type\": \"scatter\", \"y\": [7.521999836, 7.493999958, 7.504000187000001, 7.537000179, 7.468999863, 7.315999985, 7.376999855, 7.31400013, 7.28399992, 7.28399992, 7.212999821, 7.006000042, 6.993000031, 7.078999996, 6.951000214, 6.635000229, 6.890999794, 6.977000237, 6.862999916000001, 6.578000069, 6.5720000270000005, 6.714000225, 6.65199995, 6.452000141, 6.598999977, 6.609000206, 6.647999763, 6.453999996, 6.52699995, 6.3569998739999996, 6.441999912000001, 6.423999786, 6.343999863, 6.375, 6.402999877999999, 5.872000217, 6.453999996, 6.105000018999999, 6.086999893, 6.168000221000001, 5.25, 6.09800005, 6.002999783, 6.084000111, 6.071000099, 5.971000195, 5.964000225, 6.007999897, 5.9559998510000005, 5.920000076, 5.818999767, 5.837999821, 5.962999821, 5.97300005, 5.822999954, 5.90199995, 5.568999767, 5.757999897, 5.715000152999999, 5.8220000270000005, 5.629000187000001, 5.525000095, 5.849999905, 5.620999812999999, 5.493000031, 5.8249998089999995, 5.611000061, 5.31099987, 5.293000221000001, 5.151000023, 5.5, 5.262000083999999, 5.335999966, 5.234000206, 5.429999828, 5.2729997630000005, 5.011000156000001, 5.004000187, 5.394999981000001, 5.18200016, 5.236999989, 5.230000018999999, 5.235000134, 5.323999882, 5.269000053, 5.224999905, 5.195000172, 5.073999882, 4.804999828, 5.2270002369999995, 5.040999889, 4.954999924, 5.073999882, 5.181000233, 4.513999939, 4.961999893, 4.644000053, 4.607999802, 4.709000111, 4.497000217, 4.573999882, 4.695000172, 4.460000038, 4.828999996, 4.440000057, 4.315000057, 4.545000076, 4.735000134, 4.375999928, 4.552999973, 4.096000195, 4.1199998860000004, 4.28000021, 4.285999775, 4.290999889, 4.534999847, 4.714000225, 4.291999817, 3.875, 3.970000029, 4.138999939, 4.465000153, 4.190000057, 3.6029999260000003, 3.766000032, 4.168000221000001, 3.7950000760000004, 4.027999878, 3.59100008, 3.9360001089999996, 4.032000065, 4.0809998510000005, 3.592999935, 3.644000053, 3.348999977, 3.5329999919999997, 3.5069999689999998, 3.4709999560000004, 3.657000065, 3.79399991, 3.4949998860000004, 3.461999893, 2.904999971]}, {\"mode\": \"lines+markers\", \"name\": \"Tree Cover\", \"type\": \"scatter\", \"y\": [-0.6395391943807418, 0.16294166627132015, -0.8177222308960499, -0.3986128521564672, 0.8895010810714954, -0.07840941291328782, -0.4846259591848219, 0.7866265048941351, -0.8547016441793385, 0.734480128958286, -1.1606175049744405, 0.5453848056537038, -0.2845656505308049, 1.3809366574629873, -0.038019142327520544, 0.9145859382500307, -0.37246140763497837, -0.24479919773125444, 0.018576285154769438, -0.31154863734413923, -0.015227163303913358, -0.42714859536879984, 0.013569726949165157, 1.0264578921587602, -0.7063244887037489, 0.09073229516313672, -1.1782335876121375, -0.6615086203257504, -1.0959657889405565, 1.4123181185434133, -0.29255702253667853, 0.09043945872567855, -1.1774870775464958, -1.1782335876121375, -0.5714454328528793, -1.168796258868799, 1.169060065177538, -1.1782335876121375, -1.1782335876121375, 1.338275694879264, 1.181330146269352, 0.5474625667665196, 0.5535901162123507, 2.0316528394259086, 0.7482005009144971, -1.159503325466704, -0.18962736186575332, 1.1953259866363093, 1.8816661464284292, 1.497602129048383, -1.0961670840015332, -0.8093461334592769, -0.09075006019452685, -0.16099057681514373, 0.8419085679767472, -0.12543929243944618, 0.1505262030804846, 1.152164735561704, 1.2037663689570641, -1.1745159595980186, 0.3063928276047766, -1.1780400346277968, 0.36054598337506916, -0.7556739327043198, 0.08903603872220844, 0.009565118136528487, 0.590762490136834, 1.1852942654790686, 0.26471094392121686, -1.1134434415513186, -0.7699360286442811, 1.7855593017104319, -1.1776963382017605, -0.7900056377808587, 1.038781087540746, -0.5596434930286879, 1.487483775569167, -1.0133370310041474, -0.09856093688862894, 0.6620178041416344, 0.46345861898852847, 0.4264683120510829, -1.153220743077123, -0.5026666073516513, -1.1006718189021694, -1.1133117465428808, -0.4615127087953389, 0.7419399531236722, -1.1467915211414634, -0.35216339358831683, -1.1081580997258582, -1.0482514286490165, -0.8307727579521992, 1.0928306879676193, -0.10008471452324079, -0.0033210302776120384, -0.4941846920962991, -0.34389327626616173, 0.5196156553812757, -1.1751658158551146, -1.126326714953637, 0.7649261018886208, -0.7492367421293185, -0.9422454801664836, 0.4731699395585082, -0.6933012984333667, 0.9212028508533405, -1.1664619627434192, -0.8046580952262362, -0.9150707820388674, -0.5819520852140567, -0.4639616491757084, 1.5175200915015816, 0.29782368757745936, 1.394239022562538, -1.044119550894138, -0.09208395306648938, -1.1748153400703205, -0.8077445386136363, -0.48098877941527607, -1.1292829707946206, 1.6045641913279116, -1.1232993412876466, -0.31297883138601923, -1.089330623428512, 0.48835255127805743, -0.1167325971704589, -1.1707515289428676, -0.5490433003465996, -1.089884244545284, -1.0405363800730136, -0.14385768009553987, -1.1645916354137034, -0.3206569004516709, -0.45241870669094686, 1.0546411067924921, -0.26122654153748887, -0.37659905592754944, -0.7726709919666924, -1.1582178252347863, -0.677699303759836, -1.169335048275196, -0.4854779503501709]}],\n",
              "                        {\"template\": {\"data\": {\"bar\": [{\"error_x\": {\"color\": \"#2a3f5f\"}, \"error_y\": {\"color\": \"#2a3f5f\"}, \"marker\": {\"line\": {\"color\": \"#E5ECF6\", \"width\": 0.5}}, \"type\": \"bar\"}], \"barpolar\": [{\"marker\": {\"line\": {\"color\": \"#E5ECF6\", \"width\": 0.5}}, \"type\": \"barpolar\"}], \"carpet\": [{\"aaxis\": {\"endlinecolor\": \"#2a3f5f\", \"gridcolor\": \"white\", \"linecolor\": \"white\", \"minorgridcolor\": \"white\", \"startlinecolor\": \"#2a3f5f\"}, \"baxis\": {\"endlinecolor\": \"#2a3f5f\", \"gridcolor\": \"white\", \"linecolor\": \"white\", \"minorgridcolor\": \"white\", \"startlinecolor\": \"#2a3f5f\"}, \"type\": \"carpet\"}], \"choropleth\": [{\"colorbar\": {\"outlinewidth\": 0, \"ticks\": \"\"}, \"type\": \"choropleth\"}], \"contour\": [{\"colorbar\": {\"outlinewidth\": 0, \"ticks\": \"\"}, \"colorscale\": [[0.0, \"#0d0887\"], [0.1111111111111111, \"#46039f\"], [0.2222222222222222, \"#7201a8\"], [0.3333333333333333, \"#9c179e\"], [0.4444444444444444, \"#bd3786\"], [0.5555555555555556, \"#d8576b\"], [0.6666666666666666, \"#ed7953\"], [0.7777777777777778, \"#fb9f3a\"], [0.8888888888888888, \"#fdca26\"], [1.0, \"#f0f921\"]], \"type\": \"contour\"}], \"contourcarpet\": [{\"colorbar\": {\"outlinewidth\": 0, \"ticks\": \"\"}, \"type\": \"contourcarpet\"}], \"heatmap\": [{\"colorbar\": {\"outlinewidth\": 0, \"ticks\": \"\"}, \"colorscale\": [[0.0, \"#0d0887\"], [0.1111111111111111, \"#46039f\"], [0.2222222222222222, \"#7201a8\"], [0.3333333333333333, \"#9c179e\"], [0.4444444444444444, \"#bd3786\"], [0.5555555555555556, \"#d8576b\"], [0.6666666666666666, \"#ed7953\"], [0.7777777777777778, \"#fb9f3a\"], [0.8888888888888888, \"#fdca26\"], [1.0, \"#f0f921\"]], \"type\": \"heatmap\"}], \"heatmapgl\": [{\"colorbar\": {\"outlinewidth\": 0, \"ticks\": \"\"}, \"colorscale\": [[0.0, \"#0d0887\"], [0.1111111111111111, \"#46039f\"], [0.2222222222222222, \"#7201a8\"], [0.3333333333333333, \"#9c179e\"], [0.4444444444444444, \"#bd3786\"], [0.5555555555555556, \"#d8576b\"], [0.6666666666666666, \"#ed7953\"], [0.7777777777777778, \"#fb9f3a\"], [0.8888888888888888, \"#fdca26\"], [1.0, \"#f0f921\"]], \"type\": \"heatmapgl\"}], \"histogram\": [{\"marker\": {\"colorbar\": {\"outlinewidth\": 0, \"ticks\": \"\"}}, \"type\": \"histogram\"}], \"histogram2d\": [{\"colorbar\": {\"outlinewidth\": 0, \"ticks\": \"\"}, \"colorscale\": [[0.0, \"#0d0887\"], [0.1111111111111111, \"#46039f\"], [0.2222222222222222, \"#7201a8\"], [0.3333333333333333, \"#9c179e\"], [0.4444444444444444, \"#bd3786\"], [0.5555555555555556, \"#d8576b\"], [0.6666666666666666, \"#ed7953\"], [0.7777777777777778, \"#fb9f3a\"], [0.8888888888888888, \"#fdca26\"], [1.0, \"#f0f921\"]], \"type\": \"histogram2d\"}], \"histogram2dcontour\": [{\"colorbar\": {\"outlinewidth\": 0, \"ticks\": \"\"}, \"colorscale\": [[0.0, \"#0d0887\"], [0.1111111111111111, \"#46039f\"], [0.2222222222222222, \"#7201a8\"], [0.3333333333333333, \"#9c179e\"], [0.4444444444444444, \"#bd3786\"], [0.5555555555555556, \"#d8576b\"], [0.6666666666666666, \"#ed7953\"], [0.7777777777777778, \"#fb9f3a\"], [0.8888888888888888, \"#fdca26\"], [1.0, \"#f0f921\"]], \"type\": \"histogram2dcontour\"}], \"mesh3d\": [{\"colorbar\": {\"outlinewidth\": 0, \"ticks\": \"\"}, \"type\": \"mesh3d\"}], \"parcoords\": [{\"line\": {\"colorbar\": {\"outlinewidth\": 0, \"ticks\": \"\"}}, \"type\": \"parcoords\"}], \"pie\": [{\"automargin\": true, \"type\": \"pie\"}], \"scatter\": [{\"marker\": {\"colorbar\": {\"outlinewidth\": 0, \"ticks\": \"\"}}, \"type\": \"scatter\"}], \"scatter3d\": [{\"line\": {\"colorbar\": {\"outlinewidth\": 0, \"ticks\": \"\"}}, \"marker\": {\"colorbar\": {\"outlinewidth\": 0, \"ticks\": \"\"}}, \"type\": \"scatter3d\"}], \"scattercarpet\": [{\"marker\": {\"colorbar\": {\"outlinewidth\": 0, \"ticks\": \"\"}}, \"type\": \"scattercarpet\"}], \"scattergeo\": [{\"marker\": {\"colorbar\": {\"outlinewidth\": 0, \"ticks\": \"\"}}, \"type\": \"scattergeo\"}], \"scattergl\": [{\"marker\": {\"colorbar\": {\"outlinewidth\": 0, \"ticks\": \"\"}}, \"type\": \"scattergl\"}], \"scattermapbox\": [{\"marker\": {\"colorbar\": {\"outlinewidth\": 0, \"ticks\": \"\"}}, \"type\": \"scattermapbox\"}], \"scatterpolar\": [{\"marker\": {\"colorbar\": {\"outlinewidth\": 0, \"ticks\": \"\"}}, \"type\": \"scatterpolar\"}], \"scatterpolargl\": [{\"marker\": {\"colorbar\": {\"outlinewidth\": 0, \"ticks\": \"\"}}, \"type\": \"scatterpolargl\"}], \"scatterternary\": [{\"marker\": {\"colorbar\": {\"outlinewidth\": 0, \"ticks\": \"\"}}, \"type\": \"scatterternary\"}], \"surface\": [{\"colorbar\": {\"outlinewidth\": 0, \"ticks\": \"\"}, \"colorscale\": [[0.0, \"#0d0887\"], [0.1111111111111111, \"#46039f\"], [0.2222222222222222, \"#7201a8\"], [0.3333333333333333, \"#9c179e\"], [0.4444444444444444, \"#bd3786\"], [0.5555555555555556, \"#d8576b\"], [0.6666666666666666, \"#ed7953\"], [0.7777777777777778, \"#fb9f3a\"], [0.8888888888888888, \"#fdca26\"], [1.0, \"#f0f921\"]], \"type\": \"surface\"}], \"table\": [{\"cells\": {\"fill\": {\"color\": \"#EBF0F8\"}, \"line\": {\"color\": \"white\"}}, \"header\": {\"fill\": {\"color\": \"#C8D4E3\"}, \"line\": {\"color\": \"white\"}}, \"type\": \"table\"}]}, \"layout\": {\"annotationdefaults\": {\"arrowcolor\": \"#2a3f5f\", \"arrowhead\": 0, \"arrowwidth\": 1}, \"coloraxis\": {\"colorbar\": {\"outlinewidth\": 0, \"ticks\": \"\"}}, \"colorscale\": {\"diverging\": [[0, \"#8e0152\"], [0.1, \"#c51b7d\"], [0.2, \"#de77ae\"], [0.3, \"#f1b6da\"], [0.4, \"#fde0ef\"], [0.5, \"#f7f7f7\"], [0.6, \"#e6f5d0\"], [0.7, \"#b8e186\"], [0.8, \"#7fbc41\"], [0.9, \"#4d9221\"], [1, \"#276419\"]], \"sequential\": [[0.0, \"#0d0887\"], [0.1111111111111111, \"#46039f\"], [0.2222222222222222, \"#7201a8\"], [0.3333333333333333, \"#9c179e\"], [0.4444444444444444, \"#bd3786\"], [0.5555555555555556, \"#d8576b\"], [0.6666666666666666, \"#ed7953\"], [0.7777777777777778, \"#fb9f3a\"], [0.8888888888888888, \"#fdca26\"], [1.0, \"#f0f921\"]], \"sequentialminus\": [[0.0, \"#0d0887\"], [0.1111111111111111, \"#46039f\"], [0.2222222222222222, \"#7201a8\"], [0.3333333333333333, \"#9c179e\"], [0.4444444444444444, \"#bd3786\"], [0.5555555555555556, \"#d8576b\"], [0.6666666666666666, \"#ed7953\"], [0.7777777777777778, \"#fb9f3a\"], [0.8888888888888888, \"#fdca26\"], [1.0, \"#f0f921\"]]}, \"colorway\": [\"#636efa\", \"#EF553B\", \"#00cc96\", \"#ab63fa\", \"#FFA15A\", \"#19d3f3\", \"#FF6692\", \"#B6E880\", \"#FF97FF\", \"#FECB52\"], \"font\": {\"color\": \"#2a3f5f\"}, \"geo\": {\"bgcolor\": \"white\", \"lakecolor\": \"white\", \"landcolor\": \"#E5ECF6\", \"showlakes\": true, \"showland\": true, \"subunitcolor\": \"white\"}, \"hoverlabel\": {\"align\": \"left\"}, \"hovermode\": \"closest\", \"mapbox\": {\"style\": \"light\"}, \"paper_bgcolor\": \"white\", \"plot_bgcolor\": \"#E5ECF6\", \"polar\": {\"angularaxis\": {\"gridcolor\": \"white\", \"linecolor\": \"white\", \"ticks\": \"\"}, \"bgcolor\": \"#E5ECF6\", \"radialaxis\": {\"gridcolor\": \"white\", \"linecolor\": \"white\", \"ticks\": \"\"}}, \"scene\": {\"xaxis\": {\"backgroundcolor\": \"#E5ECF6\", \"gridcolor\": \"white\", \"gridwidth\": 2, \"linecolor\": \"white\", \"showbackground\": true, \"ticks\": \"\", \"zerolinecolor\": \"white\"}, \"yaxis\": {\"backgroundcolor\": \"#E5ECF6\", \"gridcolor\": \"white\", \"gridwidth\": 2, \"linecolor\": \"white\", \"showbackground\": true, \"ticks\": \"\", \"zerolinecolor\": \"white\"}, \"zaxis\": {\"backgroundcolor\": \"#E5ECF6\", \"gridcolor\": \"white\", \"gridwidth\": 2, \"linecolor\": \"white\", \"showbackground\": true, \"ticks\": \"\", \"zerolinecolor\": \"white\"}}, \"shapedefaults\": {\"line\": {\"color\": \"#2a3f5f\"}}, \"ternary\": {\"aaxis\": {\"gridcolor\": \"white\", \"linecolor\": \"white\", \"ticks\": \"\"}, \"baxis\": {\"gridcolor\": \"white\", \"linecolor\": \"white\", \"ticks\": \"\"}, \"bgcolor\": \"#E5ECF6\", \"caxis\": {\"gridcolor\": \"white\", \"linecolor\": \"white\", \"ticks\": \"\"}}, \"title\": {\"x\": 0.05}, \"xaxis\": {\"automargin\": true, \"gridcolor\": \"white\", \"linecolor\": \"white\", \"ticks\": \"\", \"title\": {\"standoff\": 15}, \"zerolinecolor\": \"white\", \"zerolinewidth\": 2}, \"yaxis\": {\"automargin\": true, \"gridcolor\": \"white\", \"linecolor\": \"white\", \"ticks\": \"\", \"title\": {\"standoff\": 15}, \"zerolinecolor\": \"white\", \"zerolinewidth\": 2}}}, \"title\": {\"text\": \"Tree Cover and Happiness Score\"}},\n",
              "                        {\"responsive\": true}\n",
              "                    ).then(function(){\n",
              "                            \n",
              "var gd = document.getElementById('53b58acc-0edd-41cd-8131-dba9f120c93d');\n",
              "var x = new MutationObserver(function (mutations, observer) {{\n",
              "        var display = window.getComputedStyle(gd).display;\n",
              "        if (!display || display === 'none') {{\n",
              "            console.log([gd, 'removed!']);\n",
              "            Plotly.purge(gd);\n",
              "            observer.disconnect();\n",
              "        }}\n",
              "}});\n",
              "\n",
              "// Listen for the removal of the full notebook cells\n",
              "var notebookContainer = gd.closest('#notebook-container');\n",
              "if (notebookContainer) {{\n",
              "    x.observe(notebookContainer, {childList: true});\n",
              "}}\n",
              "\n",
              "// Listen for the clearing of the current output cell\n",
              "var outputEl = gd.closest('.output');\n",
              "if (outputEl) {{\n",
              "    x.observe(outputEl, {childList: true});\n",
              "}}\n",
              "\n",
              "                        })\n",
              "                };\n",
              "                \n",
              "            </script>\n",
              "        </div>\n",
              "</body>\n",
              "</html>"
            ]
          },
          "metadata": {
            "tags": []
          }
        }
      ]
    },
    {
      "cell_type": "code",
      "metadata": {
        "id": "8zeVkg0ALSbE",
        "colab": {
          "base_uri": "https://localhost:8080/",
          "height": 542
        },
        "outputId": "9dd61d67-fabb-4018-b771-fff72351af03"
      },
      "source": [
        "fig = px.scatter(df_q1, x=\"Score\", y=\"CityAccess\", color=\"REGION\")\n",
        "fig.update_layout(\n",
        "    title_text='Relationship Between Happiness Score and Normialized Accessibility to Cities by Region'\n",
        ")\n",
        "fig.show()"
      ],
      "execution_count": 122,
      "outputs": [
        {
          "output_type": "display_data",
          "data": {
            "text/html": [
              "<html>\n",
              "<head><meta charset=\"utf-8\" /></head>\n",
              "<body>\n",
              "    <div>\n",
              "            <script src=\"https://cdnjs.cloudflare.com/ajax/libs/mathjax/2.7.5/MathJax.js?config=TeX-AMS-MML_SVG\"></script><script type=\"text/javascript\">if (window.MathJax) {MathJax.Hub.Config({SVG: {font: \"STIX-Web\"}});}</script>\n",
              "                <script type=\"text/javascript\">window.PlotlyConfig = {MathJaxConfig: 'local'};</script>\n",
              "        <script src=\"https://cdn.plot.ly/plotly-latest.min.js\"></script>    \n",
              "            <div id=\"d073b1e8-a71b-4faa-a1c9-da2119afaaba\" class=\"plotly-graph-div\" style=\"height:525px; width:100%;\"></div>\n",
              "            <script type=\"text/javascript\">\n",
              "                \n",
              "                    window.PLOTLYENV=window.PLOTLYENV || {};\n",
              "                    \n",
              "                if (document.getElementById(\"d073b1e8-a71b-4faa-a1c9-da2119afaaba\")) {\n",
              "                    Plotly.newPlot(\n",
              "                        'd073b1e8-a71b-4faa-a1c9-da2119afaaba',\n",
              "                        [{\"hoverlabel\": {\"namelength\": 0}, \"hovertemplate\": \"REGION=Western Europe<br>Score=%{x}<br>CityAccess=%{y}\", \"legendgroup\": \"REGION=Western Europe\", \"marker\": {\"color\": \"#636efa\", \"symbol\": \"circle\"}, \"mode\": \"markers\", \"name\": \"REGION=Western Europe\", \"showlegend\": true, \"type\": \"scatter\", \"x\": [7.521999836, 7.493999958, 7.504000187000001, 7.537000179, 7.468999863, 7.376999855, 7.28399992, 7.006000042, 6.951000214, 6.890999794, 6.977000237, 6.862999916000001, 6.714000225, 6.52699995, 6.441999912000001, 6.402999877999999, 5.964000225, 5.620999812999999, 5.195000172, 5.2270002369999995], \"xaxis\": \"x\", \"y\": [-0.4153039011316426, -0.41713598102570904, -0.2643011585088542, 0.2058492611836738, -0.36728976871960317, -0.43676905492832474, -0.3443384736289525, -0.41687211476194097, -0.4257355780507499, -0.4351082103628946, -0.421934190743323, -0.43462284716165256, -0.42312944178415224, -0.43851501893606115, -0.42584723060675495, -0.41746898630877044, -0.4251505575152241, -0.4247573307863711, -0.409323809479275, -0.4162599403603561], \"yaxis\": \"y\"}, {\"hoverlabel\": {\"namelength\": 0}, \"hovertemplate\": \"REGION=North America<br>Score=%{x}<br>CityAccess=%{y}\", \"legendgroup\": \"REGION=North America\", \"marker\": {\"color\": \"#EF553B\", \"symbol\": \"circle\"}, \"mode\": \"markers\", \"name\": \"REGION=North America\", \"showlegend\": true, \"type\": \"scatter\", \"x\": [7.315999985, 6.993000031], \"xaxis\": \"x\", \"y\": [1.1201754092853806, -0.13224702249130538], \"yaxis\": \"y\"}, {\"hoverlabel\": {\"namelength\": 0}, \"hovertemplate\": \"REGION=Australia and New Zealand<br>Score=%{x}<br>CityAccess=%{y}\", \"legendgroup\": \"REGION=Australia and New Zealand\", \"marker\": {\"color\": \"#00cc96\", \"symbol\": \"circle\"}, \"mode\": \"markers\", \"name\": \"REGION=Australia and New Zealand\", \"showlegend\": true, \"type\": \"scatter\", \"x\": [7.31400013, 7.28399992], \"xaxis\": \"x\", \"y\": [-0.3391108166915384, -0.031784564695875615], \"yaxis\": \"y\"}, {\"hoverlabel\": {\"namelength\": 0}, \"hovertemplate\": \"REGION=Middle East and Northern Africa<br>Score=%{x}<br>CityAccess=%{y}\", \"legendgroup\": \"REGION=Middle East and Northern Africa\", \"marker\": {\"color\": \"#ab63fa\", \"symbol\": \"circle\"}, \"mode\": \"markers\", \"name\": \"REGION=Middle East and Northern Africa\", \"showlegend\": true, \"type\": \"scatter\", \"x\": [7.212999821, 6.647999763, 6.343999863, 6.375, 5.872000217, 6.105000018999999, 6.086999893, 5.525000095, 5.5, 5.335999966, 5.235000134, 5.224999905, 4.804999828, 4.497000217, 4.735000134, 3.592999935, 3.461999893], \"xaxis\": \"x\", \"y\": [-0.42032619205875743, -0.33870230791730405, -0.12568029930860933, -0.41599806748910556, 0.14620194068743006, -0.39457126733824144, -0.43719597094727775, 0.3475097505077683, -0.40579705074315353, -0.2852277177503901, -0.3824975817278728, -0.4236177162168293, -0.3452243692840285, -0.30208580779035377, 0.021149029814863704, -0.1674457313578595, -0.3811608481697701], \"yaxis\": \"y\"}, {\"hoverlabel\": {\"namelength\": 0}, \"hovertemplate\": \"REGION=Latin America and Caribbean<br>Score=%{x}<br>CityAccess=%{y}\", \"legendgroup\": \"REGION=Latin America and Caribbean\", \"marker\": {\"color\": \"#FFA15A\", \"symbol\": \"circle\"}, \"mode\": \"markers\", \"name\": \"REGION=Latin America and Caribbean\", \"showlegend\": true, \"type\": \"scatter\", \"x\": [7.078999996, 6.635000229, 6.578000069, 6.65199995, 6.452000141, 6.598999977, 6.453999996, 6.3569998739999996, 6.453999996, 6.168000221000001, 5.25, 6.002999783, 6.071000099, 6.007999897, 5.9559998510000005, 5.822999954, 5.715000152999999, 5.493000031, 5.31099987, 5.230000018999999, 5.181000233, 3.6029999260000003], \"xaxis\": \"x\", \"y\": [-0.36870674933603725, -0.08472391297429721, -0.3492756599349832, -0.23550757556897334, -0.30515034348503894, -0.34060170982790827, -0.3711386096751959, 0.18967025707873883, -0.3554734371351642, -0.419335049074885, 0.2759568035596151, -0.4212030331865165, -0.298612713796094, -0.23904163792488511, -0.3178338188106313, -0.2261696344722097, 0.05612619539094178, -0.2636364955073505, -0.41167203147726505, -0.40103519476439026, -0.30227473847453606, -0.41106041066323895], \"yaxis\": \"y\"}, {\"hoverlabel\": {\"namelength\": 0}, \"hovertemplate\": \"REGION=Southeastern Asia<br>Score=%{x}<br>CityAccess=%{y}\", \"legendgroup\": \"REGION=Southeastern Asia\", \"marker\": {\"color\": \"#19d3f3\", \"symbol\": \"circle\"}, \"mode\": \"markers\", \"name\": \"REGION=Southeastern Asia\", \"showlegend\": true, \"type\": \"scatter\", \"x\": [6.5720000270000005, 6.423999786, 6.084000111, 5.262000083999999, 5.429999828, 5.073999882, 4.545000076, 4.168000221000001], \"xaxis\": \"x\", \"y\": [-0.441617190373046, -0.3867855429686121, -0.29013098312742797, -0.19718426637440062, -0.38377923495855, -0.39369743875786073, -0.28583494590927416, -0.3409891870188632], \"yaxis\": \"y\"}, {\"hoverlabel\": {\"namelength\": 0}, \"hovertemplate\": \"REGION=Central and Eastern Europe<br>Score=%{x}<br>CityAccess=%{y}\", \"legendgroup\": \"REGION=Central and Eastern Europe\", \"marker\": {\"color\": \"#FF6692\", \"symbol\": \"circle\"}, \"mode\": \"markers\", \"name\": \"REGION=Central and Eastern Europe\", \"showlegend\": true, \"type\": \"scatter\", \"x\": [6.609000206, 6.09800005, 5.971000195, 5.818999767, 5.837999821, 5.962999821, 5.97300005, 5.90199995, 5.568999767, 5.757999897, 5.8220000270000005, 5.849999905, 5.8249998089999995, 5.611000061, 5.293000221000001, 5.234000206, 5.004000187, 5.394999981000001, 5.18200016, 5.236999989, 5.323999882, 5.040999889, 4.644000053, 4.375999928, 4.096000195, 4.285999775, 4.714000225], \"xaxis\": \"x\", \"y\": [-0.4275579403212157, -0.42043206328072297, -0.18801396331548298, -0.22679852625666783, -0.41323058700653376, 0.5976965245016298, -0.42531250934551906, -0.41674291599878954, -0.40329760320133085, -0.4219452748006488, -0.22538469721751428, -0.40520141000046667, -0.4132523822647382, -0.40430618037097776, -0.4213057413933218, -0.40006578545946725, -0.2989946943048741, -0.42207532809177345, -0.4064666044762912, -0.4046259457989151, -0.4230905193972825, -0.1571224485475165, -0.4062743114144137, -0.3948928643743015, -0.41371786339446576, -0.3672159912908255, -0.3988568817229945], \"yaxis\": \"y\"}, {\"hoverlabel\": {\"namelength\": 0}, \"hovertemplate\": \"REGION=Eastern Asia<br>Score=%{x}<br>CityAccess=%{y}\", \"legendgroup\": \"REGION=Eastern Asia\", \"marker\": {\"color\": \"#B6E880\", \"symbol\": \"circle\"}, \"mode\": \"markers\", \"name\": \"REGION=Eastern Asia\", \"showlegend\": true, \"type\": \"scatter\", \"x\": [5.920000076, 5.2729997630000005, 4.954999924], \"xaxis\": \"x\", \"y\": [-0.426721391506534, -0.21577101750758168, -0.09751202457524026], \"yaxis\": \"y\"}, {\"hoverlabel\": {\"namelength\": 0}, \"hovertemplate\": \"REGION=Sub-Saharan Africa<br>Score=%{x}<br>CityAccess=%{y}\", \"legendgroup\": \"REGION=Sub-Saharan Africa\", \"marker\": {\"color\": \"#FF97FF\", \"symbol\": \"circle\"}, \"mode\": \"markers\", \"name\": \"REGION=Sub-Saharan Africa\", \"showlegend\": true, \"type\": \"scatter\", \"x\": [5.629000187000001, 5.151000023, 5.073999882, 4.513999939, 4.709000111, 4.573999882, 4.695000172, 4.460000038, 4.828999996, 4.552999973, 4.1199998860000004, 4.28000021, 4.290999889, 4.534999847, 4.291999817, 3.875, 3.970000029, 4.138999939, 4.465000153, 4.190000057, 3.766000032, 3.7950000760000004, 4.027999878, 3.59100008, 3.9360001089999996, 4.032000065, 4.0809998510000005, 3.644000053, 3.348999977, 3.5329999919999997, 3.5069999689999998, 3.4709999560000004, 3.657000065, 3.4949998860000004, 2.904999971], \"xaxis\": \"x\", \"y\": [-0.4335486054978968, -0.3023564677035775, -0.4072230768210024, -0.3328322996534658, -0.38598207523307726, -0.2728256636948274, -0.3274318968257341, -0.323000730371691, -0.3734483735099825, -0.3325015139399605, -0.3878720512733263, -0.2196304132784539, -0.061349841154791966, -0.3548117279976338, 0.7503778179302977, -0.37484417566485095, -0.38884137292179266, 0.21366886371393898, -0.17375497006555887, 0.4415953763343479, -0.25441157215854565, -0.25863372474811586, 0.19376487444726784, -0.2788214540505732, 0.15124112562001238, -0.3858855721730465, -0.3809309826333662, -0.19261263300725429, -0.3135655885915442, -0.3233768374467611, -0.3810708280786353, -0.4138557979328597, -0.3862059598934318, -0.40568094418073286, -0.4230858465286387], \"yaxis\": \"y\"}, {\"hoverlabel\": {\"namelength\": 0}, \"hovertemplate\": \"REGION=Southern Asia<br>Score=%{x}<br>CityAccess=%{y}\", \"legendgroup\": \"REGION=Southern Asia\", \"marker\": {\"color\": \"#FECB52\", \"symbol\": \"circle\"}, \"mode\": \"markers\", \"name\": \"REGION=Southern Asia\", \"showlegend\": true, \"type\": \"scatter\", \"x\": [5.011000156000001, 5.269000053, 4.961999893, 4.607999802, 4.440000057, 4.315000057, 3.79399991], \"xaxis\": \"x\", \"y\": [-0.19893130675307502, -0.313802885160286, -0.27803688496172696, -0.42576869919157995, -0.4115255063199268, -0.3977614010419095, -0.2879737974069845], \"yaxis\": \"y\"}],\n",
              "                        {\"legend\": {\"tracegroupgap\": 0}, \"margin\": {\"t\": 60}, \"template\": {\"data\": {\"bar\": [{\"error_x\": {\"color\": \"#2a3f5f\"}, \"error_y\": {\"color\": \"#2a3f5f\"}, \"marker\": {\"line\": {\"color\": \"#E5ECF6\", \"width\": 0.5}}, \"type\": \"bar\"}], \"barpolar\": [{\"marker\": {\"line\": {\"color\": \"#E5ECF6\", \"width\": 0.5}}, \"type\": \"barpolar\"}], \"carpet\": [{\"aaxis\": {\"endlinecolor\": \"#2a3f5f\", \"gridcolor\": \"white\", \"linecolor\": \"white\", \"minorgridcolor\": \"white\", \"startlinecolor\": \"#2a3f5f\"}, \"baxis\": {\"endlinecolor\": \"#2a3f5f\", \"gridcolor\": \"white\", \"linecolor\": \"white\", \"minorgridcolor\": \"white\", \"startlinecolor\": \"#2a3f5f\"}, \"type\": \"carpet\"}], \"choropleth\": [{\"colorbar\": {\"outlinewidth\": 0, \"ticks\": \"\"}, \"type\": \"choropleth\"}], \"contour\": [{\"colorbar\": {\"outlinewidth\": 0, \"ticks\": \"\"}, \"colorscale\": [[0.0, \"#0d0887\"], [0.1111111111111111, \"#46039f\"], [0.2222222222222222, \"#7201a8\"], [0.3333333333333333, \"#9c179e\"], [0.4444444444444444, \"#bd3786\"], [0.5555555555555556, \"#d8576b\"], [0.6666666666666666, \"#ed7953\"], [0.7777777777777778, \"#fb9f3a\"], [0.8888888888888888, \"#fdca26\"], [1.0, \"#f0f921\"]], \"type\": \"contour\"}], \"contourcarpet\": [{\"colorbar\": {\"outlinewidth\": 0, \"ticks\": \"\"}, \"type\": \"contourcarpet\"}], \"heatmap\": [{\"colorbar\": {\"outlinewidth\": 0, \"ticks\": \"\"}, \"colorscale\": [[0.0, \"#0d0887\"], [0.1111111111111111, \"#46039f\"], [0.2222222222222222, \"#7201a8\"], [0.3333333333333333, \"#9c179e\"], [0.4444444444444444, \"#bd3786\"], [0.5555555555555556, \"#d8576b\"], [0.6666666666666666, \"#ed7953\"], [0.7777777777777778, \"#fb9f3a\"], [0.8888888888888888, \"#fdca26\"], [1.0, \"#f0f921\"]], \"type\": \"heatmap\"}], \"heatmapgl\": [{\"colorbar\": {\"outlinewidth\": 0, \"ticks\": \"\"}, \"colorscale\": [[0.0, \"#0d0887\"], [0.1111111111111111, \"#46039f\"], [0.2222222222222222, \"#7201a8\"], [0.3333333333333333, \"#9c179e\"], [0.4444444444444444, \"#bd3786\"], [0.5555555555555556, \"#d8576b\"], [0.6666666666666666, \"#ed7953\"], [0.7777777777777778, \"#fb9f3a\"], [0.8888888888888888, \"#fdca26\"], [1.0, \"#f0f921\"]], \"type\": \"heatmapgl\"}], \"histogram\": [{\"marker\": {\"colorbar\": {\"outlinewidth\": 0, \"ticks\": \"\"}}, \"type\": \"histogram\"}], \"histogram2d\": [{\"colorbar\": {\"outlinewidth\": 0, \"ticks\": \"\"}, \"colorscale\": [[0.0, \"#0d0887\"], [0.1111111111111111, \"#46039f\"], [0.2222222222222222, \"#7201a8\"], [0.3333333333333333, \"#9c179e\"], [0.4444444444444444, \"#bd3786\"], [0.5555555555555556, \"#d8576b\"], [0.6666666666666666, \"#ed7953\"], [0.7777777777777778, \"#fb9f3a\"], [0.8888888888888888, \"#fdca26\"], [1.0, \"#f0f921\"]], \"type\": \"histogram2d\"}], \"histogram2dcontour\": [{\"colorbar\": {\"outlinewidth\": 0, \"ticks\": \"\"}, \"colorscale\": [[0.0, \"#0d0887\"], [0.1111111111111111, \"#46039f\"], [0.2222222222222222, \"#7201a8\"], [0.3333333333333333, \"#9c179e\"], [0.4444444444444444, \"#bd3786\"], [0.5555555555555556, \"#d8576b\"], [0.6666666666666666, \"#ed7953\"], [0.7777777777777778, \"#fb9f3a\"], [0.8888888888888888, \"#fdca26\"], [1.0, \"#f0f921\"]], \"type\": \"histogram2dcontour\"}], \"mesh3d\": [{\"colorbar\": {\"outlinewidth\": 0, \"ticks\": \"\"}, \"type\": \"mesh3d\"}], \"parcoords\": [{\"line\": {\"colorbar\": {\"outlinewidth\": 0, \"ticks\": \"\"}}, \"type\": \"parcoords\"}], \"pie\": [{\"automargin\": true, \"type\": \"pie\"}], \"scatter\": [{\"marker\": {\"colorbar\": {\"outlinewidth\": 0, \"ticks\": \"\"}}, \"type\": \"scatter\"}], \"scatter3d\": [{\"line\": {\"colorbar\": {\"outlinewidth\": 0, \"ticks\": \"\"}}, \"marker\": {\"colorbar\": {\"outlinewidth\": 0, \"ticks\": \"\"}}, \"type\": \"scatter3d\"}], \"scattercarpet\": [{\"marker\": {\"colorbar\": {\"outlinewidth\": 0, \"ticks\": \"\"}}, \"type\": \"scattercarpet\"}], \"scattergeo\": [{\"marker\": {\"colorbar\": {\"outlinewidth\": 0, \"ticks\": \"\"}}, \"type\": \"scattergeo\"}], \"scattergl\": [{\"marker\": {\"colorbar\": {\"outlinewidth\": 0, \"ticks\": \"\"}}, \"type\": \"scattergl\"}], \"scattermapbox\": [{\"marker\": {\"colorbar\": {\"outlinewidth\": 0, \"ticks\": \"\"}}, \"type\": \"scattermapbox\"}], \"scatterpolar\": [{\"marker\": {\"colorbar\": {\"outlinewidth\": 0, \"ticks\": \"\"}}, \"type\": \"scatterpolar\"}], \"scatterpolargl\": [{\"marker\": {\"colorbar\": {\"outlinewidth\": 0, \"ticks\": \"\"}}, \"type\": \"scatterpolargl\"}], \"scatterternary\": [{\"marker\": {\"colorbar\": {\"outlinewidth\": 0, \"ticks\": \"\"}}, \"type\": \"scatterternary\"}], \"surface\": [{\"colorbar\": {\"outlinewidth\": 0, \"ticks\": \"\"}, \"colorscale\": [[0.0, \"#0d0887\"], [0.1111111111111111, \"#46039f\"], [0.2222222222222222, \"#7201a8\"], [0.3333333333333333, \"#9c179e\"], [0.4444444444444444, \"#bd3786\"], [0.5555555555555556, \"#d8576b\"], [0.6666666666666666, \"#ed7953\"], [0.7777777777777778, \"#fb9f3a\"], [0.8888888888888888, \"#fdca26\"], [1.0, \"#f0f921\"]], \"type\": \"surface\"}], \"table\": [{\"cells\": {\"fill\": {\"color\": \"#EBF0F8\"}, \"line\": {\"color\": \"white\"}}, \"header\": {\"fill\": {\"color\": \"#C8D4E3\"}, \"line\": {\"color\": \"white\"}}, \"type\": \"table\"}]}, \"layout\": {\"annotationdefaults\": {\"arrowcolor\": \"#2a3f5f\", \"arrowhead\": 0, \"arrowwidth\": 1}, \"coloraxis\": {\"colorbar\": {\"outlinewidth\": 0, \"ticks\": \"\"}}, \"colorscale\": {\"diverging\": [[0, \"#8e0152\"], [0.1, \"#c51b7d\"], [0.2, \"#de77ae\"], [0.3, \"#f1b6da\"], [0.4, \"#fde0ef\"], [0.5, \"#f7f7f7\"], [0.6, \"#e6f5d0\"], [0.7, \"#b8e186\"], [0.8, \"#7fbc41\"], [0.9, \"#4d9221\"], [1, \"#276419\"]], \"sequential\": [[0.0, \"#0d0887\"], [0.1111111111111111, \"#46039f\"], [0.2222222222222222, \"#7201a8\"], [0.3333333333333333, \"#9c179e\"], [0.4444444444444444, \"#bd3786\"], [0.5555555555555556, \"#d8576b\"], [0.6666666666666666, \"#ed7953\"], [0.7777777777777778, \"#fb9f3a\"], [0.8888888888888888, \"#fdca26\"], [1.0, \"#f0f921\"]], \"sequentialminus\": [[0.0, \"#0d0887\"], [0.1111111111111111, \"#46039f\"], [0.2222222222222222, \"#7201a8\"], [0.3333333333333333, \"#9c179e\"], [0.4444444444444444, \"#bd3786\"], [0.5555555555555556, \"#d8576b\"], [0.6666666666666666, \"#ed7953\"], [0.7777777777777778, \"#fb9f3a\"], [0.8888888888888888, \"#fdca26\"], [1.0, \"#f0f921\"]]}, \"colorway\": [\"#636efa\", \"#EF553B\", \"#00cc96\", \"#ab63fa\", \"#FFA15A\", \"#19d3f3\", \"#FF6692\", \"#B6E880\", \"#FF97FF\", \"#FECB52\"], \"font\": {\"color\": \"#2a3f5f\"}, \"geo\": {\"bgcolor\": \"white\", \"lakecolor\": \"white\", \"landcolor\": \"#E5ECF6\", \"showlakes\": true, \"showland\": true, \"subunitcolor\": \"white\"}, \"hoverlabel\": {\"align\": \"left\"}, \"hovermode\": \"closest\", \"mapbox\": {\"style\": \"light\"}, \"paper_bgcolor\": \"white\", \"plot_bgcolor\": \"#E5ECF6\", \"polar\": {\"angularaxis\": {\"gridcolor\": \"white\", \"linecolor\": \"white\", \"ticks\": \"\"}, \"bgcolor\": \"#E5ECF6\", \"radialaxis\": {\"gridcolor\": \"white\", \"linecolor\": \"white\", \"ticks\": \"\"}}, \"scene\": {\"xaxis\": {\"backgroundcolor\": \"#E5ECF6\", \"gridcolor\": \"white\", \"gridwidth\": 2, \"linecolor\": \"white\", \"showbackground\": true, \"ticks\": \"\", \"zerolinecolor\": \"white\"}, \"yaxis\": {\"backgroundcolor\": \"#E5ECF6\", \"gridcolor\": \"white\", \"gridwidth\": 2, \"linecolor\": \"white\", \"showbackground\": true, \"ticks\": \"\", \"zerolinecolor\": \"white\"}, \"zaxis\": {\"backgroundcolor\": \"#E5ECF6\", \"gridcolor\": \"white\", \"gridwidth\": 2, \"linecolor\": \"white\", \"showbackground\": true, \"ticks\": \"\", \"zerolinecolor\": \"white\"}}, \"shapedefaults\": {\"line\": {\"color\": \"#2a3f5f\"}}, \"ternary\": {\"aaxis\": {\"gridcolor\": \"white\", \"linecolor\": \"white\", \"ticks\": \"\"}, \"baxis\": {\"gridcolor\": \"white\", \"linecolor\": \"white\", \"ticks\": \"\"}, \"bgcolor\": \"#E5ECF6\", \"caxis\": {\"gridcolor\": \"white\", \"linecolor\": \"white\", \"ticks\": \"\"}}, \"title\": {\"x\": 0.05}, \"xaxis\": {\"automargin\": true, \"gridcolor\": \"white\", \"linecolor\": \"white\", \"ticks\": \"\", \"title\": {\"standoff\": 15}, \"zerolinecolor\": \"white\", \"zerolinewidth\": 2}, \"yaxis\": {\"automargin\": true, \"gridcolor\": \"white\", \"linecolor\": \"white\", \"ticks\": \"\", \"title\": {\"standoff\": 15}, \"zerolinecolor\": \"white\", \"zerolinewidth\": 2}}}, \"title\": {\"text\": \"Relationship Between Happiness Score and Normialized Accessibility to Cities by Region\"}, \"xaxis\": {\"anchor\": \"y\", \"domain\": [0.0, 1.0], \"title\": {\"text\": \"Score\"}}, \"yaxis\": {\"anchor\": \"x\", \"domain\": [0.0, 1.0], \"title\": {\"text\": \"CityAccess\"}}},\n",
              "                        {\"responsive\": true}\n",
              "                    ).then(function(){\n",
              "                            \n",
              "var gd = document.getElementById('d073b1e8-a71b-4faa-a1c9-da2119afaaba');\n",
              "var x = new MutationObserver(function (mutations, observer) {{\n",
              "        var display = window.getComputedStyle(gd).display;\n",
              "        if (!display || display === 'none') {{\n",
              "            console.log([gd, 'removed!']);\n",
              "            Plotly.purge(gd);\n",
              "            observer.disconnect();\n",
              "        }}\n",
              "}});\n",
              "\n",
              "// Listen for the removal of the full notebook cells\n",
              "var notebookContainer = gd.closest('#notebook-container');\n",
              "if (notebookContainer) {{\n",
              "    x.observe(notebookContainer, {childList: true});\n",
              "}}\n",
              "\n",
              "// Listen for the clearing of the current output cell\n",
              "var outputEl = gd.closest('.output');\n",
              "if (outputEl) {{\n",
              "    x.observe(outputEl, {childList: true});\n",
              "}}\n",
              "\n",
              "                        })\n",
              "                };\n",
              "                \n",
              "            </script>\n",
              "        </div>\n",
              "</body>\n",
              "</html>"
            ]
          },
          "metadata": {
            "tags": []
          }
        }
      ]
    },
    {
      "cell_type": "markdown",
      "metadata": {
        "id": "DyYQEGP4rfzp"
      },
      "source": [
        "## *4.2 - Financial Analysis*"
      ]
    },
    {
      "cell_type": "markdown",
      "metadata": {
        "id": "fNC9RFjLQ409"
      },
      "source": [
        "### 4.2.1 - Analysis Query - Version 1\n"
      ]
    },
    {
      "cell_type": "code",
      "metadata": {
        "id": "6tfzgHweww1U"
      },
      "source": [
        "#\n",
        "# Financial Analysis - Version 1 - Grouped by Region\n",
        "#\n",
        "# World Happiness Table\n",
        "#   Country\n",
        "#   Score\n",
        "#\n",
        "# IMF_COMBINED_DATA_2017\n",
        "#   Expense\n",
        "#   Savings\n",
        "#\n",
        "# Country_Profile_Variables\n",
        "#   GDP_per_capita_current_US\n",
        "#   Unemployment_of_labour_force\n",
        "#\n",
        "# Country_Region\n",
        "#   Region\n",
        "conn = sqlite3.connect(\"WorldHappiness.db\")\n",
        "\n",
        "try:\n",
        "\n",
        "  df_q2= pd.read_sql_query('''select wh.Country,\n",
        "                                    wh.Happiness_Score as Score,\n",
        "                                    cr.Region, \n",
        "                                    imf.Expense, \n",
        "                                    imf.Savings,\n",
        "                                    cp.GDP_per_capita_current_US as GDP, \n",
        "                                    cp.Unemployment_of_labour_force as UNEMPLOYMENT\n",
        "                                FROM World_Happiness_2017 wh JOIN IMF_COMBINED_DATA_2017 imf on (wh.country=imf.country)\n",
        "\t                                    JOIN Country_Profile_Variables cp on (wh.country=cp.country)\n",
        "                                      JOIN  Country_Region cr on (cr.Country = wh.country)\n",
        "                                      GROUP BY cr.region\n",
        "                                      ORDER BY Score\n",
        "                          ''',conn)\n",
        "except Exception as e:\n",
        "  print('Could not execute query - Error: ' + str(e))\n",
        "finally:\n",
        "    conn.close()"
      ],
      "execution_count": 123,
      "outputs": []
    },
    {
      "cell_type": "markdown",
      "metadata": {
        "id": "YN5Psm-aRgCO"
      },
      "source": [
        "### 4.2.2 - Results Graph - Version 1"
      ]
    },
    {
      "cell_type": "code",
      "metadata": {
        "id": "WfHt3qacOBDP",
        "colab": {
          "base_uri": "https://localhost:8080/",
          "height": 542
        },
        "outputId": "19a947c2-47eb-4e2c-de5b-bbcb62b8df30"
      },
      "source": [
        "x = df_q2[\"REGION\"]\n",
        "y = df_q2[\"Score\"]\n",
        "y1 = df_q2[\"EXPENSE\"]\n",
        "y2 = df_q2[\"SAVINGS\"]\n",
        "y3 = df_q2[\"GDP\"]\n",
        "y4 = df_q2[\"UNEMPLOYMENT\"]\n",
        "\n",
        "fig = go.Figure()\n",
        "fig.add_trace(go.Histogram(y=y, x=x, histfunc='avg', name=\"Score\"))\n",
        "fig.add_trace(go.Histogram(histfunc=\"avg\", y=y1, x=x, name=\"EXPENSE\"))\n",
        "fig.add_trace(go.Histogram(histfunc=\"avg\", y=y2, x=x, name = \"SAVINGS\"))\n",
        "fig.add_trace(go.Histogram(histfunc=\"avg\", y=y4, x=x, name = \"UNEMPLOYMENT\"))\n",
        "\n",
        "fig.update_layout(title_text='Relationship Between World Happiness Score, Expense and Savings Ordered By Score')\n",
        "fig.show()"
      ],
      "execution_count": 124,
      "outputs": [
        {
          "output_type": "display_data",
          "data": {
            "text/html": [
              "<html>\n",
              "<head><meta charset=\"utf-8\" /></head>\n",
              "<body>\n",
              "    <div>\n",
              "            <script src=\"https://cdnjs.cloudflare.com/ajax/libs/mathjax/2.7.5/MathJax.js?config=TeX-AMS-MML_SVG\"></script><script type=\"text/javascript\">if (window.MathJax) {MathJax.Hub.Config({SVG: {font: \"STIX-Web\"}});}</script>\n",
              "                <script type=\"text/javascript\">window.PlotlyConfig = {MathJaxConfig: 'local'};</script>\n",
              "        <script src=\"https://cdn.plot.ly/plotly-latest.min.js\"></script>    \n",
              "            <div id=\"c8b18d71-5a7a-4307-a0cf-aaedf40448e5\" class=\"plotly-graph-div\" style=\"height:525px; width:100%;\"></div>\n",
              "            <script type=\"text/javascript\">\n",
              "                \n",
              "                    window.PLOTLYENV=window.PLOTLYENV || {};\n",
              "                    \n",
              "                if (document.getElementById(\"c8b18d71-5a7a-4307-a0cf-aaedf40448e5\")) {\n",
              "                    Plotly.newPlot(\n",
              "                        'c8b18d71-5a7a-4307-a0cf-aaedf40448e5',\n",
              "                        [{\"histfunc\": \"avg\", \"name\": \"Score\", \"type\": \"histogram\", \"x\": [\"Sub-Saharan Africa\", \"Middle East and Northern Africa\", \"Latin America and Caribbean\", \"Southern Asia\", \"Southeastern Asia\", \"Central and Eastern Europe\", \"Eastern Asia\", \"Western Europe\", \"North America\", \"Australia and New Zealand\"], \"y\": [2.904999971, 3.592999935, 3.6029999260000003, 3.79399991, 4.168000221000001, 4.714000225, 4.954999924, 5.2270002369999995, 6.993000031, 7.28399992]}, {\"histfunc\": \"avg\", \"name\": \"EXPENSE\", \"type\": \"histogram\", \"x\": [\"Sub-Saharan Africa\", \"Middle East and Northern Africa\", \"Latin America and Caribbean\", \"Southern Asia\", \"Southeastern Asia\", \"Central and Eastern Europe\", \"Eastern Asia\", \"Western Europe\", \"North America\", \"Australia and New Zealand\"], \"y\": [21.803, 9.136000000000001, 17.503, 25.878, 22.375, 32.548, 32.332, 47.294, 35.248000000000005, 36.705999999999996]}, {\"histfunc\": \"avg\", \"name\": \"SAVINGS\", \"type\": \"histogram\", \"x\": [\"Sub-Saharan Africa\", \"Middle East and Northern Africa\", \"Latin America and Caribbean\", \"Southern Asia\", \"Southeastern Asia\", \"Central and Eastern Europe\", \"Eastern Asia\", \"Western Europe\", \"North America\", \"Australia and New Zealand\"], \"y\": [-5.32, 1.919, 27.935, 22.348000000000003, 15.145999999999999, 23.141, 21.256, 10.119, 18.579, 22.025]}, {\"histfunc\": \"avg\", \"name\": \"UNEMPLOYMENT\", \"type\": \"histogram\", \"x\": [\"Sub-Saharan Africa\", \"Middle East and Northern Africa\", \"Latin America and Caribbean\", \"Southern Asia\", \"Southeastern Asia\", \"Central and Eastern Europe\", \"Eastern Asia\", \"Western Europe\", \"North America\", \"Australia and New Zealand\"], \"y\": [1.7, 16.1, 12.9, 8.6, 0.3, 8.1, 6.3, 23.0, 4.9, 5.5]}],\n",
              "                        {\"template\": {\"data\": {\"bar\": [{\"error_x\": {\"color\": \"#2a3f5f\"}, \"error_y\": {\"color\": \"#2a3f5f\"}, \"marker\": {\"line\": {\"color\": \"#E5ECF6\", \"width\": 0.5}}, \"type\": \"bar\"}], \"barpolar\": [{\"marker\": {\"line\": {\"color\": \"#E5ECF6\", \"width\": 0.5}}, \"type\": \"barpolar\"}], \"carpet\": [{\"aaxis\": {\"endlinecolor\": \"#2a3f5f\", \"gridcolor\": \"white\", \"linecolor\": \"white\", \"minorgridcolor\": \"white\", \"startlinecolor\": \"#2a3f5f\"}, \"baxis\": {\"endlinecolor\": \"#2a3f5f\", \"gridcolor\": \"white\", \"linecolor\": \"white\", \"minorgridcolor\": \"white\", \"startlinecolor\": \"#2a3f5f\"}, \"type\": \"carpet\"}], \"choropleth\": [{\"colorbar\": {\"outlinewidth\": 0, \"ticks\": \"\"}, \"type\": \"choropleth\"}], \"contour\": [{\"colorbar\": {\"outlinewidth\": 0, \"ticks\": \"\"}, \"colorscale\": [[0.0, \"#0d0887\"], [0.1111111111111111, \"#46039f\"], [0.2222222222222222, \"#7201a8\"], [0.3333333333333333, \"#9c179e\"], [0.4444444444444444, \"#bd3786\"], [0.5555555555555556, \"#d8576b\"], [0.6666666666666666, \"#ed7953\"], [0.7777777777777778, \"#fb9f3a\"], [0.8888888888888888, \"#fdca26\"], [1.0, \"#f0f921\"]], \"type\": \"contour\"}], \"contourcarpet\": [{\"colorbar\": {\"outlinewidth\": 0, \"ticks\": \"\"}, \"type\": \"contourcarpet\"}], \"heatmap\": [{\"colorbar\": {\"outlinewidth\": 0, \"ticks\": \"\"}, \"colorscale\": [[0.0, \"#0d0887\"], [0.1111111111111111, \"#46039f\"], [0.2222222222222222, \"#7201a8\"], [0.3333333333333333, \"#9c179e\"], [0.4444444444444444, \"#bd3786\"], [0.5555555555555556, \"#d8576b\"], [0.6666666666666666, \"#ed7953\"], [0.7777777777777778, \"#fb9f3a\"], [0.8888888888888888, \"#fdca26\"], [1.0, \"#f0f921\"]], \"type\": \"heatmap\"}], \"heatmapgl\": [{\"colorbar\": {\"outlinewidth\": 0, \"ticks\": \"\"}, \"colorscale\": [[0.0, \"#0d0887\"], [0.1111111111111111, \"#46039f\"], [0.2222222222222222, \"#7201a8\"], [0.3333333333333333, \"#9c179e\"], [0.4444444444444444, \"#bd3786\"], [0.5555555555555556, \"#d8576b\"], [0.6666666666666666, \"#ed7953\"], [0.7777777777777778, \"#fb9f3a\"], [0.8888888888888888, \"#fdca26\"], [1.0, \"#f0f921\"]], \"type\": \"heatmapgl\"}], \"histogram\": [{\"marker\": {\"colorbar\": {\"outlinewidth\": 0, \"ticks\": \"\"}}, \"type\": \"histogram\"}], \"histogram2d\": [{\"colorbar\": {\"outlinewidth\": 0, \"ticks\": \"\"}, \"colorscale\": [[0.0, \"#0d0887\"], [0.1111111111111111, \"#46039f\"], [0.2222222222222222, \"#7201a8\"], [0.3333333333333333, \"#9c179e\"], [0.4444444444444444, \"#bd3786\"], [0.5555555555555556, \"#d8576b\"], [0.6666666666666666, \"#ed7953\"], [0.7777777777777778, \"#fb9f3a\"], [0.8888888888888888, \"#fdca26\"], [1.0, \"#f0f921\"]], \"type\": \"histogram2d\"}], \"histogram2dcontour\": [{\"colorbar\": {\"outlinewidth\": 0, \"ticks\": \"\"}, \"colorscale\": [[0.0, \"#0d0887\"], [0.1111111111111111, \"#46039f\"], [0.2222222222222222, \"#7201a8\"], [0.3333333333333333, \"#9c179e\"], [0.4444444444444444, \"#bd3786\"], [0.5555555555555556, \"#d8576b\"], [0.6666666666666666, \"#ed7953\"], [0.7777777777777778, \"#fb9f3a\"], [0.8888888888888888, \"#fdca26\"], [1.0, \"#f0f921\"]], \"type\": \"histogram2dcontour\"}], \"mesh3d\": [{\"colorbar\": {\"outlinewidth\": 0, \"ticks\": \"\"}, \"type\": \"mesh3d\"}], \"parcoords\": [{\"line\": {\"colorbar\": {\"outlinewidth\": 0, \"ticks\": \"\"}}, \"type\": \"parcoords\"}], \"pie\": [{\"automargin\": true, \"type\": \"pie\"}], \"scatter\": [{\"marker\": {\"colorbar\": {\"outlinewidth\": 0, \"ticks\": \"\"}}, \"type\": \"scatter\"}], \"scatter3d\": [{\"line\": {\"colorbar\": {\"outlinewidth\": 0, \"ticks\": \"\"}}, \"marker\": {\"colorbar\": {\"outlinewidth\": 0, \"ticks\": \"\"}}, \"type\": \"scatter3d\"}], \"scattercarpet\": [{\"marker\": {\"colorbar\": {\"outlinewidth\": 0, \"ticks\": \"\"}}, \"type\": \"scattercarpet\"}], \"scattergeo\": [{\"marker\": {\"colorbar\": {\"outlinewidth\": 0, \"ticks\": \"\"}}, \"type\": \"scattergeo\"}], \"scattergl\": [{\"marker\": {\"colorbar\": {\"outlinewidth\": 0, \"ticks\": \"\"}}, \"type\": \"scattergl\"}], \"scattermapbox\": [{\"marker\": {\"colorbar\": {\"outlinewidth\": 0, \"ticks\": \"\"}}, \"type\": \"scattermapbox\"}], \"scatterpolar\": [{\"marker\": {\"colorbar\": {\"outlinewidth\": 0, \"ticks\": \"\"}}, \"type\": \"scatterpolar\"}], \"scatterpolargl\": [{\"marker\": {\"colorbar\": {\"outlinewidth\": 0, \"ticks\": \"\"}}, \"type\": \"scatterpolargl\"}], \"scatterternary\": [{\"marker\": {\"colorbar\": {\"outlinewidth\": 0, \"ticks\": \"\"}}, \"type\": \"scatterternary\"}], \"surface\": [{\"colorbar\": {\"outlinewidth\": 0, \"ticks\": \"\"}, \"colorscale\": [[0.0, \"#0d0887\"], [0.1111111111111111, \"#46039f\"], [0.2222222222222222, \"#7201a8\"], [0.3333333333333333, \"#9c179e\"], [0.4444444444444444, \"#bd3786\"], [0.5555555555555556, \"#d8576b\"], [0.6666666666666666, \"#ed7953\"], [0.7777777777777778, \"#fb9f3a\"], [0.8888888888888888, \"#fdca26\"], [1.0, \"#f0f921\"]], \"type\": \"surface\"}], \"table\": [{\"cells\": {\"fill\": {\"color\": \"#EBF0F8\"}, \"line\": {\"color\": \"white\"}}, \"header\": {\"fill\": {\"color\": \"#C8D4E3\"}, \"line\": {\"color\": \"white\"}}, \"type\": \"table\"}]}, \"layout\": {\"annotationdefaults\": {\"arrowcolor\": \"#2a3f5f\", \"arrowhead\": 0, \"arrowwidth\": 1}, \"coloraxis\": {\"colorbar\": {\"outlinewidth\": 0, \"ticks\": \"\"}}, \"colorscale\": {\"diverging\": [[0, \"#8e0152\"], [0.1, \"#c51b7d\"], [0.2, \"#de77ae\"], [0.3, \"#f1b6da\"], [0.4, \"#fde0ef\"], [0.5, \"#f7f7f7\"], [0.6, \"#e6f5d0\"], [0.7, \"#b8e186\"], [0.8, \"#7fbc41\"], [0.9, \"#4d9221\"], [1, \"#276419\"]], \"sequential\": [[0.0, \"#0d0887\"], [0.1111111111111111, \"#46039f\"], [0.2222222222222222, \"#7201a8\"], [0.3333333333333333, \"#9c179e\"], [0.4444444444444444, \"#bd3786\"], [0.5555555555555556, \"#d8576b\"], [0.6666666666666666, \"#ed7953\"], [0.7777777777777778, \"#fb9f3a\"], [0.8888888888888888, \"#fdca26\"], [1.0, \"#f0f921\"]], \"sequentialminus\": [[0.0, \"#0d0887\"], [0.1111111111111111, \"#46039f\"], [0.2222222222222222, \"#7201a8\"], [0.3333333333333333, \"#9c179e\"], [0.4444444444444444, \"#bd3786\"], [0.5555555555555556, \"#d8576b\"], [0.6666666666666666, \"#ed7953\"], [0.7777777777777778, \"#fb9f3a\"], [0.8888888888888888, \"#fdca26\"], [1.0, \"#f0f921\"]]}, \"colorway\": [\"#636efa\", \"#EF553B\", \"#00cc96\", \"#ab63fa\", \"#FFA15A\", \"#19d3f3\", \"#FF6692\", \"#B6E880\", \"#FF97FF\", \"#FECB52\"], \"font\": {\"color\": \"#2a3f5f\"}, \"geo\": {\"bgcolor\": \"white\", \"lakecolor\": \"white\", \"landcolor\": \"#E5ECF6\", \"showlakes\": true, \"showland\": true, \"subunitcolor\": \"white\"}, \"hoverlabel\": {\"align\": \"left\"}, \"hovermode\": \"closest\", \"mapbox\": {\"style\": \"light\"}, \"paper_bgcolor\": \"white\", \"plot_bgcolor\": \"#E5ECF6\", \"polar\": {\"angularaxis\": {\"gridcolor\": \"white\", \"linecolor\": \"white\", \"ticks\": \"\"}, \"bgcolor\": \"#E5ECF6\", \"radialaxis\": {\"gridcolor\": \"white\", \"linecolor\": \"white\", \"ticks\": \"\"}}, \"scene\": {\"xaxis\": {\"backgroundcolor\": \"#E5ECF6\", \"gridcolor\": \"white\", \"gridwidth\": 2, \"linecolor\": \"white\", \"showbackground\": true, \"ticks\": \"\", \"zerolinecolor\": \"white\"}, \"yaxis\": {\"backgroundcolor\": \"#E5ECF6\", \"gridcolor\": \"white\", \"gridwidth\": 2, \"linecolor\": \"white\", \"showbackground\": true, \"ticks\": \"\", \"zerolinecolor\": \"white\"}, \"zaxis\": {\"backgroundcolor\": \"#E5ECF6\", \"gridcolor\": \"white\", \"gridwidth\": 2, \"linecolor\": \"white\", \"showbackground\": true, \"ticks\": \"\", \"zerolinecolor\": \"white\"}}, \"shapedefaults\": {\"line\": {\"color\": \"#2a3f5f\"}}, \"ternary\": {\"aaxis\": {\"gridcolor\": \"white\", \"linecolor\": \"white\", \"ticks\": \"\"}, \"baxis\": {\"gridcolor\": \"white\", \"linecolor\": \"white\", \"ticks\": \"\"}, \"bgcolor\": \"#E5ECF6\", \"caxis\": {\"gridcolor\": \"white\", \"linecolor\": \"white\", \"ticks\": \"\"}}, \"title\": {\"x\": 0.05}, \"xaxis\": {\"automargin\": true, \"gridcolor\": \"white\", \"linecolor\": \"white\", \"ticks\": \"\", \"title\": {\"standoff\": 15}, \"zerolinecolor\": \"white\", \"zerolinewidth\": 2}, \"yaxis\": {\"automargin\": true, \"gridcolor\": \"white\", \"linecolor\": \"white\", \"ticks\": \"\", \"title\": {\"standoff\": 15}, \"zerolinecolor\": \"white\", \"zerolinewidth\": 2}}}, \"title\": {\"text\": \"Relationship Between World Happiness Score, Expense and Savings Ordered By Score\"}},\n",
              "                        {\"responsive\": true}\n",
              "                    ).then(function(){\n",
              "                            \n",
              "var gd = document.getElementById('c8b18d71-5a7a-4307-a0cf-aaedf40448e5');\n",
              "var x = new MutationObserver(function (mutations, observer) {{\n",
              "        var display = window.getComputedStyle(gd).display;\n",
              "        if (!display || display === 'none') {{\n",
              "            console.log([gd, 'removed!']);\n",
              "            Plotly.purge(gd);\n",
              "            observer.disconnect();\n",
              "        }}\n",
              "}});\n",
              "\n",
              "// Listen for the removal of the full notebook cells\n",
              "var notebookContainer = gd.closest('#notebook-container');\n",
              "if (notebookContainer) {{\n",
              "    x.observe(notebookContainer, {childList: true});\n",
              "}}\n",
              "\n",
              "// Listen for the clearing of the current output cell\n",
              "var outputEl = gd.closest('.output');\n",
              "if (outputEl) {{\n",
              "    x.observe(outputEl, {childList: true});\n",
              "}}\n",
              "\n",
              "                        })\n",
              "                };\n",
              "                \n",
              "            </script>\n",
              "        </div>\n",
              "</body>\n",
              "</html>"
            ]
          },
          "metadata": {
            "tags": []
          }
        }
      ]
    },
    {
      "cell_type": "markdown",
      "metadata": {
        "id": "P-KtNQWcSbsP"
      },
      "source": [
        "### 4.2.3 - Analysis Query - Version 2"
      ]
    },
    {
      "cell_type": "code",
      "metadata": {
        "id": "hMHuI-1NWuLp"
      },
      "source": [
        "#\n",
        "# Financial Analysis - Version 2 - Not Grouped By Region \n",
        "#\n",
        "# World Happiness Table\n",
        "#   Country\n",
        "#   Score\n",
        "#\n",
        "# IMF_COMBINED_DATA_2017\n",
        "#   Expense\n",
        "#   Savings\n",
        "#\n",
        "# Country_Profile_Variables\n",
        "#   GDP_per_capita_current_US\n",
        "#   Unemployment_of_labour_force\n",
        "#\n",
        "# Country_Region\n",
        "#   Region\n",
        "#\n",
        "#\n",
        "conn = sqlite3.connect(\"WorldHappiness.db\")\n",
        "\n",
        "try:\n",
        "\n",
        "  df_q22= pd.read_sql_query('''select wh.Country,\n",
        "                                    wh.Happiness_Score as Score,\n",
        "                                    cr.Region, \n",
        "                                    imf.Expense, \n",
        "                                    imf.Savings,\n",
        "                                    cp.GDP_per_capita_current_US as GDP, \n",
        "                                    cp.Unemployment_of_labour_force as UNEMPLOYMENT\n",
        "                                FROM World_Happiness_2017 wh JOIN IMF_COMBINED_DATA_2017 imf on (wh.country=imf.country)\n",
        "\t                                    JOIN Country_Profile_Variables cp on (wh.country=cp.country)\n",
        "                                      JOIN  Country_Region cr on (cr.Country = wh.country)\n",
        "                          ''',conn)\n",
        "except Exception as e:\n",
        "  print('Could not execute query - Error: ' + str(e))\n",
        "finally:\n",
        "    conn.close()"
      ],
      "execution_count": 125,
      "outputs": []
    },
    {
      "cell_type": "markdown",
      "metadata": {
        "id": "UjTnNO7pT2_e"
      },
      "source": [
        "### 4.2.4 - Results Graph - Version 2"
      ]
    },
    {
      "cell_type": "code",
      "metadata": {
        "id": "5Vhp5f1TT82k",
        "colab": {
          "base_uri": "https://localhost:8080/",
          "height": 542
        },
        "outputId": "70aeafb9-014e-4b5a-e9d3-5581ad990c8b"
      },
      "source": [
        "fig = px.scatter(df_q22, x=\"Score\", y=\"GDP\", color=\"REGION\")\n",
        "fig.update_layout(\n",
        "    title_text='Relationship Between Happiness Score and GDP by Region'\n",
        ")\n",
        "fig.show()"
      ],
      "execution_count": 126,
      "outputs": [
        {
          "output_type": "display_data",
          "data": {
            "text/html": [
              "<html>\n",
              "<head><meta charset=\"utf-8\" /></head>\n",
              "<body>\n",
              "    <div>\n",
              "            <script src=\"https://cdnjs.cloudflare.com/ajax/libs/mathjax/2.7.5/MathJax.js?config=TeX-AMS-MML_SVG\"></script><script type=\"text/javascript\">if (window.MathJax) {MathJax.Hub.Config({SVG: {font: \"STIX-Web\"}});}</script>\n",
              "                <script type=\"text/javascript\">window.PlotlyConfig = {MathJaxConfig: 'local'};</script>\n",
              "        <script src=\"https://cdn.plot.ly/plotly-latest.min.js\"></script>    \n",
              "            <div id=\"ff4a3754-101a-404f-b89f-9926a5abfb5f\" class=\"plotly-graph-div\" style=\"height:525px; width:100%;\"></div>\n",
              "            <script type=\"text/javascript\">\n",
              "                \n",
              "                    window.PLOTLYENV=window.PLOTLYENV || {};\n",
              "                    \n",
              "                if (document.getElementById(\"ff4a3754-101a-404f-b89f-9926a5abfb5f\")) {\n",
              "                    Plotly.newPlot(\n",
              "                        'ff4a3754-101a-404f-b89f-9926a5abfb5f',\n",
              "                        [{\"hoverlabel\": {\"namelength\": 0}, \"hovertemplate\": \"REGION=Western Europe<br>Score=%{x}<br>GDP=%{y}\", \"legendgroup\": \"REGION=Western Europe\", \"marker\": {\"color\": \"#636efa\", \"symbol\": \"circle\"}, \"mode\": \"markers\", \"name\": \"REGION=Western Europe\", \"showlegend\": true, \"type\": \"scatter\", \"x\": [7.521999836, 7.493999958, 7.504000187000001, 7.537000179, 7.468999863, 7.376999855, 7.28399992, 7.006000042, 6.951000214, 6.890999794, 6.977000237, 6.862999916000001, 6.714000225, 6.52699995, 6.441999912000001, 6.402999877999999, 5.964000225, 5.620999812999999, 5.195000172, 5.2270002369999995], \"xaxis\": \"x\", \"y\": [53149.3, 80831.1, 50936.0, 74185.5, 42148.1, 44332.1, 50687.5, 44117.7, 41686.2, 40277.8, 60513.6, 100160.8, 44162.4, 23280.7, 36304.2, 25865.4, 30462.4, 21941.9, 19239.2, 17788.0], \"yaxis\": \"y\"}, {\"hoverlabel\": {\"namelength\": 0}, \"hovertemplate\": \"REGION=North America<br>Score=%{x}<br>GDP=%{y}\", \"legendgroup\": \"REGION=North America\", \"marker\": {\"color\": \"#EF553B\", \"symbol\": \"circle\"}, \"mode\": \"markers\", \"name\": \"REGION=North America\", \"showlegend\": true, \"type\": \"scatter\", \"x\": [7.315999985, 6.993000031], \"xaxis\": \"x\", \"y\": [43205.6, 56053.8], \"yaxis\": \"y\"}, {\"hoverlabel\": {\"namelength\": 0}, \"hovertemplate\": \"REGION=Australia and New Zealand<br>Score=%{x}<br>GDP=%{y}\", \"legendgroup\": \"REGION=Australia and New Zealand\", \"marker\": {\"color\": \"#00cc96\", \"symbol\": \"circle\"}, \"mode\": \"markers\", \"name\": \"REGION=Australia and New Zealand\", \"showlegend\": true, \"type\": \"scatter\", \"x\": [7.31400013, 7.28399992], \"xaxis\": \"x\", \"y\": [38294.3, 51352.2], \"yaxis\": \"y\"}, {\"hoverlabel\": {\"namelength\": 0}, \"hovertemplate\": \"REGION=Middle East and Northern Africa<br>Score=%{x}<br>GDP=%{y}\", \"legendgroup\": \"REGION=Middle East and Northern Africa\", \"marker\": {\"color\": \"#ab63fa\", \"symbol\": \"circle\"}, \"mode\": \"markers\", \"name\": \"REGION=Middle East and Northern Africa\", \"showlegend\": true, \"type\": \"scatter\", \"x\": [7.212999821, 6.647999763, 6.343999863, 6.375, 5.872000217, 6.105000018999999, 6.086999893, 5.5, 5.335999966, 5.235000134, 5.224999905, 4.804999828, 4.497000217, 4.735000134, 3.592999935], \"xaxis\": \"x\", \"y\": [37129.4, 40438.8, 20710.6, 73653.4, 4154.1, 29303.9, 22600.2, 9125.8, 4940.1, 2919.3, 8571.4, 3660.9, 4509.0, 3452.3, 1106.4], \"yaxis\": \"y\"}, {\"hoverlabel\": {\"namelength\": 0}, \"hovertemplate\": \"REGION=Latin America and Caribbean<br>Score=%{x}<br>GDP=%{y}\", \"legendgroup\": \"REGION=Latin America and Caribbean\", \"marker\": {\"color\": \"#FFA15A\", \"symbol\": \"circle\"}, \"mode\": \"markers\", \"name\": \"REGION=Latin America and Caribbean\", \"showlegend\": true, \"type\": \"scatter\", \"x\": [7.078999996, 6.635000229, 6.578000069, 6.65199995, 6.452000141, 6.598999977, 6.453999996, 6.3569998739999996, 6.453999996, 6.168000221000001, 5.25, 6.002999783, 6.071000099, 6.007999897, 5.9559998510000005, 5.822999954, 5.715000152999999, 5.493000031, 5.31099987, 5.230000018999999, 5.181000233, 3.6029999260000003], \"xaxis\": \"x\", \"y\": [11015.0, 8528.3, 8980.9, 13416.2, 13268.1, 14564.5, 15573.8, 6056.1, 3903.5, 19062.9, 11068.9, 4219.4, 2086.9, 6205.1, 4789.4, 3076.8, 6069.1, 4174.4, 5105.8, 6373.6, 2521.9, 793.7], \"yaxis\": \"y\"}, {\"hoverlabel\": {\"namelength\": 0}, \"hovertemplate\": \"REGION=Southeastern Asia<br>Score=%{x}<br>GDP=%{y}\", \"legendgroup\": \"REGION=Southeastern Asia\", \"marker\": {\"color\": \"#19d3f3\", \"symbol\": \"circle\"}, \"mode\": \"markers\", \"name\": \"REGION=Southeastern Asia\", \"showlegend\": true, \"type\": \"scatter\", \"x\": [6.5720000270000005, 6.423999786, 6.084000111, 5.262000083999999, 5.429999828, 5.073999882, 4.545000076, 4.168000221000001], \"xaxis\": \"x\", \"y\": [52239.0, 5814.8, 9768.4, 3346.5, 2904.2, 2067.9, 1161.5, 1158.7], \"yaxis\": \"y\"}, {\"hoverlabel\": {\"namelength\": 0}, \"hovertemplate\": \"REGION=Central and Eastern Europe<br>Score=%{x}<br>GDP=%{y}\", \"legendgroup\": \"REGION=Central and Eastern Europe\", \"marker\": {\"color\": \"#FF6692\", \"symbol\": \"circle\"}, \"mode\": \"markers\", \"name\": \"REGION=Central and Eastern Europe\", \"showlegend\": true, \"type\": \"scatter\", \"x\": [6.609000206, 6.09800005, 5.971000195, 5.818999767, 5.837999821, 5.962999821, 5.97300005, 5.90199995, 5.568999767, 5.757999897, 5.849999905, 5.8249998089999995, 5.611000061, 5.293000221000001, 5.234000206, 5.004000187, 5.394999981000001, 5.18200016, 5.236999989, 5.323999882, 5.040999889, 4.644000053, 4.375999928, 4.096000195, 4.285999775, 4.714000225], \"xaxis\": \"x\", \"y\": [17561.7, 16082.5, 2308.3, 10312.1, 1591.4, 9243.3, 12355.5, 14383.7, 5750.8, 20689.8, 13704.1, 9120.7, 17112.0, 11479.4, 5438.7, 1106.4, 5238.6, 4265.0, 6424.1, 12350.6, 925.9, 3984.2, 3489.1, 2021.6, 3491.4, 6846.8], \"yaxis\": \"y\"}, {\"hoverlabel\": {\"namelength\": 0}, \"hovertemplate\": \"REGION=Eastern Asia<br>Score=%{x}<br>GDP=%{y}\", \"legendgroup\": \"REGION=Eastern Asia\", \"marker\": {\"color\": \"#B6E880\", \"symbol\": \"circle\"}, \"mode\": \"markers\", \"name\": \"REGION=Eastern Asia\", \"showlegend\": true, \"type\": \"scatter\", \"x\": [5.920000076, 5.2729997630000005, 4.954999924], \"xaxis\": \"x\", \"y\": [34628.7, 8109.1, 3973.4], \"yaxis\": \"y\"}, {\"hoverlabel\": {\"namelength\": 0}, \"hovertemplate\": \"REGION=Sub-Saharan Africa<br>Score=%{x}<br>GDP=%{y}\", \"legendgroup\": \"REGION=Sub-Saharan Africa\", \"marker\": {\"color\": \"#FF97FF\", \"symbol\": \"circle\"}, \"mode\": \"markers\", \"name\": \"REGION=Sub-Saharan Africa\", \"showlegend\": true, \"type\": \"scatter\", \"x\": [5.629000187000001, 5.073999882, 4.513999939, 4.709000111, 4.573999882, 4.695000172, 4.460000038, 4.828999996, 4.552999973, 4.1199998860000004, 4.28000021, 4.290999889, 4.534999847, 4.291999817, 3.970000029, 4.138999939, 4.465000153, 4.190000057, 3.766000032, 3.7950000760000004, 4.027999878, 3.59100008, 3.9360001089999996, 4.032000065, 4.0809998510000005, 3.644000053, 3.348999977, 3.5069999689999998, 3.4709999560000004, 3.657000065, 3.4949998860000004, 2.904999971], \"xaxis\": \"x\", \"y\": [9040.9, 2714.5, 1311.1, 694.8, 4673.6, 1217.3, 602.8, 5773.0, 1376.7, 1355.6, 486.2, 1838.1, 901.1, 1235.0, 372.9, 1977.0, 7960.7, 744.3, 6360.6, 4714.1, 359.0, 1067.0, 713.0, 611.1, 647.7, 401.8, 877.3, 703.9, 697.3, 779.1, 559.4, 244.6], \"yaxis\": \"y\"}, {\"hoverlabel\": {\"namelength\": 0}, \"hovertemplate\": \"REGION=Southern Asia<br>Score=%{x}<br>GDP=%{y}\", \"legendgroup\": \"REGION=Southern Asia\", \"marker\": {\"color\": \"#FECB52\", \"symbol\": \"circle\"}, \"mode\": \"markers\", \"name\": \"REGION=Southern Asia\", \"showlegend\": true, \"type\": \"scatter\", \"x\": [5.011000156000001, 5.269000053, 4.961999893, 4.607999802, 4.440000057, 4.315000057, 3.79399991], \"xaxis\": \"x\", \"y\": [2677.1, 1410.4, 724.5, 1207.9, 3973.7, 1614.2, 623.2], \"yaxis\": \"y\"}],\n",
              "                        {\"legend\": {\"tracegroupgap\": 0}, \"margin\": {\"t\": 60}, \"template\": {\"data\": {\"bar\": [{\"error_x\": {\"color\": \"#2a3f5f\"}, \"error_y\": {\"color\": \"#2a3f5f\"}, \"marker\": {\"line\": {\"color\": \"#E5ECF6\", \"width\": 0.5}}, \"type\": \"bar\"}], \"barpolar\": [{\"marker\": {\"line\": {\"color\": \"#E5ECF6\", \"width\": 0.5}}, \"type\": \"barpolar\"}], \"carpet\": [{\"aaxis\": {\"endlinecolor\": \"#2a3f5f\", \"gridcolor\": \"white\", \"linecolor\": \"white\", \"minorgridcolor\": \"white\", \"startlinecolor\": \"#2a3f5f\"}, \"baxis\": {\"endlinecolor\": \"#2a3f5f\", \"gridcolor\": \"white\", \"linecolor\": \"white\", \"minorgridcolor\": \"white\", \"startlinecolor\": \"#2a3f5f\"}, \"type\": \"carpet\"}], \"choropleth\": [{\"colorbar\": {\"outlinewidth\": 0, \"ticks\": \"\"}, \"type\": \"choropleth\"}], \"contour\": [{\"colorbar\": {\"outlinewidth\": 0, \"ticks\": \"\"}, \"colorscale\": [[0.0, \"#0d0887\"], [0.1111111111111111, \"#46039f\"], [0.2222222222222222, \"#7201a8\"], [0.3333333333333333, \"#9c179e\"], [0.4444444444444444, \"#bd3786\"], [0.5555555555555556, \"#d8576b\"], [0.6666666666666666, \"#ed7953\"], [0.7777777777777778, \"#fb9f3a\"], [0.8888888888888888, \"#fdca26\"], [1.0, \"#f0f921\"]], \"type\": \"contour\"}], \"contourcarpet\": [{\"colorbar\": {\"outlinewidth\": 0, \"ticks\": \"\"}, \"type\": \"contourcarpet\"}], \"heatmap\": [{\"colorbar\": {\"outlinewidth\": 0, \"ticks\": \"\"}, \"colorscale\": [[0.0, \"#0d0887\"], [0.1111111111111111, \"#46039f\"], [0.2222222222222222, \"#7201a8\"], [0.3333333333333333, \"#9c179e\"], [0.4444444444444444, \"#bd3786\"], [0.5555555555555556, \"#d8576b\"], [0.6666666666666666, \"#ed7953\"], [0.7777777777777778, \"#fb9f3a\"], [0.8888888888888888, \"#fdca26\"], [1.0, \"#f0f921\"]], \"type\": \"heatmap\"}], \"heatmapgl\": [{\"colorbar\": {\"outlinewidth\": 0, \"ticks\": \"\"}, \"colorscale\": [[0.0, \"#0d0887\"], [0.1111111111111111, \"#46039f\"], [0.2222222222222222, \"#7201a8\"], [0.3333333333333333, \"#9c179e\"], [0.4444444444444444, \"#bd3786\"], [0.5555555555555556, \"#d8576b\"], [0.6666666666666666, \"#ed7953\"], [0.7777777777777778, \"#fb9f3a\"], [0.8888888888888888, \"#fdca26\"], [1.0, \"#f0f921\"]], \"type\": \"heatmapgl\"}], \"histogram\": [{\"marker\": {\"colorbar\": {\"outlinewidth\": 0, \"ticks\": \"\"}}, \"type\": \"histogram\"}], \"histogram2d\": [{\"colorbar\": {\"outlinewidth\": 0, \"ticks\": \"\"}, \"colorscale\": [[0.0, \"#0d0887\"], [0.1111111111111111, \"#46039f\"], [0.2222222222222222, \"#7201a8\"], [0.3333333333333333, \"#9c179e\"], [0.4444444444444444, \"#bd3786\"], [0.5555555555555556, \"#d8576b\"], [0.6666666666666666, \"#ed7953\"], [0.7777777777777778, \"#fb9f3a\"], [0.8888888888888888, \"#fdca26\"], [1.0, \"#f0f921\"]], \"type\": \"histogram2d\"}], \"histogram2dcontour\": [{\"colorbar\": {\"outlinewidth\": 0, \"ticks\": \"\"}, \"colorscale\": [[0.0, \"#0d0887\"], [0.1111111111111111, \"#46039f\"], [0.2222222222222222, \"#7201a8\"], [0.3333333333333333, \"#9c179e\"], [0.4444444444444444, \"#bd3786\"], [0.5555555555555556, \"#d8576b\"], [0.6666666666666666, \"#ed7953\"], [0.7777777777777778, \"#fb9f3a\"], [0.8888888888888888, \"#fdca26\"], [1.0, \"#f0f921\"]], \"type\": \"histogram2dcontour\"}], \"mesh3d\": [{\"colorbar\": {\"outlinewidth\": 0, \"ticks\": \"\"}, \"type\": \"mesh3d\"}], \"parcoords\": [{\"line\": {\"colorbar\": {\"outlinewidth\": 0, \"ticks\": \"\"}}, \"type\": \"parcoords\"}], \"pie\": [{\"automargin\": true, \"type\": \"pie\"}], \"scatter\": [{\"marker\": {\"colorbar\": {\"outlinewidth\": 0, \"ticks\": \"\"}}, \"type\": \"scatter\"}], \"scatter3d\": [{\"line\": {\"colorbar\": {\"outlinewidth\": 0, \"ticks\": \"\"}}, \"marker\": {\"colorbar\": {\"outlinewidth\": 0, \"ticks\": \"\"}}, \"type\": \"scatter3d\"}], \"scattercarpet\": [{\"marker\": {\"colorbar\": {\"outlinewidth\": 0, \"ticks\": \"\"}}, \"type\": \"scattercarpet\"}], \"scattergeo\": [{\"marker\": {\"colorbar\": {\"outlinewidth\": 0, \"ticks\": \"\"}}, \"type\": \"scattergeo\"}], \"scattergl\": [{\"marker\": {\"colorbar\": {\"outlinewidth\": 0, \"ticks\": \"\"}}, \"type\": \"scattergl\"}], \"scattermapbox\": [{\"marker\": {\"colorbar\": {\"outlinewidth\": 0, \"ticks\": \"\"}}, \"type\": \"scattermapbox\"}], \"scatterpolar\": [{\"marker\": {\"colorbar\": {\"outlinewidth\": 0, \"ticks\": \"\"}}, \"type\": \"scatterpolar\"}], \"scatterpolargl\": [{\"marker\": {\"colorbar\": {\"outlinewidth\": 0, \"ticks\": \"\"}}, \"type\": \"scatterpolargl\"}], \"scatterternary\": [{\"marker\": {\"colorbar\": {\"outlinewidth\": 0, \"ticks\": \"\"}}, \"type\": \"scatterternary\"}], \"surface\": [{\"colorbar\": {\"outlinewidth\": 0, \"ticks\": \"\"}, \"colorscale\": [[0.0, \"#0d0887\"], [0.1111111111111111, \"#46039f\"], [0.2222222222222222, \"#7201a8\"], [0.3333333333333333, \"#9c179e\"], [0.4444444444444444, \"#bd3786\"], [0.5555555555555556, \"#d8576b\"], [0.6666666666666666, \"#ed7953\"], [0.7777777777777778, \"#fb9f3a\"], [0.8888888888888888, \"#fdca26\"], [1.0, \"#f0f921\"]], \"type\": \"surface\"}], \"table\": [{\"cells\": {\"fill\": {\"color\": \"#EBF0F8\"}, \"line\": {\"color\": \"white\"}}, \"header\": {\"fill\": {\"color\": \"#C8D4E3\"}, \"line\": {\"color\": \"white\"}}, \"type\": \"table\"}]}, \"layout\": {\"annotationdefaults\": {\"arrowcolor\": \"#2a3f5f\", \"arrowhead\": 0, \"arrowwidth\": 1}, \"coloraxis\": {\"colorbar\": {\"outlinewidth\": 0, \"ticks\": \"\"}}, \"colorscale\": {\"diverging\": [[0, \"#8e0152\"], [0.1, \"#c51b7d\"], [0.2, \"#de77ae\"], [0.3, \"#f1b6da\"], [0.4, \"#fde0ef\"], [0.5, \"#f7f7f7\"], [0.6, \"#e6f5d0\"], [0.7, \"#b8e186\"], [0.8, \"#7fbc41\"], [0.9, \"#4d9221\"], [1, \"#276419\"]], \"sequential\": [[0.0, \"#0d0887\"], [0.1111111111111111, \"#46039f\"], [0.2222222222222222, \"#7201a8\"], [0.3333333333333333, \"#9c179e\"], [0.4444444444444444, \"#bd3786\"], [0.5555555555555556, \"#d8576b\"], [0.6666666666666666, \"#ed7953\"], [0.7777777777777778, \"#fb9f3a\"], [0.8888888888888888, \"#fdca26\"], [1.0, \"#f0f921\"]], \"sequentialminus\": [[0.0, \"#0d0887\"], [0.1111111111111111, \"#46039f\"], [0.2222222222222222, \"#7201a8\"], [0.3333333333333333, \"#9c179e\"], [0.4444444444444444, \"#bd3786\"], [0.5555555555555556, \"#d8576b\"], [0.6666666666666666, \"#ed7953\"], [0.7777777777777778, \"#fb9f3a\"], [0.8888888888888888, \"#fdca26\"], [1.0, \"#f0f921\"]]}, \"colorway\": [\"#636efa\", \"#EF553B\", \"#00cc96\", \"#ab63fa\", \"#FFA15A\", \"#19d3f3\", \"#FF6692\", \"#B6E880\", \"#FF97FF\", \"#FECB52\"], \"font\": {\"color\": \"#2a3f5f\"}, \"geo\": {\"bgcolor\": \"white\", \"lakecolor\": \"white\", \"landcolor\": \"#E5ECF6\", \"showlakes\": true, \"showland\": true, \"subunitcolor\": \"white\"}, \"hoverlabel\": {\"align\": \"left\"}, \"hovermode\": \"closest\", \"mapbox\": {\"style\": \"light\"}, \"paper_bgcolor\": \"white\", \"plot_bgcolor\": \"#E5ECF6\", \"polar\": {\"angularaxis\": {\"gridcolor\": \"white\", \"linecolor\": \"white\", \"ticks\": \"\"}, \"bgcolor\": \"#E5ECF6\", \"radialaxis\": {\"gridcolor\": \"white\", \"linecolor\": \"white\", \"ticks\": \"\"}}, \"scene\": {\"xaxis\": {\"backgroundcolor\": \"#E5ECF6\", \"gridcolor\": \"white\", \"gridwidth\": 2, \"linecolor\": \"white\", \"showbackground\": true, \"ticks\": \"\", \"zerolinecolor\": \"white\"}, \"yaxis\": {\"backgroundcolor\": \"#E5ECF6\", \"gridcolor\": \"white\", \"gridwidth\": 2, \"linecolor\": \"white\", \"showbackground\": true, \"ticks\": \"\", \"zerolinecolor\": \"white\"}, \"zaxis\": {\"backgroundcolor\": \"#E5ECF6\", \"gridcolor\": \"white\", \"gridwidth\": 2, \"linecolor\": \"white\", \"showbackground\": true, \"ticks\": \"\", \"zerolinecolor\": \"white\"}}, \"shapedefaults\": {\"line\": {\"color\": \"#2a3f5f\"}}, \"ternary\": {\"aaxis\": {\"gridcolor\": \"white\", \"linecolor\": \"white\", \"ticks\": \"\"}, \"baxis\": {\"gridcolor\": \"white\", \"linecolor\": \"white\", \"ticks\": \"\"}, \"bgcolor\": \"#E5ECF6\", \"caxis\": {\"gridcolor\": \"white\", \"linecolor\": \"white\", \"ticks\": \"\"}}, \"title\": {\"x\": 0.05}, \"xaxis\": {\"automargin\": true, \"gridcolor\": \"white\", \"linecolor\": \"white\", \"ticks\": \"\", \"title\": {\"standoff\": 15}, \"zerolinecolor\": \"white\", \"zerolinewidth\": 2}, \"yaxis\": {\"automargin\": true, \"gridcolor\": \"white\", \"linecolor\": \"white\", \"ticks\": \"\", \"title\": {\"standoff\": 15}, \"zerolinecolor\": \"white\", \"zerolinewidth\": 2}}}, \"title\": {\"text\": \"Relationship Between Happiness Score and GDP by Region\"}, \"xaxis\": {\"anchor\": \"y\", \"domain\": [0.0, 1.0], \"title\": {\"text\": \"Score\"}}, \"yaxis\": {\"anchor\": \"x\", \"domain\": [0.0, 1.0], \"title\": {\"text\": \"GDP\"}}},\n",
              "                        {\"responsive\": true}\n",
              "                    ).then(function(){\n",
              "                            \n",
              "var gd = document.getElementById('ff4a3754-101a-404f-b89f-9926a5abfb5f');\n",
              "var x = new MutationObserver(function (mutations, observer) {{\n",
              "        var display = window.getComputedStyle(gd).display;\n",
              "        if (!display || display === 'none') {{\n",
              "            console.log([gd, 'removed!']);\n",
              "            Plotly.purge(gd);\n",
              "            observer.disconnect();\n",
              "        }}\n",
              "}});\n",
              "\n",
              "// Listen for the removal of the full notebook cells\n",
              "var notebookContainer = gd.closest('#notebook-container');\n",
              "if (notebookContainer) {{\n",
              "    x.observe(notebookContainer, {childList: true});\n",
              "}}\n",
              "\n",
              "// Listen for the clearing of the current output cell\n",
              "var outputEl = gd.closest('.output');\n",
              "if (outputEl) {{\n",
              "    x.observe(outputEl, {childList: true});\n",
              "}}\n",
              "\n",
              "                        })\n",
              "                };\n",
              "                \n",
              "            </script>\n",
              "        </div>\n",
              "</body>\n",
              "</html>"
            ]
          },
          "metadata": {
            "tags": []
          }
        }
      ]
    },
    {
      "cell_type": "markdown",
      "metadata": {
        "id": "YE0XoKj1rrcw"
      },
      "source": [
        "## *4.3 - Technology Analysis*"
      ]
    },
    {
      "cell_type": "markdown",
      "metadata": {
        "id": "wkmPeyr1Rqxp"
      },
      "source": [
        "### 4.3.1 - Analysis Query"
      ]
    },
    {
      "cell_type": "code",
      "metadata": {
        "id": "mn7M8ppSw1i0"
      },
      "source": [
        "#\n",
        "# Technology Analysis\n",
        "#\n",
        "# World Happiness Table\n",
        "#   Country\n",
        "#   Score\n",
        "#\n",
        "# Country_Profile_Variables\n",
        "#   MOBILE_CELLULAR_SUBSCRIPTIONS_PER_100_INHABITANTS\n",
        "#   INDIVIDUALS_USING_THE_INTERNET_PER_100_INHABITANTS\n",
        "#\n",
        "# Country_Region\n",
        "#   Region\n",
        "#\n",
        "#\n",
        "conn = sqlite3.connect(\"WorldHappiness.db\")\n",
        "\n",
        "try:\n",
        "\n",
        "  df_q3= pd.read_sql_query('''select wh.Country,\n",
        "                                    cr.Region,\n",
        "                                    wh.Happiness_Score AS SCORE, \n",
        "                                    cp.MOBILE_CELLULAR_SUBSCRIPTIONS_PER_100_INHABITANTS AS CELLSUBSCRIBERS,\n",
        "                                    cp.INDIVIDUALS_USING_THE_INTERNET_PER_100_INHABITANTS AS INTERNETUSERS \n",
        "\t\t                                FROM World_Happiness_2017 wh JOIN Country_Profile_Variables cp on (wh.country=cp.country)\n",
        "                                      JOIN Country_Region cr on (cr.Country = wh.Country)\n",
        "                                      Group By cr.Region\n",
        "                                      Order by Score\n",
        "                            ''',conn)\n",
        "except Exception as e:\n",
        "  print('Could not execute query - Error: ' + str(e))\n",
        "finally:\n",
        "    conn.close()"
      ],
      "execution_count": 127,
      "outputs": []
    },
    {
      "cell_type": "markdown",
      "metadata": {
        "id": "48a3Ww-XRxAH"
      },
      "source": [
        "### 4.3.2 - Results Graph"
      ]
    },
    {
      "cell_type": "code",
      "metadata": {
        "id": "0rKxdFP_YhUa",
        "colab": {
          "base_uri": "https://localhost:8080/",
          "height": 542
        },
        "outputId": "61329c85-04ea-4167-ff73-21ace92cf24a"
      },
      "source": [
        "x = df_q3[\"REGION\"]\n",
        "y = df_q3[\"SCORE\"]\n",
        "y1 = df_q3[\"CELLSUBSCRIBERS\"]\n",
        "y2 = df_q3[\"INTERNETUSERS\"]\n",
        "\n",
        "fig = go.Figure()\n",
        "fig.add_trace(go.Histogram(y=y, x=x, histfunc='avg', name=\"SCORE\"))\n",
        "fig.add_trace(go.Histogram(histfunc=\"avg\", y=y1, x=x, name=\"CELLSUBSCRIBERS\"))\n",
        "fig.add_trace(go.Histogram(histfunc=\"avg\", y=y2, x=x, name = \"INTERNETUSERS\"))"
      ],
      "execution_count": 128,
      "outputs": [
        {
          "output_type": "display_data",
          "data": {
            "text/html": [
              "<html>\n",
              "<head><meta charset=\"utf-8\" /></head>\n",
              "<body>\n",
              "    <div>\n",
              "            <script src=\"https://cdnjs.cloudflare.com/ajax/libs/mathjax/2.7.5/MathJax.js?config=TeX-AMS-MML_SVG\"></script><script type=\"text/javascript\">if (window.MathJax) {MathJax.Hub.Config({SVG: {font: \"STIX-Web\"}});}</script>\n",
              "                <script type=\"text/javascript\">window.PlotlyConfig = {MathJaxConfig: 'local'};</script>\n",
              "        <script src=\"https://cdn.plot.ly/plotly-latest.min.js\"></script>    \n",
              "            <div id=\"b0ec8645-9e8d-4e90-a8cf-b2a4a5ff215c\" class=\"plotly-graph-div\" style=\"height:525px; width:100%;\"></div>\n",
              "            <script type=\"text/javascript\">\n",
              "                \n",
              "                    window.PLOTLYENV=window.PLOTLYENV || {};\n",
              "                    \n",
              "                if (document.getElementById(\"b0ec8645-9e8d-4e90-a8cf-b2a4a5ff215c\")) {\n",
              "                    Plotly.newPlot(\n",
              "                        'b0ec8645-9e8d-4e90-a8cf-b2a4a5ff215c',\n",
              "                        [{\"histfunc\": \"avg\", \"name\": \"SCORE\", \"type\": \"histogram\", \"x\": [\"Sub-Saharan Africa\", \"Middle East and Northern Africa\", \"Latin America and Caribbean\", \"Southern Asia\", \"Southeastern Asia\", \"Central and Eastern Europe\", \"Eastern Asia\", \"Western Europe\", \"North America\", \"Australia and New Zealand\"], \"y\": [2.904999971, 3.461999893, 3.6029999260000003, 3.79399991, 4.168000221000001, 4.714000225, 4.954999924, 5.2270002369999995, 6.993000031, 7.28399992]}, {\"histfunc\": \"avg\", \"name\": \"CELLSUBSCRIBERS\", \"type\": \"histogram\", \"x\": [\"Sub-Saharan Africa\", \"Middle East and Northern Africa\", \"Latin America and Caribbean\", \"Southern Asia\", \"Southeastern Asia\", \"Central and Eastern Europe\", \"Eastern Asia\", \"Western Europe\", \"North America\", \"Australia and New Zealand\"], \"y\": [46.2, 62.4, 69.9, 61.6, 133.0, 129.3, 105.0, 114.0, 117.6, 132.8]}, {\"histfunc\": \"avg\", \"name\": \"INTERNETUSERS\", \"type\": \"histogram\", \"x\": [\"Sub-Saharan Africa\", \"Middle East and Northern Africa\", \"Latin America and Caribbean\", \"Southern Asia\", \"Southeastern Asia\", \"Central and Eastern Europe\", \"Eastern Asia\", \"Western Europe\", \"North America\", \"Australia and New Zealand\"], \"y\": [4.9, 30.0, 12.2, 8.3, 19.0, 56.7, 21.4, 66.8, 74.6, 84.6]}],\n",
              "                        {\"template\": {\"data\": {\"bar\": [{\"error_x\": {\"color\": \"#2a3f5f\"}, \"error_y\": {\"color\": \"#2a3f5f\"}, \"marker\": {\"line\": {\"color\": \"#E5ECF6\", \"width\": 0.5}}, \"type\": \"bar\"}], \"barpolar\": [{\"marker\": {\"line\": {\"color\": \"#E5ECF6\", \"width\": 0.5}}, \"type\": \"barpolar\"}], \"carpet\": [{\"aaxis\": {\"endlinecolor\": \"#2a3f5f\", \"gridcolor\": \"white\", \"linecolor\": \"white\", \"minorgridcolor\": \"white\", \"startlinecolor\": \"#2a3f5f\"}, \"baxis\": {\"endlinecolor\": \"#2a3f5f\", \"gridcolor\": \"white\", \"linecolor\": \"white\", \"minorgridcolor\": \"white\", \"startlinecolor\": \"#2a3f5f\"}, \"type\": \"carpet\"}], \"choropleth\": [{\"colorbar\": {\"outlinewidth\": 0, \"ticks\": \"\"}, \"type\": \"choropleth\"}], \"contour\": [{\"colorbar\": {\"outlinewidth\": 0, \"ticks\": \"\"}, \"colorscale\": [[0.0, \"#0d0887\"], [0.1111111111111111, \"#46039f\"], [0.2222222222222222, \"#7201a8\"], [0.3333333333333333, \"#9c179e\"], [0.4444444444444444, \"#bd3786\"], [0.5555555555555556, \"#d8576b\"], [0.6666666666666666, \"#ed7953\"], [0.7777777777777778, \"#fb9f3a\"], [0.8888888888888888, \"#fdca26\"], [1.0, \"#f0f921\"]], \"type\": \"contour\"}], \"contourcarpet\": [{\"colorbar\": {\"outlinewidth\": 0, \"ticks\": \"\"}, \"type\": \"contourcarpet\"}], \"heatmap\": [{\"colorbar\": {\"outlinewidth\": 0, \"ticks\": \"\"}, \"colorscale\": [[0.0, \"#0d0887\"], [0.1111111111111111, \"#46039f\"], [0.2222222222222222, \"#7201a8\"], [0.3333333333333333, \"#9c179e\"], [0.4444444444444444, \"#bd3786\"], [0.5555555555555556, \"#d8576b\"], [0.6666666666666666, \"#ed7953\"], [0.7777777777777778, \"#fb9f3a\"], [0.8888888888888888, \"#fdca26\"], [1.0, \"#f0f921\"]], \"type\": \"heatmap\"}], \"heatmapgl\": [{\"colorbar\": {\"outlinewidth\": 0, \"ticks\": \"\"}, \"colorscale\": [[0.0, \"#0d0887\"], [0.1111111111111111, \"#46039f\"], [0.2222222222222222, \"#7201a8\"], [0.3333333333333333, \"#9c179e\"], [0.4444444444444444, \"#bd3786\"], [0.5555555555555556, \"#d8576b\"], [0.6666666666666666, \"#ed7953\"], [0.7777777777777778, \"#fb9f3a\"], [0.8888888888888888, \"#fdca26\"], [1.0, \"#f0f921\"]], \"type\": \"heatmapgl\"}], \"histogram\": [{\"marker\": {\"colorbar\": {\"outlinewidth\": 0, \"ticks\": \"\"}}, \"type\": \"histogram\"}], \"histogram2d\": [{\"colorbar\": {\"outlinewidth\": 0, \"ticks\": \"\"}, \"colorscale\": [[0.0, \"#0d0887\"], [0.1111111111111111, \"#46039f\"], [0.2222222222222222, \"#7201a8\"], [0.3333333333333333, \"#9c179e\"], [0.4444444444444444, \"#bd3786\"], [0.5555555555555556, \"#d8576b\"], [0.6666666666666666, \"#ed7953\"], [0.7777777777777778, \"#fb9f3a\"], [0.8888888888888888, \"#fdca26\"], [1.0, \"#f0f921\"]], \"type\": \"histogram2d\"}], \"histogram2dcontour\": [{\"colorbar\": {\"outlinewidth\": 0, \"ticks\": \"\"}, \"colorscale\": [[0.0, \"#0d0887\"], [0.1111111111111111, \"#46039f\"], [0.2222222222222222, \"#7201a8\"], [0.3333333333333333, \"#9c179e\"], [0.4444444444444444, \"#bd3786\"], [0.5555555555555556, \"#d8576b\"], [0.6666666666666666, \"#ed7953\"], [0.7777777777777778, \"#fb9f3a\"], [0.8888888888888888, \"#fdca26\"], [1.0, \"#f0f921\"]], \"type\": \"histogram2dcontour\"}], \"mesh3d\": [{\"colorbar\": {\"outlinewidth\": 0, \"ticks\": \"\"}, \"type\": \"mesh3d\"}], \"parcoords\": [{\"line\": {\"colorbar\": {\"outlinewidth\": 0, \"ticks\": \"\"}}, \"type\": \"parcoords\"}], \"pie\": [{\"automargin\": true, \"type\": \"pie\"}], \"scatter\": [{\"marker\": {\"colorbar\": {\"outlinewidth\": 0, \"ticks\": \"\"}}, \"type\": \"scatter\"}], \"scatter3d\": [{\"line\": {\"colorbar\": {\"outlinewidth\": 0, \"ticks\": \"\"}}, \"marker\": {\"colorbar\": {\"outlinewidth\": 0, \"ticks\": \"\"}}, \"type\": \"scatter3d\"}], \"scattercarpet\": [{\"marker\": {\"colorbar\": {\"outlinewidth\": 0, \"ticks\": \"\"}}, \"type\": \"scattercarpet\"}], \"scattergeo\": [{\"marker\": {\"colorbar\": {\"outlinewidth\": 0, \"ticks\": \"\"}}, \"type\": \"scattergeo\"}], \"scattergl\": [{\"marker\": {\"colorbar\": {\"outlinewidth\": 0, \"ticks\": \"\"}}, \"type\": \"scattergl\"}], \"scattermapbox\": [{\"marker\": {\"colorbar\": {\"outlinewidth\": 0, \"ticks\": \"\"}}, \"type\": \"scattermapbox\"}], \"scatterpolar\": [{\"marker\": {\"colorbar\": {\"outlinewidth\": 0, \"ticks\": \"\"}}, \"type\": \"scatterpolar\"}], \"scatterpolargl\": [{\"marker\": {\"colorbar\": {\"outlinewidth\": 0, \"ticks\": \"\"}}, \"type\": \"scatterpolargl\"}], \"scatterternary\": [{\"marker\": {\"colorbar\": {\"outlinewidth\": 0, \"ticks\": \"\"}}, \"type\": \"scatterternary\"}], \"surface\": [{\"colorbar\": {\"outlinewidth\": 0, \"ticks\": \"\"}, \"colorscale\": [[0.0, \"#0d0887\"], [0.1111111111111111, \"#46039f\"], [0.2222222222222222, \"#7201a8\"], [0.3333333333333333, \"#9c179e\"], [0.4444444444444444, \"#bd3786\"], [0.5555555555555556, \"#d8576b\"], [0.6666666666666666, \"#ed7953\"], [0.7777777777777778, \"#fb9f3a\"], [0.8888888888888888, \"#fdca26\"], [1.0, \"#f0f921\"]], \"type\": \"surface\"}], \"table\": [{\"cells\": {\"fill\": {\"color\": \"#EBF0F8\"}, \"line\": {\"color\": \"white\"}}, \"header\": {\"fill\": {\"color\": \"#C8D4E3\"}, \"line\": {\"color\": \"white\"}}, \"type\": \"table\"}]}, \"layout\": {\"annotationdefaults\": {\"arrowcolor\": \"#2a3f5f\", \"arrowhead\": 0, \"arrowwidth\": 1}, \"coloraxis\": {\"colorbar\": {\"outlinewidth\": 0, \"ticks\": \"\"}}, \"colorscale\": {\"diverging\": [[0, \"#8e0152\"], [0.1, \"#c51b7d\"], [0.2, \"#de77ae\"], [0.3, \"#f1b6da\"], [0.4, \"#fde0ef\"], [0.5, \"#f7f7f7\"], [0.6, \"#e6f5d0\"], [0.7, \"#b8e186\"], [0.8, \"#7fbc41\"], [0.9, \"#4d9221\"], [1, \"#276419\"]], \"sequential\": [[0.0, \"#0d0887\"], [0.1111111111111111, \"#46039f\"], [0.2222222222222222, \"#7201a8\"], [0.3333333333333333, \"#9c179e\"], [0.4444444444444444, \"#bd3786\"], [0.5555555555555556, \"#d8576b\"], [0.6666666666666666, \"#ed7953\"], [0.7777777777777778, \"#fb9f3a\"], [0.8888888888888888, \"#fdca26\"], [1.0, \"#f0f921\"]], \"sequentialminus\": [[0.0, \"#0d0887\"], [0.1111111111111111, \"#46039f\"], [0.2222222222222222, \"#7201a8\"], [0.3333333333333333, \"#9c179e\"], [0.4444444444444444, \"#bd3786\"], [0.5555555555555556, \"#d8576b\"], [0.6666666666666666, \"#ed7953\"], [0.7777777777777778, \"#fb9f3a\"], [0.8888888888888888, \"#fdca26\"], [1.0, \"#f0f921\"]]}, \"colorway\": [\"#636efa\", \"#EF553B\", \"#00cc96\", \"#ab63fa\", \"#FFA15A\", \"#19d3f3\", \"#FF6692\", \"#B6E880\", \"#FF97FF\", \"#FECB52\"], \"font\": {\"color\": \"#2a3f5f\"}, \"geo\": {\"bgcolor\": \"white\", \"lakecolor\": \"white\", \"landcolor\": \"#E5ECF6\", \"showlakes\": true, \"showland\": true, \"subunitcolor\": \"white\"}, \"hoverlabel\": {\"align\": \"left\"}, \"hovermode\": \"closest\", \"mapbox\": {\"style\": \"light\"}, \"paper_bgcolor\": \"white\", \"plot_bgcolor\": \"#E5ECF6\", \"polar\": {\"angularaxis\": {\"gridcolor\": \"white\", \"linecolor\": \"white\", \"ticks\": \"\"}, \"bgcolor\": \"#E5ECF6\", \"radialaxis\": {\"gridcolor\": \"white\", \"linecolor\": \"white\", \"ticks\": \"\"}}, \"scene\": {\"xaxis\": {\"backgroundcolor\": \"#E5ECF6\", \"gridcolor\": \"white\", \"gridwidth\": 2, \"linecolor\": \"white\", \"showbackground\": true, \"ticks\": \"\", \"zerolinecolor\": \"white\"}, \"yaxis\": {\"backgroundcolor\": \"#E5ECF6\", \"gridcolor\": \"white\", \"gridwidth\": 2, \"linecolor\": \"white\", \"showbackground\": true, \"ticks\": \"\", \"zerolinecolor\": \"white\"}, \"zaxis\": {\"backgroundcolor\": \"#E5ECF6\", \"gridcolor\": \"white\", \"gridwidth\": 2, \"linecolor\": \"white\", \"showbackground\": true, \"ticks\": \"\", \"zerolinecolor\": \"white\"}}, \"shapedefaults\": {\"line\": {\"color\": \"#2a3f5f\"}}, \"ternary\": {\"aaxis\": {\"gridcolor\": \"white\", \"linecolor\": \"white\", \"ticks\": \"\"}, \"baxis\": {\"gridcolor\": \"white\", \"linecolor\": \"white\", \"ticks\": \"\"}, \"bgcolor\": \"#E5ECF6\", \"caxis\": {\"gridcolor\": \"white\", \"linecolor\": \"white\", \"ticks\": \"\"}}, \"title\": {\"x\": 0.05}, \"xaxis\": {\"automargin\": true, \"gridcolor\": \"white\", \"linecolor\": \"white\", \"ticks\": \"\", \"title\": {\"standoff\": 15}, \"zerolinecolor\": \"white\", \"zerolinewidth\": 2}, \"yaxis\": {\"automargin\": true, \"gridcolor\": \"white\", \"linecolor\": \"white\", \"ticks\": \"\", \"title\": {\"standoff\": 15}, \"zerolinecolor\": \"white\", \"zerolinewidth\": 2}}}},\n",
              "                        {\"responsive\": true}\n",
              "                    ).then(function(){\n",
              "                            \n",
              "var gd = document.getElementById('b0ec8645-9e8d-4e90-a8cf-b2a4a5ff215c');\n",
              "var x = new MutationObserver(function (mutations, observer) {{\n",
              "        var display = window.getComputedStyle(gd).display;\n",
              "        if (!display || display === 'none') {{\n",
              "            console.log([gd, 'removed!']);\n",
              "            Plotly.purge(gd);\n",
              "            observer.disconnect();\n",
              "        }}\n",
              "}});\n",
              "\n",
              "// Listen for the removal of the full notebook cells\n",
              "var notebookContainer = gd.closest('#notebook-container');\n",
              "if (notebookContainer) {{\n",
              "    x.observe(notebookContainer, {childList: true});\n",
              "}}\n",
              "\n",
              "// Listen for the clearing of the current output cell\n",
              "var outputEl = gd.closest('.output');\n",
              "if (outputEl) {{\n",
              "    x.observe(outputEl, {childList: true});\n",
              "}}\n",
              "\n",
              "                        })\n",
              "                };\n",
              "                \n",
              "            </script>\n",
              "        </div>\n",
              "</body>\n",
              "</html>"
            ]
          },
          "metadata": {
            "tags": []
          }
        }
      ]
    },
    {
      "cell_type": "markdown",
      "metadata": {
        "id": "Oazl01_Kr1cS"
      },
      "source": [
        "## *4.4 - Financial Aggregate Analysis*"
      ]
    },
    {
      "cell_type": "markdown",
      "metadata": {
        "id": "XAL4RChIVeSY"
      },
      "source": [
        "### 4.4.1 - Analysis Query"
      ]
    },
    {
      "cell_type": "code",
      "metadata": {
        "id": "DY5hPDcsw6Ve"
      },
      "source": [
        "#\n",
        "# Financial Aggregate Analysis\n",
        "#\n",
        "# World Happiness Table\n",
        "#   Country\n",
        "#   Score\n",
        "#\n",
        "# IMF_Combined_Data_2017\n",
        "#   Expense\n",
        "#   Savings\n",
        "#\n",
        "# Country_Profile_Variables\n",
        "#   GDP_PER_CAPITA_CURRENT_US\n",
        "#   UNEMPLOYMENT_OF_LABOUR_FORCE\n",
        "#\n",
        "# Country_Region\n",
        "#   Region\n",
        "#\n",
        "#\n",
        "conn = sqlite3.connect(\"WorldHappiness.db\")\n",
        "\n",
        "try:\n",
        "\n",
        "  df_q4= pd.read_sql_query('''select wh.Country,\n",
        "                                  cr.Region, \n",
        "                                  AVG(wh.HAPPINESS_SCORE) as SCORE,\n",
        "                                  MIN(GNS.EXPENSE) as Min_Expense, \n",
        "                                  MAX(GNS.EXPENSE) as Max_Expense,\n",
        "                                  AVG(GNS.EXPENSE) as Avg_Expense,\n",
        "                                  MIN(GNS.Savings) as Min_Savings,\n",
        "                                  MAX(GNS.Savings) as Max_Savings,\n",
        "                                  AVG(GNS.Savings) as Avg_Savings, \n",
        "                                  AVG(cp.GDP_PER_CAPITA_CURRENT_US) as Avg_GDP_percap,  \n",
        "                                  AVG(cp.UNEMPLOYMENT_OF_LABOUR_FORCE) as Avg_Unepmloyment\n",
        "                                FROM World_Happiness_2017 wh JOIN IMF_Combined_Data_2017 gns on (wh.Country = gns.Country)\n",
        "                                  JOIN Country_Profile_Variables cp on (wh.country = cp.Country)\n",
        "                                  JOIN Country_Region cr on (wh.country=cr.country) \n",
        "                                      GROUP BY cr.Region \n",
        "                                      ORDER BY SCORE''',conn)\n",
        "except Exception as e:\n",
        "  print('Could not execute query - Error: ' + str(e))\n",
        "finally:\n",
        "    conn.close()"
      ],
      "execution_count": 129,
      "outputs": []
    },
    {
      "cell_type": "markdown",
      "metadata": {
        "id": "k6V6qYWvVXli"
      },
      "source": [
        "### 4.4.2 - Results Graph "
      ]
    },
    {
      "cell_type": "code",
      "metadata": {
        "id": "CMxEosvUldyw",
        "colab": {
          "base_uri": "https://localhost:8080/",
          "height": 542
        },
        "outputId": "d0d7ee25-1945-44b3-fa7a-941721617fcf"
      },
      "source": [
        "x = df_q4[\"REGION\"]\n",
        "y = df_q4[\"SCORE\"]\n",
        "y1 = df_q4[\"Min_Expense\"]\n",
        "y2 = df_q4[\"Max_Expense\"]\n",
        "y3 = df_q4[\"Avg_Expense\"]\n",
        "y4 = df_q4[\"Min_Savings\"]\n",
        "y5 = df_q4[\"Max_Savings\"]\n",
        "y6 = df_q4[\"Avg_Savings\"]\n",
        "y7 = df_q4[\"Avg_Unepmloyment\"]\n",
        "\n",
        "fig = go.Figure()\n",
        "fig.add_trace(go.Histogram(y=y, x=x, histfunc='avg', name=\"SCORE\"))\n",
        "fig.add_trace(go.Histogram(histfunc=\"avg\", y=y1, x=x, name=\"Min Expense\"))\n",
        "fig.add_trace(go.Histogram(histfunc=\"avg\", y=y2, x=x, name = \"Max Expense\"))\n",
        "fig.add_trace(go.Histogram(histfunc=\"avg\", y=y3, x=x, name = \"Avg Expense\"))\n",
        "fig.add_trace(go.Histogram(histfunc=\"avg\", y=y4, x=x, name = \"Min Savings\"))\n",
        "fig.add_trace(go.Histogram(histfunc=\"avg\", y=y5, x=x, name = \"Min Savings\"))\n",
        "fig.add_trace(go.Histogram(histfunc=\"avg\", y=y6, x=x, name = \"Avg Savings\"))\n",
        "fig.add_trace(go.Histogram(histfunc=\"avg\", y=y7, x=x, name = \"Avg Unepmloyment\"))"
      ],
      "execution_count": 130,
      "outputs": [
        {
          "output_type": "display_data",
          "data": {
            "text/html": [
              "<html>\n",
              "<head><meta charset=\"utf-8\" /></head>\n",
              "<body>\n",
              "    <div>\n",
              "            <script src=\"https://cdnjs.cloudflare.com/ajax/libs/mathjax/2.7.5/MathJax.js?config=TeX-AMS-MML_SVG\"></script><script type=\"text/javascript\">if (window.MathJax) {MathJax.Hub.Config({SVG: {font: \"STIX-Web\"}});}</script>\n",
              "                <script type=\"text/javascript\">window.PlotlyConfig = {MathJaxConfig: 'local'};</script>\n",
              "        <script src=\"https://cdn.plot.ly/plotly-latest.min.js\"></script>    \n",
              "            <div id=\"16df8c4f-2db0-4821-9f57-fd93c136030e\" class=\"plotly-graph-div\" style=\"height:525px; width:100%;\"></div>\n",
              "            <script type=\"text/javascript\">\n",
              "                \n",
              "                    window.PLOTLYENV=window.PLOTLYENV || {};\n",
              "                    \n",
              "                if (document.getElementById(\"16df8c4f-2db0-4821-9f57-fd93c136030e\")) {\n",
              "                    Plotly.newPlot(\n",
              "                        '16df8c4f-2db0-4821-9f57-fd93c136030e',\n",
              "                        [{\"histfunc\": \"avg\", \"name\": \"SCORE\", \"type\": \"histogram\", \"x\": [\"Sub-Saharan Africa\", \"Southern Asia\", \"Eastern Asia\", \"Central and Eastern Europe\", \"Southeastern Asia\", \"Middle East and Northern Africa\", \"Latin America and Caribbean\", \"Western Europe\", \"North America\", \"Australia and New Zealand\"], \"y\": [4.142999999218751, 4.628428561142856, 5.382666587666667, 5.408153845769231, 5.444875001875, 5.571333312999999, 5.957818193863637, 6.748400020650001, 7.154500008, 7.299000025]}, {\"histfunc\": \"avg\", \"name\": \"Min Expense\", \"type\": \"histogram\", \"x\": [\"Sub-Saharan Africa\", \"Southern Asia\", \"Eastern Asia\", \"Central and Eastern Europe\", \"Southeastern Asia\", \"Middle East and Northern Africa\", \"Latin America and Caribbean\", \"Western Europe\", \"North America\", \"Australia and New Zealand\"], \"y\": [10.388, 13.56, 32.179, 22.932, 13.795, 9.136000000000001, 12.107000000000001, 26.063000000000002, 35.248000000000005, 36.172]}, {\"histfunc\": \"avg\", \"name\": \"Max Expense\", \"type\": \"histogram\", \"x\": [\"Sub-Saharan Africa\", \"Southern Asia\", \"Eastern Asia\", \"Central and Eastern Europe\", \"Southeastern Asia\", \"Middle East and Northern Africa\", \"Latin America and Caribbean\", \"Western Europe\", \"North America\", \"Australia and New Zealand\"], \"y\": [35.619, 30.605999999999998, 37.417, 47.196000000000005, 29.224, 51.88, 41.181000000000004, 56.38, 40.25, 36.705999999999996]}, {\"histfunc\": \"avg\", \"name\": \"Avg Expense\", \"type\": \"histogram\", \"x\": [\"Sub-Saharan Africa\", \"Southern Asia\", \"Eastern Asia\", \"Central and Eastern Europe\", \"Southeastern Asia\", \"Middle East and Northern Africa\", \"Latin America and Caribbean\", \"Western Europe\", \"North America\", \"Australia and New Zealand\"], \"y\": [22.993, 23.506857142857143, 33.976, 36.13296153846154, 20.798000000000002, 32.62446666666667, 27.58063636363637, 44.31110000000001, 37.749, 36.43899999999999]}, {\"histfunc\": \"avg\", \"name\": \"Min Savings\", \"type\": \"histogram\", \"x\": [\"Sub-Saharan Africa\", \"Southern Asia\", \"Eastern Asia\", \"Central and Eastern Europe\", \"Southeastern Asia\", \"Middle East and Northern Africa\", \"Latin America and Caribbean\", \"Western Europe\", \"North America\", \"Australia and New Zealand\"], \"y\": [-12.23, 12.007, 21.256, 14.145999999999999, 15.145999999999999, -6.24, -9.863999999999999, 10.119, 18.579, 20.421]}, {\"histfunc\": \"avg\", \"name\": \"Min Savings\", \"type\": \"histogram\", \"x\": [\"Sub-Saharan Africa\", \"Southern Asia\", \"Eastern Asia\", \"Central and Eastern Europe\", \"Southeastern Asia\", \"Middle East and Northern Africa\", \"Latin America and Caribbean\", \"Western Europe\", \"North America\", \"Australia and New Zealand\"], \"y\": [39.321, 44.821000000000005, 46.26, 29.730999999999998, 44.535, 48.452, 33.775, 33.881, 20.738000000000003, 22.025]}, {\"histfunc\": \"avg\", \"name\": \"Avg Savings\", \"type\": \"histogram\", \"x\": [\"Sub-Saharan Africa\", \"Southern Asia\", \"Eastern Asia\", \"Central and Eastern Europe\", \"Southeastern Asia\", \"Middle East and Northern Africa\", \"Latin America and Caribbean\", \"Western Europe\", \"North America\", \"Australia and New Zealand\"], \"y\": [17.016281249999995, 29.057428571428574, 31.858666666666664, 22.16357692307692, 29.333125, 22.8934, 18.3215, 24.48535, 19.658500000000004, 21.223]}, {\"histfunc\": \"avg\", \"name\": \"Avg Unepmloyment\", \"type\": \"histogram\", \"x\": [\"Sub-Saharan Africa\", \"Southern Asia\", \"Eastern Asia\", \"Central and Eastern Europe\", \"Southeastern Asia\", \"Middle East and Northern Africa\", \"Latin America and Caribbean\", \"Western Europe\", \"North America\", \"Australia and New Zealand\"], \"y\": [7.964516129032259, 4.642857142857143, 4.633333333333333, 9.423076923076923, 2.6125000000000003, 8.68, 7.613636363636363, 8.334999999999999, 6.0, 5.5]}],\n",
              "                        {\"template\": {\"data\": {\"bar\": [{\"error_x\": {\"color\": \"#2a3f5f\"}, \"error_y\": {\"color\": \"#2a3f5f\"}, \"marker\": {\"line\": {\"color\": \"#E5ECF6\", \"width\": 0.5}}, \"type\": \"bar\"}], \"barpolar\": [{\"marker\": {\"line\": {\"color\": \"#E5ECF6\", \"width\": 0.5}}, \"type\": \"barpolar\"}], \"carpet\": [{\"aaxis\": {\"endlinecolor\": \"#2a3f5f\", \"gridcolor\": \"white\", \"linecolor\": \"white\", \"minorgridcolor\": \"white\", \"startlinecolor\": \"#2a3f5f\"}, \"baxis\": {\"endlinecolor\": \"#2a3f5f\", \"gridcolor\": \"white\", \"linecolor\": \"white\", \"minorgridcolor\": \"white\", \"startlinecolor\": \"#2a3f5f\"}, \"type\": \"carpet\"}], \"choropleth\": [{\"colorbar\": {\"outlinewidth\": 0, \"ticks\": \"\"}, \"type\": \"choropleth\"}], \"contour\": [{\"colorbar\": {\"outlinewidth\": 0, \"ticks\": \"\"}, \"colorscale\": [[0.0, \"#0d0887\"], [0.1111111111111111, \"#46039f\"], [0.2222222222222222, \"#7201a8\"], [0.3333333333333333, \"#9c179e\"], [0.4444444444444444, \"#bd3786\"], [0.5555555555555556, \"#d8576b\"], [0.6666666666666666, \"#ed7953\"], [0.7777777777777778, \"#fb9f3a\"], [0.8888888888888888, \"#fdca26\"], [1.0, \"#f0f921\"]], \"type\": \"contour\"}], \"contourcarpet\": [{\"colorbar\": {\"outlinewidth\": 0, \"ticks\": \"\"}, \"type\": \"contourcarpet\"}], \"heatmap\": [{\"colorbar\": {\"outlinewidth\": 0, \"ticks\": \"\"}, \"colorscale\": [[0.0, \"#0d0887\"], [0.1111111111111111, \"#46039f\"], [0.2222222222222222, \"#7201a8\"], [0.3333333333333333, \"#9c179e\"], [0.4444444444444444, \"#bd3786\"], [0.5555555555555556, \"#d8576b\"], [0.6666666666666666, \"#ed7953\"], [0.7777777777777778, \"#fb9f3a\"], [0.8888888888888888, \"#fdca26\"], [1.0, \"#f0f921\"]], \"type\": \"heatmap\"}], \"heatmapgl\": [{\"colorbar\": {\"outlinewidth\": 0, \"ticks\": \"\"}, \"colorscale\": [[0.0, \"#0d0887\"], [0.1111111111111111, \"#46039f\"], [0.2222222222222222, \"#7201a8\"], [0.3333333333333333, \"#9c179e\"], [0.4444444444444444, \"#bd3786\"], [0.5555555555555556, \"#d8576b\"], [0.6666666666666666, \"#ed7953\"], [0.7777777777777778, \"#fb9f3a\"], [0.8888888888888888, \"#fdca26\"], [1.0, \"#f0f921\"]], \"type\": \"heatmapgl\"}], \"histogram\": [{\"marker\": {\"colorbar\": {\"outlinewidth\": 0, \"ticks\": \"\"}}, \"type\": \"histogram\"}], \"histogram2d\": [{\"colorbar\": {\"outlinewidth\": 0, \"ticks\": \"\"}, \"colorscale\": [[0.0, \"#0d0887\"], [0.1111111111111111, \"#46039f\"], [0.2222222222222222, \"#7201a8\"], [0.3333333333333333, \"#9c179e\"], [0.4444444444444444, \"#bd3786\"], [0.5555555555555556, \"#d8576b\"], [0.6666666666666666, \"#ed7953\"], [0.7777777777777778, \"#fb9f3a\"], [0.8888888888888888, \"#fdca26\"], [1.0, \"#f0f921\"]], \"type\": \"histogram2d\"}], \"histogram2dcontour\": [{\"colorbar\": {\"outlinewidth\": 0, \"ticks\": \"\"}, \"colorscale\": [[0.0, \"#0d0887\"], [0.1111111111111111, \"#46039f\"], [0.2222222222222222, \"#7201a8\"], [0.3333333333333333, \"#9c179e\"], [0.4444444444444444, \"#bd3786\"], [0.5555555555555556, \"#d8576b\"], [0.6666666666666666, \"#ed7953\"], [0.7777777777777778, \"#fb9f3a\"], [0.8888888888888888, \"#fdca26\"], [1.0, \"#f0f921\"]], \"type\": \"histogram2dcontour\"}], \"mesh3d\": [{\"colorbar\": {\"outlinewidth\": 0, \"ticks\": \"\"}, \"type\": \"mesh3d\"}], \"parcoords\": [{\"line\": {\"colorbar\": {\"outlinewidth\": 0, \"ticks\": \"\"}}, \"type\": \"parcoords\"}], \"pie\": [{\"automargin\": true, \"type\": \"pie\"}], \"scatter\": [{\"marker\": {\"colorbar\": {\"outlinewidth\": 0, \"ticks\": \"\"}}, \"type\": \"scatter\"}], \"scatter3d\": [{\"line\": {\"colorbar\": {\"outlinewidth\": 0, \"ticks\": \"\"}}, \"marker\": {\"colorbar\": {\"outlinewidth\": 0, \"ticks\": \"\"}}, \"type\": \"scatter3d\"}], \"scattercarpet\": [{\"marker\": {\"colorbar\": {\"outlinewidth\": 0, \"ticks\": \"\"}}, \"type\": \"scattercarpet\"}], \"scattergeo\": [{\"marker\": {\"colorbar\": {\"outlinewidth\": 0, \"ticks\": \"\"}}, \"type\": \"scattergeo\"}], \"scattergl\": [{\"marker\": {\"colorbar\": {\"outlinewidth\": 0, \"ticks\": \"\"}}, \"type\": \"scattergl\"}], \"scattermapbox\": [{\"marker\": {\"colorbar\": {\"outlinewidth\": 0, \"ticks\": \"\"}}, \"type\": \"scattermapbox\"}], \"scatterpolar\": [{\"marker\": {\"colorbar\": {\"outlinewidth\": 0, \"ticks\": \"\"}}, \"type\": \"scatterpolar\"}], \"scatterpolargl\": [{\"marker\": {\"colorbar\": {\"outlinewidth\": 0, \"ticks\": \"\"}}, \"type\": \"scatterpolargl\"}], \"scatterternary\": [{\"marker\": {\"colorbar\": {\"outlinewidth\": 0, \"ticks\": \"\"}}, \"type\": \"scatterternary\"}], \"surface\": [{\"colorbar\": {\"outlinewidth\": 0, \"ticks\": \"\"}, \"colorscale\": [[0.0, \"#0d0887\"], [0.1111111111111111, \"#46039f\"], [0.2222222222222222, \"#7201a8\"], [0.3333333333333333, \"#9c179e\"], [0.4444444444444444, \"#bd3786\"], [0.5555555555555556, \"#d8576b\"], [0.6666666666666666, \"#ed7953\"], [0.7777777777777778, \"#fb9f3a\"], [0.8888888888888888, \"#fdca26\"], [1.0, \"#f0f921\"]], \"type\": \"surface\"}], \"table\": [{\"cells\": {\"fill\": {\"color\": \"#EBF0F8\"}, \"line\": {\"color\": \"white\"}}, \"header\": {\"fill\": {\"color\": \"#C8D4E3\"}, \"line\": {\"color\": \"white\"}}, \"type\": \"table\"}]}, \"layout\": {\"annotationdefaults\": {\"arrowcolor\": \"#2a3f5f\", \"arrowhead\": 0, \"arrowwidth\": 1}, \"coloraxis\": {\"colorbar\": {\"outlinewidth\": 0, \"ticks\": \"\"}}, \"colorscale\": {\"diverging\": [[0, \"#8e0152\"], [0.1, \"#c51b7d\"], [0.2, \"#de77ae\"], [0.3, \"#f1b6da\"], [0.4, \"#fde0ef\"], [0.5, \"#f7f7f7\"], [0.6, \"#e6f5d0\"], [0.7, \"#b8e186\"], [0.8, \"#7fbc41\"], [0.9, \"#4d9221\"], [1, \"#276419\"]], \"sequential\": [[0.0, \"#0d0887\"], [0.1111111111111111, \"#46039f\"], [0.2222222222222222, \"#7201a8\"], [0.3333333333333333, \"#9c179e\"], [0.4444444444444444, \"#bd3786\"], [0.5555555555555556, \"#d8576b\"], [0.6666666666666666, \"#ed7953\"], [0.7777777777777778, \"#fb9f3a\"], [0.8888888888888888, \"#fdca26\"], [1.0, \"#f0f921\"]], \"sequentialminus\": [[0.0, \"#0d0887\"], [0.1111111111111111, \"#46039f\"], [0.2222222222222222, \"#7201a8\"], [0.3333333333333333, \"#9c179e\"], [0.4444444444444444, \"#bd3786\"], [0.5555555555555556, \"#d8576b\"], [0.6666666666666666, \"#ed7953\"], [0.7777777777777778, \"#fb9f3a\"], [0.8888888888888888, \"#fdca26\"], [1.0, \"#f0f921\"]]}, \"colorway\": [\"#636efa\", \"#EF553B\", \"#00cc96\", \"#ab63fa\", \"#FFA15A\", \"#19d3f3\", \"#FF6692\", \"#B6E880\", \"#FF97FF\", \"#FECB52\"], \"font\": {\"color\": \"#2a3f5f\"}, \"geo\": {\"bgcolor\": \"white\", \"lakecolor\": \"white\", \"landcolor\": \"#E5ECF6\", \"showlakes\": true, \"showland\": true, \"subunitcolor\": \"white\"}, \"hoverlabel\": {\"align\": \"left\"}, \"hovermode\": \"closest\", \"mapbox\": {\"style\": \"light\"}, \"paper_bgcolor\": \"white\", \"plot_bgcolor\": \"#E5ECF6\", \"polar\": {\"angularaxis\": {\"gridcolor\": \"white\", \"linecolor\": \"white\", \"ticks\": \"\"}, \"bgcolor\": \"#E5ECF6\", \"radialaxis\": {\"gridcolor\": \"white\", \"linecolor\": \"white\", \"ticks\": \"\"}}, \"scene\": {\"xaxis\": {\"backgroundcolor\": \"#E5ECF6\", \"gridcolor\": \"white\", \"gridwidth\": 2, \"linecolor\": \"white\", \"showbackground\": true, \"ticks\": \"\", \"zerolinecolor\": \"white\"}, \"yaxis\": {\"backgroundcolor\": \"#E5ECF6\", \"gridcolor\": \"white\", \"gridwidth\": 2, \"linecolor\": \"white\", \"showbackground\": true, \"ticks\": \"\", \"zerolinecolor\": \"white\"}, \"zaxis\": {\"backgroundcolor\": \"#E5ECF6\", \"gridcolor\": \"white\", \"gridwidth\": 2, \"linecolor\": \"white\", \"showbackground\": true, \"ticks\": \"\", \"zerolinecolor\": \"white\"}}, \"shapedefaults\": {\"line\": {\"color\": \"#2a3f5f\"}}, \"ternary\": {\"aaxis\": {\"gridcolor\": \"white\", \"linecolor\": \"white\", \"ticks\": \"\"}, \"baxis\": {\"gridcolor\": \"white\", \"linecolor\": \"white\", \"ticks\": \"\"}, \"bgcolor\": \"#E5ECF6\", \"caxis\": {\"gridcolor\": \"white\", \"linecolor\": \"white\", \"ticks\": \"\"}}, \"title\": {\"x\": 0.05}, \"xaxis\": {\"automargin\": true, \"gridcolor\": \"white\", \"linecolor\": \"white\", \"ticks\": \"\", \"title\": {\"standoff\": 15}, \"zerolinecolor\": \"white\", \"zerolinewidth\": 2}, \"yaxis\": {\"automargin\": true, \"gridcolor\": \"white\", \"linecolor\": \"white\", \"ticks\": \"\", \"title\": {\"standoff\": 15}, \"zerolinecolor\": \"white\", \"zerolinewidth\": 2}}}},\n",
              "                        {\"responsive\": true}\n",
              "                    ).then(function(){\n",
              "                            \n",
              "var gd = document.getElementById('16df8c4f-2db0-4821-9f57-fd93c136030e');\n",
              "var x = new MutationObserver(function (mutations, observer) {{\n",
              "        var display = window.getComputedStyle(gd).display;\n",
              "        if (!display || display === 'none') {{\n",
              "            console.log([gd, 'removed!']);\n",
              "            Plotly.purge(gd);\n",
              "            observer.disconnect();\n",
              "        }}\n",
              "}});\n",
              "\n",
              "// Listen for the removal of the full notebook cells\n",
              "var notebookContainer = gd.closest('#notebook-container');\n",
              "if (notebookContainer) {{\n",
              "    x.observe(notebookContainer, {childList: true});\n",
              "}}\n",
              "\n",
              "// Listen for the clearing of the current output cell\n",
              "var outputEl = gd.closest('.output');\n",
              "if (outputEl) {{\n",
              "    x.observe(outputEl, {childList: true});\n",
              "}}\n",
              "\n",
              "                        })\n",
              "                };\n",
              "                \n",
              "            </script>\n",
              "        </div>\n",
              "</body>\n",
              "</html>"
            ]
          },
          "metadata": {
            "tags": []
          }
        }
      ]
    },
    {
      "cell_type": "markdown",
      "metadata": {
        "id": "QdA02eDer4-f"
      },
      "source": [
        "## *4.5 - Demographics Analysis*"
      ]
    },
    {
      "cell_type": "markdown",
      "metadata": {
        "id": "Jd_rH6YfVm6I"
      },
      "source": [
        "### 4.5.1 - Analysis Query - Version 1"
      ]
    },
    {
      "cell_type": "code",
      "metadata": {
        "id": "qwJnzrjGw-cL"
      },
      "source": [
        "#\n",
        "# Demographics Analysis - Not Grouped\n",
        "#\n",
        "# World Happiness Table\n",
        "#   Country\n",
        "#   Score\n",
        "#\n",
        "# Country_Profile_Variables\n",
        "#   POPULATION_IN_THOUSANDS_2017\n",
        "#   URBAN_POPULATION_OF_TOTAL_POPULATION\n",
        "#   REFUGEES_AND_OTHERS_OF_CONCERN_TO_UNHCR_IN_THOUSANDS\n",
        "#   INTERNATIONAL_MIGRANT_STOCK_OF_TOTAL_POP\n",
        "#\n",
        "# Country_Region\n",
        "#   Region\n",
        "#\n",
        "#\n",
        "conn = sqlite3.connect(\"WorldHappiness.db\")\n",
        "\n",
        "try:\n",
        "\n",
        "  df_q5= pd.read_sql_query('''select wh.Country,\n",
        "                                cr.Region,\n",
        "                                wh.Happiness_Score as SCORE, \n",
        "                                cp.POPULATION_IN_THOUSANDS_2017 as POPULATION,               \n",
        "                                cp.URBAN_POPULATION_OF_TOTAL_POPULATION as URBAN_POPULATION,\n",
        "                                cp.REFUGEES_AND_OTHERS_OF_CONCERN_TO_UNHCR_IN_THOUSANDS as REFUGEE,\n",
        "                                cp.INTERNATIONAL_MIGRANT_STOCK_OF_TOTAL_POP as MIGRANT\n",
        "\t\t                              FROM World_Happiness_2017 wh JOIN Country_Profile_Variables cp on (wh.country=cp.country)\n",
        "                                    JOIN Country_Region cr on (cr.Country = wh.Country)\n",
        "                           ''',conn)\n",
        "except Exception as e:\n",
        "  print('Could not execute query - Error: ' + str(e))\n",
        "finally:\n",
        "    conn.close()"
      ],
      "execution_count": 131,
      "outputs": []
    },
    {
      "cell_type": "markdown",
      "metadata": {
        "id": "3t95xFA5V-11"
      },
      "source": [
        "### 4.5.2 - Results Graph - Version 1"
      ]
    },
    {
      "cell_type": "code",
      "metadata": {
        "id": "7ZFvX8Zib3Al",
        "colab": {
          "base_uri": "https://localhost:8080/",
          "height": 542
        },
        "outputId": "9f2ffd05-d9fc-482c-c875-a2b6be218ba1"
      },
      "source": [
        "fig = px.scatter(df_q5, x=\"SCORE\", y=\"POPULATION\", color=\"REGION\")\n",
        "fig.update_layout(\n",
        "    title_text='Relationship Between Population and Score by Region'\n",
        ")\n",
        "fig.show()"
      ],
      "execution_count": 132,
      "outputs": [
        {
          "output_type": "display_data",
          "data": {
            "text/html": [
              "<html>\n",
              "<head><meta charset=\"utf-8\" /></head>\n",
              "<body>\n",
              "    <div>\n",
              "            <script src=\"https://cdnjs.cloudflare.com/ajax/libs/mathjax/2.7.5/MathJax.js?config=TeX-AMS-MML_SVG\"></script><script type=\"text/javascript\">if (window.MathJax) {MathJax.Hub.Config({SVG: {font: \"STIX-Web\"}});}</script>\n",
              "                <script type=\"text/javascript\">window.PlotlyConfig = {MathJaxConfig: 'local'};</script>\n",
              "        <script src=\"https://cdn.plot.ly/plotly-latest.min.js\"></script>    \n",
              "            <div id=\"601512f3-3b2d-4e3b-8ca0-d77721b3760c\" class=\"plotly-graph-div\" style=\"height:525px; width:100%;\"></div>\n",
              "            <script type=\"text/javascript\">\n",
              "                \n",
              "                    window.PLOTLYENV=window.PLOTLYENV || {};\n",
              "                    \n",
              "                if (document.getElementById(\"601512f3-3b2d-4e3b-8ca0-d77721b3760c\")) {\n",
              "                    Plotly.newPlot(\n",
              "                        '601512f3-3b2d-4e3b-8ca0-d77721b3760c',\n",
              "                        [{\"hoverlabel\": {\"namelength\": 0}, \"hovertemplate\": \"REGION=Western Europe<br>SCORE=%{x}<br>POPULATION=%{y}\", \"legendgroup\": \"REGION=Western Europe\", \"marker\": {\"color\": \"#636efa\", \"symbol\": \"circle\"}, \"mode\": \"markers\", \"name\": \"REGION=Western Europe\", \"showlegend\": true, \"type\": \"scatter\", \"x\": [7.521999836, 7.493999958, 7.504000187000001, 7.537000179, 7.468999863, 7.376999855, 7.28399992, 7.006000042, 6.951000214, 6.890999794, 6.977000237, 6.862999916000001, 6.714000225, 6.52699995, 6.441999912000001, 6.402999877999999, 5.964000225, 5.620999812999999, 5.195000172, 5.2270002369999995], \"xaxis\": \"x\", \"y\": [8.654168646443315, 9.04499391938819, 5.814130531825066, 8.576405051048084, 8.616676469901188, 9.743084031043104, 9.201400530406708, 9.075207697984686, 11.31586380465452, 9.343909263897597, 8.468423027046809, 6.369900982828227, 11.100163801629426, 6.066108090103747, 11.081834809223091, 10.744062867162505, 10.991375877841262, 7.07326971745971, 9.242807562113684, 9.320091235935301], \"yaxis\": \"y\"}, {\"hoverlabel\": {\"namelength\": 0}, \"hovertemplate\": \"REGION=North America<br>SCORE=%{x}<br>POPULATION=%{y}\", \"legendgroup\": \"REGION=North America\", \"marker\": {\"color\": \"#EF553B\", \"symbol\": \"circle\"}, \"mode\": \"markers\", \"name\": \"REGION=North America\", \"showlegend\": true, \"type\": \"scatter\", \"x\": [7.315999985, 6.993000031], \"xaxis\": \"x\", \"y\": [10.508459042192348, 12.68991754096439], \"yaxis\": \"y\"}, {\"hoverlabel\": {\"namelength\": 0}, \"hovertemplate\": \"REGION=Australia and New Zealand<br>SCORE=%{x}<br>POPULATION=%{y}\", \"legendgroup\": \"REGION=Australia and New Zealand\", \"marker\": {\"color\": \"#00cc96\", \"symbol\": \"circle\"}, \"mode\": \"markers\", \"name\": \"REGION=Australia and New Zealand\", \"showlegend\": true, \"type\": \"scatter\", \"x\": [7.31400013, 7.28399992], \"xaxis\": \"x\", \"y\": [8.456593569287309, 10.104426393862145], \"yaxis\": \"y\"}, {\"hoverlabel\": {\"namelength\": 0}, \"hovertemplate\": \"REGION=Middle East and Northern Africa<br>SCORE=%{x}<br>POPULATION=%{y}\", \"legendgroup\": \"REGION=Middle East and Northern Africa\", \"marker\": {\"color\": \"#ab63fa\", \"symbol\": \"circle\"}, \"mode\": \"markers\", \"name\": \"REGION=Middle East and Northern Africa\", \"showlegend\": true, \"type\": \"scatter\", \"x\": [7.212999821, 6.647999763, 6.343999863, 6.375, 5.872000217, 6.105000018999999, 6.086999893, 5.525000095, 5.5, 5.335999966, 5.235000134, 5.224999905, 4.804999828, 4.775000095, 4.497000217, 4.735000134, 3.592999935, 3.461999893], \"xaxis\": \"x\", \"y\": [9.026657889542886, 9.148464968258095, 10.402382285434154, 7.878155336503324, 10.629053519351574, 8.327484416188264, 7.30854279753919, 8.760139370026627, 11.299051319663167, 9.180087328805161, 10.484025788713419, 8.71308886823731, 9.352881058758292, 8.501267040865978, 10.552552220525884, 11.488151099038143, 10.248848736574587, 9.813015649372053], \"yaxis\": \"y\"}, {\"hoverlabel\": {\"namelength\": 0}, \"hovertemplate\": \"REGION=Latin America and Caribbean<br>SCORE=%{x}<br>POPULATION=%{y}\", \"legendgroup\": \"REGION=Latin America and Caribbean\", \"marker\": {\"color\": \"#FFA15A\", \"symbol\": \"circle\"}, \"mode\": \"markers\", \"name\": \"REGION=Latin America and Caribbean\", \"showlegend\": true, \"type\": \"scatter\", \"x\": [7.078999996, 6.635000229, 6.578000069, 6.65199995, 6.452000141, 6.598999977, 6.453999996, 6.3569998739999996, 6.453999996, 6.168000221000001, 5.25, 6.002999783, 6.071000099, 6.007999897, 5.9559998510000005, 5.822999954, 5.715000152999999, 5.493000031, 5.31099987, 5.230000018999999, 5.181000233, 3.6029999260000003], \"xaxis\": \"x\", \"y\": [8.498214224818435, 12.251466572820059, 11.768830451607734, 9.801177933711559, 8.318498320504338, 10.69808511413156, 8.148156439921625, 10.800921609559978, 9.735896960342167, 7.221835825288449, 10.372772173357246, 8.760609847570002, 8.735203590618699, 9.718662865524054, 5.926926025970411, 9.310366686043308, 10.378665273055592, 8.826294231241318, 7.969011781106478, 9.284241179815718, 9.13399913871946, 9.303921785597714], \"yaxis\": \"y\"}, {\"hoverlabel\": {\"namelength\": 0}, \"hovertemplate\": \"REGION=Southeastern Asia<br>SCORE=%{x}<br>POPULATION=%{y}\", \"legendgroup\": \"REGION=Southeastern Asia\", \"marker\": {\"color\": \"#19d3f3\", \"symbol\": \"circle\"}, \"mode\": \"markers\", \"name\": \"REGION=Southeastern Asia\", \"showlegend\": true, \"type\": \"scatter\", \"x\": [6.5720000270000005, 6.423999786, 6.084000111, 5.262000083999999, 5.429999828, 5.073999882, 4.545000076, 4.168000221000001], \"xaxis\": \"x\", \"y\": [8.64979915596426, 11.14241235662392, 10.361671604976522, 12.483670290638255, 11.56093437165654, 11.467310753709356, 10.885022806270683, 9.680656452403964], \"yaxis\": \"y\"}, {\"hoverlabel\": {\"namelength\": 0}, \"hovertemplate\": \"REGION=Central and Eastern Europe<br>SCORE=%{x}<br>POPULATION=%{y}\", \"legendgroup\": \"REGION=Central and Eastern Europe\", \"marker\": {\"color\": \"#FF6692\", \"symbol\": \"circle\"}, \"mode\": \"markers\", \"name\": \"REGION=Central and Eastern Europe\", \"showlegend\": true, \"type\": \"scatter\", \"x\": [6.609000206, 6.09800005, 5.971000195, 5.818999767, 5.837999821, 5.962999821, 5.97300005, 5.90199995, 5.568999767, 5.757999897, 5.8220000270000005, 5.849999905, 5.8249998089999995, 5.611000061, 5.293000221000001, 5.234000206, 5.004000187, 5.394999981000001, 5.18200016, 5.236999989, 5.323999882, 5.040999889, 4.644000053, 4.375999928, 4.096000195, 4.285999775, 4.714000225], \"xaxis\": \"x\", \"y\": [9.270305953143616, 8.60300384782935, 10.370706056919774, 9.809396629136533, 8.30671904320269, 11.877499131702317, 10.549831343981374, 7.969011781106478, 9.155672970633875, 7.640123172695364, 8.65834547117212, 7.575584651557793, 9.88730735630709, 7.177782416195197, 8.340217320947035, 9.19299073364107, 8.706986763048892, 9.081483749851179, 8.162516250140179, 6.444131256700441, 9.1821466376054, 9.096163326913784, 7.982757702011113, 7.982757702011113, 10.697000294715387, 8.271804031154709, 8.865735152124781], \"yaxis\": \"y\"}, {\"hoverlabel\": {\"namelength\": 0}, \"hovertemplate\": \"REGION=Eastern Asia<br>SCORE=%{x}<br>POPULATION=%{y}\", \"legendgroup\": \"REGION=Eastern Asia\", \"marker\": {\"color\": \"#B6E880\", \"symbol\": \"circle\"}, \"mode\": \"markers\", \"name\": \"REGION=Eastern Asia\", \"showlegend\": true, \"type\": \"scatter\", \"x\": [5.920000076, 5.2729997630000005, 4.954999924], \"xaxis\": \"x\", \"y\": [11.755746145509987, 14.158757650478115, 8.031385330625534], \"yaxis\": \"y\"}, {\"hoverlabel\": {\"namelength\": 0}, \"hovertemplate\": \"REGION=Sub-Saharan Africa<br>SCORE=%{x}<br>POPULATION=%{y}\", \"legendgroup\": \"REGION=Sub-Saharan Africa\", \"marker\": {\"color\": \"#FF97FF\", \"symbol\": \"circle\"}, \"mode\": \"markers\", \"name\": \"REGION=Sub-Saharan Africa\", \"showlegend\": true, \"type\": \"scatter\", \"x\": [5.629000187000001, 5.151000023, 5.073999882, 4.513999939, 4.709000111, 4.573999882, 4.695000172, 4.460000038, 4.828999996, 4.552999973, 4.1199998860000004, 4.28000021, 4.290999889, 4.534999847, 4.291999817, 3.875, 3.970000029, 4.138999939, 4.465000153, 4.190000057, 3.766000032, 3.7950000760000004, 4.027999878, 3.59100008, 3.9360001089999996, 4.032000065, 4.0809998510000005, 3.644000053, 3.348999977, 3.5329999919999997, 3.5069999689999998, 3.4709999560000004, 3.657000065, 3.4949998860000004, 2.904999971], \"xaxis\": \"x\", \"y\": [7.142827401161621, 9.598455841749233, 12.159431670199, 9.746482803725963, 8.93022956502072, 7.837554360881084, 10.088056581870562, 11.56130602145236, 10.945829268410877, 10.81376021208472, 10.26931052537185, 11.306393179461216, 8.568076401730806, 9.670987868797893, 8.393894975071744, 9.712932190815069, 9.832098956448474, 10.609871736128069, 7.613324979540639, 9.827793708166928, 7.73718007783463, 10.301726615552553, 9.974737874064294, 9.439545514668987, 9.60911649193355, 9.862300908205878, 10.665764261911653, 10.149214175850595, 10.956230407545783, 8.462103225098277, 9.450694960020746, 9.409846753524238, 9.321523900936798, 8.961622569542543, 9.293209849798478], \"yaxis\": \"y\"}, {\"hoverlabel\": {\"namelength\": 0}, \"hovertemplate\": \"REGION=Southern Asia<br>SCORE=%{x}<br>POPULATION=%{y}\", \"legendgroup\": \"REGION=Southern Asia\", \"marker\": {\"color\": \"#FECB52\", \"symbol\": \"circle\"}, \"mode\": \"markers\", \"name\": \"REGION=Southern Asia\", \"showlegend\": true, \"type\": \"scatter\", \"x\": [5.011000156000001, 5.269000053, 4.961999893, 4.607999802, 4.440000057, 4.315000057, 3.79399991], \"xaxis\": \"x\", \"y\": [6.694562058521095, 12.191040222696211, 10.28551342891053, 12.011698750212044, 9.94640335351296, 14.107568044316702, 10.478132689015073], \"yaxis\": \"y\"}],\n",
              "                        {\"legend\": {\"tracegroupgap\": 0}, \"margin\": {\"t\": 60}, \"template\": {\"data\": {\"bar\": [{\"error_x\": {\"color\": \"#2a3f5f\"}, \"error_y\": {\"color\": \"#2a3f5f\"}, \"marker\": {\"line\": {\"color\": \"#E5ECF6\", \"width\": 0.5}}, \"type\": \"bar\"}], \"barpolar\": [{\"marker\": {\"line\": {\"color\": \"#E5ECF6\", \"width\": 0.5}}, \"type\": \"barpolar\"}], \"carpet\": [{\"aaxis\": {\"endlinecolor\": \"#2a3f5f\", \"gridcolor\": \"white\", \"linecolor\": \"white\", \"minorgridcolor\": \"white\", \"startlinecolor\": \"#2a3f5f\"}, \"baxis\": {\"endlinecolor\": \"#2a3f5f\", \"gridcolor\": \"white\", \"linecolor\": \"white\", \"minorgridcolor\": \"white\", \"startlinecolor\": \"#2a3f5f\"}, \"type\": \"carpet\"}], \"choropleth\": [{\"colorbar\": {\"outlinewidth\": 0, \"ticks\": \"\"}, \"type\": \"choropleth\"}], \"contour\": [{\"colorbar\": {\"outlinewidth\": 0, \"ticks\": \"\"}, \"colorscale\": [[0.0, \"#0d0887\"], [0.1111111111111111, \"#46039f\"], [0.2222222222222222, \"#7201a8\"], [0.3333333333333333, \"#9c179e\"], [0.4444444444444444, \"#bd3786\"], [0.5555555555555556, \"#d8576b\"], [0.6666666666666666, \"#ed7953\"], [0.7777777777777778, \"#fb9f3a\"], [0.8888888888888888, \"#fdca26\"], [1.0, \"#f0f921\"]], \"type\": \"contour\"}], \"contourcarpet\": [{\"colorbar\": {\"outlinewidth\": 0, \"ticks\": \"\"}, \"type\": \"contourcarpet\"}], \"heatmap\": [{\"colorbar\": {\"outlinewidth\": 0, \"ticks\": \"\"}, \"colorscale\": [[0.0, \"#0d0887\"], [0.1111111111111111, \"#46039f\"], [0.2222222222222222, \"#7201a8\"], [0.3333333333333333, \"#9c179e\"], [0.4444444444444444, \"#bd3786\"], [0.5555555555555556, \"#d8576b\"], [0.6666666666666666, \"#ed7953\"], [0.7777777777777778, \"#fb9f3a\"], [0.8888888888888888, \"#fdca26\"], [1.0, \"#f0f921\"]], \"type\": \"heatmap\"}], \"heatmapgl\": [{\"colorbar\": {\"outlinewidth\": 0, \"ticks\": \"\"}, \"colorscale\": [[0.0, \"#0d0887\"], [0.1111111111111111, \"#46039f\"], [0.2222222222222222, \"#7201a8\"], [0.3333333333333333, \"#9c179e\"], [0.4444444444444444, \"#bd3786\"], [0.5555555555555556, \"#d8576b\"], [0.6666666666666666, \"#ed7953\"], [0.7777777777777778, \"#fb9f3a\"], [0.8888888888888888, \"#fdca26\"], [1.0, \"#f0f921\"]], \"type\": \"heatmapgl\"}], \"histogram\": [{\"marker\": {\"colorbar\": {\"outlinewidth\": 0, \"ticks\": \"\"}}, \"type\": \"histogram\"}], \"histogram2d\": [{\"colorbar\": {\"outlinewidth\": 0, \"ticks\": \"\"}, \"colorscale\": [[0.0, \"#0d0887\"], [0.1111111111111111, \"#46039f\"], [0.2222222222222222, \"#7201a8\"], [0.3333333333333333, \"#9c179e\"], [0.4444444444444444, \"#bd3786\"], [0.5555555555555556, \"#d8576b\"], [0.6666666666666666, \"#ed7953\"], [0.7777777777777778, \"#fb9f3a\"], [0.8888888888888888, \"#fdca26\"], [1.0, \"#f0f921\"]], \"type\": \"histogram2d\"}], \"histogram2dcontour\": [{\"colorbar\": {\"outlinewidth\": 0, \"ticks\": \"\"}, \"colorscale\": [[0.0, \"#0d0887\"], [0.1111111111111111, \"#46039f\"], [0.2222222222222222, \"#7201a8\"], [0.3333333333333333, \"#9c179e\"], [0.4444444444444444, \"#bd3786\"], [0.5555555555555556, \"#d8576b\"], [0.6666666666666666, \"#ed7953\"], [0.7777777777777778, \"#fb9f3a\"], [0.8888888888888888, \"#fdca26\"], [1.0, \"#f0f921\"]], \"type\": \"histogram2dcontour\"}], \"mesh3d\": [{\"colorbar\": {\"outlinewidth\": 0, \"ticks\": \"\"}, \"type\": \"mesh3d\"}], \"parcoords\": [{\"line\": {\"colorbar\": {\"outlinewidth\": 0, \"ticks\": \"\"}}, \"type\": \"parcoords\"}], \"pie\": [{\"automargin\": true, \"type\": \"pie\"}], \"scatter\": [{\"marker\": {\"colorbar\": {\"outlinewidth\": 0, \"ticks\": \"\"}}, \"type\": \"scatter\"}], \"scatter3d\": [{\"line\": {\"colorbar\": {\"outlinewidth\": 0, \"ticks\": \"\"}}, \"marker\": {\"colorbar\": {\"outlinewidth\": 0, \"ticks\": \"\"}}, \"type\": \"scatter3d\"}], \"scattercarpet\": [{\"marker\": {\"colorbar\": {\"outlinewidth\": 0, \"ticks\": \"\"}}, \"type\": \"scattercarpet\"}], \"scattergeo\": [{\"marker\": {\"colorbar\": {\"outlinewidth\": 0, \"ticks\": \"\"}}, \"type\": \"scattergeo\"}], \"scattergl\": [{\"marker\": {\"colorbar\": {\"outlinewidth\": 0, \"ticks\": \"\"}}, \"type\": \"scattergl\"}], \"scattermapbox\": [{\"marker\": {\"colorbar\": {\"outlinewidth\": 0, \"ticks\": \"\"}}, \"type\": \"scattermapbox\"}], \"scatterpolar\": [{\"marker\": {\"colorbar\": {\"outlinewidth\": 0, \"ticks\": \"\"}}, \"type\": \"scatterpolar\"}], \"scatterpolargl\": [{\"marker\": {\"colorbar\": {\"outlinewidth\": 0, \"ticks\": \"\"}}, \"type\": \"scatterpolargl\"}], \"scatterternary\": [{\"marker\": {\"colorbar\": {\"outlinewidth\": 0, \"ticks\": \"\"}}, \"type\": \"scatterternary\"}], \"surface\": [{\"colorbar\": {\"outlinewidth\": 0, \"ticks\": \"\"}, \"colorscale\": [[0.0, \"#0d0887\"], [0.1111111111111111, \"#46039f\"], [0.2222222222222222, \"#7201a8\"], [0.3333333333333333, \"#9c179e\"], [0.4444444444444444, \"#bd3786\"], [0.5555555555555556, \"#d8576b\"], [0.6666666666666666, \"#ed7953\"], [0.7777777777777778, \"#fb9f3a\"], [0.8888888888888888, \"#fdca26\"], [1.0, \"#f0f921\"]], \"type\": \"surface\"}], \"table\": [{\"cells\": {\"fill\": {\"color\": \"#EBF0F8\"}, \"line\": {\"color\": \"white\"}}, \"header\": {\"fill\": {\"color\": \"#C8D4E3\"}, \"line\": {\"color\": \"white\"}}, \"type\": \"table\"}]}, \"layout\": {\"annotationdefaults\": {\"arrowcolor\": \"#2a3f5f\", \"arrowhead\": 0, \"arrowwidth\": 1}, \"coloraxis\": {\"colorbar\": {\"outlinewidth\": 0, \"ticks\": \"\"}}, \"colorscale\": {\"diverging\": [[0, \"#8e0152\"], [0.1, \"#c51b7d\"], [0.2, \"#de77ae\"], [0.3, \"#f1b6da\"], [0.4, \"#fde0ef\"], [0.5, \"#f7f7f7\"], [0.6, \"#e6f5d0\"], [0.7, \"#b8e186\"], [0.8, \"#7fbc41\"], [0.9, \"#4d9221\"], [1, \"#276419\"]], \"sequential\": [[0.0, \"#0d0887\"], [0.1111111111111111, \"#46039f\"], [0.2222222222222222, \"#7201a8\"], [0.3333333333333333, \"#9c179e\"], [0.4444444444444444, \"#bd3786\"], [0.5555555555555556, \"#d8576b\"], [0.6666666666666666, \"#ed7953\"], [0.7777777777777778, \"#fb9f3a\"], [0.8888888888888888, \"#fdca26\"], [1.0, \"#f0f921\"]], \"sequentialminus\": [[0.0, \"#0d0887\"], [0.1111111111111111, \"#46039f\"], [0.2222222222222222, \"#7201a8\"], [0.3333333333333333, \"#9c179e\"], [0.4444444444444444, \"#bd3786\"], [0.5555555555555556, \"#d8576b\"], [0.6666666666666666, \"#ed7953\"], [0.7777777777777778, \"#fb9f3a\"], [0.8888888888888888, \"#fdca26\"], [1.0, \"#f0f921\"]]}, \"colorway\": [\"#636efa\", \"#EF553B\", \"#00cc96\", \"#ab63fa\", \"#FFA15A\", \"#19d3f3\", \"#FF6692\", \"#B6E880\", \"#FF97FF\", \"#FECB52\"], \"font\": {\"color\": \"#2a3f5f\"}, \"geo\": {\"bgcolor\": \"white\", \"lakecolor\": \"white\", \"landcolor\": \"#E5ECF6\", \"showlakes\": true, \"showland\": true, \"subunitcolor\": \"white\"}, \"hoverlabel\": {\"align\": \"left\"}, \"hovermode\": \"closest\", \"mapbox\": {\"style\": \"light\"}, \"paper_bgcolor\": \"white\", \"plot_bgcolor\": \"#E5ECF6\", \"polar\": {\"angularaxis\": {\"gridcolor\": \"white\", \"linecolor\": \"white\", \"ticks\": \"\"}, \"bgcolor\": \"#E5ECF6\", \"radialaxis\": {\"gridcolor\": \"white\", \"linecolor\": \"white\", \"ticks\": \"\"}}, \"scene\": {\"xaxis\": {\"backgroundcolor\": \"#E5ECF6\", \"gridcolor\": \"white\", \"gridwidth\": 2, \"linecolor\": \"white\", \"showbackground\": true, \"ticks\": \"\", \"zerolinecolor\": \"white\"}, \"yaxis\": {\"backgroundcolor\": \"#E5ECF6\", \"gridcolor\": \"white\", \"gridwidth\": 2, \"linecolor\": \"white\", \"showbackground\": true, \"ticks\": \"\", \"zerolinecolor\": \"white\"}, \"zaxis\": {\"backgroundcolor\": \"#E5ECF6\", \"gridcolor\": \"white\", \"gridwidth\": 2, \"linecolor\": \"white\", \"showbackground\": true, \"ticks\": \"\", \"zerolinecolor\": \"white\"}}, \"shapedefaults\": {\"line\": {\"color\": \"#2a3f5f\"}}, \"ternary\": {\"aaxis\": {\"gridcolor\": \"white\", \"linecolor\": \"white\", \"ticks\": \"\"}, \"baxis\": {\"gridcolor\": \"white\", \"linecolor\": \"white\", \"ticks\": \"\"}, \"bgcolor\": \"#E5ECF6\", \"caxis\": {\"gridcolor\": \"white\", \"linecolor\": \"white\", \"ticks\": \"\"}}, \"title\": {\"x\": 0.05}, \"xaxis\": {\"automargin\": true, \"gridcolor\": \"white\", \"linecolor\": \"white\", \"ticks\": \"\", \"title\": {\"standoff\": 15}, \"zerolinecolor\": \"white\", \"zerolinewidth\": 2}, \"yaxis\": {\"automargin\": true, \"gridcolor\": \"white\", \"linecolor\": \"white\", \"ticks\": \"\", \"title\": {\"standoff\": 15}, \"zerolinecolor\": \"white\", \"zerolinewidth\": 2}}}, \"title\": {\"text\": \"Relationship Between Population and Score by Region\"}, \"xaxis\": {\"anchor\": \"y\", \"domain\": [0.0, 1.0], \"title\": {\"text\": \"SCORE\"}}, \"yaxis\": {\"anchor\": \"x\", \"domain\": [0.0, 1.0], \"title\": {\"text\": \"POPULATION\"}}},\n",
              "                        {\"responsive\": true}\n",
              "                    ).then(function(){\n",
              "                            \n",
              "var gd = document.getElementById('601512f3-3b2d-4e3b-8ca0-d77721b3760c');\n",
              "var x = new MutationObserver(function (mutations, observer) {{\n",
              "        var display = window.getComputedStyle(gd).display;\n",
              "        if (!display || display === 'none') {{\n",
              "            console.log([gd, 'removed!']);\n",
              "            Plotly.purge(gd);\n",
              "            observer.disconnect();\n",
              "        }}\n",
              "}});\n",
              "\n",
              "// Listen for the removal of the full notebook cells\n",
              "var notebookContainer = gd.closest('#notebook-container');\n",
              "if (notebookContainer) {{\n",
              "    x.observe(notebookContainer, {childList: true});\n",
              "}}\n",
              "\n",
              "// Listen for the clearing of the current output cell\n",
              "var outputEl = gd.closest('.output');\n",
              "if (outputEl) {{\n",
              "    x.observe(outputEl, {childList: true});\n",
              "}}\n",
              "\n",
              "                        })\n",
              "                };\n",
              "                \n",
              "            </script>\n",
              "        </div>\n",
              "</body>\n",
              "</html>"
            ]
          },
          "metadata": {
            "tags": []
          }
        }
      ]
    },
    {
      "cell_type": "markdown",
      "metadata": {
        "id": "TfnVPcUdWRQg"
      },
      "source": [
        "### 4.5.3 - Anaylsis Query - Version 2"
      ]
    },
    {
      "cell_type": "code",
      "metadata": {
        "id": "MeNLl-p5eKhq"
      },
      "source": [
        "#\n",
        "# Demographics Analysis Version 2 - Grouped By Region\n",
        "#\n",
        "# World Happiness Table\n",
        "#   Country\n",
        "#   Score\n",
        "#\n",
        "# Country_Profile_Variables\n",
        "#   POPULATION_IN_THOUSANDS_2017\n",
        "#   URBAN_POPULATION_OF_TOTAL_POPULATION\n",
        "#   REFUGEES_AND_OTHERS_OF_CONCERN_TO_UNHCR_IN_THOUSANDS\n",
        "#   INTERNATIONAL_MIGRANT_STOCK_OF_TOTAL_POP\n",
        "#\n",
        "# Country_Region\n",
        "#   Region\n",
        "#\n",
        "#\n",
        "conn = sqlite3.connect(\"WorldHappiness.db\")\n",
        "\n",
        "try:\n",
        "\n",
        "  df_q51= pd.read_sql_query('''select wh.Country,\n",
        "                                cr.Region,\n",
        "                                wh.Happiness_Score as SCORE, \n",
        "                                cp.POPULATION_IN_THOUSANDS_2017 as POPULATION,               \n",
        "                                cp.URBAN_POPULATION_OF_TOTAL_POPULATION as URBAN_POPULATION,\n",
        "                                cp.REFUGEES_AND_OTHERS_OF_CONCERN_TO_UNHCR_IN_THOUSANDS as REFUGEE,\n",
        "                                cp.INTERNATIONAL_MIGRANT_STOCK_OF_TOTAL_POP as MIGRANT\n",
        "\t\t                              FROM World_Happiness_2017 wh JOIN Country_Profile_Variables cp on (wh.country=cp.country)\n",
        "                                    JOIN Country_Region cr on (cr.Country = wh.Country)\n",
        "                                    Group By Region\n",
        "                                    Order by Score\n",
        "                           ''',conn)\n",
        "except Exception as e:\n",
        "  print('Could not execute query - Error: ' + str(e))\n",
        "finally:\n",
        "    conn.close()"
      ],
      "execution_count": 133,
      "outputs": []
    },
    {
      "cell_type": "markdown",
      "metadata": {
        "id": "CDxjXgw-WaZi"
      },
      "source": [
        "### 4.5.4 - Results Graph - Version 2"
      ]
    },
    {
      "cell_type": "code",
      "metadata": {
        "id": "JI7okKs3dm1I",
        "colab": {
          "base_uri": "https://localhost:8080/",
          "height": 542
        },
        "outputId": "82aef095-24ec-48a6-bfd6-47910c80d734"
      },
      "source": [
        "x = df_q51[\"REGION\"]\n",
        "y = df_q51[\"SCORE\"]\n",
        "y1 = df_q51[\"REFUGEE\"]\n",
        "y2 = df_q51[\"MIGRANT\"]\n",
        "\n",
        "fig = go.Figure()\n",
        "fig.add_trace(go.Histogram(y=y, x=x, histfunc='avg', name=\"SCORE\"))\n",
        "fig.add_trace(go.Histogram(histfunc=\"avg\", y=y1, x=x, name=\"REFUGEE\"))\n",
        "fig.add_trace(go.Histogram(histfunc=\"avg\", y=y2, x=x, name = \"MIGRANT\"))"
      ],
      "execution_count": 134,
      "outputs": [
        {
          "output_type": "display_data",
          "data": {
            "text/html": [
              "<html>\n",
              "<head><meta charset=\"utf-8\" /></head>\n",
              "<body>\n",
              "    <div>\n",
              "            <script src=\"https://cdnjs.cloudflare.com/ajax/libs/mathjax/2.7.5/MathJax.js?config=TeX-AMS-MML_SVG\"></script><script type=\"text/javascript\">if (window.MathJax) {MathJax.Hub.Config({SVG: {font: \"STIX-Web\"}});}</script>\n",
              "                <script type=\"text/javascript\">window.PlotlyConfig = {MathJaxConfig: 'local'};</script>\n",
              "        <script src=\"https://cdn.plot.ly/plotly-latest.min.js\"></script>    \n",
              "            <div id=\"8a1cc239-6620-474d-8d1e-2a0a751cfb00\" class=\"plotly-graph-div\" style=\"height:525px; width:100%;\"></div>\n",
              "            <script type=\"text/javascript\">\n",
              "                \n",
              "                    window.PLOTLYENV=window.PLOTLYENV || {};\n",
              "                    \n",
              "                if (document.getElementById(\"8a1cc239-6620-474d-8d1e-2a0a751cfb00\")) {\n",
              "                    Plotly.newPlot(\n",
              "                        '8a1cc239-6620-474d-8d1e-2a0a751cfb00',\n",
              "                        [{\"histfunc\": \"avg\", \"name\": \"SCORE\", \"type\": \"histogram\", \"x\": [\"Sub-Saharan Africa\", \"Middle East and Northern Africa\", \"Latin America and Caribbean\", \"Southern Asia\", \"Southeastern Asia\", \"Central and Eastern Europe\", \"Eastern Asia\", \"Western Europe\", \"North America\", \"Australia and New Zealand\"], \"y\": [2.904999971, 3.461999893, 3.6029999260000003, 3.79399991, 4.168000221000001, 4.714000225, 4.954999924, 5.2270002369999995, 6.993000031, 7.28399992]}, {\"histfunc\": \"avg\", \"name\": \"REFUGEE\", \"type\": \"histogram\", \"x\": [\"Sub-Saharan Africa\", \"Middle East and Northern Africa\", \"Latin America and Caribbean\", \"Southern Asia\", \"Southeastern Asia\", \"Central and Eastern Europe\", \"Eastern Asia\", \"Western Europe\", \"North America\", \"Australia and New Zealand\"], \"y\": [4.636668853047462, 8.82003477562584, 0.6418538861723947, 7.321915805457525, -1.2039728043259361, 3.517497837358316, null, 4.550714000192032, 6.424058322604399, 4.063885354737392]}, {\"histfunc\": \"avg\", \"name\": \"MIGRANT\", \"type\": \"histogram\", \"x\": [\"Sub-Saharan Africa\", \"Middle East and Northern Africa\", \"Latin America and Caribbean\", \"Southern Asia\", \"Southeastern Asia\", \"Central and Eastern Europe\", \"Eastern Asia\", \"Western Europe\", \"North America\", \"Australia and New Zealand\"], \"y\": [0.9555114450274363, 1.547562508716013, -0.916290731874155, 0.1823215567939546, -0.6931471805599453, 0.3364722366212129, -0.5108256237659907, 2.424802725718295, 2.6741486494265287, 3.339321977944068]}],\n",
              "                        {\"template\": {\"data\": {\"bar\": [{\"error_x\": {\"color\": \"#2a3f5f\"}, \"error_y\": {\"color\": \"#2a3f5f\"}, \"marker\": {\"line\": {\"color\": \"#E5ECF6\", \"width\": 0.5}}, \"type\": \"bar\"}], \"barpolar\": [{\"marker\": {\"line\": {\"color\": \"#E5ECF6\", \"width\": 0.5}}, \"type\": \"barpolar\"}], \"carpet\": [{\"aaxis\": {\"endlinecolor\": \"#2a3f5f\", \"gridcolor\": \"white\", \"linecolor\": \"white\", \"minorgridcolor\": \"white\", \"startlinecolor\": \"#2a3f5f\"}, \"baxis\": {\"endlinecolor\": \"#2a3f5f\", \"gridcolor\": \"white\", \"linecolor\": \"white\", \"minorgridcolor\": \"white\", \"startlinecolor\": \"#2a3f5f\"}, \"type\": \"carpet\"}], \"choropleth\": [{\"colorbar\": {\"outlinewidth\": 0, \"ticks\": \"\"}, \"type\": \"choropleth\"}], \"contour\": [{\"colorbar\": {\"outlinewidth\": 0, \"ticks\": \"\"}, \"colorscale\": [[0.0, \"#0d0887\"], [0.1111111111111111, \"#46039f\"], [0.2222222222222222, \"#7201a8\"], [0.3333333333333333, \"#9c179e\"], [0.4444444444444444, \"#bd3786\"], [0.5555555555555556, \"#d8576b\"], [0.6666666666666666, \"#ed7953\"], [0.7777777777777778, \"#fb9f3a\"], [0.8888888888888888, \"#fdca26\"], [1.0, \"#f0f921\"]], \"type\": \"contour\"}], \"contourcarpet\": [{\"colorbar\": {\"outlinewidth\": 0, \"ticks\": \"\"}, \"type\": \"contourcarpet\"}], \"heatmap\": [{\"colorbar\": {\"outlinewidth\": 0, \"ticks\": \"\"}, \"colorscale\": [[0.0, \"#0d0887\"], [0.1111111111111111, \"#46039f\"], [0.2222222222222222, \"#7201a8\"], [0.3333333333333333, \"#9c179e\"], [0.4444444444444444, \"#bd3786\"], [0.5555555555555556, \"#d8576b\"], [0.6666666666666666, \"#ed7953\"], [0.7777777777777778, \"#fb9f3a\"], [0.8888888888888888, \"#fdca26\"], [1.0, \"#f0f921\"]], \"type\": \"heatmap\"}], \"heatmapgl\": [{\"colorbar\": {\"outlinewidth\": 0, \"ticks\": \"\"}, \"colorscale\": [[0.0, \"#0d0887\"], [0.1111111111111111, \"#46039f\"], [0.2222222222222222, \"#7201a8\"], [0.3333333333333333, \"#9c179e\"], [0.4444444444444444, \"#bd3786\"], [0.5555555555555556, \"#d8576b\"], [0.6666666666666666, \"#ed7953\"], [0.7777777777777778, \"#fb9f3a\"], [0.8888888888888888, \"#fdca26\"], [1.0, \"#f0f921\"]], \"type\": \"heatmapgl\"}], \"histogram\": [{\"marker\": {\"colorbar\": {\"outlinewidth\": 0, \"ticks\": \"\"}}, \"type\": \"histogram\"}], \"histogram2d\": [{\"colorbar\": {\"outlinewidth\": 0, \"ticks\": \"\"}, \"colorscale\": [[0.0, \"#0d0887\"], [0.1111111111111111, \"#46039f\"], [0.2222222222222222, \"#7201a8\"], [0.3333333333333333, \"#9c179e\"], [0.4444444444444444, \"#bd3786\"], [0.5555555555555556, \"#d8576b\"], [0.6666666666666666, \"#ed7953\"], [0.7777777777777778, \"#fb9f3a\"], [0.8888888888888888, \"#fdca26\"], [1.0, \"#f0f921\"]], \"type\": \"histogram2d\"}], \"histogram2dcontour\": [{\"colorbar\": {\"outlinewidth\": 0, \"ticks\": \"\"}, \"colorscale\": [[0.0, \"#0d0887\"], [0.1111111111111111, \"#46039f\"], [0.2222222222222222, \"#7201a8\"], [0.3333333333333333, \"#9c179e\"], [0.4444444444444444, \"#bd3786\"], [0.5555555555555556, \"#d8576b\"], [0.6666666666666666, \"#ed7953\"], [0.7777777777777778, \"#fb9f3a\"], [0.8888888888888888, \"#fdca26\"], [1.0, \"#f0f921\"]], \"type\": \"histogram2dcontour\"}], \"mesh3d\": [{\"colorbar\": {\"outlinewidth\": 0, \"ticks\": \"\"}, \"type\": \"mesh3d\"}], \"parcoords\": [{\"line\": {\"colorbar\": {\"outlinewidth\": 0, \"ticks\": \"\"}}, \"type\": \"parcoords\"}], \"pie\": [{\"automargin\": true, \"type\": \"pie\"}], \"scatter\": [{\"marker\": {\"colorbar\": {\"outlinewidth\": 0, \"ticks\": \"\"}}, \"type\": \"scatter\"}], \"scatter3d\": [{\"line\": {\"colorbar\": {\"outlinewidth\": 0, \"ticks\": \"\"}}, \"marker\": {\"colorbar\": {\"outlinewidth\": 0, \"ticks\": \"\"}}, \"type\": \"scatter3d\"}], \"scattercarpet\": [{\"marker\": {\"colorbar\": {\"outlinewidth\": 0, \"ticks\": \"\"}}, \"type\": \"scattercarpet\"}], \"scattergeo\": [{\"marker\": {\"colorbar\": {\"outlinewidth\": 0, \"ticks\": \"\"}}, \"type\": \"scattergeo\"}], \"scattergl\": [{\"marker\": {\"colorbar\": {\"outlinewidth\": 0, \"ticks\": \"\"}}, \"type\": \"scattergl\"}], \"scattermapbox\": [{\"marker\": {\"colorbar\": {\"outlinewidth\": 0, \"ticks\": \"\"}}, \"type\": \"scattermapbox\"}], \"scatterpolar\": [{\"marker\": {\"colorbar\": {\"outlinewidth\": 0, \"ticks\": \"\"}}, \"type\": \"scatterpolar\"}], \"scatterpolargl\": [{\"marker\": {\"colorbar\": {\"outlinewidth\": 0, \"ticks\": \"\"}}, \"type\": \"scatterpolargl\"}], \"scatterternary\": [{\"marker\": {\"colorbar\": {\"outlinewidth\": 0, \"ticks\": \"\"}}, \"type\": \"scatterternary\"}], \"surface\": [{\"colorbar\": {\"outlinewidth\": 0, \"ticks\": \"\"}, \"colorscale\": [[0.0, \"#0d0887\"], [0.1111111111111111, \"#46039f\"], [0.2222222222222222, \"#7201a8\"], [0.3333333333333333, \"#9c179e\"], [0.4444444444444444, \"#bd3786\"], [0.5555555555555556, \"#d8576b\"], [0.6666666666666666, \"#ed7953\"], [0.7777777777777778, \"#fb9f3a\"], [0.8888888888888888, \"#fdca26\"], [1.0, \"#f0f921\"]], \"type\": \"surface\"}], \"table\": [{\"cells\": {\"fill\": {\"color\": \"#EBF0F8\"}, \"line\": {\"color\": \"white\"}}, \"header\": {\"fill\": {\"color\": \"#C8D4E3\"}, \"line\": {\"color\": \"white\"}}, \"type\": \"table\"}]}, \"layout\": {\"annotationdefaults\": {\"arrowcolor\": \"#2a3f5f\", \"arrowhead\": 0, \"arrowwidth\": 1}, \"coloraxis\": {\"colorbar\": {\"outlinewidth\": 0, \"ticks\": \"\"}}, \"colorscale\": {\"diverging\": [[0, \"#8e0152\"], [0.1, \"#c51b7d\"], [0.2, \"#de77ae\"], [0.3, \"#f1b6da\"], [0.4, \"#fde0ef\"], [0.5, \"#f7f7f7\"], [0.6, \"#e6f5d0\"], [0.7, \"#b8e186\"], [0.8, \"#7fbc41\"], [0.9, \"#4d9221\"], [1, \"#276419\"]], \"sequential\": [[0.0, \"#0d0887\"], [0.1111111111111111, \"#46039f\"], [0.2222222222222222, \"#7201a8\"], [0.3333333333333333, \"#9c179e\"], [0.4444444444444444, \"#bd3786\"], [0.5555555555555556, \"#d8576b\"], [0.6666666666666666, \"#ed7953\"], [0.7777777777777778, \"#fb9f3a\"], [0.8888888888888888, \"#fdca26\"], [1.0, \"#f0f921\"]], \"sequentialminus\": [[0.0, \"#0d0887\"], [0.1111111111111111, \"#46039f\"], [0.2222222222222222, \"#7201a8\"], [0.3333333333333333, \"#9c179e\"], [0.4444444444444444, \"#bd3786\"], [0.5555555555555556, \"#d8576b\"], [0.6666666666666666, \"#ed7953\"], [0.7777777777777778, \"#fb9f3a\"], [0.8888888888888888, \"#fdca26\"], [1.0, \"#f0f921\"]]}, \"colorway\": [\"#636efa\", \"#EF553B\", \"#00cc96\", \"#ab63fa\", \"#FFA15A\", \"#19d3f3\", \"#FF6692\", \"#B6E880\", \"#FF97FF\", \"#FECB52\"], \"font\": {\"color\": \"#2a3f5f\"}, \"geo\": {\"bgcolor\": \"white\", \"lakecolor\": \"white\", \"landcolor\": \"#E5ECF6\", \"showlakes\": true, \"showland\": true, \"subunitcolor\": \"white\"}, \"hoverlabel\": {\"align\": \"left\"}, \"hovermode\": \"closest\", \"mapbox\": {\"style\": \"light\"}, \"paper_bgcolor\": \"white\", \"plot_bgcolor\": \"#E5ECF6\", \"polar\": {\"angularaxis\": {\"gridcolor\": \"white\", \"linecolor\": \"white\", \"ticks\": \"\"}, \"bgcolor\": \"#E5ECF6\", \"radialaxis\": {\"gridcolor\": \"white\", \"linecolor\": \"white\", \"ticks\": \"\"}}, \"scene\": {\"xaxis\": {\"backgroundcolor\": \"#E5ECF6\", \"gridcolor\": \"white\", \"gridwidth\": 2, \"linecolor\": \"white\", \"showbackground\": true, \"ticks\": \"\", \"zerolinecolor\": \"white\"}, \"yaxis\": {\"backgroundcolor\": \"#E5ECF6\", \"gridcolor\": \"white\", \"gridwidth\": 2, \"linecolor\": \"white\", \"showbackground\": true, \"ticks\": \"\", \"zerolinecolor\": \"white\"}, \"zaxis\": {\"backgroundcolor\": \"#E5ECF6\", \"gridcolor\": \"white\", \"gridwidth\": 2, \"linecolor\": \"white\", \"showbackground\": true, \"ticks\": \"\", \"zerolinecolor\": \"white\"}}, \"shapedefaults\": {\"line\": {\"color\": \"#2a3f5f\"}}, \"ternary\": {\"aaxis\": {\"gridcolor\": \"white\", \"linecolor\": \"white\", \"ticks\": \"\"}, \"baxis\": {\"gridcolor\": \"white\", \"linecolor\": \"white\", \"ticks\": \"\"}, \"bgcolor\": \"#E5ECF6\", \"caxis\": {\"gridcolor\": \"white\", \"linecolor\": \"white\", \"ticks\": \"\"}}, \"title\": {\"x\": 0.05}, \"xaxis\": {\"automargin\": true, \"gridcolor\": \"white\", \"linecolor\": \"white\", \"ticks\": \"\", \"title\": {\"standoff\": 15}, \"zerolinecolor\": \"white\", \"zerolinewidth\": 2}, \"yaxis\": {\"automargin\": true, \"gridcolor\": \"white\", \"linecolor\": \"white\", \"ticks\": \"\", \"title\": {\"standoff\": 15}, \"zerolinecolor\": \"white\", \"zerolinewidth\": 2}}}},\n",
              "                        {\"responsive\": true}\n",
              "                    ).then(function(){\n",
              "                            \n",
              "var gd = document.getElementById('8a1cc239-6620-474d-8d1e-2a0a751cfb00');\n",
              "var x = new MutationObserver(function (mutations, observer) {{\n",
              "        var display = window.getComputedStyle(gd).display;\n",
              "        if (!display || display === 'none') {{\n",
              "            console.log([gd, 'removed!']);\n",
              "            Plotly.purge(gd);\n",
              "            observer.disconnect();\n",
              "        }}\n",
              "}});\n",
              "\n",
              "// Listen for the removal of the full notebook cells\n",
              "var notebookContainer = gd.closest('#notebook-container');\n",
              "if (notebookContainer) {{\n",
              "    x.observe(notebookContainer, {childList: true});\n",
              "}}\n",
              "\n",
              "// Listen for the clearing of the current output cell\n",
              "var outputEl = gd.closest('.output');\n",
              "if (outputEl) {{\n",
              "    x.observe(outputEl, {childList: true});\n",
              "}}\n",
              "\n",
              "                        })\n",
              "                };\n",
              "                \n",
              "            </script>\n",
              "        </div>\n",
              "</body>\n",
              "</html>"
            ]
          },
          "metadata": {
            "tags": []
          }
        }
      ]
    },
    {
      "cell_type": "markdown",
      "metadata": {
        "id": "60XLO_sfPBrR"
      },
      "source": [
        "## *4.6 - Health Analysis*"
      ]
    },
    {
      "cell_type": "markdown",
      "metadata": {
        "id": "awVREGM4WvoC"
      },
      "source": [
        "### 4.6.1 - Analysis Query - Version 1"
      ]
    },
    {
      "cell_type": "code",
      "metadata": {
        "id": "wTY5CrcVO_37"
      },
      "source": [
        "#\n",
        "# Health Analysis Version 1 - Grouped By Region\n",
        "#\n",
        "# World Happiness Table\n",
        "#   Country\n",
        "#   Score\n",
        "#\n",
        "# Country_Profile_Variables\n",
        "#   HEALTH_TOTAL_EXPENDITURE_OF_GDP\n",
        "#   INFANT_MORTALITY_RATE_PER_1000_LIVE_BIRTHS\n",
        "#   POP_USING_IMPROVED_SANITATION_FACILITIES_URBAN\n",
        "#   POP_USING_IMPROVED_SANITATION_FACILITIES_RURAL\n",
        "#   LIFE_EXPECTANCY_AT_BIRTH_FEMALES_YEARS\n",
        "#   LIFE_EXPECTANCY_AT_BIRTH_MALES_YEARS\n",
        "#\n",
        "# Country_Region\n",
        "#   Region\n",
        "#\n",
        "#\n",
        "conn = sqlite3.connect(\"WorldHappiness.db\") \n",
        "\n",
        "try: \n",
        "  df_q6 = pd.read_sql_query('''select wh.Country,     \n",
        "                                      cr.Region,\n",
        "                                      wh.Happiness_Score as SCORE,\n",
        "                                       cp.HEALTH_TOTAL_EXPENDITURE_OF_GDP AS HEALTH_GDP, \n",
        "                                       cp.INFANT_MORTALITY_RATE_PER_1000_LIVE_BIRTHS as MORT_RATE, \n",
        "                                      cp.POP_USING_IMPROVED_SANITATION_FACILITIES_URBAN as FAC_URBAN,\n",
        "  \t                                  cp.POP_USING_IMPROVED_SANITATION_FACILITIES_RURAL as FAC_RURAL,\n",
        "\t                                     cp.LIFE_EXPECTANCY_AT_BIRTH_FEMALES_YEARS as LIFE_EXP_FEMALE,\n",
        "\t                                     cp.LIFE_EXPECTANCY_AT_BIRTH_MALES_YEARS as LIFE_EXP_MALE\n",
        "                                    FROM World_Happiness_2017 wh JOIN Country_Profile_Variables cp on (wh.country=cp.country)\n",
        "                                      JOIN Country_Region cr on (cr.Country = wh.Country)\n",
        "                                          Group By Region\n",
        "                                          Order by Score \n",
        "                                  ''',conn)\n",
        "except Exception as e: \n",
        "  print('Could not execute query - Error: ' + str(e))\n",
        "finally: \n",
        "  conn.close()"
      ],
      "execution_count": 135,
      "outputs": []
    },
    {
      "cell_type": "markdown",
      "metadata": {
        "id": "_0wiEtVKXDwB"
      },
      "source": [
        "### 4.6.2 - Results Graph - Version  1"
      ]
    },
    {
      "cell_type": "code",
      "metadata": {
        "id": "ZeybFbYUgBbg",
        "colab": {
          "base_uri": "https://localhost:8080/",
          "height": 542
        },
        "outputId": "4dcf3960-6176-4a79-b3b0-b46b710b30cf"
      },
      "source": [
        "x = df_q6[\"REGION\"]\n",
        "y = df_q6[\"SCORE\"]\n",
        "y1 = df_q6[\"MORT_RATE\"]\n",
        "y2 = df_q6[\"FAC_URBAN\"]\n",
        "y3 = df_q6[\"FAC_RURAL\"]\n",
        "y4 = df_q6[\"LIFE_EXP_FEMALE\"]\n",
        "y5 = df_q6[\"LIFE_EXP_MALE\"]\n",
        "\n",
        "fig = go.Figure()\n",
        "fig.add_trace(go.Histogram(y=y, x=x, histfunc='avg', name=\"SCORE\"))\n",
        "fig.add_trace(go.Histogram(histfunc=\"avg\", y=y1, x=x, name=\"MORT_RATE\"))\n",
        "fig.add_trace(go.Histogram(histfunc=\"avg\", y=y2, x=x, name = \"FAC_URBAN\"))\n",
        "fig.add_trace(go.Histogram(histfunc=\"avg\", y=y3, x=x, name = \"FAC_RURAL\"))\n",
        "fig.add_trace(go.Histogram(histfunc=\"avg\", y=y4, x=x, name = \"LIFE_EXP_FEMALE\"))\n",
        "fig.add_trace(go.Histogram(histfunc=\"avg\", y=y5, x=x, name = \"LIFE_EXP_MALE\"))"
      ],
      "execution_count": 136,
      "outputs": [
        {
          "output_type": "display_data",
          "data": {
            "text/html": [
              "<html>\n",
              "<head><meta charset=\"utf-8\" /></head>\n",
              "<body>\n",
              "    <div>\n",
              "            <script src=\"https://cdnjs.cloudflare.com/ajax/libs/mathjax/2.7.5/MathJax.js?config=TeX-AMS-MML_SVG\"></script><script type=\"text/javascript\">if (window.MathJax) {MathJax.Hub.Config({SVG: {font: \"STIX-Web\"}});}</script>\n",
              "                <script type=\"text/javascript\">window.PlotlyConfig = {MathJaxConfig: 'local'};</script>\n",
              "        <script src=\"https://cdn.plot.ly/plotly-latest.min.js\"></script>    \n",
              "            <div id=\"933a345a-7c8b-4390-a884-9e1098af2e24\" class=\"plotly-graph-div\" style=\"height:525px; width:100%;\"></div>\n",
              "            <script type=\"text/javascript\">\n",
              "                \n",
              "                    window.PLOTLYENV=window.PLOTLYENV || {};\n",
              "                    \n",
              "                if (document.getElementById(\"933a345a-7c8b-4390-a884-9e1098af2e24\")) {\n",
              "                    Plotly.newPlot(\n",
              "                        '933a345a-7c8b-4390-a884-9e1098af2e24',\n",
              "                        [{\"histfunc\": \"avg\", \"name\": \"SCORE\", \"type\": \"histogram\", \"x\": [\"Sub-Saharan Africa\", \"Middle East and Northern Africa\", \"Latin America and Caribbean\", \"Southern Asia\", \"Southeastern Asia\", \"Central and Eastern Europe\", \"Eastern Asia\", \"Western Europe\", \"North America\", \"Australia and New Zealand\"], \"y\": [2.904999971, 3.461999893, 3.6029999260000003, 3.79399991, 4.168000221000001, 4.714000225, 4.954999924, 5.2270002369999995, 6.993000031, 7.28399992]}, {\"histfunc\": \"avg\", \"name\": \"MORT_RATE\", \"type\": \"histogram\", \"x\": [\"Sub-Saharan Africa\", \"Middle East and Northern Africa\", \"Latin America and Caribbean\", \"Southern Asia\", \"Southeastern Asia\", \"Central and Eastern Europe\", \"Eastern Asia\", \"Western Europe\", \"North America\", \"Australia and New Zealand\"], \"y\": [77.8, 17.9, 46.9, 68.6, 29.9, 8.3, 22.8, 3.3, 6.0, 3.9]}, {\"histfunc\": \"avg\", \"name\": \"FAC_URBAN\", \"type\": \"histogram\", \"x\": [\"Sub-Saharan Africa\", \"Middle East and Northern Africa\", \"Latin America and Caribbean\", \"Southern Asia\", \"Southeastern Asia\", \"Central and Eastern Europe\", \"Eastern Asia\", \"Western Europe\", \"North America\", \"Australia and New Zealand\"], \"y\": [43.8, 96.2, 33.6, 45.1, 88.1, 86.8, 66.4, 99.2, 100.0, 100.0]}, {\"histfunc\": \"avg\", \"name\": \"FAC_RURAL\", \"type\": \"histogram\", \"x\": [\"Sub-Saharan Africa\", \"Middle East and Northern Africa\", \"Latin America and Caribbean\", \"Southern Asia\", \"Southeastern Asia\", \"Central and Eastern Europe\", \"Eastern Asia\", \"Western Europe\", \"North America\", \"Australia and New Zealand\"], \"y\": [48.6, 95.1, 19.2, 27.0, 30.5, 83.7, 42.6, 98.1, 100.0, 100.0]}, {\"histfunc\": \"avg\", \"name\": \"LIFE_EXP_FEMALE\", \"type\": \"histogram\", \"x\": [\"Sub-Saharan Africa\", \"Middle East and Northern Africa\", \"Latin America and Caribbean\", \"Southern Asia\", \"Southeastern Asia\", \"Central and Eastern Europe\", \"Eastern Asia\", \"Western Europe\", \"North America\", \"Australia and New Zealand\"], \"y\": [58.0, 76.3, 64.4, 63.5, 69.6, 77.8, 72.7, 83.3, 81.2, 84.4]}, {\"histfunc\": \"avg\", \"name\": \"LIFE_EXP_MALE\", \"type\": \"histogram\", \"x\": [\"Sub-Saharan Africa\", \"Middle East and Northern Africa\", \"Latin America and Caribbean\", \"Southern Asia\", \"Southeastern Asia\", \"Central and Eastern Europe\", \"Eastern Asia\", \"Western Europe\", \"North America\", \"Australia and New Zealand\"], \"y\": [54.2, 64.4, 60.2, 61.0, 65.5, 70.8, 64.5, 78.0, 76.5, 80.2]}],\n",
              "                        {\"template\": {\"data\": {\"bar\": [{\"error_x\": {\"color\": \"#2a3f5f\"}, \"error_y\": {\"color\": \"#2a3f5f\"}, \"marker\": {\"line\": {\"color\": \"#E5ECF6\", \"width\": 0.5}}, \"type\": \"bar\"}], \"barpolar\": [{\"marker\": {\"line\": {\"color\": \"#E5ECF6\", \"width\": 0.5}}, \"type\": \"barpolar\"}], \"carpet\": [{\"aaxis\": {\"endlinecolor\": \"#2a3f5f\", \"gridcolor\": \"white\", \"linecolor\": \"white\", \"minorgridcolor\": \"white\", \"startlinecolor\": \"#2a3f5f\"}, \"baxis\": {\"endlinecolor\": \"#2a3f5f\", \"gridcolor\": \"white\", \"linecolor\": \"white\", \"minorgridcolor\": \"white\", \"startlinecolor\": \"#2a3f5f\"}, \"type\": \"carpet\"}], \"choropleth\": [{\"colorbar\": {\"outlinewidth\": 0, \"ticks\": \"\"}, \"type\": \"choropleth\"}], \"contour\": [{\"colorbar\": {\"outlinewidth\": 0, \"ticks\": \"\"}, \"colorscale\": [[0.0, \"#0d0887\"], [0.1111111111111111, \"#46039f\"], [0.2222222222222222, \"#7201a8\"], [0.3333333333333333, \"#9c179e\"], [0.4444444444444444, \"#bd3786\"], [0.5555555555555556, \"#d8576b\"], [0.6666666666666666, \"#ed7953\"], [0.7777777777777778, \"#fb9f3a\"], [0.8888888888888888, \"#fdca26\"], [1.0, \"#f0f921\"]], \"type\": \"contour\"}], \"contourcarpet\": [{\"colorbar\": {\"outlinewidth\": 0, \"ticks\": \"\"}, \"type\": \"contourcarpet\"}], \"heatmap\": [{\"colorbar\": {\"outlinewidth\": 0, \"ticks\": \"\"}, \"colorscale\": [[0.0, \"#0d0887\"], [0.1111111111111111, \"#46039f\"], [0.2222222222222222, \"#7201a8\"], [0.3333333333333333, \"#9c179e\"], [0.4444444444444444, \"#bd3786\"], [0.5555555555555556, \"#d8576b\"], [0.6666666666666666, \"#ed7953\"], [0.7777777777777778, \"#fb9f3a\"], [0.8888888888888888, \"#fdca26\"], [1.0, \"#f0f921\"]], \"type\": \"heatmap\"}], \"heatmapgl\": [{\"colorbar\": {\"outlinewidth\": 0, \"ticks\": \"\"}, \"colorscale\": [[0.0, \"#0d0887\"], [0.1111111111111111, \"#46039f\"], [0.2222222222222222, \"#7201a8\"], [0.3333333333333333, \"#9c179e\"], [0.4444444444444444, \"#bd3786\"], [0.5555555555555556, \"#d8576b\"], [0.6666666666666666, \"#ed7953\"], [0.7777777777777778, \"#fb9f3a\"], [0.8888888888888888, \"#fdca26\"], [1.0, \"#f0f921\"]], \"type\": \"heatmapgl\"}], \"histogram\": [{\"marker\": {\"colorbar\": {\"outlinewidth\": 0, \"ticks\": \"\"}}, \"type\": \"histogram\"}], \"histogram2d\": [{\"colorbar\": {\"outlinewidth\": 0, \"ticks\": \"\"}, \"colorscale\": [[0.0, \"#0d0887\"], [0.1111111111111111, \"#46039f\"], [0.2222222222222222, \"#7201a8\"], [0.3333333333333333, \"#9c179e\"], [0.4444444444444444, \"#bd3786\"], [0.5555555555555556, \"#d8576b\"], [0.6666666666666666, \"#ed7953\"], [0.7777777777777778, \"#fb9f3a\"], [0.8888888888888888, \"#fdca26\"], [1.0, \"#f0f921\"]], \"type\": \"histogram2d\"}], \"histogram2dcontour\": [{\"colorbar\": {\"outlinewidth\": 0, \"ticks\": \"\"}, \"colorscale\": [[0.0, \"#0d0887\"], [0.1111111111111111, \"#46039f\"], [0.2222222222222222, \"#7201a8\"], [0.3333333333333333, \"#9c179e\"], [0.4444444444444444, \"#bd3786\"], [0.5555555555555556, \"#d8576b\"], [0.6666666666666666, \"#ed7953\"], [0.7777777777777778, \"#fb9f3a\"], [0.8888888888888888, \"#fdca26\"], [1.0, \"#f0f921\"]], \"type\": \"histogram2dcontour\"}], \"mesh3d\": [{\"colorbar\": {\"outlinewidth\": 0, \"ticks\": \"\"}, \"type\": \"mesh3d\"}], \"parcoords\": [{\"line\": {\"colorbar\": {\"outlinewidth\": 0, \"ticks\": \"\"}}, \"type\": \"parcoords\"}], \"pie\": [{\"automargin\": true, \"type\": \"pie\"}], \"scatter\": [{\"marker\": {\"colorbar\": {\"outlinewidth\": 0, \"ticks\": \"\"}}, \"type\": \"scatter\"}], \"scatter3d\": [{\"line\": {\"colorbar\": {\"outlinewidth\": 0, \"ticks\": \"\"}}, \"marker\": {\"colorbar\": {\"outlinewidth\": 0, \"ticks\": \"\"}}, \"type\": \"scatter3d\"}], \"scattercarpet\": [{\"marker\": {\"colorbar\": {\"outlinewidth\": 0, \"ticks\": \"\"}}, \"type\": \"scattercarpet\"}], \"scattergeo\": [{\"marker\": {\"colorbar\": {\"outlinewidth\": 0, \"ticks\": \"\"}}, \"type\": \"scattergeo\"}], \"scattergl\": [{\"marker\": {\"colorbar\": {\"outlinewidth\": 0, \"ticks\": \"\"}}, \"type\": \"scattergl\"}], \"scattermapbox\": [{\"marker\": {\"colorbar\": {\"outlinewidth\": 0, \"ticks\": \"\"}}, \"type\": \"scattermapbox\"}], \"scatterpolar\": [{\"marker\": {\"colorbar\": {\"outlinewidth\": 0, \"ticks\": \"\"}}, \"type\": \"scatterpolar\"}], \"scatterpolargl\": [{\"marker\": {\"colorbar\": {\"outlinewidth\": 0, \"ticks\": \"\"}}, \"type\": \"scatterpolargl\"}], \"scatterternary\": [{\"marker\": {\"colorbar\": {\"outlinewidth\": 0, \"ticks\": \"\"}}, \"type\": \"scatterternary\"}], \"surface\": [{\"colorbar\": {\"outlinewidth\": 0, \"ticks\": \"\"}, \"colorscale\": [[0.0, \"#0d0887\"], [0.1111111111111111, \"#46039f\"], [0.2222222222222222, \"#7201a8\"], [0.3333333333333333, \"#9c179e\"], [0.4444444444444444, \"#bd3786\"], [0.5555555555555556, \"#d8576b\"], [0.6666666666666666, \"#ed7953\"], [0.7777777777777778, \"#fb9f3a\"], [0.8888888888888888, \"#fdca26\"], [1.0, \"#f0f921\"]], \"type\": \"surface\"}], \"table\": [{\"cells\": {\"fill\": {\"color\": \"#EBF0F8\"}, \"line\": {\"color\": \"white\"}}, \"header\": {\"fill\": {\"color\": \"#C8D4E3\"}, \"line\": {\"color\": \"white\"}}, \"type\": \"table\"}]}, \"layout\": {\"annotationdefaults\": {\"arrowcolor\": \"#2a3f5f\", \"arrowhead\": 0, \"arrowwidth\": 1}, \"coloraxis\": {\"colorbar\": {\"outlinewidth\": 0, \"ticks\": \"\"}}, \"colorscale\": {\"diverging\": [[0, \"#8e0152\"], [0.1, \"#c51b7d\"], [0.2, \"#de77ae\"], [0.3, \"#f1b6da\"], [0.4, \"#fde0ef\"], [0.5, \"#f7f7f7\"], [0.6, \"#e6f5d0\"], [0.7, \"#b8e186\"], [0.8, \"#7fbc41\"], [0.9, \"#4d9221\"], [1, \"#276419\"]], \"sequential\": [[0.0, \"#0d0887\"], [0.1111111111111111, \"#46039f\"], [0.2222222222222222, \"#7201a8\"], [0.3333333333333333, \"#9c179e\"], [0.4444444444444444, \"#bd3786\"], [0.5555555555555556, \"#d8576b\"], [0.6666666666666666, \"#ed7953\"], [0.7777777777777778, \"#fb9f3a\"], [0.8888888888888888, \"#fdca26\"], [1.0, \"#f0f921\"]], \"sequentialminus\": [[0.0, \"#0d0887\"], [0.1111111111111111, \"#46039f\"], [0.2222222222222222, \"#7201a8\"], [0.3333333333333333, \"#9c179e\"], [0.4444444444444444, \"#bd3786\"], [0.5555555555555556, \"#d8576b\"], [0.6666666666666666, \"#ed7953\"], [0.7777777777777778, \"#fb9f3a\"], [0.8888888888888888, \"#fdca26\"], [1.0, \"#f0f921\"]]}, \"colorway\": [\"#636efa\", \"#EF553B\", \"#00cc96\", \"#ab63fa\", \"#FFA15A\", \"#19d3f3\", \"#FF6692\", \"#B6E880\", \"#FF97FF\", \"#FECB52\"], \"font\": {\"color\": \"#2a3f5f\"}, \"geo\": {\"bgcolor\": \"white\", \"lakecolor\": \"white\", \"landcolor\": \"#E5ECF6\", \"showlakes\": true, \"showland\": true, \"subunitcolor\": \"white\"}, \"hoverlabel\": {\"align\": \"left\"}, \"hovermode\": \"closest\", \"mapbox\": {\"style\": \"light\"}, \"paper_bgcolor\": \"white\", \"plot_bgcolor\": \"#E5ECF6\", \"polar\": {\"angularaxis\": {\"gridcolor\": \"white\", \"linecolor\": \"white\", \"ticks\": \"\"}, \"bgcolor\": \"#E5ECF6\", \"radialaxis\": {\"gridcolor\": \"white\", \"linecolor\": \"white\", \"ticks\": \"\"}}, \"scene\": {\"xaxis\": {\"backgroundcolor\": \"#E5ECF6\", \"gridcolor\": \"white\", \"gridwidth\": 2, \"linecolor\": \"white\", \"showbackground\": true, \"ticks\": \"\", \"zerolinecolor\": \"white\"}, \"yaxis\": {\"backgroundcolor\": \"#E5ECF6\", \"gridcolor\": \"white\", \"gridwidth\": 2, \"linecolor\": \"white\", \"showbackground\": true, \"ticks\": \"\", \"zerolinecolor\": \"white\"}, \"zaxis\": {\"backgroundcolor\": \"#E5ECF6\", \"gridcolor\": \"white\", \"gridwidth\": 2, \"linecolor\": \"white\", \"showbackground\": true, \"ticks\": \"\", \"zerolinecolor\": \"white\"}}, \"shapedefaults\": {\"line\": {\"color\": \"#2a3f5f\"}}, \"ternary\": {\"aaxis\": {\"gridcolor\": \"white\", \"linecolor\": \"white\", \"ticks\": \"\"}, \"baxis\": {\"gridcolor\": \"white\", \"linecolor\": \"white\", \"ticks\": \"\"}, \"bgcolor\": \"#E5ECF6\", \"caxis\": {\"gridcolor\": \"white\", \"linecolor\": \"white\", \"ticks\": \"\"}}, \"title\": {\"x\": 0.05}, \"xaxis\": {\"automargin\": true, \"gridcolor\": \"white\", \"linecolor\": \"white\", \"ticks\": \"\", \"title\": {\"standoff\": 15}, \"zerolinecolor\": \"white\", \"zerolinewidth\": 2}, \"yaxis\": {\"automargin\": true, \"gridcolor\": \"white\", \"linecolor\": \"white\", \"ticks\": \"\", \"title\": {\"standoff\": 15}, \"zerolinecolor\": \"white\", \"zerolinewidth\": 2}}}},\n",
              "                        {\"responsive\": true}\n",
              "                    ).then(function(){\n",
              "                            \n",
              "var gd = document.getElementById('933a345a-7c8b-4390-a884-9e1098af2e24');\n",
              "var x = new MutationObserver(function (mutations, observer) {{\n",
              "        var display = window.getComputedStyle(gd).display;\n",
              "        if (!display || display === 'none') {{\n",
              "            console.log([gd, 'removed!']);\n",
              "            Plotly.purge(gd);\n",
              "            observer.disconnect();\n",
              "        }}\n",
              "}});\n",
              "\n",
              "// Listen for the removal of the full notebook cells\n",
              "var notebookContainer = gd.closest('#notebook-container');\n",
              "if (notebookContainer) {{\n",
              "    x.observe(notebookContainer, {childList: true});\n",
              "}}\n",
              "\n",
              "// Listen for the clearing of the current output cell\n",
              "var outputEl = gd.closest('.output');\n",
              "if (outputEl) {{\n",
              "    x.observe(outputEl, {childList: true});\n",
              "}}\n",
              "\n",
              "                        })\n",
              "                };\n",
              "                \n",
              "            </script>\n",
              "        </div>\n",
              "</body>\n",
              "</html>"
            ]
          },
          "metadata": {
            "tags": []
          }
        }
      ]
    },
    {
      "cell_type": "markdown",
      "metadata": {
        "id": "dBV4ErWnWqAh"
      },
      "source": [
        "### 4.6.3 - Analysis Query - Version 2"
      ]
    },
    {
      "cell_type": "code",
      "metadata": {
        "id": "ThFJG6gaiFgm"
      },
      "source": [
        "#\n",
        "# Health Analysis Version 2 - Not Grouped\n",
        "#\n",
        "# World Happiness Table\n",
        "#   Country\n",
        "#   Score\n",
        "#\n",
        "# Country_Profile_Variables\n",
        "#   HEALTH_TOTAL_EXPENDITURE_OF_GDP\n",
        "#   INFANT_MORTALITY_RATE_PER_1000_LIVE_BIRTHS\n",
        "#   POP_USING_IMPROVED_SANITATION_FACILITIES_URBAN\n",
        "#   POP_USING_IMPROVED_SANITATION_FACILITIES_RURAL\n",
        "#   LIFE_EXPECTANCY_AT_BIRTH_FEMALES_YEARS\n",
        "#   LIFE_EXPECTANCY_AT_BIRTH_MALES_YEARS\n",
        "#\n",
        "# Country_Region\n",
        "#   Region\n",
        "#\n",
        "#\n",
        "conn = sqlite3.connect(\"WorldHappiness.db\") \n",
        "\n",
        "try: \n",
        "  df_q61 = pd.read_sql_query('''select wh.Country,     \n",
        "                                      cr.Region,\n",
        "                                      wh.Happiness_Score as SCORE,\n",
        "                                      cp.HEALTH_TOTAL_EXPENDITURE_OF_GDP AS HEALTH_GDP, \n",
        "                                      cp.INFANT_MORTALITY_RATE_PER_1000_LIVE_BIRTHS as MORT_RATE, \n",
        "                                      cp.POP_USING_IMPROVED_SANITATION_FACILITIES_URBAN as FAC_URBAN,\n",
        "  \t                                  cp.POP_USING_IMPROVED_SANITATION_FACILITIES_RURAL as FAC_RURAL,\n",
        "\t                                    cp.LIFE_EXPECTANCY_AT_BIRTH_FEMALES_YEARS as LIFE_EXP_FEMALE,\n",
        "\t                                    cp.LIFE_EXPECTANCY_AT_BIRTH_MALES_YEARS as LIFE_EXP_MALE\n",
        "                                    FROM World_Happiness_2017 wh JOIN Country_Profile_Variables cp on (wh.country=cp.country)\n",
        "                                      JOIN Country_Region cr on (cr.Country = wh.Country)\n",
        "                                  ''',conn)\n",
        "except Exception as e: \n",
        "  print('Could not execute query - Error: ' + str(e))\n",
        "finally: \n",
        "  conn.close()"
      ],
      "execution_count": 137,
      "outputs": []
    },
    {
      "cell_type": "markdown",
      "metadata": {
        "id": "mn9-NzPYXPjw"
      },
      "source": [
        "### 4.6.4 - Results Graph - Version 2"
      ]
    },
    {
      "cell_type": "code",
      "metadata": {
        "id": "Hra27ivGig6_",
        "colab": {
          "base_uri": "https://localhost:8080/",
          "height": 542
        },
        "outputId": "a5b85868-c36d-4220-cd76-9e760367c3a2"
      },
      "source": [
        "fig = px.scatter(df_q61, x=\"SCORE\", y=\"HEALTH_GDP\", color=\"REGION\")\n",
        "fig.update_layout(\n",
        "    title_text='Relationship Between Happiness Score and Health GDP by Region'\n",
        ")\n",
        "fig.show()"
      ],
      "execution_count": 138,
      "outputs": [
        {
          "output_type": "display_data",
          "data": {
            "text/html": [
              "<html>\n",
              "<head><meta charset=\"utf-8\" /></head>\n",
              "<body>\n",
              "    <div>\n",
              "            <script src=\"https://cdnjs.cloudflare.com/ajax/libs/mathjax/2.7.5/MathJax.js?config=TeX-AMS-MML_SVG\"></script><script type=\"text/javascript\">if (window.MathJax) {MathJax.Hub.Config({SVG: {font: \"STIX-Web\"}});}</script>\n",
              "                <script type=\"text/javascript\">window.PlotlyConfig = {MathJaxConfig: 'local'};</script>\n",
              "        <script src=\"https://cdn.plot.ly/plotly-latest.min.js\"></script>    \n",
              "            <div id=\"df728c4f-2b91-4173-bb6b-c264cd56c3f4\" class=\"plotly-graph-div\" style=\"height:525px; width:100%;\"></div>\n",
              "            <script type=\"text/javascript\">\n",
              "                \n",
              "                    window.PLOTLYENV=window.PLOTLYENV || {};\n",
              "                    \n",
              "                if (document.getElementById(\"df728c4f-2b91-4173-bb6b-c264cd56c3f4\")) {\n",
              "                    Plotly.newPlot(\n",
              "                        'df728c4f-2b91-4173-bb6b-c264cd56c3f4',\n",
              "                        [{\"hoverlabel\": {\"namelength\": 0}, \"hovertemplate\": \"REGION=Western Europe<br>SCORE=%{x}<br>HEALTH_GDP=%{y}\", \"legendgroup\": \"REGION=Western Europe\", \"marker\": {\"color\": \"#636efa\", \"symbol\": \"circle\"}, \"mode\": \"markers\", \"name\": \"REGION=Western Europe\", \"showlegend\": true, \"type\": \"scatter\", \"x\": [7.521999836, 7.493999958, 7.504000187000001, 7.537000179, 7.468999863, 7.376999855, 7.28399992, 7.006000042, 6.951000214, 6.890999794, 6.977000237, 6.862999916000001, 6.714000225, 6.52699995, 6.441999912000001, 6.402999877999999, 5.964000225, 5.620999812999999, 5.195000172, 5.2270002369999995], \"xaxis\": \"x\", \"y\": [10.8, 11.7, 8.9, 9.7, 9.7, 10.9, 11.9, 11.2, 11.3, 10.6, 7.8, 6.9, 9.1, 9.7, 11.5, 9.0, 9.2, 7.4, 9.5, 8.1], \"yaxis\": \"y\"}, {\"hoverlabel\": {\"namelength\": 0}, \"hovertemplate\": \"REGION=North America<br>SCORE=%{x}<br>HEALTH_GDP=%{y}\", \"legendgroup\": \"REGION=North America\", \"marker\": {\"color\": \"#EF553B\", \"symbol\": \"circle\"}, \"mode\": \"markers\", \"name\": \"REGION=North America\", \"showlegend\": true, \"type\": \"scatter\", \"x\": [7.315999985, 6.993000031], \"xaxis\": \"x\", \"y\": [10.4, 17.1], \"yaxis\": \"y\"}, {\"hoverlabel\": {\"namelength\": 0}, \"hovertemplate\": \"REGION=Australia and New Zealand<br>SCORE=%{x}<br>HEALTH_GDP=%{y}\", \"legendgroup\": \"REGION=Australia and New Zealand\", \"marker\": {\"color\": \"#00cc96\", \"symbol\": \"circle\"}, \"mode\": \"markers\", \"name\": \"REGION=Australia and New Zealand\", \"showlegend\": true, \"type\": \"scatter\", \"x\": [7.31400013, 7.28399992], \"xaxis\": \"x\", \"y\": [11.0, 9.4], \"yaxis\": \"y\"}, {\"hoverlabel\": {\"namelength\": 0}, \"hovertemplate\": \"REGION=Middle East and Northern Africa<br>SCORE=%{x}<br>HEALTH_GDP=%{y}\", \"legendgroup\": \"REGION=Middle East and Northern Africa\", \"marker\": {\"color\": \"#ab63fa\", \"symbol\": \"circle\"}, \"mode\": \"markers\", \"name\": \"REGION=Middle East and Northern Africa\", \"showlegend\": true, \"type\": \"scatter\", \"x\": [7.212999821, 6.647999763, 6.343999863, 6.375, 5.872000217, 6.105000018999999, 6.086999893, 5.525000095, 5.5, 5.335999966, 5.235000134, 5.224999905, 4.804999828, 4.775000095, 4.497000217, 4.735000134, 3.592999935, 3.461999893], \"xaxis\": \"x\", \"y\": [7.8, 3.6, 4.7, 2.2, 7.2, 3.0, 5.0, 5.0, 5.4, 7.5, 5.9, 6.4, 7.0, null, 5.5, 5.6, 5.6, 3.3], \"yaxis\": \"y\"}, {\"hoverlabel\": {\"namelength\": 0}, \"hovertemplate\": \"REGION=Latin America and Caribbean<br>SCORE=%{x}<br>HEALTH_GDP=%{y}\", \"legendgroup\": \"REGION=Latin America and Caribbean\", \"marker\": {\"color\": \"#FFA15A\", \"symbol\": \"circle\"}, \"mode\": \"markers\", \"name\": \"REGION=Latin America and Caribbean\", \"showlegend\": true, \"type\": \"scatter\", \"x\": [7.078999996, 6.635000229, 6.578000069, 6.65199995, 6.452000141, 6.598999977, 6.453999996, 6.3569998739999996, 6.453999996, 6.168000221000001, 5.25, 6.002999783, 6.071000099, 6.007999897, 5.9559998510000005, 5.822999954, 5.715000152999999, 5.493000031, 5.31099987, 5.230000018999999, 5.181000233, 3.6029999260000003], \"xaxis\": \"x\", \"y\": [9.3, 8.3, 6.3, 7.8, 8.0, 4.8, 8.6, 7.2, 6.2, 5.9, 5.3, 6.8, 9.0, 9.2, 5.8, 6.3, 5.5, 9.8, 5.4, 4.4, 8.7, 7.6], \"yaxis\": \"y\"}, {\"hoverlabel\": {\"namelength\": 0}, \"hovertemplate\": \"REGION=Southeastern Asia<br>SCORE=%{x}<br>HEALTH_GDP=%{y}\", \"legendgroup\": \"REGION=Southeastern Asia\", \"marker\": {\"color\": \"#19d3f3\", \"symbol\": \"circle\"}, \"mode\": \"markers\", \"name\": \"REGION=Southeastern Asia\", \"showlegend\": true, \"type\": \"scatter\", \"x\": [6.5720000270000005, 6.423999786, 6.084000111, 5.262000083999999, 5.429999828, 5.073999882, 4.545000076, 4.168000221000001], \"xaxis\": \"x\", \"y\": [4.9, 4.1, 4.2, 2.8, 4.7, 7.1, 2.3, 5.7], \"yaxis\": \"y\"}, {\"hoverlabel\": {\"namelength\": 0}, \"hovertemplate\": \"REGION=Central and Eastern Europe<br>SCORE=%{x}<br>HEALTH_GDP=%{y}\", \"legendgroup\": \"REGION=Central and Eastern Europe\", \"marker\": {\"color\": \"#FF6692\", \"symbol\": \"circle\"}, \"mode\": \"markers\", \"name\": \"REGION=Central and Eastern Europe\", \"showlegend\": true, \"type\": \"scatter\", \"x\": [6.609000206, 6.09800005, 5.971000195, 5.818999767, 5.837999821, 5.962999821, 5.97300005, 5.90199995, 5.568999767, 5.757999897, 5.8220000270000005, 5.849999905, 5.8249998089999995, 5.611000061, 5.293000221000001, 5.234000206, 5.004000187, 5.394999981000001, 5.18200016, 5.236999989, 5.323999882, 5.040999889, 4.644000053, 4.375999928, 4.096000195, 4.285999775, 4.714000225], \"xaxis\": \"x\", \"y\": [7.4, 8.1, 5.8, 4.4, 10.3, 7.1, 6.4, 6.6, 5.7, 9.2, 2.1, 5.9, 5.6, 6.4, 7.8, 6.0, 6.5, 10.4, 9.6, 6.4, 7.4, 6.9, 5.9, 4.5, 7.1, 7.4, 8.4], \"yaxis\": \"y\"}, {\"hoverlabel\": {\"namelength\": 0}, \"hovertemplate\": \"REGION=Eastern Asia<br>SCORE=%{x}<br>HEALTH_GDP=%{y}\", \"legendgroup\": \"REGION=Eastern Asia\", \"marker\": {\"color\": \"#B6E880\", \"symbol\": \"circle\"}, \"mode\": \"markers\", \"name\": \"REGION=Eastern Asia\", \"showlegend\": true, \"type\": \"scatter\", \"x\": [5.920000076, 5.2729997630000005, 4.954999924], \"xaxis\": \"x\", \"y\": [10.2, 5.5, 4.7], \"yaxis\": \"y\"}, {\"hoverlabel\": {\"namelength\": 0}, \"hovertemplate\": \"REGION=Sub-Saharan Africa<br>SCORE=%{x}<br>HEALTH_GDP=%{y}\", \"legendgroup\": \"REGION=Sub-Saharan Africa\", \"marker\": {\"color\": \"#FF97FF\", \"symbol\": \"circle\"}, \"mode\": \"markers\", \"name\": \"REGION=Sub-Saharan Africa\", \"showlegend\": true, \"type\": \"scatter\", \"x\": [5.629000187000001, 5.151000023, 5.073999882, 4.513999939, 4.709000111, 4.573999882, 4.695000172, 4.460000038, 4.828999996, 4.552999973, 4.1199998860000004, 4.28000021, 4.290999889, 4.534999847, 4.291999817, 3.875, 3.970000029, 4.138999939, 4.465000153, 4.190000057, 3.766000032, 3.7950000760000004, 4.027999878, 3.59100008, 3.9360001089999996, 4.032000065, 4.0809998510000005, 3.644000053, 3.348999977, 3.5329999919999997, 3.5069999689999998, 3.4709999560000004, 3.657000065, 3.4949998860000004, 2.904999971], \"xaxis\": \"x\", \"y\": [4.8, null, 3.7, 5.0, 11.1, null, 4.1, 4.9, 8.8, 5.7, 3.6, 4.3, 5.2, 4.7, 3.8, 6.0, 11.4, 8.4, 3.4, 7.0, 5.4, 3.3, 6.0, 2.7, 3.6, 5.0, 7.2, 3.0, 5.6, 10.0, 5.6, 7.5, 4.6, 5.2, 7.5], \"yaxis\": \"y\"}, {\"hoverlabel\": {\"namelength\": 0}, \"hovertemplate\": \"REGION=Southern Asia<br>SCORE=%{x}<br>HEALTH_GDP=%{y}\", \"legendgroup\": \"REGION=Southern Asia\", \"marker\": {\"color\": \"#FECB52\", \"symbol\": \"circle\"}, \"mode\": \"markers\", \"name\": \"REGION=Southern Asia\", \"showlegend\": true, \"type\": \"scatter\", \"x\": [5.011000156000001, 5.269000053, 4.961999893, 4.607999802, 4.440000057, 4.315000057, 3.79399991], \"xaxis\": \"x\", \"y\": [3.6, 2.6, 5.8, 2.8, 3.5, 4.7, 8.2], \"yaxis\": \"y\"}],\n",
              "                        {\"legend\": {\"tracegroupgap\": 0}, \"margin\": {\"t\": 60}, \"template\": {\"data\": {\"bar\": [{\"error_x\": {\"color\": \"#2a3f5f\"}, \"error_y\": {\"color\": \"#2a3f5f\"}, \"marker\": {\"line\": {\"color\": \"#E5ECF6\", \"width\": 0.5}}, \"type\": \"bar\"}], \"barpolar\": [{\"marker\": {\"line\": {\"color\": \"#E5ECF6\", \"width\": 0.5}}, \"type\": \"barpolar\"}], \"carpet\": [{\"aaxis\": {\"endlinecolor\": \"#2a3f5f\", \"gridcolor\": \"white\", \"linecolor\": \"white\", \"minorgridcolor\": \"white\", \"startlinecolor\": \"#2a3f5f\"}, \"baxis\": {\"endlinecolor\": \"#2a3f5f\", \"gridcolor\": \"white\", \"linecolor\": \"white\", \"minorgridcolor\": \"white\", \"startlinecolor\": \"#2a3f5f\"}, \"type\": \"carpet\"}], \"choropleth\": [{\"colorbar\": {\"outlinewidth\": 0, \"ticks\": \"\"}, \"type\": \"choropleth\"}], \"contour\": [{\"colorbar\": {\"outlinewidth\": 0, \"ticks\": \"\"}, \"colorscale\": [[0.0, \"#0d0887\"], [0.1111111111111111, \"#46039f\"], [0.2222222222222222, \"#7201a8\"], [0.3333333333333333, \"#9c179e\"], [0.4444444444444444, \"#bd3786\"], [0.5555555555555556, \"#d8576b\"], [0.6666666666666666, \"#ed7953\"], [0.7777777777777778, \"#fb9f3a\"], [0.8888888888888888, \"#fdca26\"], [1.0, \"#f0f921\"]], \"type\": \"contour\"}], \"contourcarpet\": [{\"colorbar\": {\"outlinewidth\": 0, \"ticks\": \"\"}, \"type\": \"contourcarpet\"}], \"heatmap\": [{\"colorbar\": {\"outlinewidth\": 0, \"ticks\": \"\"}, \"colorscale\": [[0.0, \"#0d0887\"], [0.1111111111111111, \"#46039f\"], [0.2222222222222222, \"#7201a8\"], [0.3333333333333333, \"#9c179e\"], [0.4444444444444444, \"#bd3786\"], [0.5555555555555556, \"#d8576b\"], [0.6666666666666666, \"#ed7953\"], [0.7777777777777778, \"#fb9f3a\"], [0.8888888888888888, \"#fdca26\"], [1.0, \"#f0f921\"]], \"type\": \"heatmap\"}], \"heatmapgl\": [{\"colorbar\": {\"outlinewidth\": 0, \"ticks\": \"\"}, \"colorscale\": [[0.0, \"#0d0887\"], [0.1111111111111111, \"#46039f\"], [0.2222222222222222, \"#7201a8\"], [0.3333333333333333, \"#9c179e\"], [0.4444444444444444, \"#bd3786\"], [0.5555555555555556, \"#d8576b\"], [0.6666666666666666, \"#ed7953\"], [0.7777777777777778, \"#fb9f3a\"], [0.8888888888888888, \"#fdca26\"], [1.0, \"#f0f921\"]], \"type\": \"heatmapgl\"}], \"histogram\": [{\"marker\": {\"colorbar\": {\"outlinewidth\": 0, \"ticks\": \"\"}}, \"type\": \"histogram\"}], \"histogram2d\": [{\"colorbar\": {\"outlinewidth\": 0, \"ticks\": \"\"}, \"colorscale\": [[0.0, \"#0d0887\"], [0.1111111111111111, \"#46039f\"], [0.2222222222222222, \"#7201a8\"], [0.3333333333333333, \"#9c179e\"], [0.4444444444444444, \"#bd3786\"], [0.5555555555555556, \"#d8576b\"], [0.6666666666666666, \"#ed7953\"], [0.7777777777777778, \"#fb9f3a\"], [0.8888888888888888, \"#fdca26\"], [1.0, \"#f0f921\"]], \"type\": \"histogram2d\"}], \"histogram2dcontour\": [{\"colorbar\": {\"outlinewidth\": 0, \"ticks\": \"\"}, \"colorscale\": [[0.0, \"#0d0887\"], [0.1111111111111111, \"#46039f\"], [0.2222222222222222, \"#7201a8\"], [0.3333333333333333, \"#9c179e\"], [0.4444444444444444, \"#bd3786\"], [0.5555555555555556, \"#d8576b\"], [0.6666666666666666, \"#ed7953\"], [0.7777777777777778, \"#fb9f3a\"], [0.8888888888888888, \"#fdca26\"], [1.0, \"#f0f921\"]], \"type\": \"histogram2dcontour\"}], \"mesh3d\": [{\"colorbar\": {\"outlinewidth\": 0, \"ticks\": \"\"}, \"type\": \"mesh3d\"}], \"parcoords\": [{\"line\": {\"colorbar\": {\"outlinewidth\": 0, \"ticks\": \"\"}}, \"type\": \"parcoords\"}], \"pie\": [{\"automargin\": true, \"type\": \"pie\"}], \"scatter\": [{\"marker\": {\"colorbar\": {\"outlinewidth\": 0, \"ticks\": \"\"}}, \"type\": \"scatter\"}], \"scatter3d\": [{\"line\": {\"colorbar\": {\"outlinewidth\": 0, \"ticks\": \"\"}}, \"marker\": {\"colorbar\": {\"outlinewidth\": 0, \"ticks\": \"\"}}, \"type\": \"scatter3d\"}], \"scattercarpet\": [{\"marker\": {\"colorbar\": {\"outlinewidth\": 0, \"ticks\": \"\"}}, \"type\": \"scattercarpet\"}], \"scattergeo\": [{\"marker\": {\"colorbar\": {\"outlinewidth\": 0, \"ticks\": \"\"}}, \"type\": \"scattergeo\"}], \"scattergl\": [{\"marker\": {\"colorbar\": {\"outlinewidth\": 0, \"ticks\": \"\"}}, \"type\": \"scattergl\"}], \"scattermapbox\": [{\"marker\": {\"colorbar\": {\"outlinewidth\": 0, \"ticks\": \"\"}}, \"type\": \"scattermapbox\"}], \"scatterpolar\": [{\"marker\": {\"colorbar\": {\"outlinewidth\": 0, \"ticks\": \"\"}}, \"type\": \"scatterpolar\"}], \"scatterpolargl\": [{\"marker\": {\"colorbar\": {\"outlinewidth\": 0, \"ticks\": \"\"}}, \"type\": \"scatterpolargl\"}], \"scatterternary\": [{\"marker\": {\"colorbar\": {\"outlinewidth\": 0, \"ticks\": \"\"}}, \"type\": \"scatterternary\"}], \"surface\": [{\"colorbar\": {\"outlinewidth\": 0, \"ticks\": \"\"}, \"colorscale\": [[0.0, \"#0d0887\"], [0.1111111111111111, \"#46039f\"], [0.2222222222222222, \"#7201a8\"], [0.3333333333333333, \"#9c179e\"], [0.4444444444444444, \"#bd3786\"], [0.5555555555555556, \"#d8576b\"], [0.6666666666666666, \"#ed7953\"], [0.7777777777777778, \"#fb9f3a\"], [0.8888888888888888, \"#fdca26\"], [1.0, \"#f0f921\"]], \"type\": \"surface\"}], \"table\": [{\"cells\": {\"fill\": {\"color\": \"#EBF0F8\"}, \"line\": {\"color\": \"white\"}}, \"header\": {\"fill\": {\"color\": \"#C8D4E3\"}, \"line\": {\"color\": \"white\"}}, \"type\": \"table\"}]}, \"layout\": {\"annotationdefaults\": {\"arrowcolor\": \"#2a3f5f\", \"arrowhead\": 0, \"arrowwidth\": 1}, \"coloraxis\": {\"colorbar\": {\"outlinewidth\": 0, \"ticks\": \"\"}}, \"colorscale\": {\"diverging\": [[0, \"#8e0152\"], [0.1, \"#c51b7d\"], [0.2, \"#de77ae\"], [0.3, \"#f1b6da\"], [0.4, \"#fde0ef\"], [0.5, \"#f7f7f7\"], [0.6, \"#e6f5d0\"], [0.7, \"#b8e186\"], [0.8, \"#7fbc41\"], [0.9, \"#4d9221\"], [1, \"#276419\"]], \"sequential\": [[0.0, \"#0d0887\"], [0.1111111111111111, \"#46039f\"], [0.2222222222222222, \"#7201a8\"], [0.3333333333333333, \"#9c179e\"], [0.4444444444444444, \"#bd3786\"], [0.5555555555555556, \"#d8576b\"], [0.6666666666666666, \"#ed7953\"], [0.7777777777777778, \"#fb9f3a\"], [0.8888888888888888, \"#fdca26\"], [1.0, \"#f0f921\"]], \"sequentialminus\": [[0.0, \"#0d0887\"], [0.1111111111111111, \"#46039f\"], [0.2222222222222222, \"#7201a8\"], [0.3333333333333333, \"#9c179e\"], [0.4444444444444444, \"#bd3786\"], [0.5555555555555556, \"#d8576b\"], [0.6666666666666666, \"#ed7953\"], [0.7777777777777778, \"#fb9f3a\"], [0.8888888888888888, \"#fdca26\"], [1.0, \"#f0f921\"]]}, \"colorway\": [\"#636efa\", \"#EF553B\", \"#00cc96\", \"#ab63fa\", \"#FFA15A\", \"#19d3f3\", \"#FF6692\", \"#B6E880\", \"#FF97FF\", \"#FECB52\"], \"font\": {\"color\": \"#2a3f5f\"}, \"geo\": {\"bgcolor\": \"white\", \"lakecolor\": \"white\", \"landcolor\": \"#E5ECF6\", \"showlakes\": true, \"showland\": true, \"subunitcolor\": \"white\"}, \"hoverlabel\": {\"align\": \"left\"}, \"hovermode\": \"closest\", \"mapbox\": {\"style\": \"light\"}, \"paper_bgcolor\": \"white\", \"plot_bgcolor\": \"#E5ECF6\", \"polar\": {\"angularaxis\": {\"gridcolor\": \"white\", \"linecolor\": \"white\", \"ticks\": \"\"}, \"bgcolor\": \"#E5ECF6\", \"radialaxis\": {\"gridcolor\": \"white\", \"linecolor\": \"white\", \"ticks\": \"\"}}, \"scene\": {\"xaxis\": {\"backgroundcolor\": \"#E5ECF6\", \"gridcolor\": \"white\", \"gridwidth\": 2, \"linecolor\": \"white\", \"showbackground\": true, \"ticks\": \"\", \"zerolinecolor\": \"white\"}, \"yaxis\": {\"backgroundcolor\": \"#E5ECF6\", \"gridcolor\": \"white\", \"gridwidth\": 2, \"linecolor\": \"white\", \"showbackground\": true, \"ticks\": \"\", \"zerolinecolor\": \"white\"}, \"zaxis\": {\"backgroundcolor\": \"#E5ECF6\", \"gridcolor\": \"white\", \"gridwidth\": 2, \"linecolor\": \"white\", \"showbackground\": true, \"ticks\": \"\", \"zerolinecolor\": \"white\"}}, \"shapedefaults\": {\"line\": {\"color\": \"#2a3f5f\"}}, \"ternary\": {\"aaxis\": {\"gridcolor\": \"white\", \"linecolor\": \"white\", \"ticks\": \"\"}, \"baxis\": {\"gridcolor\": \"white\", \"linecolor\": \"white\", \"ticks\": \"\"}, \"bgcolor\": \"#E5ECF6\", \"caxis\": {\"gridcolor\": \"white\", \"linecolor\": \"white\", \"ticks\": \"\"}}, \"title\": {\"x\": 0.05}, \"xaxis\": {\"automargin\": true, \"gridcolor\": \"white\", \"linecolor\": \"white\", \"ticks\": \"\", \"title\": {\"standoff\": 15}, \"zerolinecolor\": \"white\", \"zerolinewidth\": 2}, \"yaxis\": {\"automargin\": true, \"gridcolor\": \"white\", \"linecolor\": \"white\", \"ticks\": \"\", \"title\": {\"standoff\": 15}, \"zerolinecolor\": \"white\", \"zerolinewidth\": 2}}}, \"title\": {\"text\": \"Relationship Between Happiness Score and Health GDP by Region\"}, \"xaxis\": {\"anchor\": \"y\", \"domain\": [0.0, 1.0], \"title\": {\"text\": \"SCORE\"}}, \"yaxis\": {\"anchor\": \"x\", \"domain\": [0.0, 1.0], \"title\": {\"text\": \"HEALTH_GDP\"}}},\n",
              "                        {\"responsive\": true}\n",
              "                    ).then(function(){\n",
              "                            \n",
              "var gd = document.getElementById('df728c4f-2b91-4173-bb6b-c264cd56c3f4');\n",
              "var x = new MutationObserver(function (mutations, observer) {{\n",
              "        var display = window.getComputedStyle(gd).display;\n",
              "        if (!display || display === 'none') {{\n",
              "            console.log([gd, 'removed!']);\n",
              "            Plotly.purge(gd);\n",
              "            observer.disconnect();\n",
              "        }}\n",
              "}});\n",
              "\n",
              "// Listen for the removal of the full notebook cells\n",
              "var notebookContainer = gd.closest('#notebook-container');\n",
              "if (notebookContainer) {{\n",
              "    x.observe(notebookContainer, {childList: true});\n",
              "}}\n",
              "\n",
              "// Listen for the clearing of the current output cell\n",
              "var outputEl = gd.closest('.output');\n",
              "if (outputEl) {{\n",
              "    x.observe(outputEl, {childList: true});\n",
              "}}\n",
              "\n",
              "                        })\n",
              "                };\n",
              "                \n",
              "            </script>\n",
              "        </div>\n",
              "</body>\n",
              "</html>"
            ]
          },
          "metadata": {
            "tags": []
          }
        }
      ]
    },
    {
      "cell_type": "markdown",
      "metadata": {
        "id": "VkKETP01tJM_"
      },
      "source": [
        "# ***5 Spark Analysis***\n",
        "\n",
        "---"
      ]
    },
    {
      "cell_type": "markdown",
      "metadata": {
        "id": "hD3mbUhptW9f"
      },
      "source": [
        "## 5.1 Spark Query"
      ]
    },
    {
      "cell_type": "code",
      "metadata": {
        "id": "tNxY1y4dteCR",
        "colab": {
          "base_uri": "https://localhost:8080/"
        },
        "outputId": "4af63556-2de9-43b8-d668-f39a1ef66bcf"
      },
      "source": [
        "conn = sqlite3.connect(\"WorldHappiness.db\")\n",
        "\n",
        "try:\n",
        "\n",
        "  df_Spark = pd.read_sql_query('''select wh.Country,\n",
        "                                    cr.Region,\n",
        "                                    wh.Happiness_Score AS Score, \n",
        "                                    cp.MOBILE_CELLULAR_SUBSCRIPTIONS_PER_100_INHABITANTS AS CELLSUBSCRIBERS,\n",
        "                                    cp.INDIVIDUALS_USING_THE_INTERNET_PER_100_INHABITANTS AS INTERNETUSERS,\n",
        "                                    imf.Expense, \n",
        "                                    imf.Savings,\n",
        "                                    cp.GDP_per_capita_current_US as GDP, \n",
        "                                    cp.Unemployment_of_labour_force as UNEMPLOYMENT,\n",
        "                                     \n",
        "\t\t                                \n",
        "                                    wed.rain_mean_annual AS Rain, \n",
        "                                    wed.cloudiness AS Clouds, \n",
        "                                    wed.temp_mean_annual AS Temp, \n",
        "\t\t                                cp.CO2_EMISSIONS_PER_CAPITA AS CO2,\n",
        "\n",
        "                                    cp.LIFE_EXPECTANCY_AT_BIRTH_FEMALES_YEARS as LIFE_EXP_FEMALE,\n",
        "\t                                  cp.LIFE_EXPECTANCY_AT_BIRTH_MALES_YEARS as LIFE_EXP_MALE,\n",
        "                                    cp.HEALTH_TOTAL_EXPENDITURE_OF_GDP AS HEALTH_GDP,\n",
        "                                    cp.INFANT_MORTALITY_RATE_PER_1000_LIVE_BIRTHS as MORT_RATE,\n",
        "                                    cp.INTERNATIONAL_MIGRANT_STOCK_OF_TOTAL_POP as Migrant,\n",
        "                                    cp.POPULATION_IN_THOUSANDS_2017 as Pop\n",
        "\n",
        "\n",
        "                                from World_Happiness_2017 wh JOIN World_Environmental_Data wed on (wh.Country = wed.Country)\n",
        "                                    JOIN Country_Profile_Variables cp on (wh.country=cp.country)\n",
        "                                    JOIN IMF_COMBINED_DATA_2017 imf on (wh.country=imf.country)\n",
        "                                    JOIN country_region cr on (cr.COUNTRY=wh.Country) \n",
        "                            ''',conn)\n",
        "except Exception as e:\n",
        "  print('Could not execute query - Error: ' + str(e))\n",
        "finally:\n",
        "  conn.close()\n",
        "\n",
        "df_Spark.dropna(inplace= True)\n",
        "\n",
        "df_Spark.columns"
      ],
      "execution_count": 139,
      "outputs": [
        {
          "output_type": "execute_result",
          "data": {
            "text/plain": [
              "Index(['COUNTRY', 'REGION', 'Score', 'CELLSUBSCRIBERS', 'INTERNETUSERS',\n",
              "       'EXPENSE', 'SAVINGS', 'GDP', 'UNEMPLOYMENT', 'Rain', 'Clouds', 'Temp',\n",
              "       'CO2', 'LIFE_EXP_FEMALE', 'LIFE_EXP_MALE', 'HEALTH_GDP', 'MORT_RATE',\n",
              "       'Migrant', 'Pop'],\n",
              "      dtype='object')"
            ]
          },
          "metadata": {
            "tags": []
          },
          "execution_count": 139
        }
      ]
    },
    {
      "cell_type": "markdown",
      "metadata": {
        "id": "vpZyc7ck85EY"
      },
      "source": [
        "## 5.2 - Install Spark Libraries"
      ]
    },
    {
      "cell_type": "code",
      "metadata": {
        "id": "bM2RvNfWy69l",
        "colab": {
          "base_uri": "https://localhost:8080/"
        },
        "outputId": "3722c1fa-ac37-4e10-acdf-91e0a1130073"
      },
      "source": [
        "!pip install py4j\n",
        "!apt-get install openjdk-8-jdk-headless -qq > /dev/null\n",
        "!wget -q https://www-us.apache.org/dist/spark/spark-3.1.2/spark-3.1.2-bin-hadoop2.7.tgz\n",
        "!tar xf spark-3.1.2-bin-hadoop2.7.tgz\n",
        "!pip install -q findspark\n",
        "\n",
        "import os\n",
        "os.environ[\"JAVA_HOME\"] = \"/usr/lib/jvm/java-8-openjdk-amd64\"\n",
        "os.environ[\"SPARK_HOME\"] = \"/content/spark-3.1.2-bin-hadoop2.7\"\n",
        "\n",
        "import findspark\n",
        "findspark.init()\n",
        "\n",
        "from pyspark.sql import SparkSession\n",
        "spark = SparkSession.builder.master(\"local[*]\").getOrCreate()\n",
        "\n",
        "from pyspark.ml.feature import VectorAssembler\n",
        "from pyspark.ml.regression import LinearRegression\n",
        "from pyspark.ml.evaluation import RegressionEvaluator"
      ],
      "execution_count": 144,
      "outputs": [
        {
          "output_type": "stream",
          "text": [
            "Requirement already satisfied: py4j in /usr/local/lib/python3.7/dist-packages (0.10.9.2)\n"
          ],
          "name": "stdout"
        }
      ]
    },
    {
      "cell_type": "markdown",
      "metadata": {
        "id": "PMSen2IQYvTR"
      },
      "source": [
        "## 5.3 - Create the Regession Sets"
      ]
    },
    {
      "cell_type": "code",
      "metadata": {
        "id": "yVlwysxkAifr"
      },
      "source": [
        "#\n",
        "# Health Regression Set - Dropping columns not required.\n",
        "#\n",
        "df_regression1 = df_Spark.drop(['COUNTRY',\n",
        "                                'REGION',\n",
        "                                'CELLSUBSCRIBERS',\n",
        "                                'INTERNETUSERS',\n",
        "                                'EXPENSE',\n",
        "                                'SAVINGS',\n",
        "                                'GDP',\n",
        "                                'UNEMPLOYMENT',\n",
        "                                'Rain',\n",
        "                                'Clouds', \n",
        "                                'Temp',\n",
        "                                'CO2'], axis = 1) \n",
        "\n",
        "#\n",
        "# Technology & Financial Regression Set - Dropping columns not required.\n",
        "#\n",
        "df_regression2 = df_Spark.drop(['COUNTRY',\n",
        "                                'REGION',\n",
        "                                'Rain', \n",
        "                                'Clouds', \n",
        "                                'Temp', \n",
        "                                'CO2',\n",
        "                                'GDP',\n",
        "                                'LIFE_EXP_FEMALE',\n",
        "                                'LIFE_EXP_MALE',\n",
        "                                'HEALTH_GDP',\n",
        "                                'MORT_RATE',\n",
        "                                'Migrant',\n",
        "                                'Pop'], axis = 1)\n",
        "#\n",
        "#\n",
        "# Environmental Regression Set - Dropping columns not required.\n",
        "#\n",
        "df_regression3 = df_Spark.drop(['COUNTRY',\n",
        "                                'CELLSUBSCRIBERS',\n",
        "                                'INTERNETUSERS',\n",
        "                                'EXPENSE', \n",
        "                                'SAVINGS',\n",
        "                                'GDP', \n",
        "                                'UNEMPLOYMENT',\n",
        "                                'LIFE_EXP_FEMALE',\n",
        "                                'LIFE_EXP_MALE',\n",
        "                                'HEALTH_GDP',\n",
        "                                'MORT_RATE',\n",
        "                                'Migrant',\n",
        "                                'Pop','Clouds'], axis = 1) \n",
        "#\n",
        "#\n",
        "# Creating unique regression sets as Spark Dataframes.\n",
        "#\n",
        "df_regression_Health  = spark.createDataFrame(df_regression1)\n",
        "df_regression_FinTech = spark.createDataFrame(df_regression2)\n",
        "df_regression_Env     = spark.createDataFrame(df_regression3)"
      ],
      "execution_count": 145,
      "outputs": []
    },
    {
      "cell_type": "markdown",
      "metadata": {
        "id": "S9txIUgHZdDJ"
      },
      "source": [
        "## 5.4 - Regression Set Analysis"
      ]
    },
    {
      "cell_type": "markdown",
      "metadata": {
        "id": "JRgrRVPdZnEI"
      },
      "source": [
        "### 5.4.1 - Analysis 1 - Health Regression Set"
      ]
    },
    {
      "cell_type": "code",
      "metadata": {
        "id": "CQ92eKYoZEho",
        "colab": {
          "base_uri": "https://localhost:8080/"
        },
        "outputId": "f563b91f-11c6-403e-a9b9-1baa66cabe69"
      },
      "source": [
        "assembler_Health = VectorAssembler(inputCols=['LIFE_EXP_FEMALE',\n",
        "\t                                            'LIFE_EXP_MALE',\n",
        "                                              'HEALTH_GDP',\n",
        "                                              'MORT_RATE',\n",
        "                                              'Migrant',\n",
        "                                              'Pop'], outputCol='Attributes')\n",
        "output = assembler_Health.transform(df_regression_Health)\n",
        "finalized_data_Health = output.select(\"Attributes\",\"Score\")\n",
        "finalized_data_Health.show()\n",
        "train_data_Health,test_data_Health = finalized_data_Health.randomSplit([.8,.2])"
      ],
      "execution_count": 146,
      "outputs": [
        {
          "output_type": "stream",
          "text": [
            "+--------------------+------------------+\n",
            "|          Attributes|             Score|\n",
            "+--------------------+------------------+\n",
            "|[82.2,78.1,10.8,3...|       7.521999836|\n",
            "|[84.8,80.5,11.7,3...|       7.493999958|\n",
            "|[83.8,79.7,10.4,4...|       7.315999985|\n",
            "|[83.1,79.4,10.9,3...|       7.376999855|\n",
            "|[83.1,79.5,11.0,4...|        7.31400013|\n",
            "|[84.4,80.2,9.4,3....|        7.28399992|\n",
            "|[83.7,80.0,11.9,2...|        7.28399992|\n",
            "|[83.7,80.0,7.8,3....|       7.212999821|\n",
            "|[83.5,78.4,11.2,3...|       7.006000042|\n",
            "|[81.2,76.5,17.1,6...|       6.993000031|\n",
            "|[81.7,76.7,9.3,9....|       7.078999996|\n",
            "|[82.9,77.9,11.3,3...|       6.951000214|\n",
            "|[78.4,71.0,8.3,15...|       6.635000229|\n",
            "|[83.0,78.0,10.6,3...|       6.890999794|\n",
            "|[83.0,78.7,7.8,3....|       6.977000237|\n",
            "|[83.4,78.8,6.9,3....| 6.862999916000001|\n",
            "|[78.9,74.0,6.3,18...|       6.578000069|\n",
            "|[84.5,80.1,4.9,2....|6.5720000270000005|\n",
            "|[82.8,79.0,9.1,4....|       6.714000225|\n",
            "|[81.3,76.2,7.8,7....|        6.65199995|\n",
            "+--------------------+------------------+\n",
            "only showing top 20 rows\n",
            "\n"
          ],
          "name": "stdout"
        }
      ]
    },
    {
      "cell_type": "code",
      "metadata": {
        "id": "qfJilBj72enO",
        "colab": {
          "base_uri": "https://localhost:8080/"
        },
        "outputId": "5a479857-762a-40fa-8e2e-66550a80f6ca"
      },
      "source": [
        "train_data_Health.count()"
      ],
      "execution_count": 147,
      "outputs": [
        {
          "output_type": "execute_result",
          "data": {
            "text/plain": [
              "96"
            ]
          },
          "metadata": {
            "tags": []
          },
          "execution_count": 147
        }
      ]
    },
    {
      "cell_type": "code",
      "metadata": {
        "id": "S9qEodoy2k1Z",
        "colab": {
          "base_uri": "https://localhost:8080/"
        },
        "outputId": "598fcd79-52b3-411e-e1a8-a43fffe294e9"
      },
      "source": [
        "test_data_Health.count()"
      ],
      "execution_count": 148,
      "outputs": [
        {
          "output_type": "execute_result",
          "data": {
            "text/plain": [
              "33"
            ]
          },
          "metadata": {
            "tags": []
          },
          "execution_count": 148
        }
      ]
    },
    {
      "cell_type": "code",
      "metadata": {
        "id": "BV1xEPO72nVY",
        "colab": {
          "base_uri": "https://localhost:8080/"
        },
        "outputId": "bf01ac3d-6989-4bd0-9711-c058c1c49620"
      },
      "source": [
        "regressor_Health = LinearRegression(featuresCol='Attributes', labelCol='Score')\n",
        "regressor_Health = regressor_Health.fit(train_data_Health)\n",
        "predict_Health = regressor_Health.evaluate(test_data_Health)\n",
        "predict_Health.predictions.show()"
      ],
      "execution_count": 149,
      "outputs": [
        {
          "output_type": "stream",
          "text": [
            "+--------------------+------------------+------------------+\n",
            "|          Attributes|             Score|        prediction|\n",
            "+--------------------+------------------+------------------+\n",
            "|[75.6,69.2,6.2,26...|       6.453999996| 5.248766513325787|\n",
            "|[76.5,74.1,7.2,27...|       5.872000217| 5.622609226266144|\n",
            "|[77.7,66.5,5.7,3....|       5.568999767| 5.586267671015353|\n",
            "|[78.2,69.9,5.3,13...|              5.25| 5.710874355220431|\n",
            "|[78.4,70.8,4.1,11...|       6.423999786| 5.755591896533071|\n",
            "|[79.8,72.6,8.1,5....|        6.09800005| 5.884945918826228|\n",
            "|[80.5,74.3,8.0,15...|       6.452000141| 6.092417175766123|\n",
            "|[81.0,72.9,6.4,4....|        5.97300005| 5.884453222066714|\n",
            "|[82.2,77.7,7.4,4....| 5.620999812999999| 6.364000546771576|\n",
            "|[83.5,78.4,11.2,3...|       7.006000042| 6.805089974644771|\n",
            "|[83.8,79.7,10.4,4...|       7.315999985| 6.949811020017508|\n",
            "|[85.0,78.8,11.5,3...| 6.441999912000001| 7.005801819267678|\n",
            "|[52.6,51.2,3.7,76...|       5.073999882|  3.20044522535369|\n",
            "|[59.3,58.0,5.0,64...|       4.032000065| 4.089991431937433|\n",
            "|[60.7,56.5,7.2,60...|4.0809998510000005| 4.172107030451228|\n",
            "|[61.4,58.5,4.6,67...|       3.657000065| 4.158838673971539|\n",
            "|[61.9,57.5,5.0,53...|       4.513999939|3.9577915177514833|\n",
            "|[63.0,56.1,8.8,36...|       4.828999996| 4.456446704889469|\n",
            "|[63.0,57.4,3.3,65...|3.7950000760000004|3.9479971418402298|\n",
            "|[64.1,61.2,3.8,68...|       4.291999817|4.4300782058555885|\n",
            "+--------------------+------------------+------------------+\n",
            "only showing top 20 rows\n",
            "\n"
          ],
          "name": "stdout"
        }
      ]
    },
    {
      "cell_type": "markdown",
      "metadata": {
        "id": "45aNp0R7I-6C"
      },
      "source": [
        "### 5.4.2 - Analysis 2 - Technology & Finance Regression Set"
      ]
    },
    {
      "cell_type": "code",
      "metadata": {
        "id": "JmbosarJ7orx",
        "colab": {
          "base_uri": "https://localhost:8080/"
        },
        "outputId": "5ecbe4cd-e98d-4fba-d113-ba907dadf0d0"
      },
      "source": [
        "assembler_FinTech = VectorAssembler(inputCols=['CELLSUBSCRIBERS',\n",
        "                                               'INTERNETUSERS',\n",
        "                                               'EXPENSE',\n",
        "                                               'SAVINGS',\n",
        "                                               'UNEMPLOYMENT'], outputCol='Attributes')\n",
        "assembler_FinTech_output = assembler_FinTech.transform(df_regression_FinTech)\n",
        "finalized_data_Fintech = assembler_FinTech_output.select('Attributes','Score')\n",
        "finalized_data_Fintech.show()\n",
        "train_data_FinTech,test_data_FinTech = finalized_data_Fintech.randomSplit([.8,.2])"
      ],
      "execution_count": 150,
      "outputs": [
        {
          "output_type": "stream",
          "text": [
            "+--------------------+------------------+\n",
            "|          Attributes|             Score|\n",
            "+--------------------+------------------+\n",
            "|[128.3,96.3,51.15...|       7.521999836|\n",
            "|[142.0,88.0,32.93...|       7.493999958|\n",
            "|[81.9,88.5,40.25,...|       7.315999985|\n",
            "|[123.5,93.1,42.44...|       7.376999855|\n",
            "|[121.8,88.2,36.17...|        7.31400013|\n",
            "|[132.8,84.6,36.70...|        7.28399992|\n",
            "|[130.4,90.6,47.95...|        7.28399992|\n",
            "|[133.5,78.9,38.76...|       7.212999821|\n",
            "|[157.4,83.9,48.98...|       7.006000042|\n",
            "|[117.6,74.6,35.24...|       6.993000031|\n",
            "|[150.7,59.8,20.02...|       7.078999996|\n",
            "|[116.7,87.6,44.42...|       6.951000214|\n",
            "|[126.6,59.1,38.47...|       6.635000229|\n",
            "|[115.7,85.1,52.13...|       6.890999794|\n",
            "|[103.7,80.1,26.06...|       6.977000237|\n",
            "|[148.5,97.3,42.97...| 6.862999916000001|\n",
            "|[85.3,57.4,25.749...|       6.578000069|\n",
            "|[146.1,82.1,13.79...|6.5720000270000005|\n",
            "|[125.8,92.0,38.40...|       6.714000225|\n",
            "|[129.5,64.3,25.37...|        6.65199995|\n",
            "+--------------------+------------------+\n",
            "only showing top 20 rows\n",
            "\n"
          ],
          "name": "stdout"
        }
      ]
    },
    {
      "cell_type": "code",
      "metadata": {
        "id": "D-GLv0G89tHH",
        "colab": {
          "base_uri": "https://localhost:8080/"
        },
        "outputId": "b09333d0-4df5-40a3-c13e-45165bcbfe31"
      },
      "source": [
        "train_data_FinTech.count()"
      ],
      "execution_count": 151,
      "outputs": [
        {
          "output_type": "execute_result",
          "data": {
            "text/plain": [
              "108"
            ]
          },
          "metadata": {
            "tags": []
          },
          "execution_count": 151
        }
      ]
    },
    {
      "cell_type": "code",
      "metadata": {
        "id": "-FcUUi2E9tVC",
        "colab": {
          "base_uri": "https://localhost:8080/"
        },
        "outputId": "e1c79122-4906-4d32-d9fb-a422a53656e9"
      },
      "source": [
        "test_data_FinTech.count()"
      ],
      "execution_count": 152,
      "outputs": [
        {
          "output_type": "execute_result",
          "data": {
            "text/plain": [
              "21"
            ]
          },
          "metadata": {
            "tags": []
          },
          "execution_count": 152
        }
      ]
    },
    {
      "cell_type": "code",
      "metadata": {
        "id": "Xhyioyfp9Tyk",
        "colab": {
          "base_uri": "https://localhost:8080/"
        },
        "outputId": "14ec3173-1bb0-4d1a-f63d-69463a041650"
      },
      "source": [
        "regressor_FinTech = LinearRegression(featuresCol='Attributes', labelCol='Score')\n",
        "regressor_FinTech = regressor_FinTech.fit(train_data_FinTech)\n",
        "predict_FinTech = regressor_FinTech.evaluate(test_data_FinTech)\n",
        "predict_FinTech.predictions.show()"
      ],
      "execution_count": 162,
      "outputs": [
        {
          "output_type": "stream",
          "text": [
            "+--------------------+------------------+------------------+\n",
            "|          Attributes|             Score|        prediction|\n",
            "+--------------------+------------------+------------------+\n",
            "|[107.9,78.7,40.99...| 6.402999877999999| 5.874602943054342|\n",
            "|[123.6,62.2,39.04...|       5.568999767| 6.099714699710512|\n",
            "|[126.6,59.1,38.47...|       6.635000229| 5.485784553777117|\n",
            "|[128.3,96.3,51.15...|       7.521999836| 6.912721106540201|\n",
            "|[129.2,81.3,38.94...|       6.609000206| 6.569010162721495|\n",
            "|[130.4,90.6,47.95...|        7.28399992| 6.699191546526876|\n",
            "|[148.5,97.3,42.97...| 6.862999916000001| 6.983316064735824|\n",
            "|[187.4,91.2,30.57...|       6.647999763| 7.079428565562963|\n",
            "|[42.8,11.6,18.247...|       4.460000038| 4.332056068530784|\n",
            "|[60.8,12.4,23.805...|3.7950000760000004| 4.292040900963374|\n",
            "|[66.9,18.0,21.303...|       5.269000053| 4.430815843151436|\n",
            "|[75.9,5.4,16.573,...|       3.348999977| 4.324555678969155|\n",
            "|[82.2,47.4,12.008...|       5.073999882| 5.442807571844394|\n",
            "|[90.2,65.1,40.681...|        5.18200016| 5.117995290559569|\n",
            "|[105.0,21.4,32.33...|       4.954999924|4.6033380240302435|\n",
            "|[111.3,77.0,35.59...|       5.234000206|6.3694156725704545|\n",
            "|[111.7,7.6,35.239...|       4.290999889|  4.00662950882306|\n",
            "|[120.5,65.3,40.13...| 5.394999981000001| 5.539134456689016|\n",
            "|[126.9,57.1,30.05...|       5.235000134| 5.627683826197071|\n",
            "|[168.9,23.5,18.11...|       4.465000153| 4.411862135853065|\n",
            "+--------------------+------------------+------------------+\n",
            "only showing top 20 rows\n",
            "\n"
          ],
          "name": "stdout"
        }
      ]
    },
    {
      "cell_type": "markdown",
      "metadata": {
        "id": "q3wVB98KaaRJ"
      },
      "source": [
        "### 5.4.3 - Analysis 3 - Environmental Regression Set"
      ]
    },
    {
      "cell_type": "code",
      "metadata": {
        "id": "MMnKtgxW9o7H",
        "colab": {
          "base_uri": "https://localhost:8080/"
        },
        "outputId": "d345dea4-4167-4654-afde-ac887a9340b3"
      },
      "source": [
        "assembler_Env = VectorAssembler(inputCols=['Rain',\n",
        "\t                                          'Temp',\n",
        "                                            'CO2'], outputCol='Attributes')\n",
        "outside = assembler_Env.transform(df_regression_Env)\n",
        "finalized_data_Env = outside.select(\"Attributes\",\"Score\")\n",
        "finalized_data_Env.show()\n",
        "train_data_Env,test_data_Env = finalized_data_Env.randomSplit([.8,.2])"
      ],
      "execution_count": 153,
      "outputs": [
        {
          "output_type": "stream",
          "text": [
            "+--------------------+------------------+\n",
            "|          Attributes|             Score|\n",
            "+--------------------+------------------+\n",
            "|[-0.5827004883733...|       7.521999836|\n",
            "|[0.12399637877555...|       7.493999958|\n",
            "|[-0.8984648194842...|       7.315999985|\n",
            "|[-0.5183801512026...|       7.376999855|\n",
            "|[0.48877962441837...|        7.31400013|\n",
            "|[-0.8820731918218...|        7.28399992|\n",
            "|[-0.6870499691607...|        7.28399992|\n",
            "|[-1.0802210676201...|       7.212999821|\n",
            "|[-0.2100808664942...|       7.006000042|\n",
            "|[-0.6459500459235...|       6.993000031|\n",
            "|[2.01122660698853...|       7.078999996|\n",
            "|[-0.5782405913177...|       6.951000214|\n",
            "|[0.60266245679767...|       6.635000229|\n",
            "|[-0.4399894224170...|       6.890999794|\n",
            "|[-0.1838180653862...|       6.977000237|\n",
            "|[-0.3907362791715...| 6.862999916000001|\n",
            "|[-0.5308915804816...|       6.578000069|\n",
            "|[1.35242471703167...|6.5720000270000005|\n",
            "|[-0.3043826372727...|       6.714000225|\n",
            "|[-0.2122986424786...|        6.65199995|\n",
            "+--------------------+------------------+\n",
            "only showing top 20 rows\n",
            "\n"
          ],
          "name": "stdout"
        }
      ]
    },
    {
      "cell_type": "code",
      "metadata": {
        "id": "xlw5j_w8_3Uz",
        "colab": {
          "base_uri": "https://localhost:8080/"
        },
        "outputId": "1f5bda4f-1d5e-4d00-dbb5-70ddbdc6ffa9"
      },
      "source": [
        "train_data_Env.count()"
      ],
      "execution_count": 154,
      "outputs": [
        {
          "output_type": "execute_result",
          "data": {
            "text/plain": [
              "105"
            ]
          },
          "metadata": {
            "tags": []
          },
          "execution_count": 154
        }
      ]
    },
    {
      "cell_type": "code",
      "metadata": {
        "id": "Ip43caJC_6bm",
        "colab": {
          "base_uri": "https://localhost:8080/"
        },
        "outputId": "26a4b25a-a3e3-48d3-ccd3-ac8595e95353"
      },
      "source": [
        "test_data_Env.count()"
      ],
      "execution_count": 155,
      "outputs": [
        {
          "output_type": "execute_result",
          "data": {
            "text/plain": [
              "24"
            ]
          },
          "metadata": {
            "tags": []
          },
          "execution_count": 155
        }
      ]
    },
    {
      "cell_type": "code",
      "metadata": {
        "id": "66i8xg6g_j3E",
        "colab": {
          "base_uri": "https://localhost:8080/"
        },
        "outputId": "edc5d354-41c1-47a8-8042-7aa0c489802e"
      },
      "source": [
        "regressor_Env = LinearRegression(featuresCol='Attributes', labelCol='Score')\n",
        "regressor_Env = regressor_Env.fit(train_data_Env)\n",
        "predict_Env = regressor_Env.evaluate(test_data_Env)\n",
        "predict_Env.predictions.show()"
      ],
      "execution_count": 157,
      "outputs": [
        {
          "output_type": "stream",
          "text": [
            "+--------------------+------------------+------------------+\n",
            "|          Attributes|             Score|        prediction|\n",
            "+--------------------+------------------+------------------+\n",
            "|[-1.3410965805077...|       6.086999893|6.0297070015645735|\n",
            "|[-1.3303434002452...|       5.872000217| 5.154667709266358|\n",
            "|[-1.1316930444180...|       5.818999767| 6.317153600869692|\n",
            "|[-0.8820731918218...|        7.28399992| 6.095103386125896|\n",
            "|[-0.7717136446473...| 5.620999812999999|5.6652384383126275|\n",
            "|[-0.6575060356391...|        5.90199995|5.8686919631441725|\n",
            "|[-0.6459500459235...|       6.993000031| 6.543015881866264|\n",
            "|[-0.5308915804816...|       6.578000069| 5.525829530746389|\n",
            "|[-0.3907362791715...| 6.862999916000001| 6.628678263886945|\n",
            "|[-0.0104239677459...|       6.453999996| 5.448865627080487|\n",
            "|[0.82404660877780...|              5.25| 6.162876558511152|\n",
            "|[0.95801550374921...| 6.168000221000001|7.1058511171118806|\n",
            "|[1.35242471703167...|6.5720000270000005| 6.600108874931665|\n",
            "|[-1.3008169271760...|       5.335999966|5.2544365002674045|\n",
            "|[-1.1508511073781...|       4.138999939|3.9787185435153924|\n",
            "|[-1.0624880952990...|        3.79399991| 4.199793270555375|\n",
            "|[-0.9324220192285...|       5.004000187| 5.385951383232838|\n",
            "|[-0.8984856249818...|       5.234000206| 5.587178458054168|\n",
            "|[-0.5435671146159...|       4.032000065| 3.454821989741166|\n",
            "|[-0.2399468102180...|3.7950000760000004|5.0864741349550044|\n",
            "+--------------------+------------------+------------------+\n",
            "only showing top 20 rows\n",
            "\n"
          ],
          "name": "stdout"
        }
      ]
    },
    {
      "cell_type": "markdown",
      "metadata": {
        "id": "uRueS6lvtSEY"
      },
      "source": [
        "# ***6 Model Assesment*** \n",
        "\n",
        "---"
      ]
    },
    {
      "cell_type": "markdown",
      "metadata": {
        "id": "tzJLiptw8OVX"
      },
      "source": [
        "## 6.1 - Health Model\n"
      ]
    },
    {
      "cell_type": "code",
      "metadata": {
        "id": "zT2ZKuSJ6rFX",
        "colab": {
          "base_uri": "https://localhost:8080/"
        },
        "outputId": "2c0d7379-fac2-4c97-e075-9d5a353b587c"
      },
      "source": [
        "coeff = regressor_Health.coefficients\n",
        "intercept = regressor_Health.intercept\n",
        "print(\"The coefficients of the model are: %a\" %coeff)\n",
        "print(\"The intercept of the model is: %f\" %intercept)"
      ],
      "execution_count": 158,
      "outputs": [
        {
          "output_type": "stream",
          "text": [
            "The coefficients of the model are: DenseVector([0.0782, 0.0342, 0.0543, 0.0065, 0.152, 0.0542])\n",
            "The intercept of the model is: -3.968223\n"
          ],
          "name": "stdout"
        }
      ]
    },
    {
      "cell_type": "code",
      "metadata": {
        "id": "38MfaFpE60BW",
        "colab": {
          "base_uri": "https://localhost:8080/"
        },
        "outputId": "3d0ded11-646a-4ca6-b7db-22953055b4b4"
      },
      "source": [
        "eval = RegressionEvaluator(labelCol=\"Score\", predictionCol=\"prediction\", metricName=\"rmse\")\n",
        "\n",
        "#Root Mean Square Error\n",
        "rmse = eval.evaluate(predict_Health.predictions)\n",
        "print(\"The RMSE for the Health model is RMSE: %.3f\" % rmse)\n",
        "\n",
        "# r2 - coefficient\n",
        "r2 = eval.evaluate(predict_Health.predictions, {eval.metricName: \"r2\"})\n",
        "print(\"The R2 for the Health model is: %.3f\" %r2)"
      ],
      "execution_count": 159,
      "outputs": [
        {
          "output_type": "stream",
          "text": [
            "The RMSE for the Health model is RMSE: 0.645\n",
            "The R2 for the Health model is: 0.561\n"
          ],
          "name": "stdout"
        }
      ]
    },
    {
      "cell_type": "markdown",
      "metadata": {
        "id": "H9ZTmKnQ8ULP"
      },
      "source": [
        "## 6.2 Technology and Financial Model"
      ]
    },
    {
      "cell_type": "code",
      "metadata": {
        "id": "5n8YlvBA8Yzd",
        "colab": {
          "base_uri": "https://localhost:8080/"
        },
        "outputId": "f982f16a-9a61-48d5-bfae-e35747fd9c7e"
      },
      "source": [
        "coeff = regressor_FinTech.coefficients\n",
        "intercept = regressor_FinTech.intercept\n",
        "print(\"The coefficients of the Technology & Finance model are: %a\" %coeff)\n",
        "print(\"The intercept of the Technology & Finance model is: %f\" %intercept)"
      ],
      "execution_count": 163,
      "outputs": [
        {
          "output_type": "stream",
          "text": [
            "The coefficients of the Technology & Finance model are: DenseVector([0.0016, 0.0303, -0.0037, 0.0068, -0.0377])\n",
            "The intercept of the Technology & Finance model is: 3.994270\n"
          ],
          "name": "stdout"
        }
      ]
    },
    {
      "cell_type": "code",
      "metadata": {
        "id": "rOVdnEeA-ODQ",
        "colab": {
          "base_uri": "https://localhost:8080/"
        },
        "outputId": "e60fd2d7-f74b-42f1-ab31-24f8cb438374"
      },
      "source": [
        "eval = RegressionEvaluator(labelCol=\"Score\", predictionCol=\"prediction\", metricName=\"rmse\")\n",
        "\n",
        "rmse = eval.evaluate(predict_FinTech.predictions)\n",
        "print(\"The RMSE for the Technology & Finance model is: %.3f\" % rmse)\n",
        "\n",
        "r2 = eval.evaluate(predict_FinTech.predictions, {eval.metricName: \"r2\"})\n",
        "print(\"The R2 for the Technology & Finance model is: %.3f\" %r2)"
      ],
      "execution_count": 164,
      "outputs": [
        {
          "output_type": "stream",
          "text": [
            "The RMSE for the Technology & Finance model is: 0.582\n",
            "The R2 for the Technology & Finance model is: 0.751\n"
          ],
          "name": "stdout"
        }
      ]
    },
    {
      "cell_type": "markdown",
      "metadata": {
        "id": "C1It6i7c8T34"
      },
      "source": [
        "## 6.3 Environment Model "
      ]
    },
    {
      "cell_type": "code",
      "metadata": {
        "id": "wm4GjIDT-_gK",
        "colab": {
          "base_uri": "https://localhost:8080/"
        },
        "outputId": "ae0a821c-5547-4f46-8864-d3fdeeb3014a"
      },
      "source": [
        "coeff = regressor_Env.coefficients\n",
        "intercept = regressor_Env.intercept\n",
        "print(\"The coefficients of the model are: %a\" %coeff)\n",
        "print(\"The intercept of the Environmental model is: %f\" %intercept)"
      ],
      "execution_count": 165,
      "outputs": [
        {
          "output_type": "stream",
          "text": [
            "The coefficients of the model are: DenseVector([0.3742, -0.196, 0.5209])\n",
            "The intercept of the Environmental model is: 5.070748\n"
          ],
          "name": "stdout"
        }
      ]
    },
    {
      "cell_type": "code",
      "metadata": {
        "id": "KO3kY3_v-v_y",
        "colab": {
          "base_uri": "https://localhost:8080/"
        },
        "outputId": "4df753b9-c9cc-4eba-abc2-db7572f92bf5"
      },
      "source": [
        "eval = RegressionEvaluator(labelCol=\"Score\", predictionCol=\"prediction\", metricName=\"rmse\")\n",
        "\n",
        "rmse = eval.evaluate(predict_Env.predictions)\n",
        "print(\"The RMSE for the Environmental model is: %.3f\" % rmse)\n",
        "\n",
        "r2 = eval.evaluate(predict_Env.predictions, {eval.metricName: \"r2\"})\n",
        "print(\"The R2 for the Environmental model is: %.3f\" %r2)"
      ],
      "execution_count": 166,
      "outputs": [
        {
          "output_type": "stream",
          "text": [
            "The RMSE for the Environmental model is: 0.627\n",
            "The R2 for the Environmental model is: 0.611\n"
          ],
          "name": "stdout"
        }
      ]
    }
  ]
}